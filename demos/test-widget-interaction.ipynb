{
 "cells": [
  {
   "cell_type": "markdown",
   "id": "9f49022e",
   "metadata": {},
   "source": [
    "# Quick Test: Dataclass Builder with CnD-core\n",
    "\n",
    "**Run this notebook to test the widget interaction.**"
   ]
  },
  {
   "cell_type": "code",
   "execution_count": null,
   "id": "0a30c70d",
   "metadata": {},
   "outputs": [],
   "source": [
    "from dataclasses import dataclass\n",
    "import spytial"
   ]
  },
  {
   "cell_type": "code",
   "execution_count": null,
   "id": "62b39b2e",
   "metadata": {},
   "outputs": [],
   "source": [
    "@dataclass\n",
    "class Person:\n",
    "    name: str = \"\"\n",
    "    age: int = 0"
   ]
  },
  {
   "cell_type": "code",
   "execution_count": null,
   "id": "28ef7663",
   "metadata": {},
   "outputs": [],
   "source": [
    "# Create and display the widget\n",
    "widget = spytial.dataclass_builder(Person)\n",
    "widget"
   ]
  },
  {
   "cell_type": "markdown",
   "id": "b2ecfe61",
   "metadata": {},
   "source": [
    "## Instructions:\n",
    "\n",
    "1. You should see a CnD-core visual interface above\n",
    "2. Try editing the nodes (name, age fields)\n",
    "3. Click the **\"Export JSON\"** or **\"💾 Export JSON\"** button\n",
    "4. Then run the cell below to check if the value was captured"
   ]
  },
  {
   "cell_type": "code",
   "execution_count": null,
   "id": "40470bc9",
   "metadata": {},
   "outputs": [],
   "source": [
    "# Check if the value was captured\n",
    "print(f\"Current value: {widget.value}\")\n",
    "print(f\"Type: {type(widget.value)}\")\n",
    "\n",
    "if widget.value:\n",
    "    print(f\"\\n✅ SUCCESS! Built: {widget.value}\")\n",
    "    print(f\"   Name: {widget.value.name}\")\n",
    "    print(f\"   Age: {widget.value.age}\")\n",
    "else:\n",
    "    print(\"\\n⚠️  Value is None - make sure to click Export JSON button\")"
   ]
  },
  {
   "cell_type": "markdown",
   "id": "72ce0c56",
   "metadata": {},
   "source": [
    "## Debugging Info\n",
    "\n",
    "Run this if things aren't working:"
   ]
  },
  {
   "cell_type": "code",
   "execution_count": null,
   "id": "92acaf42",
   "metadata": {},
   "outputs": [],
   "source": [
    "# Check widget state\n",
    "print(f\"Widget ID: {widget._widget_id}\")\n",
    "print(f\"Widget type: {type(widget).__name__}\")\n",
    "print(f\"Has iframe: {hasattr(widget, 'iframe_widget')}\")\n",
    "print(f\"Current value: {widget._current_value}\")\n",
    "\n",
    "# Check if registered\n",
    "import sys\n",
    "spytial_module = sys.modules['spytial.dataclass_widget_cnd']\n",
    "if hasattr(spytial_module, '_spytial_widgets'):\n",
    "    print(f\"\\nRegistered widgets: {list(spytial_module._spytial_widgets.keys())}\")\n",
    "else:\n",
    "    print(\"\\n⚠️  Widget registry not found\")"
   ]
  },
  {
   "cell_type": "markdown",
   "id": "10dea6bc",
   "metadata": {},
   "source": [
    "## Expected Behavior:\n",
    "\n",
    "✅ **What should work:**\n",
    "- Visual CnD interface loads in an iframe\n",
    "- You can see and edit the dataclass fields\n",
    "- Clicking \"Export JSON\" captures the data\n",
    "- `widget.value` contains the built Person instance\n",
    "\n",
    "❌ **If it doesn't work:**\n",
    "- Check browser console for JavaScript errors (F12)\n",
    "- Look for \"Jupyter kernel not available\" error\n",
    "- Verify the iframe loads (you should see CnD interface)\n",
    "- Check if message is being sent (console.log should show it)"
   ]
  }
 ],
 "metadata": {
  "language_info": {
   "name": "python"
  }
 },
 "nbformat": 4,
 "nbformat_minor": 5
}
