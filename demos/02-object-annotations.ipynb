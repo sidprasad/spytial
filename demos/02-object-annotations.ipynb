{
 "cells": [
  {
   "cell_type": "markdown",
   "id": "ad79ecdb",
   "metadata": {},
   "source": [
    "# Object-Level CND Annotations\n",
    "\n",
    "This notebook demonstrates object-level CND annotations, allowing annotations to be applied to specific object instances rather than just their classes. This solves the core issue where users want to annotate individual objects (like sets) without modifying the class definition.\n"
   ]
  },
  {
   "cell_type": "code",
   "execution_count": 1,
   "id": "bcf56e66",
   "metadata": {},
   "outputs": [],
   "source": [
    "import sys\n",
    "from pathlib import Path\n",
    "\n",
    "# Add the parent directory to the Python path\n",
    "sys.path.append(str(Path().resolve().parent))\n",
    "\n",
    "from spytial import (\n",
    "    diagram, \n",
    "    orientation, cyclic, group, atomColor  # Now work on both classes AND objects!\n",
    ")"
   ]
  },
  {
   "cell_type": "markdown",
   "id": "17b09393",
   "metadata": {},
   "source": [
    "## Demo 1: Set Grouping \n",
    "\n",
    "This demonstrates the core issue request: annotating specific objects (like sets) without modifying their classes.\n"
   ]
  },
  {
   "cell_type": "code",
   "execution_count": null,
   "id": "e3cd9e46",
   "metadata": {},
   "outputs": [
    {
     "data": {
      "text/html": [
       "\n",
       "                <div style=\"border: 2px solid #007acc; border-radius: 8px; overflow: hidden;\">\n",
       "                    <iframe \n",
       "                        src=\"data:text/html;base64,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\" \n",
       "                        width=\"100%\" \n",
       "                        height=\"450px\" \n",
       "                        frameborder=\"0\"\n",
       "                        style=\"display: block;\">\n",
       "                    </iframe>\n",
       "                </div>\n",
       "                "
      ],
      "text/plain": [
       "<IPython.core.display.HTML object>"
      ]
     },
     "metadata": {},
     "output_type": "display_data"
    },
    {
     "data": {
      "text/html": [
       "\n",
       "                <div style=\"border: 2px solid #007acc; border-radius: 8px; overflow: hidden;\">\n",
       "                    <iframe \n",
       "                        src=\"data:text/html;base64,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\" \n",
       "                        width=\"100%\" \n",
       "                        height=\"450px\" \n",
       "                        frameborder=\"0\"\n",
       "                        style=\"display: block;\">\n",
       "                    </iframe>\n",
       "                </div>\n",
       "                "
      ],
      "text/plain": [
       "<IPython.core.display.HTML object>"
      ]
     },
     "metadata": {},
     "output_type": "display_data"
    }
   ],
   "source": [
    "# Create different sets - each can be annotated differently\n",
    "fruits = {\"apple\", \"banana\", \"cherry\", \"date\"}\n",
    "numbers = {1, 2, 3, 4, 5, 6, 7, 8, 9, 10}\n",
    "colors = {\"red\", \"green\", \"blue\"}\n",
    "\n",
    "\n",
    "fruits = group(field='contains', groupOn=0, addToGroup=1)(fruits)\n",
    "\n",
    "\n",
    "numbers = group(field='contains', groupOn=0, addToGroup=1)(numbers)\n",
    "\n",
    "diagram(fruits)\n",
    "diagram(numbers)\n",
    "\n",
    "# Leave colors set without special annotations\n",
    "\n",
    "\n"
   ]
  },
  {
   "cell_type": "code",
   "execution_count": null,
   "id": "visualization1",
   "metadata": {},
   "outputs": [
    {
     "data": {
      "text/html": [
       "\n",
       "                <div style=\"border: 2px solid #007acc; border-radius: 8px; overflow: hidden;\">\n",
       "                    <iframe \n",
       "                        src=\"data:text/html;base64,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\" \n",
       "                        width=\"100%\" \n",
       "                        height=\"450px\" \n",
       "                        frameborder=\"0\"\n",
       "                        style=\"display: block;\">\n",
       "                    </iframe>\n",
       "                </div>\n",
       "                "
      ],
      "text/plain": [
       "<IPython.core.display.HTML object>"
      ]
     },
     "metadata": {},
     "output_type": "display_data"
    }
   ],
   "source": [
    "# Visualize the sets with their object-specific annotations\n",
    "\n",
    "# Create a container to show them all\n",
    "set_data = {\n",
    "    \"fruits\": fruits,\n",
    "    \"numbers\": numbers, \n",
    "    \"colors\": colors,\n",
    "}\n",
    "diagram(set_data)"
   ]
  },
  {
   "cell_type": "markdown",
   "id": "api_comparison",
   "metadata": {},
   "source": [
    "## API Comparison: Old vs New\n",
    "\n",
    "### Old Approach (Still Supported)\n",
    "```python\n",
    "from spytial import annotate_group, annotate_atomColor\n",
    "annotate_group(my_set, field='items', groupOn=0, addToGroup=1)\n",
    "annotate_atomColor(my_set, selector='items', value='orange')\n",
    "```\n",
    "\n",
    "### New Ergonomic Approach (Recommended)\n",
    "```python\n",
    "from spytial import group, atomColor\n",
    "my_set = atomColor(selector='items', value='orange')(\n",
    "    group(field='items', groupOn=0, addToGroup=1)(my_set)\n",
    ")\n",
    "```\n",
    "\n",
    "**The new approach is more Pythonic** - decorators work the same way whether you're decorating a class or an object!"
   ]
  },
  {
   "cell_type": "markdown",
   "id": "class_object_demo",
   "metadata": {},
   "source": [
    "## Demo 2: Class + Object Annotations Working Together\n",
    "\n",
    "This shows how class-level decorators and object-level decorators can combine seamlessly using the same decorator syntax."
   ]
  },
  {
   "cell_type": "code",
   "execution_count": 4,
   "id": "tree_setup",
   "metadata": {},
   "outputs": [
    {
     "name": "stdout",
     "output_type": "stream",
     "text": [
      "✅ Class annotations apply to ALL TreeNode instances\n",
      "✅ Object annotations apply only to specific instances\n",
      "✅ Both use the SAME decorator syntax!\n",
      "\n",
      "🎯 Much more intuitive - Python developers expect decorators to 'just work'\n"
     ]
    }
   ],
   "source": [
    "# Class-level decorators (traditional usage)\n",
    "@orientation(selector='left', directions=['left'])\n",
    "@cyclic(selector='children', direction='clockwise')\n",
    "class TreeNode:\n",
    "    def __init__(self, value, left=None, right=None):\n",
    "        self.value = value\n",
    "        self.left = left\n",
    "        self.right = right\n",
    "\n",
    "# Create a tree structure\n",
    "root = TreeNode(\"root\")\n",
    "root.left = TreeNode(\"left-child\")\n",
    "root.right = TreeNode(\"right-child\")\n",
    "root.left.left = TreeNode(\"left-left\")\n",
    "root.left.right = TreeNode(\"left-right\")\n",
    "\n",
    "# Object-level decorators (NEW ergonomic usage - same syntax!)\n",
    "root = atomColor(selector='self', value='red')(root)\n",
    "\n",
    "root.left = orientation(selector='self', directions=['below'])(\n",
    "    group(field='subtree', groupOn=0, addToGroup=1)(root.left)\n",
    ")\n",
    "\n",
    "print(\"✅ Class annotations apply to ALL TreeNode instances\")\n",
    "print(\"✅ Object annotations apply only to specific instances\")\n",
    "print(\"✅ Both use the SAME decorator syntax!\")\n",
    "print(\"\\n🎯 Much more intuitive - Python developers expect decorators to 'just work'\")"
   ]
  },
  {
   "cell_type": "code",
   "execution_count": 5,
   "id": "tree_viz",
   "metadata": {},
   "outputs": [
    {
     "data": {
      "text/html": [
       "\n",
       "                <div style=\"border: 2px solid #007acc; border-radius: 8px; overflow: hidden;\">\n",
       "                    <iframe \n",
       "                        src=\"data:text/html;base64,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\" \n",
       "                        width=\"100%\" \n",
       "                        height=\"450px\" \n",
       "                        frameborder=\"0\"\n",
       "                        style=\"display: block;\">\n",
       "                    </iframe>\n",
       "                </div>\n",
       "                "
      ],
      "text/plain": [
       "<IPython.core.display.HTML object>"
      ]
     },
     "metadata": {},
     "output_type": "display_data"
    }
   ],
   "source": [
    "# Visualize the tree with mixed annotations\n",
    "diagram(root)"
   ]
  },
  {
   "cell_type": "markdown",
   "id": "builtin_demo",
   "metadata": {},
   "source": [
    "## Demo 3: Built-in Types Annotations\n",
    "\n",
    "Demonstrates annotations on various built-in types that can't normally store attributes."
   ]
  },
  {
   "cell_type": "code",
   "execution_count": 6,
   "id": "builtin_setup",
   "metadata": {},
   "outputs": [
    {
     "name": "stdout",
     "output_type": "stream",
     "text": [
      "✅ Successfully annotated immutable built-in types:\n",
      "- tuple: (10, 20, 30)\n",
      "- frozenset: frozenset({1, 2, 3, 4})\n",
      "- string: 'Hello World'\n",
      "\n",
      "🎯 Even immutable types work with the ergonomic decorator syntax!\n"
     ]
    }
   ],
   "source": [
    "# Built-in immutable types work perfectly with the ergonomic API\n",
    "\n",
    "# Tuple (immutable)\n",
    "coordinates = orientation(selector='axes', directions=['horizontal'])((10, 20, 30))\n",
    "\n",
    "# Frozenset (immutable)\n",
    "immutable_set = group(field='elements', groupOn=0, addToGroup=1)(frozenset([1, 2, 3, 4]))\n",
    "\n",
    "# String (immutable) \n",
    "text = atomColor(selector='characters', value='purple')(\"Hello World\")\n",
    "\n",
    "# Combine in data structure\n",
    "builtin_data = {\n",
    "    \"coordinates\": coordinates,\n",
    "    \"immutable_set\": immutable_set,\n",
    "    \"text\": text,\n",
    "    \"info\": \"All these immutable types have object-specific annotations\"\n",
    "}\n",
    "\n",
    "print(\"✅ Successfully annotated immutable built-in types:\")\n",
    "print(f\"- tuple: {coordinates}\")\n",
    "print(f\"- frozenset: {immutable_set}\")\n",
    "print(f\"- string: '{text}'\")\n",
    "print(\"\\n🎯 Even immutable types work with the ergonomic decorator syntax!\")"
   ]
  },
  {
   "cell_type": "code",
   "execution_count": 7,
   "id": "builtin_viz",
   "metadata": {},
   "outputs": [
    {
     "data": {
      "text/html": [
       "\n",
       "                <div style=\"border: 2px solid #007acc; border-radius: 8px; overflow: hidden;\">\n",
       "                    <iframe \n",
       "                        src=\"data:text/html;base64,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\" \n",
       "                        width=\"100%\" \n",
       "                        height=\"450px\" \n",
       "                        frameborder=\"0\"\n",
       "                        style=\"display: block;\">\n",
       "                    </iframe>\n",
       "                </div>\n",
       "                "
      ],
      "text/plain": [
       "<IPython.core.display.HTML object>"
      ]
     },
     "metadata": {},
     "output_type": "display_data"
    }
   ],
   "source": [
    "# Visualize the built-in types with annotations\n",
    "diagram(builtin_data)"
   ]
  },
  {
   "cell_type": "markdown",
   "id": "custom_providers",
   "metadata": {},
   "source": [
    "## Demo 4: Object-Level Custom Providers\n",
    "\n",
    "You can also set custom data providers for specific objects, controlling how they are serialized to atoms and relations."
   ]
  },
  {
   "cell_type": "code",
   "execution_count": 8,
   "id": "custom_provider_setup",
   "metadata": {},
   "outputs": [
    {
     "name": "stdout",
     "output_type": "stream",
     "text": [
      "✅ Custom providers set for different sets\n",
      "- my_set: uses CustomSetProvider\n",
      "- my_other_set: also uses CustomSetProvider\n",
      "- custom_annotated_set: CustomSetProvider + group annotation\n",
      "\n",
      "🎯 Object-specific providers override default serialization!\n"
     ]
    }
   ],
   "source": [
    "from spytial import DataInstanceProvider, object_provider, set_object_provider\n",
    "\n",
    "# Define a custom provider for sets\n",
    "class CustomSetProvider(DataInstanceProvider):\n",
    "    def can_handle(self, obj):\n",
    "        return isinstance(obj, set)\n",
    "    \n",
    "    def provide_atoms_and_relations(self, obj, walker_func):\n",
    "        obj_id = walker_func._get_id(obj)\n",
    "        atom = {\n",
    "            \"id\": obj_id,\n",
    "            \"type\": \"custom_set\",\n",
    "            \"label\": f\"MySet[{len(obj)}]\"\n",
    "        }\n",
    "        \n",
    "        relations = []\n",
    "        for i, item in enumerate(obj):\n",
    "            item_id = walker_func(item)\n",
    "            relations.append((f\"element_{i}\", obj_id, item_id))\n",
    "        \n",
    "        return atom, relations\n",
    "\n",
    "# Method 1: Decorator syntax\n",
    "my_set = {1, 2, 3, 4, 5}\n",
    "my_set = object_provider(CustomSetProvider())(my_set)\n",
    "\n",
    "# Method 2: Function call\n",
    "my_other_set = {6, 7, 8}\n",
    "set_object_provider(my_other_set, CustomSetProvider())\n",
    "\n",
    "# Method 3: Combine with annotations\n",
    "custom_annotated_set = object_provider(CustomSetProvider())(\n",
    "    group(field='elements', groupOn=0, addToGroup=1)({10, 11, 12})\n",
    ")\n",
    "\n",
    "print(\"✅ Custom providers set for different sets\")\n",
    "print(\"- my_set: uses CustomSetProvider\")\n",
    "print(\"- my_other_set: also uses CustomSetProvider\")\n",
    "print(\"- custom_annotated_set: CustomSetProvider + group annotation\")\n",
    "print(\"\\n🎯 Object-specific providers override default serialization!\")"
   ]
  },
  {
   "cell_type": "code",
   "execution_count": 9,
   "id": "custom_provider_viz",
   "metadata": {},
   "outputs": [
    {
     "data": {
      "text/html": [
       "\n",
       "                <div style=\"border: 2px solid #007acc; border-radius: 8px; overflow: hidden;\">\n",
       "                    <iframe \n",
       "                        src=\"data:text/html;base64,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\" \n",
       "                        width=\"100%\" \n",
       "                        height=\"450px\" \n",
       "                        frameborder=\"0\"\n",
       "                        style=\"display: block;\">\n",
       "                    </iframe>\n",
       "                </div>\n",
       "                "
      ],
      "text/plain": [
       "<IPython.core.display.HTML object>"
      ]
     },
     "metadata": {},
     "output_type": "display_data"
    }
   ],
   "source": [
    "# Create a comparison structure\n",
    "provider_demo = {\n",
    "    \"normal_set\": {\"a\", \"b\", \"c\"},  # Uses default provider\n",
    "    \"custom_set1\": my_set,  # Uses custom provider\n",
    "    \"custom_set2\": my_other_set,  # Uses custom provider\n",
    "    \"custom_annotated\": custom_annotated_set  # Custom provider + annotations\n",
    "}\n",
    "\n",
    "# Visualize to see the difference\n",
    "diagram(provider_demo)"
   ]
  },
  {
   "cell_type": "markdown",
   "id": "custom_provider_benefits",
   "metadata": {},
   "source": [
    "### Custom Provider Benefits\n",
    "\n",
    "- **Override default serialization**: Replace how specific objects are converted to atoms/relations\n",
    "- **Object-specific behavior**: Different instances of the same class can use different providers\n",
    "- **Combine with annotations**: Custom providers work alongside spatial annotations\n",
    "- **Maintain type flexibility**: Keep the benefits of Python's dynamic typing while customizing visualization"
   ]
  },
  {
   "cell_type": "code",
   "execution_count": 10,
   "id": "chaining",
   "metadata": {},
   "outputs": [
    {
     "name": "stdout",
     "output_type": "stream",
     "text": [
      "✅ Chained multiple decorators on a single object\n",
      "Result: ['item1', 'item2', 'item3']\n",
      "Applied 2 constraints and 1 directives\n"
     ]
    }
   ],
   "source": [
    "# You can chain multiple decorators just like with classes\n",
    "my_data = [\"item1\", \"item2\", \"item3\"]\n",
    "\n",
    "# Chain multiple decorators in a readable way\n",
    "annotated_data = atomColor(selector='items', value='green')(\n",
    "    orientation(selector='items', directions=['vertical'])(\n",
    "        group(field='elements', groupOn=0, addToGroup=1)(my_data)\n",
    "    )\n",
    ")\n",
    "\n",
    "print(\"✅ Chained multiple decorators on a single object\")\n",
    "print(f\"Result: {annotated_data}\")\n",
    "\n",
    "# Verify all annotations were applied\n",
    "from spytial import collect_decorators\n",
    "annotations = collect_decorators(annotated_data)\n",
    "print(f\"Applied {len(annotations['constraints'])} constraints and {len(annotations['directives'])} directives\")"
   ]
  },
  {
   "cell_type": "markdown",
   "id": "conclusion",
   "metadata": {},
   "source": [
    "## Key Achievements\n",
    "\n",
    "🎯 **CND annotations now work on OBJECTS, not just classes!**\n",
    "\n",
    "- ✅ **Ergonomic API**: Use the same decorator syntax for both classes and objects\n",
    "- ✅ **Pythonic**: Decorators work as Python developers expect them to\n",
    "- ✅ **Unified**: No need to learn separate `annotate_*` functions\n",
    "- ✅ **Flexible**: Works with built-in/immutable types (set, tuple, frozenset, str)\n",
    "- ✅ **Combinable**: Class and object annotations combine seamlessly\n",
    "- ✅ **Backward Compatible**: Existing class-level decorators work unchanged\n",
    "\n",
    "### The Pythonic Way\n",
    "\n",
    "```python\n",
    "# Apply decorators to objects just like you would to classes\n",
    "my_set = group(field='items', groupOn=0, addToGroup=1)(my_set)\n",
    "my_obj = atomColor(selector='self', value='blue')(my_obj)\n",
    "\n",
    "# Chain them naturally\n",
    "result = atomColor(selector='items', value='red')(\n",
    "    orientation(selector='items', directions=['horizontal'])(my_data)\n",
    ")\n",
    "```\n",
    "\n",
    "**This is much more intuitive than having separate `annotate_*` functions!**"
   ]
  }
 ],
 "metadata": {
  "kernelspec": {
   "display_name": "stats-env",
   "language": "python",
   "name": "python3"
  },
  "language_info": {
   "codemirror_mode": {
    "name": "ipython",
    "version": 3
   },
   "file_extension": ".py",
   "mimetype": "text/x-python",
   "name": "python",
   "nbconvert_exporter": "python",
   "pygments_lexer": "ipython3",
   "version": "3.10.17"
  }
 },
 "nbformat": 4,
 "nbformat_minor": 5
}
