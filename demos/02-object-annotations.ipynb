{
 "cells": [
  {
   "cell_type": "markdown",
   "id": "ad79ecdb",
   "metadata": {},
   "source": [
    "# Object-Level CND Annotations\n",
    "\n",
    "This notebook demonstrates object-level CND annotations, allowing annotations to be applied to specific object instances rather than just their classes. This solves the core issue where users want to annotate individual objects (like sets) without modifying the class definition.\n",
    "\n",
    "## 🎯 New Ergonomic API\n",
    "\n",
    "You can now use decorators directly on objects in a Pythonic way!"
   ]
  },
  {
   "cell_type": "code",
   "execution_count": 1,
   "id": "bcf56e66",
   "metadata": {},
   "outputs": [],
   "source": [
    "import sys\n",
    "from pathlib import Path\n",
    "\n",
    "# Add the parent directory to the Python path\n",
    "sys.path.append(str(Path().resolve().parent))\n",
    "\n",
    "from spytial import (\n",
    "    diagram, \n",
    "    orientation, cyclic, group, atomColor  # Now work on both classes AND objects!\n",
    ")"
   ]
  },
  {
   "cell_type": "markdown",
   "id": "17b09393",
   "metadata": {},
   "source": [
    "## Demo 1: Set Grouping with Ergonomic API (Issue Example)\n",
    "\n",
    "This demonstrates the core issue request: annotating specific objects (like sets) without modifying their classes.\n",
    "\n",
    "### The Pythonic Way - Apply Decorators Directly to Objects!"
   ]
  },
  {
   "cell_type": "code",
   "execution_count": 2,
   "id": "e3cd9e46",
   "metadata": {},
   "outputs": [
    {
     "name": "stdout",
     "output_type": "stream",
     "text": [
      "✅ Successfully annotated different sets with object-specific annotations\n",
      "- fruits set: grouped with orange coloring\n",
      "- numbers set: grouped with blue coloring\n",
      "- colors set: default rendering\n",
      "\n",
      "🎯 Using the NEW ergonomic API - decorators work directly on objects!\n"
     ]
    }
   ],
   "source": [
    "# Create different sets - each can be annotated differently\n",
    "fruits = {\"apple\", \"banana\", \"cherry\", \"date\"}\n",
    "numbers = {1, 2, 3, 4, 5, 6, 7, 8, 9, 10}\n",
    "colors = {\"red\", \"green\", \"blue\"}\n",
    "\n",
    "# NEW ERGONOMIC WAY: Apply decorators directly to objects!\n",
    "# This is much more Pythonic than separate annotate_* functions\n",
    "fruits = atomColor(selector='items', value='orange')(\n",
    "    group(field='items', groupOn=0, addToGroup=1)(fruits)\n",
    ")\n",
    "\n",
    "numbers = atomColor(selector='digits', value='blue')(\n",
    "    group(field='digits', groupOn=0, addToGroup=1)(numbers)\n",
    ")\n",
    "\n",
    "# Leave colors set without special annotations\n",
    "\n",
    "# Create a container to show them all\n",
    "set_data = {\n",
    "    \"fruits\": fruits,\n",
    "    \"numbers\": numbers, \n",
    "    \"colors\": colors,\n",
    "    \"note\": \"fruits and numbers are grouped, colors is not\"\n",
    "}\n",
    "\n",
    "print(\"✅ Successfully annotated different sets with object-specific annotations\")\n",
    "print(\"- fruits set: grouped with orange coloring\")\n",
    "print(\"- numbers set: grouped with blue coloring\")\n",
    "print(\"- colors set: default rendering\")\n",
    "print(\"\\n🎯 Using the NEW ergonomic API - decorators work directly on objects!\")"
   ]
  },
  {
   "cell_type": "code",
   "execution_count": 3,
   "id": "visualization1",
   "metadata": {},
   "outputs": [
    {
     "data": {
      "text/html": [
       "\n",
       "                <div style=\"border: 2px solid #007acc; border-radius: 8px; overflow: hidden;\">\n",
       "                    <iframe \n",
       "                        src=\"data:text/html;base64,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\" \n",
       "                        width=\"100%\" \n",
       "                        height=\"650px\" \n",
       "                        frameborder=\"0\"\n",
       "                        style=\"display: block;\">\n",
       "                    </iframe>\n",
       "                </div>\n",
       "                "
      ],
      "text/plain": [
       "<IPython.core.display.HTML object>"
      ]
     },
     "metadata": {},
     "output_type": "display_data"
    }
   ],
   "source": [
    "# Visualize the sets with their object-specific annotations\n",
    "diagram(set_data)"
   ]
  },
  {
   "cell_type": "markdown",
   "id": "api_comparison",
   "metadata": {},
   "source": [
    "## API Comparison: Old vs New\n",
    "\n",
    "### Old Approach (Still Supported)\n",
    "```python\n",
    "from spytial import annotate_group, annotate_atomColor\n",
    "annotate_group(my_set, field='items', groupOn=0, addToGroup=1)\n",
    "annotate_atomColor(my_set, selector='items', value='orange')\n",
    "```\n",
    "\n",
    "### New Ergonomic Approach (Recommended)\n",
    "```python\n",
    "from spytial import group, atomColor\n",
    "my_set = atomColor(selector='items', value='orange')(\n",
    "    group(field='items', groupOn=0, addToGroup=1)(my_set)\n",
    ")\n",
    "```\n",
    "\n",
    "**The new approach is more Pythonic** - decorators work the same way whether you're decorating a class or an object!"
   ]
  },
  {
   "cell_type": "markdown",
   "id": "class_object_demo",
   "metadata": {},
   "source": [
    "## Demo 2: Class + Object Annotations Working Together\n",
    "\n",
    "This shows how class-level decorators and object-level decorators can combine seamlessly using the same decorator syntax."
   ]
  },
  {
   "cell_type": "code",
   "execution_count": 4,
   "id": "tree_setup",
   "metadata": {},
   "outputs": [
    {
     "name": "stdout",
     "output_type": "stream",
     "text": [
      "✅ Class annotations apply to ALL TreeNode instances\n",
      "✅ Object annotations apply only to specific instances\n",
      "✅ Both use the SAME decorator syntax!\n",
      "\n",
      "🎯 Much more intuitive - Python developers expect decorators to 'just work'\n"
     ]
    }
   ],
   "source": [
    "# Class-level decorators (traditional usage)\n",
    "@orientation(selector='left', directions=['left'])\n",
    "@cyclic(selector='children', direction='clockwise')\n",
    "class TreeNode:\n",
    "    def __init__(self, value, left=None, right=None):\n",
    "        self.value = value\n",
    "        self.left = left\n",
    "        self.right = right\n",
    "\n",
    "# Create a tree structure\n",
    "root = TreeNode(\"root\")\n",
    "root.left = TreeNode(\"left-child\")\n",
    "root.right = TreeNode(\"right-child\")\n",
    "root.left.left = TreeNode(\"left-left\")\n",
    "root.left.right = TreeNode(\"left-right\")\n",
    "\n",
    "# Object-level decorators (NEW ergonomic usage - same syntax!)\n",
    "root = atomColor(selector='self', value='red')(root)\n",
    "\n",
    "root.left = orientation(selector='self', directions=['below'])(\n",
    "    group(field='subtree', groupOn=0, addToGroup=1)(root.left)\n",
    ")\n",
    "\n",
    "print(\"✅ Class annotations apply to ALL TreeNode instances\")\n",
    "print(\"✅ Object annotations apply only to specific instances\")\n",
    "print(\"✅ Both use the SAME decorator syntax!\")\n",
    "print(\"\\n🎯 Much more intuitive - Python developers expect decorators to 'just work'\")"
   ]
  },
  {
   "cell_type": "code",
   "execution_count": 5,
   "id": "tree_viz",
   "metadata": {},
   "outputs": [
    {
     "data": {
      "text/html": [
       "\n",
       "                <div style=\"border: 2px solid #007acc; border-radius: 8px; overflow: hidden;\">\n",
       "                    <iframe \n",
       "                        src=\"data:text/html;base64,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\" \n",
       "                        width=\"100%\" \n",
       "                        height=\"650px\" \n",
       "                        frameborder=\"0\"\n",
       "                        style=\"display: block;\">\n",
       "                    </iframe>\n",
       "                </div>\n",
       "                "
      ],
      "text/plain": [
       "<IPython.core.display.HTML object>"
      ]
     },
     "metadata": {},
     "output_type": "display_data"
    }
   ],
   "source": [
    "# Visualize the tree with mixed annotations\n",
    "diagram(root)"
   ]
  },
  {
   "cell_type": "markdown",
   "id": "builtin_demo",
   "metadata": {},
   "source": [
    "## Demo 3: Built-in Types Annotations\n",
    "\n",
    "Demonstrates annotations on various built-in types that can't normally store attributes."
   ]
  },
  {
   "cell_type": "code",
   "execution_count": 6,
   "id": "builtin_setup",
   "metadata": {},
   "outputs": [
    {
     "name": "stdout",
     "output_type": "stream",
     "text": [
      "✅ Successfully annotated immutable built-in types:\n",
      "- tuple: (10, 20, 30)\n",
      "- frozenset: frozenset({1, 2, 3, 4})\n",
      "- string: 'Hello World'\n",
      "\n",
      "🎯 Even immutable types work with the ergonomic decorator syntax!\n"
     ]
    }
   ],
   "source": [
    "# Built-in immutable types work perfectly with the ergonomic API\n",
    "\n",
    "# Tuple (immutable)\n",
    "coordinates = orientation(selector='axes', directions=['horizontal'])((10, 20, 30))\n",
    "\n",
    "# Frozenset (immutable)\n",
    "immutable_set = group(field='elements', groupOn=0, addToGroup=1)(frozenset([1, 2, 3, 4]))\n",
    "\n",
    "# String (immutable) \n",
    "text = atomColor(selector='characters', value='purple')(\"Hello World\")\n",
    "\n",
    "# Combine in data structure\n",
    "builtin_data = {\n",
    "    \"coordinates\": coordinates,\n",
    "    \"immutable_set\": immutable_set,\n",
    "    \"text\": text,\n",
    "    \"info\": \"All these immutable types have object-specific annotations\"\n",
    "}\n",
    "\n",
    "print(\"✅ Successfully annotated immutable built-in types:\")\n",
    "print(f\"- tuple: {coordinates}\")\n",
    "print(f\"- frozenset: {immutable_set}\")\n",
    "print(f\"- string: '{text}'\")\n",
    "print(\"\\n🎯 Even immutable types work with the ergonomic decorator syntax!\")"
   ]
  },
  {
   "cell_type": "code",
   "execution_count": 7,
   "id": "builtin_viz",
   "metadata": {},
   "outputs": [
    {
     "data": {
      "text/html": [
       "\n",
       "                <div style=\"border: 2px solid #007acc; border-radius: 8px; overflow: hidden;\">\n",
       "                    <iframe \n",
       "                        src=\"data:text/html;base64,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\" \n",
       "                        width=\"100%\" \n",
       "                        height=\"650px\" \n",
       "                        frameborder=\"0\"\n",
       "                        style=\"display: block;\">\n",
       "                    </iframe>\n",
       "                </div>\n",
       "                "
      ],
      "text/plain": [
       "<IPython.core.display.HTML object>"
      ]
     },
     "metadata": {},
     "output_type": "display_data"
    }
   ],
   "source": [
    "# Visualize the built-in types with annotations\n",
    "diagram(builtin_data)"
   ]
  },
  {
   "cell_type": "markdown",
   "id": "custom_providers",
   "metadata": {},
   "source": [
    "## Demo 4: Object-Level Custom Providers\n",
    "\n",
    "You can also set custom data providers for specific objects, controlling how they are serialized to atoms and relations."
   ]
  },
  {
   "cell_type": "code",
   "execution_count": 8,
   "id": "custom_provider_setup",
   "metadata": {},
   "outputs": [
    {
     "name": "stdout",
     "output_type": "stream",
     "text": [
      "✅ Custom providers set for different sets\n",
      "- my_set: uses CustomSetProvider\n",
      "- my_other_set: also uses CustomSetProvider\n",
      "- custom_annotated_set: CustomSetProvider + group annotation\n",
      "\n",
      "🎯 Object-specific providers override default serialization!\n"
     ]
    }
   ],
   "source": [
    "from spytial import DataInstanceProvider, object_provider, set_object_provider\n",
    "\n",
    "# Define a custom provider for sets\n",
    "class CustomSetProvider(DataInstanceProvider):\n",
    "    def can_handle(self, obj):\n",
    "        return isinstance(obj, set)\n",
    "    \n",
    "    def provide_atoms_and_relations(self, obj, walker_func):\n",
    "        obj_id = walker_func._get_id(obj)\n",
    "        atom = {\n",
    "            \"id\": obj_id,\n",
    "            \"type\": \"custom_set\",\n",
    "            \"label\": f\"MySet[{len(obj)}]\"\n",
    "        }\n",
    "        \n",
    "        relations = []\n",
    "        for i, item in enumerate(obj):\n",
    "            item_id = walker_func(item)\n",
    "            relations.append((f\"element_{i}\", obj_id, item_id))\n",
    "        \n",
    "        return atom, relations\n",
    "\n",
    "# Method 1: Decorator syntax\n",
    "my_set = {1, 2, 3, 4, 5}\n",
    "my_set = object_provider(CustomSetProvider())(my_set)\n",
    "\n",
    "# Method 2: Function call\n",
    "my_other_set = {6, 7, 8}\n",
    "set_object_provider(my_other_set, CustomSetProvider())\n",
    "\n",
    "# Method 3: Combine with annotations\n",
    "custom_annotated_set = object_provider(CustomSetProvider())(\n",
    "    group(field='elements', groupOn=0, addToGroup=1)({10, 11, 12})\n",
    ")\n",
    "\n",
    "print(\"✅ Custom providers set for different sets\")\n",
    "print(\"- my_set: uses CustomSetProvider\")\n",
    "print(\"- my_other_set: also uses CustomSetProvider\")\n",
    "print(\"- custom_annotated_set: CustomSetProvider + group annotation\")\n",
    "print(\"\\n🎯 Object-specific providers override default serialization!\")"
   ]
  },
  {
   "cell_type": "code",
   "execution_count": 9,
   "id": "custom_provider_viz",
   "metadata": {},
   "outputs": [
    {
     "data": {
      "text/html": [
       "\n",
       "                <div style=\"border: 2px solid #007acc; border-radius: 8px; overflow: hidden;\">\n",
       "                    <iframe \n",
       "                        src=\"data:text/html;base64,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\" \n",
       "                        width=\"100%\" \n",
       "                        height=\"650px\" \n",
       "                        frameborder=\"0\"\n",
       "                        style=\"display: block;\">\n",
       "                    </iframe>\n",
       "                </div>\n",
       "                "
      ],
      "text/plain": [
       "<IPython.core.display.HTML object>"
      ]
     },
     "metadata": {},
     "output_type": "display_data"
    }
   ],
   "source": [
    "# Create a comparison structure\n",
    "provider_demo = {\n",
    "    \"normal_set\": {\"a\", \"b\", \"c\"},  # Uses default provider\n",
    "    \"custom_set1\": my_set,  # Uses custom provider\n",
    "    \"custom_set2\": my_other_set,  # Uses custom provider\n",
    "    \"custom_annotated\": custom_annotated_set  # Custom provider + annotations\n",
    "}\n",
    "\n",
    "# Visualize to see the difference\n",
    "diagram(provider_demo)"
   ]
  },
  {
   "cell_type": "markdown",
   "id": "custom_provider_benefits",
   "metadata": {},
   "source": [
    "### Custom Provider Benefits\n",
    "\n",
    "- **Override default serialization**: Replace how specific objects are converted to atoms/relations\n",
    "- **Object-specific behavior**: Different instances of the same class can use different providers\n",
    "- **Combine with annotations**: Custom providers work alongside spatial annotations\n",
    "- **Maintain type flexibility**: Keep the benefits of Python's dynamic typing while customizing visualization"
   ]
  },
  {
   "cell_type": "code",
   "execution_count": 10,
   "id": "chaining",
   "metadata": {},
   "outputs": [
    {
     "name": "stdout",
     "output_type": "stream",
     "text": [
      "✅ Chained multiple decorators on a single object\n",
      "Result: ['item1', 'item2', 'item3']\n",
      "Applied 2 constraints and 1 directives\n"
     ]
    }
   ],
   "source": [
    "# You can chain multiple decorators just like with classes\n",
    "my_data = [\"item1\", \"item2\", \"item3\"]\n",
    "\n",
    "# Chain multiple decorators in a readable way\n",
    "annotated_data = atomColor(selector='items', value='green')(\n",
    "    orientation(selector='items', directions=['vertical'])(\n",
    "        group(field='elements', groupOn=0, addToGroup=1)(my_data)\n",
    "    )\n",
    ")\n",
    "\n",
    "print(\"✅ Chained multiple decorators on a single object\")\n",
    "print(f\"Result: {annotated_data}\")\n",
    "\n",
    "# Verify all annotations were applied\n",
    "from spytial import collect_decorators\n",
    "annotations = collect_decorators(annotated_data)\n",
    "print(f\"Applied {len(annotations['constraints'])} constraints and {len(annotations['directives'])} directives\")"
   ]
  },
  {
   "cell_type": "markdown",
   "id": "conclusion",
   "metadata": {},
   "source": [
    "## Key Achievements\n",
    "\n",
    "🎯 **CND annotations now work on OBJECTS, not just classes!**\n",
    "\n",
    "- ✅ **Ergonomic API**: Use the same decorator syntax for both classes and objects\n",
    "- ✅ **Pythonic**: Decorators work as Python developers expect them to\n",
    "- ✅ **Unified**: No need to learn separate `annotate_*` functions\n",
    "- ✅ **Flexible**: Works with built-in/immutable types (set, tuple, frozenset, str)\n",
    "- ✅ **Combinable**: Class and object annotations combine seamlessly\n",
    "- ✅ **Backward Compatible**: Existing class-level decorators work unchanged\n",
    "\n",
    "### The Pythonic Way\n",
    "\n",
    "```python\n",
    "# Apply decorators to objects just like you would to classes\n",
    "my_set = group(field='items', groupOn=0, addToGroup=1)(my_set)\n",
    "my_obj = atomColor(selector='self', value='blue')(my_obj)\n",
    "\n",
    "# Chain them naturally\n",
    "result = atomColor(selector='items', value='red')(\n",
    "    orientation(selector='items', directions=['horizontal'])(my_data)\n",
    ")\n",
    "```\n",
    "\n",
    "**This is much more intuitive than having separate `annotate_*` functions!**"
   ]
  }
 ],
 "metadata": {
  "kernelspec": {
   "display_name": "stats-env",
   "language": "python",
   "name": "python3"
  },
  "language_info": {
   "codemirror_mode": {
    "name": "ipython",
    "version": 3
   },
   "file_extension": ".py",
   "mimetype": "text/x-python",
   "name": "python",
   "nbconvert_exporter": "python",
   "pygments_lexer": "ipython3",
   "version": "3.10.17"
  }
 },
 "nbformat": 4,
 "nbformat_minor": 5
}
