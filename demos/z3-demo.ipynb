{
 "cells": [
  {
   "cell_type": "markdown",
   "metadata": {},
   "source": [
    "# Z3 Quick Demo\n",
    "\n",
    "This notebook shows a quick Z3 constraint solving example with sPyTial.\n",
    "\n",
    "For comprehensive Z3 + sPyTial examples, see **03-z3-case-study.ipynb**."
   ]
  },
  {
   "cell_type": "code",
   "execution_count": null,
   "metadata": {},
   "outputs": [],
   "source": [
    "import sys\n",
    "from pathlib import Path\n",
    "\n",
    "# Add the parent directory to the Python path\n",
    "sys.path.append(str(Path().resolve().parent))\n",
    "\n",
    "try:\n",
    "    from z3 import *\n",
    "    from spytial import diagram\n",
    "    \n",
    "    # Simple constraint problem\n",
    "    x, y = Ints('x y')\n",
    "    solver = Solver()\n",
    "    solver.add(x + y == 10, x > 0, y > 0)\n",
    "    \n",
    "    if solver.check() == sat:\n",
    "        model = solver.model()\n",
    "        print(\"Z3 model visualization:\")\n",
    "        diagram(model)\n",
    "    else:\n",
    "        print(\"No solution found\")\n",
    "        \nexcept ImportError:\n",
    "    print(\"Z3 not available. Install with: pip install z3-solver\")\n",
    "    print(\"For full Z3 demos, see 03-z3-case-study.ipynb\")"
   ]
  }
 ],
 "metadata": {
  "kernelspec": {
   "display_name": "Python 3",
   "language": "python",
   "name": "python3"
  },
  "language_info": {
   "codemirror_mode": {
    "name": "ipython",
    "version": 3
   },
   "file_extension": ".py",
   "mimetype": "text/x-python",
   "name": "python",
   "nbconvert_exporter": "python",
   "pygments_lexer": "ipython3",
   "version": "3.10.17"
  }
 },
 "nbformat": 4,
 "nbformat_minor": 5
}
