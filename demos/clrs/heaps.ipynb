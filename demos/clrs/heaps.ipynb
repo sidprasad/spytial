{
 "cells": [
  {
   "cell_type": "code",
   "execution_count": 26,
   "id": "4a1e5a9b",
   "metadata": {},
   "outputs": [],
   "source": [
    "import sys\n",
    "from pathlib import Path\n",
    "\n",
    "\n",
    "# Add the parent directory to the Python path\n",
    "sys.path.append(str(Path().resolve().parent))\n",
    "\n",
    "from spytial import *\n",
    "from spytial.annotations import *\n",
    "from spytial.annotations import flag\n"
   ]
  },
  {
   "cell_type": "markdown",
   "id": "d11c02b8",
   "metadata": {},
   "source": [
    "# Max Heap"
   ]
  },
  {
   "cell_type": "code",
   "execution_count": 29,
   "id": "b02b9025",
   "metadata": {},
   "outputs": [],
   "source": [
    "from typing import List\n",
    "\n",
    "@hideAtom(selector='MaxHeap + (list - int) ')\n",
    "\n",
    "@orientation(selector=\"{ parent, child : int - {z: int | (@num:z) = 0} | (some i, i2 : int | (i->parent + i2->child) in (list.idx) and @num:i2 = multiply[@num:i, 2])}\", directions=[\"left\", \"below\"])\n",
    "@inferredEdge(selector=\"{ parent, child : int - {z: int | (@num:z) = 0} | (some i, i2 : int | (i->parent + i2->child) in (list.idx) and @num:i2 = multiply[@num:i, 2])}\", name = \"left\")\n",
    "@orientation(selector=\" { parent, child : int - {z: int | (@num:z) = 0} | (some i, i2 : int | (i->parent + i2->child) in (list.idx) and @num:i2 = add[1, multiply[@num:i, 2]])}\", directions=[\"right\", \"below\"])\n",
    "@inferredEdge(selector=\"{ parent, child : int - {z: int | (@num:z) = 0} | (some i, i2 : int | (i->parent + i2->child) in (list.idx) and @num:i2 = add[1, multiply[@num:i, 2]])}\", name = \"right\")\n",
    "class MaxHeap:\n",
    "    \"\"\"\n",
    "    CLRS-style max heap storing integers.\n",
    "    1-indexed: a[0] unused.\n",
    "    \"\"\"\n",
    "    def __init__(self, data: List[int] = None):\n",
    "        self.a: List[int] = [0]\n",
    "        if data:\n",
    "            self.a.extend(data)\n",
    "        self.n = len(self.a) - 1\n",
    "        if self.n > 1:\n",
    "            self.build_max_heap()\n",
    "\n",
    "    # index helpers\n",
    "    @staticmethod\n",
    "    def _parent(i: int) -> int: return i // 2\n",
    "    @staticmethod\n",
    "    def _left(i: int) -> int:   return 2 * i\n",
    "    @staticmethod\n",
    "    def _right(i: int) -> int:  return 2 * i + 1\n",
    "\n",
    "    def _max_heapify(self, i: int) -> None:\n",
    "        while True:\n",
    "            l, r = self._left(i), self._right(i)\n",
    "            largest = i\n",
    "            if l <= self.n and self.a[l] > self.a[largest]:\n",
    "                largest = l\n",
    "            if r <= self.n and self.a[r] > self.a[largest]:\n",
    "                largest = r\n",
    "            if largest == i:\n",
    "                break\n",
    "            self.a[i], self.a[largest] = self.a[largest], self.a[i]\n",
    "            i = largest\n",
    "\n",
    "    def build_max_heap(self) -> None:\n",
    "        for i in range(self.n // 2, 0, -1):\n",
    "            self._max_heapify(i)\n",
    "\n",
    "    # API\n",
    "    def max(self) -> int:\n",
    "        if self.n < 1:\n",
    "            raise IndexError(\"heap underflow\")\n",
    "        return self.a[1]\n",
    "\n",
    "    def extract_max(self) -> int:\n",
    "        if self.n < 1:\n",
    "            raise IndexError(\"heap underflow\")\n",
    "        m = self.a[1]\n",
    "        self.a[1] = self.a[self.n]\n",
    "        self.a.pop()\n",
    "        self.n -= 1\n",
    "        if self.n >= 1:\n",
    "            self._max_heapify(1)\n",
    "        return m\n",
    "\n",
    "    def increase_key(self, i: int, key: int) -> None:\n",
    "        if i < 1 or i > self.n:\n",
    "            raise IndexError(\"index out of range\")\n",
    "        if key < self.a[i]:\n",
    "            raise ValueError(\"new key is smaller than current key\")\n",
    "        self.a[i] = key\n",
    "        while i > 1 and self.a[self._parent(i)] < self.a[i]:\n",
    "            p = self._parent(i)\n",
    "            self.a[i], self.a[p] = self.a[p], self.a[i]\n",
    "            i = p\n",
    "\n",
    "    def insert(self, key: int) -> None:\n",
    "        self.n += 1\n",
    "        self.a.append(float(\"-inf\"))  # sentinel\n",
    "        self.increase_key(self.n, key)\n",
    "\n",
    "    def __len__(self) -> int:\n",
    "        return self.n\n",
    "\n",
    "    def __repr__(self) -> str:\n",
    "        return f\"MaxHeap({self.a[1:]})\"\n",
    "\n",
    "\n",
    "\n"
   ]
  },
  {
   "cell_type": "code",
   "execution_count": 30,
   "id": "486f682e",
   "metadata": {},
   "outputs": [
    {
     "data": {
      "text/html": [
       "\n",
       "                <div style=\"border: 2px solid #007acc; border-radius: 8px; overflow: hidden;\">\n",
       "                    <iframe \n",
       "                        src=\"data:text/html;base64,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\" \n",
       "                        width=\"100%\" \n",
       "                        height=\"450px\" \n",
       "                        frameborder=\"0\"\n",
       "                        style=\"display: block;\">\n",
       "                    </iframe>\n",
       "                </div>\n",
       "                "
      ],
      "text/plain": [
       "<IPython.core.display.HTML object>"
      ]
     },
     "metadata": {},
     "output_type": "display_data"
    }
   ],
   "source": [
    "# Example\n",
    "h = MaxHeap([16, 14, 10, 8, 7, 9, 3, 2, 4, 1])\n",
    "diagram(h)\n",
    "\n"
   ]
  }
 ],
 "metadata": {
  "kernelspec": {
   "display_name": "z3env",
   "language": "python",
   "name": "python3"
  },
  "language_info": {
   "codemirror_mode": {
    "name": "ipython",
    "version": 3
   },
   "file_extension": ".py",
   "mimetype": "text/x-python",
   "name": "python",
   "nbconvert_exporter": "python",
   "pygments_lexer": "ipython3",
   "version": "3.12.10"
  }
 },
 "nbformat": 4,
 "nbformat_minor": 5
}
