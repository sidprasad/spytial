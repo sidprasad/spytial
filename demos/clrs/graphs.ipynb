{
 "cells": [
  {
   "cell_type": "code",
   "execution_count": null,
   "id": "bfba47bc",
   "metadata": {},
   "outputs": [],
   "source": [
    "import sys\n",
    "from pathlib import Path\n",
    "\n",
    "# Add the parent directory to the Python path\n",
    "sys.path.append(str(Path().resolve().parent))\n",
    "\n",
    "from spytial import *\n",
    "from spytial.annotations import *\n"
   ]
  },
  {
   "cell_type": "markdown",
   "id": "cdde55ea",
   "metadata": {},
   "source": [
    "# Mostly TODO"
   ]
  }
 ],
 "metadata": {
  "language_info": {
   "name": "python"
  }
 },
 "nbformat": 4,
 "nbformat_minor": 5
}
