{
 "cells": [
  {
   "cell_type": "code",
   "execution_count": 1,
   "id": "811f684b",
   "metadata": {},
   "outputs": [],
   "source": [
    "import sys\n",
    "from pathlib import Path\n",
    "\n",
    "# Add the parent directory to the Python path\n",
    "sys.path.append(str(Path().resolve().parent))\n",
    "\n",
    "from spytial import *\n",
    "from spytial.annotations import *\n"
   ]
  },
  {
   "cell_type": "markdown",
   "id": "85a60f96",
   "metadata": {},
   "source": [
    "# Arrays\n",
    "\n",
    "We use Built-In Python lists for arrays. Since we don't want to modyf how lists are shown, we define this function for convenience that annotates an array OBJECT.\n",
    "\n",
    "TODO: Arrays aren't super interesting in terms of visual interface, since you kinda get what you get? Maybe think about writing one or two sorting alg visualizations here? But I want to avoid algorithm visualization a bit."
   ]
  },
  {
   "cell_type": "code",
   "execution_count": 2,
   "id": "a45eff03",
   "metadata": {},
   "outputs": [],
   "source": [
    "\n",
    "def array_left_to_right(arr):\n",
    "    ## We want to show the indices, and we want to show the ordering of the numbers rightward.\n",
    "    sa = orientation(selector='{x,y : idx[object][object] | @num:(x[idx[object]]) < @num:(y[idx[object]])}', directions=['directlyRight'])(arr)\n",
    "    ## TODO:\n",
    "    # Make sure that if \n",
    "    \n",
    "    sa = hideAtom(selector=\"list\")(sa)\n",
    "\n",
    "\n",
    "\n",
    "    sa = annotate_flag(sa, name = 'hideDisconnected')\n",
    "    return sa"
   ]
  },
  {
   "cell_type": "code",
   "execution_count": 3,
   "id": "ec2e0c6e",
   "metadata": {},
   "outputs": [
    {
     "ename": "NameError",
     "evalue": "name 'annotate_flag' is not defined",
     "output_type": "error",
     "traceback": [
      "\u001b[31m---------------------------------------------------------------------------\u001b[39m",
      "\u001b[31mNameError\u001b[39m                                 Traceback (most recent call last)",
      "\u001b[36mCell\u001b[39m\u001b[36m \u001b[39m\u001b[32mIn[3]\u001b[39m\u001b[32m, line 16\u001b[39m\n\u001b[32m     12\u001b[39m         diagram(arr)\n\u001b[32m     13\u001b[39m     \u001b[38;5;28;01mreturn\u001b[39;00m arr\n\u001b[32m---> \u001b[39m\u001b[32m16\u001b[39m arr = \u001b[43marray_left_to_right\u001b[49m\u001b[43m(\u001b[49m\u001b[43m[\u001b[49m\u001b[32;43m10\u001b[39;49m\u001b[43m,\u001b[49m\u001b[43m \u001b[49m\u001b[32;43m25\u001b[39;49m\u001b[43m,\u001b[49m\u001b[43m \u001b[49m\u001b[32;43m30\u001b[39;49m\u001b[43m,\u001b[49m\u001b[43m \u001b[49m\u001b[32;43m15\u001b[39;49m\u001b[43m,\u001b[49m\u001b[43m \u001b[49m\u001b[32;43m20\u001b[39;49m\u001b[43m]\u001b[49m\u001b[43m)\u001b[49m\n\u001b[32m     17\u001b[39m z = insertion_sort(arr)\n",
      "\u001b[36mCell\u001b[39m\u001b[36m \u001b[39m\u001b[32mIn[2]\u001b[39m\u001b[32m, line 11\u001b[39m, in \u001b[36marray_left_to_right\u001b[39m\u001b[34m(arr)\u001b[39m\n\u001b[32m      4\u001b[39m \u001b[38;5;66;03m## TODO:\u001b[39;00m\n\u001b[32m      5\u001b[39m \u001b[38;5;66;03m# Make sure that if \u001b[39;00m\n\u001b[32m      7\u001b[39m sa = hideAtom(selector=\u001b[33m\"\u001b[39m\u001b[33mlist\u001b[39m\u001b[33m\"\u001b[39m)(sa)\n\u001b[32m---> \u001b[39m\u001b[32m11\u001b[39m sa = \u001b[43mannotate_flag\u001b[49m(sa, name = \u001b[33m'\u001b[39m\u001b[33mhideDisconnected\u001b[39m\u001b[33m'\u001b[39m)\n\u001b[32m     12\u001b[39m \u001b[38;5;28;01mreturn\u001b[39;00m sa\n",
      "\u001b[31mNameError\u001b[39m: name 'annotate_flag' is not defined"
     ]
    }
   ],
   "source": [
    "\n",
    "def insertion_sort(arr):\n",
    "    diagram(arr)\n",
    "    for i in range(1, len(arr)):\n",
    "        \n",
    "        key = arr[i]\n",
    "        j = i - 1\n",
    "        while j >= 0 and arr[j] > key:\n",
    "            \n",
    "            arr[j + 1] = arr[j]\n",
    "            j -= 1\n",
    "        arr[j + 1] = key\n",
    "        diagram(arr)\n",
    "    return arr\n",
    "\n",
    "\n",
    "arr = array_left_to_right([10, 25, 30, 15, 20])\n",
    "z = insertion_sort(arr)"
   ]
  }
 ],
 "metadata": {
  "kernelspec": {
   "display_name": "z3env",
   "language": "python",
   "name": "python3"
  },
  "language_info": {
   "codemirror_mode": {
    "name": "ipython",
    "version": 3
   },
   "file_extension": ".py",
   "mimetype": "text/x-python",
   "name": "python",
   "nbconvert_exporter": "python",
   "pygments_lexer": "ipython3",
   "version": "3.12.10"
  }
 },
 "nbformat": 4,
 "nbformat_minor": 5
}
