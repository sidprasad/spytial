{
 "cells": [
  {
   "cell_type": "code",
   "execution_count": 1,
   "id": "5b19de62",
   "metadata": {},
   "outputs": [],
   "source": [
    "import sys\n",
    "from pathlib import Path\n",
    "\n",
    "# Add the parent directory to the Python path\n",
    "sys.path.append(str(Path().resolve().parent))\n",
    "\n",
    "from spytial import *\n",
    "from spytial.annotations import *\n",
    "from spytial.annotations import flag\n"
   ]
  },
  {
   "cell_type": "code",
   "execution_count": 2,
   "id": "abdb46b4",
   "metadata": {},
   "outputs": [],
   "source": [
    "# Direct Address\n",
    "@flag(name='hideDisconnected')\n",
    "@hideAtom(selector='NoneType + DirectAddress') # Hide empty slots\n",
    "@inferredEdge(selector=\"{k : int, v : (object - NoneType) | (some t : tuple | t.t1 not in NoneType and t.t1 = v and t.t0 = k)}\", name='maps-to')\n",
    "@group(selector='tuple.t0', name='slot')\n",
    "@group(selector='tuple.t1', name='value')\n",
    "@attribute(field='t0')\n",
    "@attribute(field='t1')\n",
    "class DirectAddress:\n",
    "    def __init__(self, m): self.T = [None]*m\n",
    "    def insert(self, k, v): self.T[k] = (k, v)\n",
    "    def search(self, k):    return self.T[k]\n",
    "    def delete(self, k):    self.T[k] = None\n"
   ]
  },
  {
   "cell_type": "code",
   "execution_count": 3,
   "id": "3e15eb66",
   "metadata": {},
   "outputs": [
    {
     "data": {
      "text/html": [
       "\n",
       "                <div style=\"border: 2px solid #007acc; border-radius: 8px; overflow: hidden;\">\n",
       "                    <iframe \n",
       "                        src=\"data:text/html;base64,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\" \n",
       "                        width=\"100%\" \n",
       "                        height=\"450px\" \n",
       "                        frameborder=\"0\"\n",
       "                        style=\"display: block;\">\n",
       "                    </iframe>\n",
       "                </div>\n",
       "                "
      ],
      "text/plain": [
       "<IPython.core.display.HTML object>"
      ]
     },
     "metadata": {},
     "output_type": "display_data"
    }
   ],
   "source": [
    "da = DirectAddress(30)\n",
    "\n",
    "for k in [\"abc\", \"def\", \"ghi\"]:\n",
    "    da.insert(hash(k) % 30, k)\n",
    "\n",
    "diagram(da)"
   ]
  },
  {
   "cell_type": "markdown",
   "id": "4c891203",
   "metadata": {},
   "source": [
    "# Now Chained Hash Table"
   ]
  },
  {
   "cell_type": "code",
   "execution_count": 4,
   "id": "91ffdb4f",
   "metadata": {},
   "outputs": [
    {
     "data": {
      "text/plain": [
       "'/var/folders/80/rtptthbx3zq0tb06wwzmck_40000gq/T/tmpfoi52qn4.html'"
      ]
     },
     "execution_count": 4,
     "metadata": {},
     "output_type": "execute_result"
    }
   ],
   "source": [
    "# Minimal CLRS-style chained hash table (element-pointer API)\n",
    "# Buckets are doubly-linked lists with a per-bucket SENTINEL for O(1) delete-by-pointer.\n",
    "\n",
    "@flag(name='hideDisconnected')\n",
    "# Hide prev, since we have next\n",
    "@hideField(selector='Node', field='prev')\n",
    "@attribute(field='key')\n",
    "@attribute(field='val')\n",
    "@cyclic(selector='{x,y : Node | x->y in next}', direction='clockwise')\n",
    "class Node:\n",
    "    __slots__ = (\"key\", \"val\", \"prev\", \"next\")\n",
    "    def __init__(self, key, val=None):\n",
    "        self.key = key\n",
    "        self.val = val\n",
    "        self.prev = None\n",
    "        self.next = None\n",
    "    def __repr__(self):\n",
    "        return f\"Node(key={self.key}, val={self.val})\"\n",
    "\n",
    "@hideAtom(selector='NoneType + {x : Node | x = x.next and x = x.prev}') # Hide empty slots\n",
    "@attribute(field='m')\n",
    "class HashTableChaining:\n",
    "    def __init__(self, m=8):\n",
    "        self.m = m\n",
    "        self.T = [self._new_sentinel() for _ in range(m)]\n",
    "\n",
    "    # ---- internals ----\n",
    "    def _new_sentinel(self):\n",
    "        s = Node(key=None, val=None)\n",
    "        s.prev = s.next = s          # circular sentinel\n",
    "        return s\n",
    "\n",
    "    def _h(self, k):\n",
    "        return hash(k) % self.m      # abstract h(.) in CLRS; fine for a minimal demo\n",
    "\n",
    "    # ---- CLRS ops ----\n",
    "    # CHAINED-HASH-SEARCH(T, k) -> pointer to element or None\n",
    "    def search(self, k):\n",
    "        s = self.T[self._h(k)]\n",
    "        x = s.next\n",
    "        while x is not s:\n",
    "            if x.key == k:\n",
    "                return x\n",
    "            x = x.next\n",
    "        return None\n",
    "\n",
    "    # CHAINED-HASH-INSERT(T, x)  (insert element object)\n",
    "    # Head insert (like CLRS); does NOT check duplicates.\n",
    "    def insert(self, x: Node):\n",
    "        s = self.T[self._h(x.key)]\n",
    "        # splice x right after sentinel (head insert)\n",
    "        x.next = s.next\n",
    "        x.prev = s\n",
    "        s.next.prev = x\n",
    "        s.next = x\n",
    "\n",
    "    # CHAINED-HASH-DELETE(T, x)  (delete by pointer) -> bool\n",
    "    # O(1) because we have prev/next.\n",
    "    def delete(self, x: Node):\n",
    "        if x.prev is None or x.next is None:\n",
    "            return False  # not currently in a table/chain\n",
    "        x.prev.next = x.next\n",
    "        x.next.prev = x.prev\n",
    "        x.prev = x.next = None\n",
    "        return True\n",
    "\n",
    "    # (Optional) convenience method: delete by key using search\n",
    "    def delete_key(self, k):\n",
    "        x = self.search(k)\n",
    "        return self.delete(x) if x else False\n",
    "\n",
    "    # (Optional) quick view\n",
    "    def __str__(self):\n",
    "        lines = []\n",
    "        for i, s in enumerate(self.T):\n",
    "            items, x = [], s.next\n",
    "            while x is not s:\n",
    "                items.append(f\"{x.key}:{x.val}\")\n",
    "                x = x.next\n",
    "            lines.append(f\"[{i}] \" + \" -> \".join(items) if items else f\"[{i}] ·\")\n",
    "        return \"\\n\".join(lines)\n",
    "\n",
    "# ---- Example usage ----\n",
    "T = HashTableChaining(m=5)\n",
    "a = Node(12, \"A\"); b = Node(7, \"B\"); c = Node(12, \"C\")  # duplicate key\n",
    "d = Node(42, \"D\"); e = Node(100, \"E\")  # duplicate key\n",
    "T.insert(a); T.insert(b); T.insert(c); T.insert(d); T.insert(e)\n",
    "\n",
    "diagram(T, method='browser')\n"
   ]
  }
 ],
 "metadata": {
  "kernelspec": {
   "display_name": "z3env",
   "language": "python",
   "name": "python3"
  },
  "language_info": {
   "codemirror_mode": {
    "name": "ipython",
    "version": 3
   },
   "file_extension": ".py",
   "mimetype": "text/x-python",
   "name": "python",
   "nbconvert_exporter": "python",
   "pygments_lexer": "ipython3",
   "version": "3.12.10"
  }
 },
 "nbformat": 4,
 "nbformat_minor": 5
}
