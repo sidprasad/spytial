{
 "cells": [
  {
   "cell_type": "code",
   "execution_count": 1,
   "id": "b02c8eba",
   "metadata": {},
   "outputs": [],
   "source": [
    "import sys\n",
    "from pathlib import Path\n",
    "\n",
    "# Add the parent directory to the Python path\n",
    "sys.path.append(str(Path().resolve().parent))\n",
    "\n",
    "from spytial import *\n",
    "from spytial.annotations import *"
   ]
  },
  {
   "cell_type": "markdown",
   "id": "2df3994b",
   "metadata": {},
   "source": [
    "# Disjoint Sets (Union Find?)\n",
    "\n",
    "\n",
    "There are multiple possible visualizations here, depending on how much of the mechanization you might want.\n",
    "\n",
    "- Just as sets\n",
    "- Rank / parent exposed"
   ]
  },
  {
   "cell_type": "code",
   "execution_count": 4,
   "id": "03f7a9d4",
   "metadata": {},
   "outputs": [],
   "source": [
    "\n",
    "\n",
    "VIEW = \"GROUP\"\n",
    "\n",
    "@attribute(field=\"key\")\n",
    "@attribute(field=\"rank\")\n",
    "@apply_if(\n",
    "    VIEW == \"RANK\",\n",
    "    orientation(selector='{ x, y : DSUNode | (x != y) and (x.parent = y) }', directions=['above']),\n",
    "    hideField(selector='{ x : DSUNode | x.parent = x }', field='parent'),\n",
    "    orientation(selector='{ x, y : DSUNode | (x != y) and (@num:(x.rank) < @num:(y.rank)) }', directions=['above']),\n",
    ")\n",
    "@apply_if(\n",
    "    VIEW != \"RANK\",\n",
    "        orientation(selector='{ x, y : DSUNode | (x != y) and (@num:(x.rank) < @num:(y.rank)) }', directions=['above']),\n",
    "    group(selector='~parent', name='set'),\n",
    ")\n",
    "class DSUNode:\n",
    "    def __init__(self, key):\n",
    "        self.key = key\n",
    "        self.parent = self   # MAKE-SET\n",
    "        self.rank = 0        # tree rank (upper bound on height)\n",
    "\n",
    "\n",
    "class DisjointSet:\n",
    "    def make_set(self, key):\n",
    "        return DSUNode(key)\n",
    "\n",
    "    # FIND-SET with path compression\n",
    "    def find_set(self, x: DSUNode) -> DSUNode:\n",
    "        if x.parent is not x:\n",
    "            x.parent = self.find_set(x.parent)\n",
    "        return x.parent\n",
    "\n",
    "    # UNION by rank\n",
    "    def union(self, x: DSUNode, y: DSUNode) -> DSUNode:\n",
    "        return self._link(self.find_set(x), self.find_set(y))\n",
    "\n",
    "    def _link(self, x_root: DSUNode, y_root: DSUNode) -> DSUNode:\n",
    "        if x_root is y_root:\n",
    "            return x_root\n",
    "        if x_root.rank > y_root.rank:\n",
    "            y_root.parent = x_root\n",
    "            return x_root\n",
    "        else:\n",
    "            x_root.parent = y_root\n",
    "            if x_root.rank == y_root.rank:\n",
    "                y_root.rank += 1\n",
    "            return y_root\n",
    "        \n",
    "\n"
   ]
  },
  {
   "cell_type": "code",
   "execution_count": 5,
   "id": "1a57ea21",
   "metadata": {},
   "outputs": [
    {
     "data": {
      "text/html": [
       "\n",
       "                <div style=\"border: 2px solid #007acc; border-radius: 8px; overflow: hidden;\">\n",
       "                    <iframe \n",
       "                        src=\"data:text/html;base64,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\" \n",
       "                        width=\"100%\" \n",
       "                        height=\"450px\" \n",
       "                        frameborder=\"0\"\n",
       "                        style=\"display: block;\">\n",
       "                    </iframe>\n",
       "                </div>\n",
       "                "
      ],
      "text/plain": [
       "<IPython.core.display.HTML object>"
      ]
     },
     "metadata": {},
     "output_type": "display_data"
    }
   ],
   "source": [
    "from spytial.annotations import apply_if, flag\n",
    "\n",
    "\n",
    "# Create a DisjointSet instance and some DSU nodes, perform unions, and render a diagram.\n",
    "ds = DisjointSet()\n",
    "\n",
    "# MAKE-SET for elements\n",
    "a = ds.make_set(\"A\")\n",
    "b = ds.make_set(\"B\")\n",
    "c = ds.make_set(\"C\")\n",
    "d = ds.make_set(\"D\")\n",
    "e = ds.make_set(\"E\")  # will remain a separate set\n",
    "\n",
    "\n",
    "\n",
    "ds.union(a, b)  # union A and B\n",
    "ds.union(c, d)   # union C and D\n",
    "ds.union(b, c)   # connect the two trees (A,B) and (C,D) -> one larger set\n",
    "\n",
    "# Run finds to apply path compression (so parent links are updated)\n",
    "for node in (a, b, c, d, e):\n",
    "    ds.find_set(node)\n",
    "\n",
    "# Diagramming convention, hide the list wrapper\n",
    "to_diagram = flag(name=\"hideDisconnected\")(hideAtom(selector=\"list\")([a,b,c,d,e]))\n",
    "diagram(to_diagram)\n",
    "\n"
   ]
  },
  {
   "cell_type": "markdown",
   "id": "dbd27ba8",
   "metadata": {},
   "source": [
    "# Rank + Set,. add"
   ]
  }
 ],
 "metadata": {
  "kernelspec": {
   "display_name": "z3env",
   "language": "python",
   "name": "python3"
  },
  "language_info": {
   "codemirror_mode": {
    "name": "ipython",
    "version": 3
   },
   "file_extension": ".py",
   "mimetype": "text/x-python",
   "name": "python",
   "nbconvert_exporter": "python",
   "pygments_lexer": "ipython3",
   "version": "3.12.10"
  }
 },
 "nbformat": 4,
 "nbformat_minor": 5
}
