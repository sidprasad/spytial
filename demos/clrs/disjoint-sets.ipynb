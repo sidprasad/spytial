{
 "cells": [
  {
   "cell_type": "code",
   "execution_count": 1,
   "id": "b02c8eba",
   "metadata": {},
   "outputs": [],
   "source": [
    "import sys\n",
    "from pathlib import Path\n",
    "\n",
    "# Add the parent directory to the Python path\n",
    "sys.path.append(str(Path().resolve().parent))\n",
    "\n",
    "from spytial import *\n",
    "from spytial.annotations import *"
   ]
  },
  {
   "cell_type": "markdown",
   "id": "2df3994b",
   "metadata": {},
   "source": [
    "# Disjoint Sets (Union Find?)\n",
    "\n",
    "\n",
    "There are multiple possible visualizations here, depending on how much of the mechanization you might want.\n",
    "\n",
    "- Just as sets\n",
    "- Rank / parent exposed"
   ]
  },
  {
   "cell_type": "code",
   "execution_count": null,
   "id": "03f7a9d4",
   "metadata": {},
   "outputs": [],
   "source": [
    "\n",
    "\n",
    "VIEW = \"GROUP\"\n",
    "\n",
    "@attribute(field=\"key\")\n",
    "@attribute(field=\"rank\")\n",
    "@apply_if(\n",
    "    VIEW == \"RANK\",\n",
    "    orientation(selector='{ x, y : DSUNode | (x != y) and (x.parent = y) }', directions=['above']),\n",
    "    hideField(selector='{ x : DSUNode | x.parent = x }', field='parent'),\n",
    "    orientation(selector='{ x, y : DSUNode | (x != y) and (@num:(x.rank) < @num:(y.rank)) }', directions=['above']),\n",
    ")\n",
    "@apply_if(\n",
    "    VIEW != \"RANK\",\n",
    "        orientation(selector='{ x, y : DSUNode | (x != y) and (@num:(x.rank) < @num:(y.rank)) }', directions=['above']),\n",
    "    group(selector='~parent', name='set'),\n",
    "    hideField(field='parent'),\n",
    "    align(selector='{ x, y : DSUNode | (x != y) and (@num:(x.rank) = @num:(y.rank)) }', direction='horizontal')\n",
    ")\n",
    "class DSUNode:\n",
    "    def __init__(self, key):\n",
    "        self.key = key\n",
    "        self.parent = self   # MAKE-SET\n",
    "        self.rank = 0        # tree rank (upper bound on height)\n",
    "\n",
    "\n",
    "class DisjointSet:\n",
    "    def make_set(self, key):\n",
    "        return DSUNode(key)\n",
    "\n",
    "    # FIND-SET with path compression\n",
    "    def find_set(self, x: DSUNode) -> DSUNode:\n",
    "        if x.parent is not x:\n",
    "            x.parent = self.find_set(x.parent)\n",
    "        return x.parent\n",
    "\n",
    "    # UNION by rank\n",
    "    def union(self, x: DSUNode, y: DSUNode) -> DSUNode:\n",
    "        return self._link(self.find_set(x), self.find_set(y))\n",
    "\n",
    "    def _link(self, x_root: DSUNode, y_root: DSUNode) -> DSUNode:\n",
    "        if x_root is y_root:\n",
    "            return x_root\n",
    "        if x_root.rank > y_root.rank:\n",
    "            y_root.parent = x_root\n",
    "            return x_root\n",
    "        else:\n",
    "            x_root.parent = y_root\n",
    "            if x_root.rank == y_root.rank:\n",
    "                y_root.rank += 1\n",
    "            return y_root\n",
    "        \n",
    "\n"
   ]
  },
  {
   "cell_type": "code",
   "execution_count": 3,
   "id": "1a57ea21",
   "metadata": {},
   "outputs": [
    {
     "data": {
      "text/html": [
       "\n",
       "                <div style=\"border: 2px solid #007acc; border-radius: 8px; overflow: hidden;\">\n",
       "                    <iframe \n",
       "                        src=\"data:text/html;base64,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\" \n",
       "                        width=\"100%\" \n",
       "                        height=\"450px\" \n",
       "                        frameborder=\"0\"\n",
       "                        style=\"display: block;\">\n",
       "                    </iframe>\n",
       "                </div>\n",
       "                "
      ],
      "text/plain": [
       "<IPython.core.display.HTML object>"
      ]
     },
     "metadata": {},
     "output_type": "display_data"
    }
   ],
   "source": [
    "from spytial.annotations import apply_if, flag\n",
    "\n",
    "\n",
    "# Create a DisjointSet instance and some DSU nodes, perform unions, and render a diagram.\n",
    "ds = DisjointSet()\n",
    "\n",
    "# MAKE-SET for elements\n",
    "a = ds.make_set(\"A\")\n",
    "b = ds.make_set(\"B\")\n",
    "c = ds.make_set(\"C\")\n",
    "d = ds.make_set(\"D\")\n",
    "e = ds.make_set(\"E\")  # will remain a separate set\n",
    "\n",
    "\n",
    "\n",
    "ds.union(a, b)  # union A and B\n",
    "ds.union(c, d)   # union C and D\n",
    "ds.union(b, c)   # connect the two trees (A,B) and (C,D) -> one larger set\n",
    "\n",
    "# Run finds to apply path compression (so parent links are updated)\n",
    "for node in (a, b, c, d, e):\n",
    "    ds.find_set(node)\n",
    "\n",
    "# Diagramming convention, hide the list wrapper\n",
    "to_diagram = flag(name=\"hideDisconnected\")(hideAtom(selector=\"list\")([a,b,c,d,e]))\n",
    "diagram(to_diagram)\n",
    "\n"
   ]
  },
  {
   "cell_type": "markdown",
   "id": "dbd27ba8",
   "metadata": {},
   "source": [
    "# Rank + Set,. add"
   ]
  }
 ],
 "metadata": {
  "kernelspec": {
   "display_name": "z3env",
   "language": "python",
   "name": "python3"
  },
  "language_info": {
   "codemirror_mode": {
    "name": "ipython",
    "version": 3
   },
   "file_extension": ".py",
   "mimetype": "text/x-python",
   "name": "python",
   "nbconvert_exporter": "python",
   "pygments_lexer": "ipython3",
   "version": "3.12.10"
  }
 },
 "nbformat": 4,
 "nbformat_minor": 5
}
