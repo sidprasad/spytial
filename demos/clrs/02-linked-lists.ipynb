{
 "cells": [
  {
   "cell_type": "code",
   "execution_count": null,
   "id": "811f684b",
   "metadata": {},
   "outputs": [],
   "source": [
    "import sys\n",
    "from pathlib import Path\n",
    "\n",
    "# Add the parent directory to the Python path\n",
    "sys.path.append(str(Path().resolve().parent))\n",
    "\n",
    "from spytial import *\n",
    "from spytial.annotations import *\n"
   ]
  },
  {
   "cell_type": "markdown",
   "id": "85a60f96",
   "metadata": {},
   "source": [
    "# Arrays\n",
    "\n",
    "We use Built-In Python lists for arrays. Since we don't want to modyf how lists are shown, we define this function for convenience that annotates an array OBJECT."
   ]
  },
  {
   "cell_type": "code",
   "execution_count": 3,
   "id": "a45eff03",
   "metadata": {},
   "outputs": [],
   "source": [
    "\n",
    "def array_left_to_right(arr):\n",
    "    ## We want to show the indices, and we want to show the ordering of the numbers rightward.\n",
    "    sa = orientation(selector='{x,y : idx[object][object] | @num:(x[idx[object]]) < @num:(y[idx[object]])}', directions=['directlyRight'])(arr)\n",
    "    sa = annotate_flag(sa, name = 'hideDisconnected')\n",
    "    return sa"
   ]
  },
  {
   "cell_type": "code",
   "execution_count": null,
   "id": "ec2e0c6e",
   "metadata": {},
   "outputs": [],
   "source": [
    "\n",
    "def insertion_sort(arr):\n",
    "    for i in range(1, len(arr)):\n",
    "        key = arr[i]\n",
    "        j = i - 1\n",
    "        while j >= 0 and arr[j] > key:\n",
    "            diagram(arr)\n",
    "            arr[j + 1] = arr[j]\n",
    "            j -= 1\n",
    "        arr[j + 1] = key\n",
    "    return arr\n",
    "\n",
    "\n"
   ]
  },
  {
   "cell_type": "code",
   "execution_count": null,
   "id": "eaaf6f40",
   "metadata": {},
   "outputs": [],
   "source": [
    "## Insertion Sort\n"
   ]
  }
 ],
 "metadata": {
  "kernelspec": {
   "display_name": "z3env",
   "language": "python",
   "name": "python3"
  },
  "language_info": {
   "codemirror_mode": {
    "name": "ipython",
    "version": 3
   },
   "file_extension": ".py",
   "mimetype": "text/x-python",
   "name": "python",
   "nbconvert_exporter": "python",
   "pygments_lexer": "ipython3",
   "version": "3.12.10"
  }
 },
 "nbformat": 4,
 "nbformat_minor": 5
}
