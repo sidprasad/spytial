{
 "cells": [
  {
   "cell_type": "markdown",
   "id": "fef28175",
   "metadata": {},
   "source": [
    "# sPyTial Dataclass Builder Demo\n",
    "\n",
    "This notebook shows how to build dataclass instances using sPyTial widgets with **automatic value tracking**!\n",
    "\n",
    "## Simple Workflow:\n",
    "1. Define your dataclass\n",
    "2. Create a widget: `widget = spytial.dataclass_widget(MyClass)`\n",
    "3. Use the visual interface to build data and export JSON\n",
    "4. Get your dataclass automatically: `instance = widget.value`\n",
    "\n",
    "The widget continuously observes the export directory and automatically updates `widget.value` when you export data from the interface. No manual JSON handling needed!"
   ]
  },
  {
   "cell_type": "code",
   "execution_count": 1,
   "id": "3b96f802",
   "metadata": {},
   "outputs": [],
   "source": [
    "# Setup and imports\n",
    "import sys\n",
    "import os\n",
    "sys.path.insert(0, os.path.abspath('..'))\n",
    "\n",
    "import spytial\n",
    "from dataclasses import dataclass, field, is_dataclass\n",
    "from typing import List, Optional\n",
    "\n",
    "import ipywidgets"
   ]
  },
  {
   "cell_type": "markdown",
   "id": "c404dc1d",
   "metadata": {},
   "source": [
    "## Step 1: Define Your Dataclass"
   ]
  },
  {
   "cell_type": "code",
   "execution_count": 2,
   "id": "ee1524ef",
   "metadata": {},
   "outputs": [],
   "source": [
    "@dataclass\n",
    "@spytial.orientation(selector='name', directions=['above'])\n",
    "class Person:\n",
    "    name: str = \"\"\n",
    "    age: int = 0\n",
    "    email: str = \"\"\n",
    "    "
   ]
  },
  {
   "cell_type": "markdown",
   "id": "ef74ebc2",
   "metadata": {},
   "source": [
    "## Step 2: Create the Widget"
   ]
  },
  {
   "cell_type": "code",
   "execution_count": 3,
   "id": "10c47942",
   "metadata": {},
   "outputs": [
    {
     "data": {
      "application/vnd.jupyter.widget-view+json": {
       "model_id": "e4d5a7b258a644968b4f4d73fb3def50",
       "version_major": 2,
       "version_minor": 0
      },
      "text/plain": [
       "VBox(children=(HTML(value='<h3>Person Builder</h3>'), HTML(value='\\n                <iframe \\n                …"
      ]
     },
     "execution_count": 3,
     "metadata": {},
     "output_type": "execute_result"
    }
   ],
   "source": [
    "# Create the widget with automatic value tracking\n",
    "person_widget = spytial.dataclass_widget(Person)\n",
    "\n",
    "person_widget"
   ]
  },
  {
   "cell_type": "markdown",
   "id": "ff0ed424",
   "metadata": {},
   "source": [
    "## Step 3: Get Your Built Dataclass"
   ]
  },
  {
   "cell_type": "code",
   "execution_count": 5,
   "id": "150c5200",
   "metadata": {},
   "outputs": [
    {
     "name": "stdout",
     "output_type": "stream",
     "text": [
      "⏳ No data captured yet.\n",
      "Steps to get your dataclass:\n",
      "1. Use the visual interface above\n",
      "2. Build your person data\n",
      "3. Click 'Export JSON' button\n",
      "4. Run this cell again - widget.value will be automatically updated!\n",
      "\n",
      "💡 The widget continuously watches for exports and updates the value.\n"
     ]
    }
   ],
   "source": [
    "# Get the automatically tracked value\n",
    "current_person = person_widget.value\n",
    "\n",
    "if current_person:\n",
    "    print(\"🎉 Success! Widget automatically tracked your data:\")\n",
    "    print(f\"Name: {current_person.name}\")\n",
    "    print(f\"Age: {current_person.age}\")\n",
    "    print(f\"Email: {current_person.email}\")\n",
    "    print(f\"Type: {type(current_person)}\")\n",
    "    print(f\"Is Person instance: {isinstance(current_person, Person)}\")\n",
    "    \n",
    "    # The instance is ready to use\n",
    "    print(f\"\\n✅ Your dataclass instance 'current_person' is ready!\")\n",
    "    \n",
    "else:\n",
    "    print(\"⏳ No data captured yet.\")\n",
    "    print(\"Steps to get your dataclass:\")\n",
    "    print(\"1. Use the visual interface above\")\n",
    "    print(\"2. Build your person data\")\n",
    "    print(\"3. Click 'Export JSON' button\")\n",
    "    print(\"4. Run this cell again - widget.value will be automatically updated!\")\n",
    "    print(\"\\n💡 The widget continuously watches for exports and updates the value.\")"
   ]
  },
  {
   "cell_type": "markdown",
   "id": "63af9ae8",
   "metadata": {},
   "source": [
    "## That's It! Automatic Value Tracking\n",
    "\n",
    "You've successfully built a dataclass instance with **automatic value tracking**! The workflow is:\n",
    "\n",
    "1. `widget = spytial.dataclass_widget(MyClass)` - Create widget with file observer\n",
    "2. Use the visual interface (iframe with full CDN access)\n",
    "3. Click \"Export JSON\" when you've built your data\n",
    "4. `instance = widget.value` - Get your dataclass automatically!\n",
    "\n",
    "## Key Features:\n",
    "- **Iframe rendering** - Full access to external CDNs and resources\n",
    "- **Continuous observation** - Background thread watches for exported files\n",
    "- **Automatic conversion** - JSON automatically becomes dataclass instances\n",
    "- **Real-time updates** - `widget.value` always has the latest data\n",
    "- **No manual steps** - No copying/pasting JSON required!\n",
    "\n",
    "The widget observes the export directory and automatically converts any exported JSON to your dataclass type!"
   ]
  },
  {
   "cell_type": "code",
   "execution_count": null,
   "id": "bb7140c2",
   "metadata": {},
   "outputs": [],
   "source": [
    "# Quick test of widget creation\n",
    "test_widget = spytial.dataclass_widget(Person)\n",
    "print(\"Widget created successfully\")"
   ]
  },
  {
   "cell_type": "code",
   "execution_count": null,
   "id": "f4428774",
   "metadata": {},
   "outputs": [],
   "source": [
    "# Real-time value checking demonstration\n",
    "import time\n",
    "\n",
    "print(\"🔍 Real-time value monitoring...\")\n",
    "print(\"Run this cell multiple times after exporting to see automatic updates!\")\n",
    "\n",
    "# Check widget value multiple times\n",
    "for i in range(3):\n",
    "    current_value = person_widget.value\n",
    "    timestamp = time.strftime('%H:%M:%S')\n",
    "    \n",
    "    if current_value:\n",
    "        print(f\"⏰ {timestamp}: Found Person(name='{current_value.name}', age={current_value.age})\")\n",
    "    else:\n",
    "        print(f\"⏰ {timestamp}: No value yet - export from interface above\")\n",
    "    \n",
    "    if i < 2:  # Don't sleep on last iteration\n",
    "        time.sleep(1)\n",
    "\n",
    "print(f\"\\n💡 widget.value = {person_widget.value}\")\n",
    "print(\"The value updates automatically when you export from the interface!\")"
   ]
  },
  {
   "cell_type": "code",
   "execution_count": null,
   "id": "779aa72a",
   "metadata": {},
   "outputs": [],
   "source": [
    "# Test the export functionality\n",
    "widget_export_test = spytial.dataclass_widget(Person)\n",
    "widget_export_test"
   ]
  },
  {
   "cell_type": "code",
   "execution_count": null,
   "id": "7fe29201",
   "metadata": {},
   "outputs": [],
   "source": [
    "# Check if export worked\n",
    "print(\"Current widget value:\", widget_export_test.value)\n",
    "if widget_export_test.value:\n",
    "    print(\"Export successful!\")\n",
    "    print(f\"Person: {widget_export_test.value}\")\n",
    "else:\n",
    "    print(\"No value yet - try exporting from the interface above\")"
   ]
  }
 ],
 "metadata": {
  "kernelspec": {
   "display_name": "z3env",
   "language": "python",
   "name": "python3"
  },
  "language_info": {
   "codemirror_mode": {
    "name": "ipython",
    "version": 3
   },
   "file_extension": ".py",
   "mimetype": "text/x-python",
   "name": "python",
   "nbconvert_exporter": "python",
   "pygments_lexer": "ipython3",
   "version": "3.12.10"
  }
 },
 "nbformat": 4,
 "nbformat_minor": 5
}
