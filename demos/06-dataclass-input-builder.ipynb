{
 "cells": [
  {
   "cell_type": "markdown",
   "id": "fef28175",
   "metadata": {},
   "source": [
    "# sPyTial Dataclass Builder Demo\n",
    "\n",
    "This notebook shows how to build dataclass instances using sPyTial widgets with **direct communication**!\n",
    "\n",
    "## Simple Workflow:\n",
    "1. Define your dataclass\n",
    "2. Create a widget: `widget = spytial.dataclass_widget(MyClass)`\n",
    "3. Use the visual interface to build data and click export\n",
    "4. Get your dataclass instantly: `instance = widget.value`\n",
    "\n",
    "The widget uses direct JavaScript-to-Python communication via postMessage - no file downloads or manual JSON handling needed!"
   ]
  },
  {
   "cell_type": "code",
   "execution_count": 9,
   "id": "3b96f802",
   "metadata": {},
   "outputs": [],
   "source": [
    "# Setup and imports\n",
    "import sys\n",
    "import os\n",
    "sys.path.insert(0, os.path.abspath('..'))\n",
    "\n",
    "import spytial\n",
    "from dataclasses import dataclass, field, is_dataclass\n",
    "from typing import List, Optional\n",
    "\n",
    "import ipywidgets"
   ]
  },
  {
   "cell_type": "markdown",
   "id": "c404dc1d",
   "metadata": {},
   "source": [
    "## Step 1: Define Your Dataclass"
   ]
  },
  {
   "cell_type": "code",
   "execution_count": 10,
   "id": "ee1524ef",
   "metadata": {},
   "outputs": [],
   "source": [
    "@dataclass\n",
    "@spytial.orientation(selector='name', directions=['above'])\n",
    "class Person:\n",
    "    name: str = \"\"\n",
    "    age: int = 0\n",
    "    email: str = \"\"\n",
    "    "
   ]
  },
  {
   "cell_type": "markdown",
   "id": "ef74ebc2",
   "metadata": {},
   "source": [
    "## Step 2: Create the Widget"
   ]
  },
  {
   "cell_type": "code",
   "execution_count": 11,
   "id": "10c47942",
   "metadata": {},
   "outputs": [
    {
     "data": {
      "application/vnd.jupyter.widget-view+json": {
       "model_id": "8f8f142bd0384b5996ee5c441515df40",
       "version_major": 2,
       "version_minor": 0
      },
      "text/plain": [
       "VBox(children=(HTML(value='<h3>Person Builder</h3>'), HTML(value='\\n                \\n                <script>…"
      ]
     },
     "execution_count": 11,
     "metadata": {},
     "output_type": "execute_result"
    }
   ],
   "source": [
    "# Create the widget with automatic value tracking\n",
    "person_widget = spytial.dataclass_widget(Person)\n",
    "\n",
    "person_widget"
   ]
  },
  {
   "cell_type": "markdown",
   "id": "ff0ed424",
   "metadata": {},
   "source": [
    "## Step 3: Get Your Built Dataclass"
   ]
  },
  {
   "cell_type": "code",
   "execution_count": 12,
   "id": "150c5200",
   "metadata": {},
   "outputs": [
    {
     "name": "stdout",
     "output_type": "stream",
     "text": [
      "⏳ No data captured yet.\n",
      "Steps to get your dataclass:\n",
      "1. Use the visual interface above\n",
      "2. Build your person data\n",
      "3. Click 'Export JSON' button\n",
      "4. Run this cell again - widget.value will be automatically updated!\n",
      "\n",
      "💡 The widget continuously watches for exports and updates the value.\n"
     ]
    }
   ],
   "source": [
    "# Get the automatically tracked value\n",
    "current_person = person_widget.value\n",
    "\n",
    "if current_person:\n",
    "    print(\"🎉 Success! Widget automatically tracked your data:\")\n",
    "    print(f\"Name: {current_person.name}\")\n",
    "    print(f\"Age: {current_person.age}\")\n",
    "    print(f\"Email: {current_person.email}\")\n",
    "    print(f\"Type: {type(current_person)}\")\n",
    "    print(f\"Is Person instance: {isinstance(current_person, Person)}\")\n",
    "    \n",
    "    # The instance is ready to use\n",
    "    print(f\"\\n✅ Your dataclass instance 'current_person' is ready!\")\n",
    "    \n",
    "else:\n",
    "    print(\"⏳ No data captured yet.\")\n",
    "    print(\"Steps to get your dataclass:\")\n",
    "    print(\"1. Use the visual interface above\")\n",
    "    print(\"2. Build your person data\")\n",
    "    print(\"3. Click 'Export JSON' button\")\n",
    "    print(\"4. Run this cell again - widget.value will be automatically updated!\")\n",
    "    print(\"\\n💡 The widget continuously watches for exports and updates the value.\")"
   ]
  },
  {
   "cell_type": "markdown",
   "id": "63af9ae8",
   "metadata": {},
   "source": [
    "## That's It! Direct Communication\n",
    "\n",
    "You've successfully built a dataclass instance with **direct postMessage communication**! The workflow is:\n",
    "\n",
    "1. `widget = spytial.dataclass_widget(MyClass)` - Create widget \n",
    "2. Use the visual interface (iframe with full CDN access)\n",
    "3. Click \"Export JSON\" when you've built your data\n",
    "4. `instance = widget.value` - Get your dataclass instantly!\n",
    "\n",
    "## Key Features:\n",
    "- **Iframe rendering** - Full access to external CDNs and resources\n",
    "- **Direct communication** - postMessage from iframe to Python widget\n",
    "- **Automatic conversion** - JSON automatically becomes dataclass instances  \n",
    "- **Instant updates** - `widget.value` updates immediately on export\n",
    "- **No file prompts** - No browser downloads or file system access needed!\n",
    "\n",
    "The widget uses JavaScript postMessage to send data directly from the iframe to the Python widget!"
   ]
  },
  {
   "cell_type": "code",
   "execution_count": 13,
   "id": "bb7140c2",
   "metadata": {},
   "outputs": [
    {
     "name": "stdout",
     "output_type": "stream",
     "text": [
      "Widget created successfully\n"
     ]
    }
   ],
   "source": [
    "# Quick test of widget creation\n",
    "test_widget = spytial.dataclass_widget(Person)\n",
    "print(\"Widget created successfully\")"
   ]
  },
  {
   "cell_type": "code",
   "execution_count": 14,
   "id": "f4428774",
   "metadata": {},
   "outputs": [
    {
     "name": "stdout",
     "output_type": "stream",
     "text": [
      "🔍 Real-time value monitoring...\n",
      "Run this cell multiple times after exporting to see automatic updates!\n",
      "⏰ 09:32:40: No value yet - export from interface above\n",
      "⏰ 09:32:41: No value yet - export from interface above\n",
      "⏰ 09:32:41: No value yet - export from interface above\n",
      "⏰ 09:32:42: No value yet - export from interface above\n",
      "\n",
      "💡 widget.value = None\n",
      "The value updates automatically when you export from the interface!\n",
      "⏰ 09:32:42: No value yet - export from interface above\n",
      "\n",
      "💡 widget.value = None\n",
      "The value updates automatically when you export from the interface!\n"
     ]
    }
   ],
   "source": [
    "# Real-time value checking demonstration\n",
    "import time\n",
    "\n",
    "print(\"🔍 Real-time value monitoring...\")\n",
    "print(\"Run this cell multiple times after exporting to see automatic updates!\")\n",
    "\n",
    "# Check widget value multiple times\n",
    "for i in range(3):\n",
    "    current_value = person_widget.value\n",
    "    timestamp = time.strftime('%H:%M:%S')\n",
    "    \n",
    "    if current_value:\n",
    "        print(f\"⏰ {timestamp}: Found Person(name='{current_value.name}', age={current_value.age})\")\n",
    "    else:\n",
    "        print(f\"⏰ {timestamp}: No value yet - export from interface above\")\n",
    "    \n",
    "    if i < 2:  # Don't sleep on last iteration\n",
    "        time.sleep(1)\n",
    "\n",
    "print(f\"\\n💡 widget.value = {person_widget.value}\")\n",
    "print(\"The value updates automatically when you export from the interface!\")"
   ]
  },
  {
   "cell_type": "code",
   "execution_count": 15,
   "id": "779aa72a",
   "metadata": {},
   "outputs": [
    {
     "name": "stdout",
     "output_type": "stream",
     "text": [
      "Creating widget...\n",
      "✅ Widget created successfully!\n",
      "Widget ID: 4409465056\n",
      "Widget in global registry: False\n",
      "✅ Widget created successfully!\n",
      "Widget ID: 4409465056\n",
      "Widget in global registry: False\n"
     ]
    }
   ],
   "source": [
    "# Test the fixed postMessage widget with debugging\n",
    "print(\"Creating widget...\")\n",
    "try:\n",
    "    debug_widget = spytial.dataclass_widget(Person)\n",
    "    print(\"✅ Widget created successfully!\")\n",
    "    print(f\"Widget ID: {debug_widget._widget_id}\")\n",
    "    print(f\"Widget in global registry: {'_spytial_widgets' in globals() and str(debug_widget._widget_id) in globals().get('_spytial_widgets', {})}\")\n",
    "    debug_widget\n",
    "except Exception as e:\n",
    "    print(f\"❌ Error creating widget: {e}\")\n",
    "    import traceback\n",
    "    traceback.print_exc()"
   ]
  },
  {
   "cell_type": "code",
   "execution_count": 16,
   "id": "7fe29201",
   "metadata": {},
   "outputs": [
    {
     "ename": "NameError",
     "evalue": "name 'fixed_widget' is not defined",
     "output_type": "error",
     "traceback": [
      "\u001b[31m---------------------------------------------------------------------------\u001b[39m",
      "\u001b[31mNameError\u001b[39m                                 Traceback (most recent call last)",
      "\u001b[36mCell\u001b[39m\u001b[36m \u001b[39m\u001b[32mIn[16]\u001b[39m\u001b[32m, line 2\u001b[39m\n\u001b[32m      1\u001b[39m \u001b[38;5;66;03m# Check widget value (no file downloads needed!)\u001b[39;00m\n\u001b[32m----> \u001b[39m\u001b[32m2\u001b[39m \u001b[38;5;28mprint\u001b[39m(\u001b[33m\"\u001b[39m\u001b[33mCurrent value:\u001b[39m\u001b[33m\"\u001b[39m, \u001b[43mfixed_widget\u001b[49m.value)\n\u001b[32m      3\u001b[39m \u001b[38;5;28;01mif\u001b[39;00m fixed_widget.value:\n\u001b[32m      4\u001b[39m     \u001b[38;5;28mprint\u001b[39m(\u001b[33m\"\u001b[39m\u001b[33m✅ Direct export worked!\u001b[39m\u001b[33m\"\u001b[39m)\n",
      "\u001b[31mNameError\u001b[39m: name 'fixed_widget' is not defined"
     ]
    }
   ],
   "source": [
    "# Check widget value (no file downloads needed!)\n",
    "print(\"Current value:\", fixed_widget.value)\n",
    "if fixed_widget.value:\n",
    "    print(\"✅ Direct export worked!\")\n",
    "    print(f\"Person: {fixed_widget.value}\")\n",
    "else:\n",
    "    print(\"💡 No value yet - use the interface above and click 'Export JSON'\")\n",
    "    print(\"The value will update instantly with no file prompts!\")"
   ]
  }
 ],
 "metadata": {
  "kernelspec": {
   "display_name": "z3env",
   "language": "python",
   "name": "python3"
  },
  "language_info": {
   "codemirror_mode": {
    "name": "ipython",
    "version": 3
   },
   "file_extension": ".py",
   "mimetype": "text/x-python",
   "name": "python",
   "nbconvert_exporter": "python",
   "pygments_lexer": "ipython3",
   "version": "3.12.10"
  }
 },
 "nbformat": 4,
 "nbformat_minor": 5
}
