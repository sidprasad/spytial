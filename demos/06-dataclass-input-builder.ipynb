{
 "cells": [
  {
   "cell_type": "markdown",
   "id": "fef28175",
   "metadata": {},
   "source": [
    "# sPyTial Dataclass Input Builder Demo\n",
    "\n",
    "This notebook demonstrates **pure Jupyter widget interfaces** for building dataclass instances interactively. Just like `spytial.diagram()` displays visualizations directly in the notebook, the dataclass widget displays interactive interfaces inline.\n",
    "\n",
    "## Widget-First Approach:\n",
    "This demo uses **ipywidgets-based interfaces** that provide native Jupyter interactivity for building dataclass instances.\n",
    "\n",
    "## Key Features:\n",
    "- **Interactive widget display** - full widget interface in notebook cells\n",
    "- **Native Jupyter integration** - proper widget rendering with ipywidgets\n",
    "- **No fallback code** - pure widget implementation only\n",
    "- **Direct result access** - built instances accessible via `widget.value`\n",
    "- **Spatial annotations** for intuitive data construction\n",
    "\n",
    "Perfect for interactive data building with immediate feedback!"
   ]
  },
  {
   "cell_type": "code",
   "execution_count": 4,
   "id": "3b96f802",
   "metadata": {},
   "outputs": [],
   "source": [
    "# Setup and imports\n",
    "import sys\n",
    "import os\n",
    "sys.path.insert(0, os.path.abspath('..'))\n",
    "\n",
    "import spytial\n",
    "from dataclasses import dataclass, field, is_dataclass\n",
    "from typing import List, Optional"
   ]
  },
  {
   "cell_type": "markdown",
   "id": "c404dc1d",
   "metadata": {},
   "source": [
    "## Simple Dataclass Widget Example\n",
    "\n",
    "Let's start with a simple dataclass and create a widget for building instances:"
   ]
  },
  {
   "cell_type": "code",
   "execution_count": 5,
   "id": "ee1524ef",
   "metadata": {},
   "outputs": [],
   "source": [
    "@dataclass\n",
    "@spytial.orientation(selector='name', directions=['above'])\n",
    "@spytial.atomColor(selector='name', value='blue')\n",
    "class Person:\n",
    "    name: str = \"\"\n",
    "    age: int = 0\n",
    "    email: str = \"\"\n",
    "    "
   ]
  },
  {
   "cell_type": "markdown",
   "id": "ef74ebc2",
   "metadata": {},
   "source": [
    "## Create Inline Interface (VS Code Compatible)\n",
    "\n",
    "Create an inline HTML interface for building Person instances (works reliably in VS Code):"
   ]
  },
  {
   "cell_type": "code",
   "execution_count": 6,
   "id": "10c47942",
   "metadata": {},
   "outputs": [
    {
     "name": "stdout",
     "output_type": "stream",
     "text": [
      "Creating Person input widget...\n",
      "Widget created successfully!\n",
      "\n",
      "How it works:\n",
      "1. Interactive widget displays below\n",
      "2. Build your person data in the HTML interface\n",
      "3. Click 'Export JSON' or 'Copy JSON'\n",
      "4. Paste the JSON in the text field\n",
      "5. Click 'Build from JSON' button\n",
      "6. Access result with: person_widget.value\n"
     ]
    },
    {
     "data": {
      "application/vnd.jupyter.widget-view+json": {
       "model_id": "28fe4bba2dbc4224b6a2b742c9ee7d00",
       "version_major": 2,
       "version_minor": 0
      },
      "text/plain": [
       "VBox(children=(HTML(value='<h3>🏗️ Person Input Builder</h3>'), HTML(value='<!DOCTYPE html>\\n<html lang=\"en\">\\n…"
      ]
     },
     "execution_count": 6,
     "metadata": {},
     "output_type": "execute_result"
    }
   ],
   "source": [
    "# Create the working dataclass widget\n",
    "print(\"Creating Person input widget...\")\n",
    "\n",
    "# Create the widget (pure widget approach, no fallbacks)\n",
    "person_widget = spytial.dataclass_widget(Person)\n",
    "print(\"Widget created successfully!\")\n",
    "print(\"\\nHow it works:\")\n",
    "print(\"1. Interactive widget displays below\")\n",
    "print(\"2. Build your person data in the HTML interface\")\n",
    "print(\"3. Click 'Export JSON' or 'Copy JSON'\")  \n",
    "print(\"4. Paste the JSON in the text field\")\n",
    "print(\"5. Click 'Build from JSON' button\")\n",
    "print(\"6. Access result with: person_widget.value\")\n",
    "\n",
    "# Display the working widget\n",
    "person_widget"
   ]
  },
  {
   "cell_type": "markdown",
   "id": "ff0ed424",
   "metadata": {},
   "source": [
    "## Convert JSON to Dataclass Instance\n",
    "\n",
    "After using the interface above, copy the JSON and convert it to a dataclass instance:"
   ]
  },
  {
   "cell_type": "code",
   "execution_count": 7,
   "id": "150c5200",
   "metadata": {},
   "outputs": [
    {
     "name": "stdout",
     "output_type": "stream",
     "text": [
      "Checking widget results...\n",
      "No data built yet.\n",
      "Use the widget above to build data first!\n",
      "   1. Use the HTML interface to build your person data\n",
      "   2. Click 'Export JSON' or 'Copy JSON'\n",
      "   3. Paste the JSON in the text field below the interface\n",
      "   4. Click 'Build from JSON' button\n",
      "   5. Run this cell again to see the result\n",
      "\n",
      "==================================================\n",
      "Alternative: Direct JSON conversion example\n",
      "\n",
      "Direct conversion result:\n",
      "   Person: Person(name='John Doe', age=30, email='john@example.com')\n",
      "   Name: John Doe\n",
      "   Age: 30\n",
      "   Email: john@example.com\n",
      "\n",
      "Widget approach provides interactive building!\n"
     ]
    }
   ],
   "source": [
    "# Access the built person from the widget\n",
    "print(\"Checking widget results...\")\n",
    "\n",
    "# Check widget for built dataclass instance\n",
    "if hasattr(person_widget, 'value') and person_widget.value:\n",
    "    person_from_widget = person_widget.value\n",
    "    print(\"Built from widget:\")\n",
    "    print(f\"   Person: {person_from_widget}\")\n",
    "    print(f\"   Name: {person_from_widget.name}\")\n",
    "    print(f\"   Age: {person_from_widget.age}\")\n",
    "    print(f\"   Email: {person_from_widget.email}\")\n",
    "    print(f\"   Type: {type(person_from_widget)}\")\n",
    "    print(f\"   Is Person instance: {isinstance(person_from_widget, Person)}\")\n",
    "else:\n",
    "    print(\"No data built yet.\")\n",
    "    print(\"Use the widget above to build data first!\")\n",
    "    print(\"   1. Use the HTML interface to build your person data\")\n",
    "    print(\"   2. Click 'Export JSON' or 'Copy JSON'\")\n",
    "    print(\"   3. Paste the JSON in the text field below the interface\")\n",
    "    print(\"   4. Click 'Build from JSON' button\")\n",
    "    print(\"   5. Run this cell again to see the result\")\n",
    "\n",
    "print(\"\\n\" + \"=\"*50)\n",
    "print(\"Alternative: Direct JSON conversion example\")\n",
    "\n",
    "# Example of direct JSON conversion\n",
    "person_json = {\n",
    "    \"name\": \"John Doe\",\n",
    "    \"age\": 30, \n",
    "    \"email\": \"john@example.com\"\n",
    "}\n",
    "\n",
    "person = spytial.json_to_dataclass(person_json, Person)\n",
    "print(f\"\\nDirect conversion result:\")\n",
    "print(f\"   Person: {person}\")\n",
    "print(f\"   Name: {person.name}\")\n",
    "print(f\"   Age: {person.age}\")\n",
    "print(f\"   Email: {person.email}\")\n",
    "\n",
    "print(\"\\nWidget approach provides interactive building!\")"
   ]
  },
  {
   "cell_type": "markdown",
   "id": "92f357e1",
   "metadata": {},
   "source": [
    "## Complex Nested Dataclass Widget\n",
    "\n",
    "Let's create a more complex example with nested dataclasses and list fields:"
   ]
  },
  {
   "cell_type": "code",
   "execution_count": null,
   "id": "a0e3d915",
   "metadata": {},
   "outputs": [],
   "source": [
    "@dataclass\n",
    "@spytial.atomColor(selector='city', value='green')\n",
    "class Address:\n",
    "    street: str = \"\"\n",
    "    city: str = \"\"\n",
    "    state: str = \"\"\n",
    "\n",
    "@dataclass\n",
    "@spytial.orientation(selector='name', directions=['above'])\n",
    "@spytial.group(field='skills', groupOn=0, addToGroup=1)\n",
    "class Employee:\n",
    "    name: str = \"\"\n",
    "    department: str = \"\"\n",
    "    skills: List[str] = field(default_factory=list)\n",
    "    address: Optional[Address] = None\n",
    "    salary: float = 0.0\n",
    "    \n",
    "print(\"Defined Employee with nested Address and skills list\")"
   ]
  },
  {
   "cell_type": "code",
   "execution_count": null,
   "id": "151d011b",
   "metadata": {},
   "outputs": [],
   "source": [
    "# Create working widget for complex Employee dataclass\n",
    "print(\"Creating Employee widget...\")\n",
    "\n",
    "# Create the widget for Employee (pure widget approach)\n",
    "employee_widget = spytial.dataclass_widget(Employee)\n",
    "print(\"Employee widget created successfully!\")\n",
    "print(\"\\nThis widget handles:\")\n",
    "print(\"  • Nested Address dataclass\")\n",
    "print(\"  • Skills list (multiple strings)\")\n",
    "print(\"  • Various field types (str, float, Optional)\")\n",
    "print(\"  • Spatial annotations (@group, @orientation)\")\n",
    "print(\"\\nComplete workflow in one widget!\")\n",
    "\n",
    "# Display the working widget\n",
    "employee_widget"
   ]
  },
  {
   "cell_type": "markdown",
   "id": "bfdc6461",
   "metadata": {},
   "source": [
    "## Access the Complex Instance\n",
    "\n",
    "Check the built employee with nested structures:"
   ]
  },
  {
   "cell_type": "code",
   "execution_count": null,
   "id": "e5167d8b",
   "metadata": {},
   "outputs": [],
   "source": [
    "# Access the built employee from the widget\n",
    "print(\"Checking Employee widget results...\")\n",
    "\n",
    "# Method 1: Direct widget access\n",
    "try:\n",
    "    if 'employee_widget' in locals() and hasattr(employee_widget, 'value'):\n",
    "        employee_from_widget = employee_widget.value\n",
    "        if employee_from_widget:\n",
    "            print(\"Built from Employee widget:\")\n",
    "            print(f\"   Employee: {employee_from_widget}\")\n",
    "            print(f\"   Name: {employee_from_widget.name}\")\n",
    "            print(f\"   Department: {employee_from_widget.department}\")\n",
    "            print(f\"   Skills: {employee_from_widget.skills}\")\n",
    "            print(f\"   Salary: ${employee_from_widget.salary:,.2f}\")\n",
    "            \n",
    "            if employee_from_widget.address:\n",
    "                print(f\"   Address: {employee_from_widget.address.street}, {employee_from_widget.address.city}\")\n",
    "                print(f\"   Address type: {type(employee_from_widget.address)}\")\n",
    "            else:\n",
    "                print(\"   Address: Not provided\")\n",
    "                \n",
    "            print(f\"   Is Employee instance: {isinstance(employee_from_widget, Employee)}\")\n",
    "        else:\n",
    "            print(\"Widget exists but no employee built yet.\")\n",
    "    else:\n",
    "        print(\"Widget not available\")\n",
    "except Exception as e:\n",
    "    print(f\"Widget access error: {e}\")\n",
    "\n",
    "print(\"\\n\" + \"=\"*50)  \n",
    "print(\"Alternative: Manual Employee example\")\n",
    "\n",
    "# Method 2: Manual example\n",
    "employee_json = {\n",
    "    \"name\": \"Jane Smith\",\n",
    "    \"department\": \"Engineering\",\n",
    "    \"skills\": [\"Python\", \"Data Science\", \"Machine Learning\"],\n",
    "    \"address\": {\n",
    "        \"street\": \"123 Tech Avenue\",\n",
    "        \"city\": \"San Francisco\", \n",
    "        \"state\": \"CA\"\n",
    "    },\n",
    "    \"salary\": 125000.0\n",
    "}\n",
    "\n",
    "employee = spytial.json_to_dataclass(employee_json, Employee)\n",
    "print(f\"\\nManual conversion result:\")\n",
    "print(f\"   Employee: {employee}\")\n",
    "print(f\"   Department: {employee.department}\")\n",
    "print(f\"   Skills: {employee.skills}\")\n",
    "print(f\"   Address city: {employee.address.city}\")\n",
    "\n",
    "print(\"\\nWidget provides the same result with visual interface!\")"
   ]
  },
  {
   "cell_type": "markdown",
   "id": "383f0dea",
   "metadata": {},
   "source": [
    "## Direct JSON to Dataclass Conversion\n",
    "\n",
    "For programmatic use, you can also convert JSON data directly to dataclass instances:"
   ]
  },
  {
   "cell_type": "code",
   "execution_count": null,
   "id": "4c9cd797",
   "metadata": {},
   "outputs": [],
   "source": [
    "# Example 1: Simple Person from JSON\n",
    "person_json = {\n",
    "    \"name\": \"Alice Smith\",\n",
    "    \"age\": 30,\n",
    "    \"email\": \"alice@example.com\"\n",
    "}\n",
    "\n",
    "person_from_json = spytial.json_to_dataclass(person_json, Person)\n",
    "print(f\"Converted person: {person_from_json}\")\n",
    "print(f\"  Type: {type(person_from_json)}\")\n",
    "\n",
    "# Example 2: Complex Employee with nested Address\n",
    "employee_json = {\n",
    "    \"name\": \"Bob Johnson\",\n",
    "    \"department\": \"Engineering\",\n",
    "    \"skills\": [\"Python\", \"Machine Learning\", \"Data Analysis\"],\n",
    "    \"address\": {\n",
    "        \"street\": \"123 Tech Street\",\n",
    "        \"city\": \"San Francisco\",\n",
    "        \"state\": \"CA\"\n",
    "    },\n",
    "    \"salary\": 125000.0\n",
    "}\n",
    "\n",
    "employee_from_json = spytial.json_to_dataclass(employee_json, Employee)\n",
    "print(f\"\\nConverted employee: {employee_from_json}\")\n",
    "print(f\"  Skills: {employee_from_json.skills}\")\n",
    "print(f\"  Address city: {employee_from_json.address.city}\")\n",
    "print(f\"  Address type: {type(employee_from_json.address)}\")"
   ]
  },
  {
   "cell_type": "code",
   "execution_count": null,
   "id": "04034d9b",
   "metadata": {},
   "outputs": [],
   "source": [
    "# Example 3: Convert from JSON string\n",
    "json_string = '''\n",
    "{\n",
    "    \"name\": \"Carol Davis\",\n",
    "    \"department\": \"Marketing\", \n",
    "    \"skills\": [\"Communication\", \"Strategy\", \"Analytics\"],\n",
    "    \"salary\": 95000.0\n",
    "}\n",
    "'''\n",
    "\n",
    "employee_from_string = spytial.json_to_dataclass(json_string, Employee)\n",
    "print(f\"From JSON string: {employee_from_string}\")\n",
    "print(f\"  Department: {employee_from_string.department}\")\n",
    "print(f\"  Skills count: {len(employee_from_string.skills)}\")\n",
    "\n",
    "# Example 4: Handle missing optional fields gracefully\n",
    "minimal_json = {\"name\": \"David Kim\", \"department\": \"Sales\"}\n",
    "minimal_employee = spytial.json_to_dataclass(minimal_json, Employee)\n",
    "print(f\"\\nMinimal data: {minimal_employee}\")\n",
    "print(f\"  Address: {minimal_employee.address}\")  # Should be None\n",
    "print(f\"  Skills: {minimal_employee.skills}\")    # Should be empty list\n",
    "print(f\"  Salary: {minimal_employee.salary}\")    # Should be 0.0"
   ]
  },
  {
   "cell_type": "markdown",
   "id": "f189ef4c",
   "metadata": {},
   "source": [
    "## Programmatic JSON Conversion\n",
    "\n",
    "You can also convert existing JSON data directly without using the visual interface:"
   ]
  },
  {
   "cell_type": "code",
   "execution_count": null,
   "id": "6c365adf",
   "metadata": {},
   "outputs": [],
   "source": [
    "# Direct JSON to dataclass conversion (programmatic approach)\n",
    "\n",
    "# Example 1: Simple conversion\n",
    "simple_data = {\"name\": \"Alice\", \"age\": 25, \"email\": \"alice@example.com\"}\n",
    "alice = spytial.json_to_dataclass(simple_data, Person)\n",
    "print(f\"Direct conversion: {alice}\")\n",
    "\n",
    "# Example 2: From JSON string\n",
    "json_str = '{\"name\": \"Bob\", \"age\": 35, \"email\": \"bob@company.com\"}'\n",
    "bob = spytial.json_to_dataclass(json_str, Person)\n",
    "print(f\"From JSON string: {bob}\")\n",
    "\n",
    "# Example 3: Minimal data (uses defaults)\n",
    "minimal = {\"name\": \"Charlie\"}\n",
    "charlie = spytial.json_to_dataclass(minimal, Person)\n",
    "print(f\"Minimal data: {charlie}\")\n",
    "print(f\"   Age default: {charlie.age}\")\n",
    "print(f\"   Email default: '{charlie.email}'\")\n",
    "\n",
    "print(\"\\nAll these approaches work:\")\n",
    "print(\"  Visual interface → Copy JSON → Convert\")\n",
    "print(\"  Direct JSON data → Convert\") \n",
    "print(\"  JSON string → Convert\")\n",
    "print(\"\\nThe visual interface is great for building complex nested structures!\")"
   ]
  },
  {
   "cell_type": "markdown",
   "id": "04191d1c",
   "metadata": {},
   "source": [
    "## Summary: Pure Widget Approach\n",
    "\n",
    "sPyTial provides **interactive Jupyter widgets** for building dataclass instances with native notebook integration:\n",
    "\n",
    "### Widget-First Interface \n",
    "```python\n",
    "widget = spytial.dataclass_widget(MyDataclass)\n",
    "# Use interactive widget → Build data → Access with widget.value\n",
    "```\n",
    "**Benefits:** Native Jupyter integration, interactive interface, direct result access\n",
    "\n",
    "### Direct JSON Conversion\n",
    "```python\n",
    "instance = spytial.json_to_dataclass(json_data, MyDataclass)\n",
    "```\n",
    "**Benefits:** Programmatic, fast, great for existing JSON data\n",
    "\n",
    "---\n",
    "\n",
    "### Pure Widget Workflow:\n",
    "1. **Create widget** → `widget = spytial.dataclass_widget(MyClass)`\n",
    "2. **Use interface** → Interactive HTML interface within the widget\n",
    "3. **Build data** → Use visual interface with spatial layout\n",
    "4. **Copy JSON** → Click \"Copy JSON\" or \"Export JSON\"\n",
    "5. **Build instance** → Paste JSON and click \"Build from JSON\"\n",
    "6. **Access result** → `instance = widget.value`\n",
    "\n",
    "### Key Widget Features:\n",
    "- **Native widget rendering** - proper ipywidgets integration\n",
    "- **Interactive interface** - real-time building and validation\n",
    "- **Direct result access** - `widget.value` gives you the built instance\n",
    "- **Spatial annotations** work perfectly in widget interface\n",
    "- **Copy/Export functionality** for JSON extraction\n",
    "- **Complex nested structures** fully supported\n",
    "\n",
    "**Perfect for interactive data building** - pure widget approach with immediate feedback!"
   ]
  }
 ],
 "metadata": {
  "kernelspec": {
   "display_name": "z3env",
   "language": "python",
   "name": "python3"
  },
  "language_info": {
   "codemirror_mode": {
    "name": "ipython",
    "version": 3
   },
   "file_extension": ".py",
   "mimetype": "text/x-python",
   "name": "python",
   "nbconvert_exporter": "python",
   "pygments_lexer": "ipython3",
   "version": "3.12.10"
  }
 },
 "nbformat": 4,
 "nbformat_minor": 5
}
