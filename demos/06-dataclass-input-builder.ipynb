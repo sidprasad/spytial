{
 "cells": [
  {
   "cell_type": "markdown",
   "id": "fef28175",
   "metadata": {},
   "source": [
    "# sPyTial Dataclass Input Builder Demo\n",
    "\n",
    "This notebook demonstrates the dataclass input builder functionality in sPyTial. The input builder allows you to:\n",
    "\n",
    "1. Define a dataclass with spatial annotations\n",
    "2. Generate an interactive HTML interface for building instances of that dataclass\n",
    "3. Collect spatial constraint specifications from annotated dataclasses\n",
    "\n",
    "The input builder is the \"input analog\" to `spytial.diagram()` - while `diagram()` visualizes existing data, the input builder creates interfaces for building new data structures."
   ]
  },
  {
   "cell_type": "code",
   "execution_count": null,
   "id": "3b96f802",
   "metadata": {},
   "outputs": [],
   "source": [
    "# First, ensure the package is installed in development mode\n",
    "import sys\n",
    "import os\n",
    "sys.path.insert(0, os.path.abspath('..'))\n",
    "\n",
    "import spytial\n",
    "from dataclasses import dataclass, field\n",
    "from typing import List, Optional"
   ]
  },
  {
   "cell_type": "markdown",
   "id": "c404dc1d",
   "metadata": {},
   "source": [
    "## Basic Dataclass Definition\n",
    "\n",
    "Let's start with a simple dataclass representing a person with spatial annotations:"
   ]
  },
  {
   "cell_type": "code",
   "execution_count": null,
   "id": "ee1524ef",
   "metadata": {},
   "outputs": [],
   "source": [
    "@dataclass\n",
    "@spytial.orientation(selector='name', directions=['above'])\n",
    "@spytial.atomColor(selector='name', value='blue')\n",
    "class Person:\n",
    "    name: str = \"\"\n",
    "    age: int = 0\n",
    "    email: str = \"\"\n",
    "    \n",
    "print(f\"Defined Person dataclass: {Person}\")\n",
    "print(f\"Fields: {[f.name for f in Person.__dataclass_fields__.values()]}\")"
   ]
  },
  {
   "cell_type": "markdown",
   "id": "ef74ebc2",
   "metadata": {},
   "source": [
    "## Generate Input Builder Interface\n",
    "\n",
    "Now we can use the `spytial.build_input()` function to create an interactive interface for building Person instances:"
   ]
  },
  {
   "cell_type": "code",
   "execution_count": null,
   "id": "10c47942",
   "metadata": {},
   "outputs": [],
   "source": [
    "# Generate input builder HTML file\n",
    "html_file = spytial.build_input(\n",
    "    Person, \n",
    "    title=\"Person Input Builder\"\n",
    ")\n",
    "\n",
    "print(f\"Generated input builder: {html_file}\")\n",
    "print(f\"File exists: {os.path.exists(html_file)}\")\n",
    "\n"
   ]
  },
  {
   "cell_type": "markdown",
   "id": "ff0ed424",
   "metadata": {},
   "source": [
    "## Alternative API: input_builder()\n",
    "\n",
    "You can also use the convenience function `spytial.input_builder()` which mirrors the `spytial.diagram()` API:"
   ]
  },
  {
   "cell_type": "code",
   "execution_count": null,
   "id": "150c5200",
   "metadata": {},
   "outputs": [],
   "source": [
    "# Using the convenience function\n",
    "html_file2 = spytial.input_builder(Person, auto_open=False)\n",
    "print(f\"Generated with input_builder(): {html_file2}\")"
   ]
  },
  {
   "cell_type": "markdown",
   "id": "92f357e1",
   "metadata": {},
   "source": [
    "## Complex Dataclass with Nested Structures\n",
    "\n",
    "Let's create a more complex example with nested dataclasses and relationships:"
   ]
  },
  {
   "cell_type": "code",
   "execution_count": null,
   "id": "a0e3d915",
   "metadata": {},
   "outputs": [],
   "source": [
    "@dataclass\n",
    "@spytial.atomColor(selector='street', value='green')\n",
    "class Address:\n",
    "    street: str = \"\"\n",
    "    city: str = \"\"\n",
    "    state: str = \"\"\n",
    "    zip_code: str = \"\"\n",
    "\n",
    "@dataclass\n",
    "@spytial.orientation(selector='title', directions=['above'])\n",
    "@spytial.group(field='skills', groupOn=0, addToGroup=1)\n",
    "class Employee:\n",
    "    name: str = \"\"\n",
    "    title: str = \"\"\n",
    "    department: str = \"\"\n",
    "    skills: List[str] = field(default_factory=list)\n",
    "    address: Optional[Address] = None\n",
    "    salary: float = 0.0\n",
    "    \n",
    "print(f\"Defined Employee dataclass with nested Address\")\n",
    "print(f\"Employee fields: {list(Employee.__dataclass_fields__.keys())}\")\n",
    "print(f\"Address fields: {list(Address.__dataclass_fields__.keys())}\")"
   ]
  },
  {
   "cell_type": "code",
   "execution_count": null,
   "id": "151d011b",
   "metadata": {},
   "outputs": [],
   "source": [
    "# Generate input builder for the complex Employee dataclass\n",
    "employee_html = spytial.build_input(\n",
    "    Employee,\n",
    "    method='file',\n",
    "    auto_open=False,\n",
    "    title=\"Employee Input Builder - Complex Example\"\n",
    ")\n",
    "\n",
    "print(f\"Generated complex input builder: {employee_html}\")"
   ]
  },
  {
   "cell_type": "markdown",
   "id": "bfdc6461",
   "metadata": {},
   "source": [
    "## Inspecting Generated CnD Specs\n",
    "\n",
    "We can also look at the generated CnD specifications to understand how the annotations are being processed:"
   ]
  },
  {
   "cell_type": "code",
   "execution_count": null,
   "id": "e5167d8b",
   "metadata": {},
   "outputs": [],
   "source": [
    "# Import the internal functions to inspect the spec generation\n",
    "from spytial.dataclassbuilder import collect_dataclass_annotations, generate_cnd_spec\n",
    "\n",
    "# Collect annotations for Person\n",
    "person_annotations = collect_dataclass_annotations(Person)\n",
    "print(\"Person Annotations:\")\n",
    "print(person_annotations)\n",
    "\n",
    "print(\"\\n\" + \"=\"*50 + \"\\n\")\n",
    "\n",
    "# Generate CnD spec for Employee (with nested Address)\n",
    "employee_spec = generate_cnd_spec(Employee)\n",
    "print(\"Employee CnD Spec (YAML):\")\n",
    "print(employee_spec)"
   ]
  },
  {
   "cell_type": "markdown",
   "id": "383f0dea",
   "metadata": {},
   "source": [
    "## Tree Structure Example\n",
    "\n",
    "Let's create a tree node dataclass to show how recursive structures work with the input builder:"
   ]
  },
  {
   "cell_type": "code",
   "execution_count": null,
   "id": "4c9cd797",
   "metadata": {},
   "outputs": [],
   "source": [
    "from typing import List, Optional\n",
    "\n",
    "@dataclass\n",
    "@spytial.orientation(selector='value', directions=['above'])\n",
    "@spytial.group(field='children', groupOn=0, addToGroup=1)\n",
    "@spytial.atomColor(selector='value', value='red')\n",
    "class TreeNode:\n",
    "    value: str = \"\"\n",
    "    children: List['TreeNode'] = field(default_factory=list)\n",
    "    parent: Optional['TreeNode'] = None\n",
    "    \n",
    "    def __str__(self):\n",
    "        return f\"TreeNode(value='{self.value}', children={len(self.children)})\"\n",
    "\n",
    "print(f\"Defined TreeNode dataclass\")\n",
    "print(f\"TreeNode fields: {list(TreeNode.__dataclass_fields__.keys())}\")"
   ]
  },
  {
   "cell_type": "code",
   "execution_count": null,
   "id": "04034d9b",
   "metadata": {},
   "outputs": [],
   "source": [
    "# Generate input builder for TreeNode\n",
    "tree_html = spytial.build_input(\n",
    "    TreeNode,\n",
    "    method='file',\n",
    "    auto_open=False,\n",
    "    title=\"Tree Node Input Builder\"\n",
    ")\n",
    "\n",
    "print(f\"Generated tree input builder: {tree_html}\")\n",
    "\n",
    "# Inspect the tree annotations\n",
    "tree_annotations = collect_dataclass_annotations(TreeNode)\n",
    "print(\"\\nTreeNode Annotations:\")\n",
    "print(tree_annotations)"
   ]
  },
  {
   "cell_type": "markdown",
   "id": "f189ef4c",
   "metadata": {},
   "source": [
    "## Error Handling Examples\n",
    "\n",
    "Let's demonstrate error handling for classes that aren't dataclasses:"
   ]
  },
  {
   "cell_type": "code",
   "execution_count": null,
   "id": "6c365adf",
   "metadata": {},
   "outputs": [],
   "source": [
    "# Regular class (not a dataclass)\n",
    "class RegularClass:\n",
    "    def __init__(self, name):\n",
    "        self.name = name\n",
    "\n",
    "# This should raise an error\n",
    "try:\n",
    "    spytial.build_input(RegularClass)\n",
    "except ValueError as e:\n",
    "    print(f\"Expected error: {e}\")\n",
    "\n",
    "# Test with invalid method\n",
    "try:\n",
    "    spytial.build_input(Person, method='invalid')\n",
    "except ValueError as e:\n",
    "    print(f\"Expected error: {e}\")"
   ]
  },
  {
   "cell_type": "markdown",
   "id": "04191d1c",
   "metadata": {},
   "source": [
    "## Inline HTML Generation\n",
    "\n",
    "You can also generate the HTML content directly as a string instead of saving to a file:"
   ]
  },
  {
   "cell_type": "code",
   "execution_count": null,
   "id": "923ed870",
   "metadata": {},
   "outputs": [],
   "source": [
    "# Generate HTML content as string\n",
    "html_content = spytial.build_input(Person, method='inline')\n",
    "\n",
    "print(f\"Generated HTML content length: {len(html_content)} characters\")\n",
    "print(f\"Contains 'structured-input-graph': {'structured-input-graph' in html_content}\")\n",
    "print(f\"Contains CnD Core script: {'cnd-core' in html_content}\")\n",
    "\n",
    "# Show first 500 characters\n",
    "print(\"\\nFirst 500 characters:\")\n",
    "print(html_content[:500] + \"...\")"
   ]
  },
  {
   "cell_type": "markdown",
   "id": "993947ca",
   "metadata": {},
   "source": [
    "## Summary\n",
    "\n",
    "The sPyTial dataclass input builder provides:\n",
    "\n",
    "1. **`spytial.build_input(dataclass_type, ...)`** - Core function for generating input interfaces\n",
    "2. **`spytial.input_builder(dataclass_type, ...)`** - Convenience function mirroring `spytial.diagram()` API\n",
    "3. **Automatic annotation collection** - Recursively processes spatial annotations from dataclasses\n",
    "4. **Nested dataclass support** - Handles complex structures with nested dataclasses\n",
    "5. **CnD spec generation** - Converts annotations to YAML format for the input interface\n",
    "6. **Interactive HTML interface** - Uses the Cope and Drag input components for data building\n",
    "\n",
    "### Key Features:\n",
    "- Works with any `@dataclass` decorated class\n",
    "- Automatically identifies which dataclass is being built through type analysis\n",
    "- Supports all sPyTial spatial annotations (`@orientation`, `@group`, `@atomColor`, etc.)\n",
    "- Handles recursive and self-referential dataclass structures\n",
    "- Provides both file output and inline HTML generation\n",
    "- Integrates with existing sPyTial annotation system\n",
    "\n",
    "### API Design:\n",
    "```python\n",
    "# Primary API\n",
    "spytial.build_input(dataclass_type, method='file', auto_open=True, title=None)\n",
    "\n",
    "# Convenience API (mirrors spytial.diagram)\n",
    "spytial.input_builder(dataclass_type, **kwargs)\n",
    "```\n",
    "\n",
    "The input builder seamlessly integrates with sPyTial's existing annotation system and provides a natural \"input analog\" to the visualization functionality."
   ]
  }
 ],
 "metadata": {
  "language_info": {
   "name": "python"
  }
 },
 "nbformat": 4,
 "nbformat_minor": 5
}
