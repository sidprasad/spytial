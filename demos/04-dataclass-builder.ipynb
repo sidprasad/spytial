{
 "cells": [
  {
   "cell_type": "markdown",
   "id": "e32ea161",
   "metadata": {},
   "source": [
    "# Building Dataclasses Visually with sPyTial\n"
   ]
  },
  {
   "cell_type": "code",
   "execution_count": null,
   "id": "3d41cad1",
   "metadata": {},
   "outputs": [],
   "source": [
    "import sys\n",
    "from pathlib import Path\n",
    "\n",
    "# Add the parent directory to the Python path\n",
    "sys.path.append(str(Path().resolve().parent))\n",
    "\n",
    "from dataclasses import dataclass\n",
    "from typing import Optional\n",
    "from spytial import *"
   ]
  },
  {
   "cell_type": "markdown",
   "id": "d10b5b43",
   "metadata": {},
   "source": [
    "## Example 1: Simple Binary Tree\n",
    "\n",
    "Let's start with a classic example: a binary tree node.\n",
    "\n",
    "We'll define a `TreeNode` dataclass with:\n",
    "- A `value` field (integer)\n",
    "- `left` and `right` child references (optional TreeNodes)\n",
    "\n",
    "Then we'll use `dataclass_builder()` to create an instance visually."
   ]
  },
  {
   "cell_type": "code",
   "execution_count": null,
   "id": "a427a60b",
   "metadata": {},
   "outputs": [],
   "source": [
    "@dataclass\n",
    "@orientation(selector=\"{x, y : TreeNode | x.left = y}\", directions=[\"below\", \"left\"])\n",
    "class TreeNode:\n",
    "    value: int = 0\n",
    "    left: Optional['TreeNode'] = None\n",
    "    right: Optional['TreeNode'] = None"
   ]
  },
  {
   "cell_type": "code",
   "execution_count": null,
   "id": "ee379e6c",
   "metadata": {},
   "outputs": [],
   "source": [
    "t = TreeNode(left=None, right=None, value=17)\n",
    "evaluate(t)\n",
    "dataclass_builder(t, method=\"browser\")"
   ]
  },
  {
   "cell_type": "code",
   "execution_count": null,
   "id": "8acff40d",
   "metadata": {},
   "outputs": [],
   "source": [
    "# Example of what you might paste:\n",
    "# my_tree = TreeNode(\n",
    "#     value=42,\n",
    "#     left=TreeNode(value=21, left=None, right=None),\n",
    "#     right=TreeNode(value=84, left=None, right=None)\n",
    "# )\n",
    "\n",
    "# Paste your exported code here:"
   ]
  },
  {
   "cell_type": "markdown",
   "id": "c4562245",
   "metadata": {},
   "source": [
    "## Example 2: Person with Address\n",
    "\n",
    "Let's try a more practical example: a Person dataclass with a nested Address.\n",
    "\n",
    "This demonstrates:\n",
    "- Multiple dataclass types in one builder\n",
    "- Nested object references\n",
    "- Different field types (strings, integers, optional references)"
   ]
  },
  {
   "cell_type": "code",
   "execution_count": null,
   "id": "29a2b41c",
   "metadata": {},
   "outputs": [],
   "source": [
    "@dataclass\n",
    "@attribute(field=\"street\")\n",
    "class Address:\n",
    "    street: str = \"\"\n",
    "    city: str = \"\"\n",
    "    zip_code: str = \"\"\n",
    "\n",
    "@dataclass\n",
    "class Person:\n",
    "    name: str = \"\"\n",
    "    age: int = 0\n",
    "    address: Optional[Address] = None"
   ]
  },
  {
   "cell_type": "code",
   "execution_count": null,
   "id": "64379b96",
   "metadata": {},
   "outputs": [],
   "source": [
    "# Start with an empty Person\n",
    "dataclass_builder(Person())"
   ]
  },
  {
   "cell_type": "markdown",
   "id": "a32ca0fc",
   "metadata": {},
   "source": [
    "**Steps to build a Person with Address:**\n",
    "1. Edit the Person's `name` and `age` fields by clicking on them\n",
    "2. Create an Address node (using \"Add Node\" and selecting Address type if available, or by connecting to the address field)\n",
    "3. Edit the Address fields (`street`, `city`, `zip_code`)\n",
    "4. Connect the Person's `address` field to the Address node\n",
    "5. Export and paste the code below"
   ]
  },
  {
   "cell_type": "code",
   "execution_count": null,
   "id": "e4874aaa",
   "metadata": {},
   "outputs": [],
   "source": [
    "# Paste your Person instance here:"
   ]
  }
 ],
 "metadata": {
  "kernelspec": {
   "display_name": "z3env",
   "language": "python",
   "name": "python3"
  },
  "language_info": {
   "codemirror_mode": {
    "name": "ipython",
    "version": 3
   },
   "file_extension": ".py",
   "mimetype": "text/x-python",
   "name": "python",
   "nbconvert_exporter": "python",
   "pygments_lexer": "ipython3",
   "version": "3.12.10"
  }
 },
 "nbformat": 4,
 "nbformat_minor": 5
}
