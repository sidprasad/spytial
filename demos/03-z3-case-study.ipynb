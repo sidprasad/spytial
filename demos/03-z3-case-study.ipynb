{
 "cells": [
  {
   "cell_type": "code",
   "execution_count": 1,
   "id": "901d2a2e",
   "metadata": {},
   "outputs": [
    {
     "name": "stdout",
     "output_type": "stream",
     "text": [
      "Z3 Model:\n"
     ]
    },
    {
     "data": {
      "text/html": [
       "\n",
       "                <div style=\"border: 2px solid #007acc; border-radius: 8px; overflow: hidden;\">\n",
       "                    <iframe \n",
       "                        src=\"data:text/html;base64,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\" \n",
       "                        width=\"100%\" \n",
       "                        height=\"650px\" \n",
       "                        frameborder=\"0\"\n",
       "                        style=\"display: block;\">\n",
       "                    </iframe>\n",
       "                </div>\n",
       "                "
      ],
      "text/plain": [
       "<IPython.core.display.HTML object>"
      ]
     },
     "metadata": {},
     "output_type": "display_data"
    }
   ],
   "source": [
    "import sys\n",
    "from pathlib import Path\n",
    "\n",
    "# Add the parent directory to the Python path\n",
    "sys.path.append(str(Path().resolve().parent))\n",
    "\n",
    "from z3 import Int, Solver, sat\n",
    "from spytial import diagram\n",
    "from spytial.annotations import orientation, attribute\n",
    "\n",
    "# Define a simple Z3 problem\n",
    "x = Int('x')\n",
    "y = Int('y')\n",
    "s = Solver()\n",
    "s.add(x + y == 10, x > 0, y > 0)\n",
    "\n",
    "if s.check() == sat:  # Compare with z3.sat\n",
    "    z3_model = s.model()\n",
    "    print(\"Z3 Model:\")\n",
    "    \n",
    "    diagram(z3_model)\n",
    "else:\n",
    "    print(s.check())\n",
    "    print(\"No solution found.\")"
   ]
  },
  {
   "cell_type": "markdown",
   "id": "24cb4502",
   "metadata": {},
   "source": [
    "# But is this useful? Not really\n",
    "\n",
    "You can register a DataInstanceBuilder for Z3 that provides some directions on HOW things should be translated to boxes and arrows.\n",
    "\n"
   ]
  },
  {
   "cell_type": "code",
   "execution_count": 4,
   "id": "0ba49456",
   "metadata": {},
   "outputs": [
    {
     "name": "stdout",
     "output_type": "stream",
     "text": [
      "Skipping declaration y: b'ast is not an expression'\n",
      "Skipping declaration x: b'ast is not an expression'\n",
      "Error during data instance building: list indices must be integers or slices, not str\n",
      "Object: [y = 1, x = 9]\n"
     ]
    },
    {
     "data": {
      "text/html": [
       "\n",
       "                <div style=\"border: 2px solid #007acc; border-radius: 8px; overflow: hidden;\">\n",
       "                    <iframe \n",
       "                        src=\"data:text/html;base64,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\" \n",
       "                        width=\"100%\" \n",
       "                        height=\"650px\" \n",
       "                        frameborder=\"0\"\n",
       "                        style=\"display: block;\">\n",
       "                    </iframe>\n",
       "                </div>\n",
       "                "
      ],
      "text/plain": [
       "<IPython.core.display.HTML object>"
      ]
     },
     "metadata": {},
     "output_type": "display_data"
    }
   ],
   "source": [
    "from spytial.provider_system import DataInstanceProvider, data_provider\n",
    "from z3 import ModelRef\n",
    "\n",
    "@data_provider(priority=10)\n",
    "class ArithmeticTheoryProvider(DataInstanceProvider):\n",
    "    \"\"\"Custom provider for Z3 models in the arithmetic theory.\"\"\"\n",
    "\n",
    "    def can_handle(self, obj):\n",
    "        return isinstance(obj, ModelRef)  # Check if the object is a Z3 model\n",
    "\n",
    "    def provide_atoms_and_relations(self, obj, walker_func):\n",
    "        atoms = []\n",
    "        relations = []\n",
    "\n",
    "        # Add variables as atoms\n",
    "        for decl in obj.decls():\n",
    "            try:\n",
    "                var_name = decl.name()\n",
    "                var_expr = decl()  # Convert the declaration into a Z3 expression\n",
    "                var_value = obj.eval(var_expr, model_completion=True)  # Evaluate the expression\n",
    "                atom_id = walker_func._get_id(var_name)\n",
    "                atom = {\n",
    "                    \"id\": atom_id,\n",
    "                    \"type\": \"ArithmeticVariable\",\n",
    "                    \"label\": f\"{var_name} = {var_value}\"\n",
    "                }\n",
    "                atoms.append(atom)\n",
    "            except Exception as e:\n",
    "                print(f\"Skipping declaration {decl}: {e}\")\n",
    "\n",
    "        # Add constraints as relations\n",
    "        # Example: Add relations for constraints (extend this for real constraints)\n",
    "        for decl in obj.decls():\n",
    "            if decl.name() == \"x\":  # Example: Add a relation for x\n",
    "                x_id = walker_func._get_id(\"x\")\n",
    "                y_id = walker_func._get_id(\"y\")\n",
    "                relations.append((\"constraint\", x_id, y_id))\n",
    "\n",
    "        return atoms, relations\n",
    "\n",
    "# Use the custom ArithmeticTheoryProvider to visualize the Z3 model\n",
    "# The diagram function will now use the registered provider for better DEFAULT visualization\n",
    "\n",
    "diagram(z3_model)\n"
   ]
  }
 ],
 "metadata": {
  "kernelspec": {
   "display_name": "stats-env",
   "language": "python",
   "name": "python3"
  },
  "language_info": {
   "codemirror_mode": {
    "name": "ipython",
    "version": 3
   },
   "file_extension": ".py",
   "mimetype": "text/x-python",
   "name": "python",
   "nbconvert_exporter": "python",
   "pygments_lexer": "ipython3",
   "version": "3.10.17"
  }
 },
 "nbformat": 4,
 "nbformat_minor": 5
}
