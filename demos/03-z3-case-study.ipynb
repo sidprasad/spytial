{
 "cells": [
  {
   "cell_type": "markdown",
   "id": "8f7a4c4e",
   "metadata": {},
   "source": [
    "# Demo 3: Sets Visualization - From Collections to Spatial Relationships\n",
    "\n",
    "**This demo IS documentation** - it shows how sPyTial transforms set operations from abstract mathematical concepts into spatial relationships.\n",
    "\n",
    "## The Set Visualization Problem\n",
    "\n",
    "Traditional set operations in Python give you **powerful collection manipulation** but **poor visualization** of relationships. When you work with sets, unions, intersections, and differences, you lose the spatial intuition that makes set theory meaningful.\n",
    "\n",
    "**But** - with sPyTial, you can transform abstract set operations into meaningful spatial layouts that reveal the structure of your data relationships.\n",
    "\n",
    "---\n",
    "\n",
    "## Learning Path:\n",
    "1. **Basic Sets**: See how individual sets become spatial entities\n",
    "2. **Set Operations**: Visualize unions, intersections, and differences\n",
    "3. **Complex Relationships**: Transform nested sets and hierarchies into spatial understanding"
   ]
  },
  {
   "cell_type": "code",
   "execution_count": 1,
   "id": "bcf56e66",
   "metadata": {},
   "outputs": [],
   "source": [
    "import sys\n",
    "from pathlib import Path\n",
    "\n",
    "# Add the parent directory to the Python path\n",
    "sys.path.append(str(Path().resolve().parent))\n",
    "\n",
    "from spytial import diagram, orientation, group, atomColor, attribute\n",
    "import json"
   ]
  },
  {
   "cell_type": "markdown",
   "id": "17b09393",
   "metadata": {},
   "source": [
    "## Step 1: Basic Sets - The Foundation\n",
    "\n",
    "Every programmer works with sets, but seeing their relationships is hard. Let's build spatially-aware set visualizations from scratch."
   ]
  },
  {
   "cell_type": "code",
   "execution_count": 2,
   "id": "e3cd9e46",
   "metadata": {},
   "outputs": [
    {
     "name": "stdout",
     "output_type": "stream",
     "text": [
      "=== TRADITIONAL SET APPROACH ===\n",
      "students = {'Alice', 'Bob', 'Charlie', 'Diana'}\n",
      "programmers = {'Alice', 'Bob', 'Eve'}\n",
      "designers = {'Charlie', 'Diana', 'Frank'}\n",
      "\n",
      "👎 Traditional approach only gives you text!\n"
     ]
    }
   ],
   "source": [
    "# Basic set operations\n",
    "students = {'Alice', 'Bob', 'Charlie', 'Diana'}\n",
    "programmers = {'Alice', 'Bob', 'Eve'}\n",
    "designers = {'Charlie', 'Diana', 'Frank'}\n",
    "\n",
    "print(\"=== TRADITIONAL SET APPROACH ===\")\n",
    "print(f\"students = {students}\")\n",
    "print(f\"programmers = {programmers}\")\n",
    "print(f\"designers = {designers}\")\n",
    "print(\"\\n👎 Traditional approach only gives you text!\")"
   ]
  },
  {
   "cell_type": "code",
   "execution_count": 3,
   "id": "a2327b0a",
   "metadata": {},
   "outputs": [
    {
     "name": "stdout",
     "output_type": "stream",
     "text": [
      "=== SPYTIAL APPROACH ===\n",
      "Basic Set Structure:\n"
     ]
    }
   ],
   "source": [
    "# sPyTial approach - visualize the set structure\n",
    "print(\"=== SPYTIAL APPROACH ===\")\n",
    "\n",
    "# Create a structured representation of our sets\n",
    "set_structure = {\n",
    "    'students': list(students),\n",
    "    'programmers': list(programmers), \n",
    "    'designers': list(designers)\n",
    "}\n",
    "\n",
    "print(\"Basic Set Structure:\")\n",
    "diagram(set_structure)\n",
    "\n",
    "print(\"\\n👍 sPyTial shows you the STRUCTURE of your sets!\")"
   ]
  },
  {
   "cell_type": "markdown",
   "id": "step2_operations",
   "metadata": {},
   "source": [
    "## Step 2: Set Operations - Spatial Relationships\n",
    "\n",
    "**The key insight**: Set operations create new relationships that traditional visualization can't capture. You need **spatial representation** that shows how sets relate to each other.\n",
    "\n",
    "Let's visualize unions, intersections, and differences as spatial relationships."
   ]
  },
  {
   "cell_type": "code",
   "execution_count": 4,
   "id": "operations_demo",
   "metadata": {},
   "outputs": [
    {
     "name": "stdout",
     "output_type": "stream",
     "text": [
      "=== SET OPERATIONS ANALYSIS ===\n",
      "\n",
      "Union (programmers ∪ designers): {'Alice', 'Bob', 'Charlie', 'Diana', 'Eve', 'Frank'}\n",
      "Intersection (students ∩ programmers): {'Alice', 'Bob'}\n",
      "Difference (students - programmers): {'Charlie', 'Diana'}\n"
     ]
    }
   ],
   "source": [
    "# Compute set operations\n",
    "union_prog_design = programmers | designers\n",
    "intersection_stud_prog = students & programmers\n",
    "difference_stud_prog = students - programmers\n",
    "\n",
    "print(\"=== SET OPERATIONS ANALYSIS ===\")\n",
    "print(f\"\\nUnion (programmers ∪ designers): {union_prog_design}\")\n",
    "print(f\"Intersection (students ∩ programmers): {intersection_stud_prog}\")\n",
    "print(f\"Difference (students - programmers): {difference_stud_prog}\")"
   ]
  },
  {
   "cell_type": "code",
   "execution_count": 5,
   "id": "operations_viz",
   "metadata": {},
   "outputs": [
    {
     "name": "stdout",
     "output_type": "stream",
     "text": [
      "sPyTial: Set Operations as Spatial Relationships\n"
     ]
    }
   ],
   "source": [
    "# Create a comprehensive set operations analysis\n",
    "print(\"sPyTial: Set Operations as Spatial Relationships\")\n",
    "\n",
    "set_operations = {\n",
    "    'base_sets': {\n",
    "        'students': {\n",
    "            'members': list(students),\n",
    "            'size': len(students),\n",
    "            'type': 'base_population'\n",
    "        },\n",
    "        'programmers': {\n",
    "            'members': list(programmers),\n",
    "            'size': len(programmers), \n",
    "            'type': 'skill_group'\n",
    "        },\n",
    "        'designers': {\n",
    "            'members': list(designers),\n",
    "            'size': len(designers),\n",
    "            'type': 'skill_group'\n",
    "        }\n",
    "    },\n",
    "    'operations': {\n",
    "        'union_prog_design': {\n",
    "            'result': list(union_prog_design),\n",
    "            'operation': 'union',\n",
    "            'operands': ['programmers', 'designers'],\n",
    "            'meaning': 'all skilled individuals'\n",
    "        },\n",
    "        'intersection_stud_prog': {\n",
    "            'result': list(intersection_stud_prog),\n",
    "            'operation': 'intersection', \n",
    "            'operands': ['students', 'programmers'],\n",
    "            'meaning': 'student programmers'\n",
    "        },\n",
    "        'difference_stud_prog': {\n",
    "            'result': list(difference_stud_prog),\n",
    "            'operation': 'difference',\n",
    "            'operands': ['students', 'programmers'],\n",
    "            'meaning': 'non-programming students'\n",
    "        }\n",
    "    },\n",
    "    'relationships': {\n",
    "        'overlap_analysis': {\n",
    "            'students_programmers_overlap': len(intersection_stud_prog),\n",
    "            'students_designers_overlap': len(students & designers),\n",
    "            'programmers_designers_overlap': len(programmers & designers),\n",
    "            'total_unique_people': len(students | programmers | designers)\n",
    "        }\n",
    "    }\n",
    "}\n",
    "\n",
    "# Visualize the comprehensive set analysis\n",
    "diagram(set_operations)"
   ]
  },
  {
   "cell_type": "markdown",
   "id": "step3_complex",
   "metadata": {},
   "source": [
    "## Step 3: Complex Set Hierarchies - Nested Relationships\n",
    "\n",
    "Real-world data often involves nested sets and complex hierarchies. Let's see how sPyTial handles multi-level set relationships."
   ]
  },
  {
   "cell_type": "code",
   "execution_count": 6,
   "id": "complex_sets",
   "metadata": {},
   "outputs": [
    {
     "name": "stdout",
     "output_type": "stream",
     "text": [
      "=== COMPLEX SET HIERARCHIES ===\n",
      "\n",
      "Traditional view - hard to see relationships:\n",
      "departments = {'Engineering': {'Alice', 'Bob', 'Charlie'}, 'Design': {'Diana', 'Eve'}, 'Marketing': {'Frank', 'Grace'}}\n",
      "projects = {'WebApp': {'Alice', 'Diana'}, 'MobileApp': {'Bob', 'Eve', 'Frank'}, 'Research': {'Charlie', 'Grace'}}\n"
     ]
    }
   ],
   "source": [
    "# Complex nested set structure\n",
    "departments = {\n",
    "    'Engineering': {'Alice', 'Bob', 'Charlie'},\n",
    "    'Design': {'Diana', 'Eve'},\n",
    "    'Marketing': {'Frank', 'Grace'}\n",
    "}\n",
    "\n",
    "projects = {\n",
    "    'WebApp': {'Alice', 'Diana'},\n",
    "    'MobileApp': {'Bob', 'Eve', 'Frank'},\n",
    "    'Research': {'Charlie', 'Grace'}\n",
    "}\n",
    "\n",
    "print(\"=== COMPLEX SET HIERARCHIES ===\")\n",
    "print(\"\\nTraditional view - hard to see relationships:\")\n",
    "print(f\"departments = {departments}\")\n",
    "print(f\"projects = {projects}\")"
   ]
  },
  {
   "cell_type": "code",
   "execution_count": 7,
   "id": "complex_viz",
   "metadata": {},
   "outputs": [
    {
     "name": "stdout",
     "output_type": "stream",
     "text": [
      "sPyTial: Multi-dimensional Set Analysis\n"
     ]
    }
   ],
   "source": [
    "# Create a multi-dimensional analysis\n",
    "print(\"sPyTial: Multi-dimensional Set Analysis\")\n",
    "\n",
    "# Analyze cross-cutting relationships\n",
    "all_people = set().union(*departments.values())\n",
    "cross_department_projects = {}\n",
    "\n",
    "for project, members in projects.items():\n",
    "    dept_involvement = {}\n",
    "    for dept, dept_members in departments.items():\n",
    "        overlap = members & dept_members\n",
    "        if overlap:\n",
    "            dept_involvement[dept] = list(overlap)\n",
    "    cross_department_projects[project] = dept_involvement\n",
    "\n",
    "# Create comprehensive analysis\n",
    "complex_analysis = {\n",
    "    'organizational_structure': {\n",
    "        'departments': {name: list(members) for name, members in departments.items()},\n",
    "        'total_employees': len(all_people),\n",
    "        'department_sizes': {name: len(members) for name, members in departments.items()}\n",
    "    },\n",
    "    'project_structure': {\n",
    "        'projects': {name: list(members) for name, members in projects.items()},\n",
    "        'project_sizes': {name: len(members) for name, members in projects.items()}\n",
    "    },\n",
    "    'cross_cutting_analysis': {\n",
    "        'project_department_matrix': cross_department_projects,\n",
    "        'multi_project_people': {\n",
    "            person: [proj for proj, members in projects.items() if person in members]\n",
    "            for person in all_people\n",
    "        },\n",
    "        'collaboration_patterns': {\n",
    "            'cross_department_projects': [\n",
    "                proj for proj, involvement in cross_department_projects.items() \n",
    "                if len(involvement) > 1\n",
    "            ]\n",
    "        }\n",
    "    },\n",
    "    'insights': {\n",
    "        'most_collaborative_project': max(\n",
    "            cross_department_projects.items(), \n",
    "            key=lambda x: len(x[1])\n",
    "        )[0],\n",
    "        'department_collaboration_score': {\n",
    "            dept: sum(1 for proj_inv in cross_department_projects.values() \n",
    "                     if dept in proj_inv)\n",
    "            for dept in departments\n",
    "        }\n",
    "    }\n",
    "}\n",
    "\n",
    "# Visualize the complex relationships\n",
    "diagram(complex_analysis)"
   ]
  },
  {
   "cell_type": "markdown",
   "id": "step4_custom_provider",
   "metadata": {},
   "source": [
    "## Step 4: Custom Set Provider - Domain-Specific Visualization\n",
    "\n",
    "For maximum power, let's create a custom provider that understands set theory and visualizes sets with their mathematical relationships."
   ]
  },
  {
   "cell_type": "code",
   "execution_count": 8,
   "id": "custom_provider",
   "metadata": {},
   "outputs": [
    {
     "name": "stdout",
     "output_type": "stream",
     "text": [
      "✅ Custom SetRelationshipProvider defined\n",
      "This provider will:\n",
      "- Show sets as first-class spatial entities\n",
      "- Visualize set operations as explicit relationships\n",
      "- Reveal the MATHEMATICAL STRUCTURE of your set operations\n"
     ]
    }
   ],
   "source": [
    "from spytial.provider_system import DataInstanceProvider, data_provider\n",
    "\n",
    "@data_provider(priority=10)\n",
    "class SetRelationshipProvider(DataInstanceProvider):\n",
    "    \"\"\"Custom provider that shows Python sets as mathematical relationship structures.\"\"\"\n",
    "\n",
    "    def can_handle(self, obj):\n",
    "        return isinstance(obj, dict) and 'set_analysis' in str(obj).lower()\n",
    "\n",
    "    def provide_atoms_and_relations(self, obj, walker_func):\n",
    "        # Transform set analysis into mathematical visualization\n",
    "        atoms = []\n",
    "        relations = []\n",
    "\n",
    "        if 'sets' in obj:\n",
    "            # Create atoms for each set\n",
    "            set_ids = {}\n",
    "            for set_name, set_data in obj['sets'].items():\n",
    "                set_id = walker_func._get_id(f\"set_{set_name}\")\n",
    "                atom = {\n",
    "                    \"id\": set_id,\n",
    "                    \"type\": \"MathematicalSet\",\n",
    "                    \"label\": f\"{set_name} |{len(set_data)}|\"\n",
    "                }\n",
    "                atoms.append(atom)\n",
    "                set_ids[set_name] = set_id\n",
    "                \n",
    "                # Create atoms for set elements\n",
    "                for element in set_data:\n",
    "                    elem_id = walker_func._get_id(f\"elem_{element}\")\n",
    "                    elem_atom = {\n",
    "                        \"id\": elem_id,\n",
    "                        \"type\": \"SetElement\",\n",
    "                        \"label\": str(element)\n",
    "                    }\n",
    "                    atoms.append(elem_atom)\n",
    "                    relations.append((\"contains\", set_id, elem_id))\n",
    "\n",
    "        return atoms, relations\n",
    "\n",
    "print(\"✅ Custom SetRelationshipProvider defined\")\n",
    "print(\"This provider will:\")\n",
    "print(\"- Show sets as first-class spatial entities\")\n",
    "print(\"- Visualize set operations as explicit relationships\")\n",
    "print(\"- Reveal the MATHEMATICAL STRUCTURE of your set operations\")"
   ]
  },
  {
   "cell_type": "code",
   "execution_count": 9,
   "id": "provider_demo",
   "metadata": {},
   "outputs": [
    {
     "name": "stdout",
     "output_type": "stream",
     "text": [
      "📍 Step 4 Complete: Custom Provider in Action\n",
      "\n",
      "🎯 Mathematical Set Visualization:\n"
     ]
    }
   ],
   "source": [
    "# Demo the custom provider with mathematical set analysis\n",
    "print(\"📍 Step 4 Complete: Custom Provider in Action\")\n",
    "print(\"\\n🎯 Mathematical Set Visualization:\")\n",
    "\n",
    "mathematical_set_analysis = {\n",
    "    'set_analysis': True,\n",
    "    'sets': {\n",
    "        'A': {1, 2, 3, 4},\n",
    "        'B': {3, 4, 5, 6},\n",
    "        'C': {1, 5, 7}\n",
    "    },\n",
    "    'operations': {\n",
    "        'A_union_B': list({1, 2, 3, 4} | {3, 4, 5, 6}),\n",
    "        'A_intersect_B': list({1, 2, 3, 4} & {3, 4, 5, 6}),\n",
    "        'A_minus_B': list({1, 2, 3, 4} - {3, 4, 5, 6})\n",
    "    },\n",
    "    'properties': {\n",
    "        'A_subset_of_universe': True,\n",
    "        'B_subset_of_universe': True,\n",
    "        'C_subset_of_universe': True,\n",
    "        'disjoint_A_C': len({1, 2, 3, 4} & {1, 5, 7}) == 0\n",
    "    }\n",
    "}\n",
    "\n",
    "# This will use our custom provider for mathematical visualization\n",
    "diagram(mathematical_set_analysis)\n",
    "\n",
    "print(\"\\n✅ This demonstrates the power of custom providers for domain-specific visualization!\")\n",
    "print(\"Sets are now visualized as mathematical entities with explicit containment relationships.\")"
   ]
  },
  {
   "cell_type": "markdown",
   "id": "learning_summary",
   "metadata": {},
   "source": [
    "## 🎓 What You Just Learned\n",
    "\n",
    "This demo taught you how sPyTial transforms **abstract mathematical concepts** into **spatial understanding**:\n",
    "\n",
    "### 1. **Sets as Spatial Entities**\n",
    "Instead of treating sets as abstract collections, sPyTial makes them spatial objects with visible containment relationships. You can see what belongs where.\n",
    "\n",
    "### 2. **Operations as Spatial Relationships**\n",
    "Union, intersection, and difference aren't just mathematical operations - they become spatial transformations you can see and understand.\n",
    "\n",
    "### 3. **Complex Hierarchies Revealed**\n",
    "Multi-dimensional set relationships (like department-project matrices) become navigable spatial structures instead of abstract mental models.\n",
    "\n",
    "### 4. **Custom Providers for Mathematical Domains**\n",
    "By writing domain-specific providers, you can transform any mathematical structure into its most natural spatial representation.\n",
    "\n",
    "---\n",
    "\n",
    "## 🚀 The Bigger Picture\n",
    "\n",
    "**The Problem**: Mathematical concepts like sets are taught abstractly, making them hard to debug and understand in real applications.\n",
    "\n",
    "**The Solution**: Spatial visualization bridges the gap between abstract mathematics and concrete understanding.\n",
    "\n",
    "**Traditional Set Workflow**: \n",
    "```\n",
    "Sets → Operations → Results → print() → Mental visualization\n",
    "```\n",
    "\n",
    "**sPyTial Set Workflow**:\n",
    "```\n",
    "Sets → Operations → Results → Spatial Layout → Direct insight\n",
    "```\n",
    "\n",
    "---\n",
    "\n",
    "**Next**: Return to [Demo 1](01-simple-data-structures.ipynb) or [Demo 2](02-object-annotations.ipynb) to explore other core sPyTial concepts.\n",
    "\n",
    "**The Big Idea**: When you can SEE mathematical relationships spatially, debugging becomes intuitive and understanding becomes immediate. This is the power of spatial programming applied to mathematical domains."
   ]
  }
 ],
 "metadata": {
  "kernelspec": {
   "display_name": "stats-env",
   "language": "python",
   "name": "python3"
  },
  "language_info": {
   "codemirror_mode": {
    "name": "ipython",
    "version": 3
   },
   "file_extension": ".py",
   "mimetype": "text/x-python",
   "name": "python",
   "nbconvert_exporter": "python",
   "version": "3.10.17"
  }
 },
 "nbformat": 4,
 "nbformat_minor": 5
}