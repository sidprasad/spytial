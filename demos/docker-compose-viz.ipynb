{
 "cells": [
  {
   "cell_type": "code",
   "execution_count": 4,
   "id": "79805927",
   "metadata": {},
   "outputs": [
    {
     "data": {
      "text/html": [
       "\n",
       "                <div style=\"border: 2px solid #007acc; border-radius: 8px; overflow: hidden;\">\n",
       "                    <iframe \n",
       "                        src=\"data:text/html;base64,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\" \n",
       "                        width=\"100%\" \n",
       "                        height=\"450px\" \n",
       "                        frameborder=\"0\"\n",
       "                        style=\"display: block;\">\n",
       "                    </iframe>\n",
       "                </div>\n",
       "                "
      ],
      "text/plain": [
       "<IPython.core.display.HTML object>"
      ]
     },
     "metadata": {},
     "output_type": "display_data"
    }
   ],
   "source": [
    "# Visualize Docker Compose Topology with sPyTial\n",
    "\n",
    "import yaml\n",
    "from spytial import diagram\n",
    "from dataclasses import dataclass\n",
    "from typing import List, Optional\n",
    "from io import StringIO\n",
    "\n",
    "@dataclass\n",
    "class ServiceNode:\n",
    "    name: str\n",
    "    image: str\n",
    "    ports: List[str] = None\n",
    "    networks: List[str] = None\n",
    "    depends_on: List[str] = None\n",
    "\n",
    "    def __post_init__(self):\n",
    "        if self.ports is None:\n",
    "            self.ports = []\n",
    "        if self.networks is None:\n",
    "            self.networks = []\n",
    "        if self.depends_on is None:\n",
    "            self.depends_on = []\n",
    "\n",
    "# Mock docker-compose.yml as a string\n",
    "mock_compose = \"\"\"\n",
    "services:\n",
    "  web:\n",
    "    image: nginx\n",
    "    ports:\n",
    "      - \"80:80\"\n",
    "    networks:\n",
    "      - frontend\n",
    "    depends_on:\n",
    "      - db\n",
    "  db:\n",
    "    image: postgres\n",
    "    networks:\n",
    "      - backend\n",
    "  api:\n",
    "    image: python:3.9\n",
    "    ports:\n",
    "      - \"5000:5000\"\n",
    "    networks:\n",
    "      - frontend\n",
    "      - backend\n",
    "    depends_on:\n",
    "      - db\n",
    "\n",
    "networks:\n",
    "  frontend:\n",
    "  backend:\n",
    "\"\"\"\n",
    "\n",
    "# Parse the mock YAML\n",
    "compose_data = yaml.safe_load(StringIO(mock_compose))\n",
    "services = []\n",
    "for name, config in compose_data.get('services', {}).items():\n",
    "    services.append(ServiceNode(\n",
    "        name=name,\n",
    "        image=config.get('image', ''),\n",
    "        ports=config.get('ports', []),\n",
    "        networks=config.get('networks', []),\n",
    "        depends_on=config.get('depends_on', [])\n",
    "    ))\n",
    "\n",
    "# Visualize the services\n",
    "diagram(services)  # Inline visualization of Docker Compose topology"
   ]
  },
  {
   "cell_type": "markdown",
   "id": "7f794a57",
   "metadata": {},
   "source": [
    "# PYTHON ON WHALES"
   ]
  },
  {
   "cell_type": "code",
   "execution_count": null,
   "id": "07837eca",
   "metadata": {},
   "outputs": [
    {
     "ename": "ModuleNotFoundError",
     "evalue": "No module named 'python_on_whales'",
     "output_type": "error",
     "traceback": [
      "\u001b[31m---------------------------------------------------------------------------\u001b[39m",
      "\u001b[31mModuleNotFoundError\u001b[39m                       Traceback (most recent call last)",
      "\u001b[36mCell\u001b[39m\u001b[36m \u001b[39m\u001b[32mIn[5]\u001b[39m\u001b[32m, line 1\u001b[39m\n\u001b[32m----> \u001b[39m\u001b[32m1\u001b[39m \u001b[38;5;28;01mfrom\u001b[39;00m\u001b[38;5;250m \u001b[39m\u001b[34;01mpython_on_whales\u001b[39;00m\u001b[38;5;250m \u001b[39m\u001b[38;5;28;01mimport\u001b[39;00m docker\n\u001b[32m      3\u001b[39m \u001b[38;5;28;01mdef\u001b[39;00m\u001b[38;5;250m \u001b[39m\u001b[34mcompose_live\u001b[39m(project=\u001b[38;5;28;01mNone\u001b[39;00m):\n\u001b[32m      4\u001b[39m     \u001b[38;5;66;03m# list containers of a compose app; you can also pass compose files to docker.compose\u001b[39;00m\n\u001b[32m      5\u001b[39m     procs = docker.compose.ps() \u001b[38;5;28;01mif\u001b[39;00m project \u001b[38;5;129;01mis\u001b[39;00m \u001b[38;5;28;01mNone\u001b[39;00m \u001b[38;5;28;01melse\u001b[39;00m docker.compose.ps(project_name=project)\n",
      "\u001b[31mModuleNotFoundError\u001b[39m: No module named 'python_on_whales'"
     ]
    }
   ],
   "source": [
    "from python_on_whales import docker\n",
    "from spytial import diagram\n",
    "\n",
    "def compose_live(project=None):\n",
    "    # list containers of a compose app; you can also pass compose files to docker.compose\n",
    "    procs = docker.compose.ps() if project is None else docker.compose.ps(project_name=project)\n",
    "    nodes, edges = {}, []\n",
    "\n",
    "    for p in procs:\n",
    "        # p is a Container object with attributes mirroring `docker ps/inspect`\n",
    "        sid = f\"service:{p.labels.get('com.docker.compose.project','?')}:{p.labels.get('com.docker.compose.service', p.name)}\"\n",
    "        nodes.setdefault(sid, {\"kind\":\"Service\",\"name\":p.labels.get('com.docker.compose.service', p.name), \"attrs\":{}})\n",
    "        nodes[f\"container:{p.id[:12]}\"] = {\"kind\":\"Container\",\"name\":p.name,\"attrs\":{\"status\":p.state.status}}\n",
    "        edges.append((\"runs\", sid, f\"container:{p.id[:12]}\"))\n",
    "        # networks & ports available via p.networks, p.ports, etc.\n",
    "    return {\"nodes\": list(nodes.values()), \"edges\": edges}\n",
    "\n",
    "# Visualize the live compose topology\n",
    "data = compose_live()\n",
    "diagram(data)"
   ]
  },
  {
   "cell_type": "code",
   "execution_count": null,
   "id": "b800fdd6",
   "metadata": {},
   "outputs": [],
   "source": []
  },
  {
   "cell_type": "code",
   "execution_count": null,
   "id": "43f1ff8f",
   "metadata": {},
   "outputs": [],
   "source": []
  }
 ],
 "metadata": {
  "kernelspec": {
   "display_name": "z3env",
   "language": "python",
   "name": "python3"
  },
  "language_info": {
   "codemirror_mode": {
    "name": "ipython",
    "version": 3
   },
   "file_extension": ".py",
   "mimetype": "text/x-python",
   "name": "python",
   "nbconvert_exporter": "python",
   "pygments_lexer": "ipython3",
   "version": "3.12.10"
  }
 },
 "nbformat": 4,
 "nbformat_minor": 5
}
