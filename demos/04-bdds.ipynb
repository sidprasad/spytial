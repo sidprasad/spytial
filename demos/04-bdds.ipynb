{
 "cells": [
  {
   "cell_type": "code",
   "execution_count": 1,
   "id": "a58a20bd",
   "metadata": {},
   "outputs": [
    {
     "name": "stdout",
     "output_type": "stream",
     "text": [
      "0.6.0\n"
     ]
    }
   ],
   "source": [
    "import sys\n",
    "from pathlib import Path\n",
    "\n",
    "# Add the parent directory to the Python path\n",
    "sys.path.append(str(Path().resolve().parent))\n",
    "\n",
    "from spytial import diagram\n",
    "from spytial.annotations import orientation, attribute, hideAtom, atomColor, group, flag\n",
    "from spytial import relationalizer, RelationalizerBase, Atom, Relation\n",
    "\n",
    "import dd\n",
    "print(dd.__version__)"
   ]
  },
  {
   "cell_type": "markdown",
   "id": "fe74bdac",
   "metadata": {},
   "source": [
    "## DD is a standard Python lib for BDDs\n",
    "\n",
    "- But no clear obv visualizer beyond dumping to network X and dot graphs.\n",
    "- https://github.com/tulip-control/dd?tab=readme-ov-file\n",
    "\n"
   ]
  },
  {
   "cell_type": "code",
   "execution_count": 2,
   "id": "5d6e19f3",
   "metadata": {},
   "outputs": [
    {
     "name": "stdout",
     "output_type": "stream",
     "text": [
      "BDD node structure (node_id: var_name, low ->, high ->):\n",
      "Node 1: var=3, low=None, high=None\n",
      "Node 2: var=x, low=-1, high=1\n",
      "Node 3: var=y, low=-1, high=1\n",
      "Node 4: var=x, low=-1, high=3\n",
      "Node 5: var=z, low=-1, high=1\n",
      "Node 6: var=y, low=-5, high=1\n",
      "Node 7: var=x, low=-5, high=6\n"
     ]
    }
   ],
   "source": [
    "from dd.autoref import BDD\n",
    "\n",
    "bdd = BDD()\n",
    "bdd.declare('x', 'y', 'z')\n",
    "u = bdd.add_expr(r'(x /\\ y) \\/ ~z')\n",
    "\n",
    "# Map variable indices to names for readability\n",
    "var_names = {idx: name for name, idx in bdd.vars.items()}\n",
    "\n",
    "print(\"BDD node structure (node_id: var_name, low ->, high ->):\")\n",
    "for node, (var, low, high) in bdd._bdd._succ.items():\n",
    "    var_label = var_names.get(var, str(var))\n",
    "    print(f\"Node {node}: var={var_label}, low={low}, high={high}\")\n",
    "\n",
    "#bdd.dump('bdd.dot')\n",
    "\n",
    "\n",
    "# # Dump to JSON\n",
    "# filename = 'bdd.json'\n",
    "# roots = dict(u=u)\n",
    "# bdd.dump(filename, roots)"
   ]
  },
  {
   "cell_type": "code",
   "execution_count": null,
   "id": "c77e1c7b",
   "metadata": {},
   "outputs": [
    {
     "data": {
      "text/html": [
       "\n",
       "                <div style=\"border: 2px solid #007acc; border-radius: 8px; overflow: hidden;\">\n",
       "                    <iframe \n",
       "                        src=\"data:text/html;base64,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\" \n",
       "                        width=\"100%\" \n",
       "                        height=\"450px\" \n",
       "                        frameborder=\"0\"\n",
       "                        style=\"display: block;\">\n",
       "                    </iframe>\n",
       "                </div>\n",
       "                "
      ],
      "text/plain": [
       "<IPython.core.display.HTML object>"
      ]
     },
     "metadata": {},
     "output_type": "display_data"
    }
   ],
   "source": [
    "@relationalizer(priority=101)\n",
    "class BDDRelationalizer(RelationalizerBase):\n",
    "    def can_handle(self, obj):\n",
    "        # Only handle dd.autoref.BDD objects\n",
    "        return isinstance(obj, BDD)\n",
    "\n",
    "    def relationalize(self, obj, walker_func):\n",
    "        atoms = []\n",
    "        relations = []\n",
    "        # Map variable indices to names\n",
    "        var_names = {idx: name for name, idx in obj.vars.items()}\n",
    "        seen = set()\n",
    "        false_id = obj.false.node\n",
    "        true_id = obj.true.node\n",
    "\n",
    "        # Add all decision (non-terminal) nodes\n",
    "        for node, (var, low, high) in obj._bdd._succ.items():\n",
    "            label = var_names.get(var, f\"var_{var}\")\n",
    "            atoms.append(Atom(id=str(node), type='BDDNode', label=label))\n",
    "            seen.add(node)\n",
    "            if low is not None:\n",
    "                relations.append(Relation(name='low', atoms=[str(node), str(low)]))\n",
    "            if high is not None:\n",
    "                relations.append(Relation(name='high', atoms=[str(node), str(high)]))\n",
    "\n",
    "        # Add atoms for all referenced terminal and complemented nodes\n",
    "        for rel in relations:\n",
    "            for target in rel.atoms[1:]:\n",
    "                tid = int(target)\n",
    "                if tid not in seen:\n",
    "                    if tid == false_id or target == \"F\":\n",
    "                        atoms.append(Atom(id=str(tid), type='Terminal', label='False'))\n",
    "                        seen.add(tid)\n",
    "                    elif tid == true_id or target == \"T\":\n",
    "                        atoms.append(Atom(id=str(tid), type='Terminal', label='True'))\n",
    "                        seen.add(tid)\n",
    "                    elif tid < 0:\n",
    "                        pos_tid = abs(tid)\n",
    "                        # If the positive node exists, use its variable name\n",
    "                        if pos_tid in obj._bdd._succ:\n",
    "                            var_idx = obj._bdd._succ[pos_tid][0]\n",
    "                            var_label = var_names.get(var_idx, f\"var_{var_idx}\")\n",
    "                            atoms.append(Atom(id=str(tid), type='Complemented', label=f'NOT({var_label})'))\n",
    "                        elif pos_tid == false_id:\n",
    "                            atoms.append(Atom(id=str(tid), type='Complemented', label='NOT(False)'))\n",
    "                        elif pos_tid == true_id:\n",
    "                            atoms.append(Atom(id=str(tid), type='Complemented', label='NOT(True)'))\n",
    "                        else:\n",
    "                            atoms.append(Atom(id=str(tid), type='Complemented', label=f'NOT({pos_tid})'))\n",
    "                        seen.add(tid)\n",
    "        return atoms, relations\n",
    "\n",
    "# # Dump to JSON\n",
    "filename = 'bdd.json'\n",
    "roots = dict(u=u)\n",
    "bdd.dump(filename, roots)\n",
    "\n",
    "diagram(bdd)"
   ]
  }
 ],
 "metadata": {
  "kernelspec": {
   "display_name": "z3env",
   "language": "python",
   "name": "python3"
  },
  "language_info": {
   "codemirror_mode": {
    "name": "ipython",
    "version": 3
   },
   "file_extension": ".py",
   "mimetype": "text/x-python",
   "name": "python",
   "nbconvert_exporter": "python",
   "pygments_lexer": "ipython3",
   "version": "3.12.10"
  }
 },
 "nbformat": 4,
 "nbformat_minor": 5
}
