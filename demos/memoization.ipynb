{
 "cells": [
  {
   "cell_type": "code",
   "execution_count": 1,
   "id": "d3de7dd7",
   "metadata": {},
   "outputs": [],
   "source": [
    "import sys\n",
    "from pathlib import Path\n",
    "\n",
    "\n",
    "# Add the parent directory to the Python path\n",
    "sys.path.append(str(Path().resolve().parent))\n",
    "\n",
    "from spytial import *\n",
    "from spytial.annotations import *"
   ]
  },
  {
   "cell_type": "code",
   "execution_count": 2,
   "id": "a6141ff9",
   "metadata": {},
   "outputs": [],
   "source": [
    "# Setup for performance metrics\n",
    "import random\n",
    "from time import sleep\n",
    "perf_base = \"spytial_perf\"\n",
    "def get_perf_path(structure, size):\n",
    "    return perf_base + \"_\" + structure + \"_\" + f\"{size}.json\"\n",
    "PI = 30\n",
    "SIZES = [5, 10, 25, 50]"
   ]
  },
  {
   "cell_type": "markdown",
   "id": "8094688f",
   "metadata": {},
   "source": [
    "# Memoization Data Structure TODO\n",
    "m and s tables computed by Matrix-Chain-Order"
   ]
  },
  {
   "cell_type": "code",
   "execution_count": 3,
   "id": "dc51bddf",
   "metadata": {},
   "outputs": [],
   "source": [
    "# Memoization Data Structure\n",
    "from math import inf\n",
    "from functools import lru_cache\n",
    "\n",
    "def memoized_matrix_chain(p):\n",
    "    \"\"\"\n",
    "    p: dims vector of length n+1 (A1 is p[0]x p[1], ..., An is p[n-1]x p[n])\n",
    "    returns: m, s where m[i][j] = min cost, s[i][j] = optimal split k\n",
    "    1-indexed to match CLRS.\n",
    "    \"\"\"\n",
    "    n = len(p) - 1\n",
    "    m = [[None]*(n+1) for _ in range(n+1)]\n",
    "    s = [[None]*(n+1) for _ in range(n+1)]\n",
    "\n",
    "    @lru_cache(None)\n",
    "    def lookup(i, j):\n",
    "        if i == j:\n",
    "            m[i][j] = 0\n",
    "            return 0\n",
    "        best, best_k = inf, None\n",
    "        for k in range(i, j):\n",
    "            left = lookup(i, k)\n",
    "            right = lookup(k+1, j)\n",
    "            cost = left + right + p[i-1]*p[k]*p[j]\n",
    "            if cost < best:\n",
    "                best, best_k = cost, k\n",
    "        m[i][j] = best\n",
    "        s[i][j] = best_k\n",
    "        return best\n",
    "\n",
    "    lookup(1, n)\n",
    "    return m, s\n",
    "\n",
    "\n",
    "\n",
    "##CLRS (Cormen, Leiserson, Rivest, Stein - Introduction to Algorithms, Chapter 15) uses the bottom-up approach. They describe the algorithm with nested loops that fill the tables iteratively, exactly like your bottom_up_matrix_chain function. This is the standard presentation in the textbook, as it aligns with how they explain dynamic programming tables.\n",
    "def bottom_up_matrix_chain(p):\n",
    "    n = len(p)-1\n",
    "    m = [[0 if i==j else inf for j in range(n+1)] for i in range(n+1)]\n",
    "    s = [[None]*(n+1) for _ in range(n+1)]\n",
    "    for L in range(2, n+1):             # chain length\n",
    "        for i in range(1, n-L+2):\n",
    "            j = i+L-1\n",
    "            m[i][j] = inf\n",
    "            for k in range(i, j):\n",
    "                q = m[i][k] + m[k+1][j] + p[i-1]*p[k]*p[j]\n",
    "                if q < m[i][j]:\n",
    "                    m[i][j] = q\n",
    "                    s[i][j] = k\n",
    "    return m, s\n",
    "\n",
    "def print_tables(m, s):\n",
    "    # compact CLRS-style triangular display\n",
    "    n = len(m)-1\n",
    "    def row_fmt(row): return \" \".join((\"{:>6}\".format(\"\" if x is None or x==float('inf') else x) for x in row[1:]))\n",
    "    print(\"m-table:\")\n",
    "    for i in range(1, n+1):\n",
    "        row = [None]*(i) + m[i][i:]  # leading blanks\n",
    "        print(row_fmt(row))\n",
    "    print(\"\\ns-table (k splits):\")\n",
    "    for i in range(1, n+1):\n",
    "        row = [None]*(i) + s[i][i:]\n",
    "        print(row_fmt(row))\n",
    "\n",
    "def parenthesize(s, i, j):\n",
    "    if i == j: return f\"A{i}\"\n",
    "    k = s[i][j]\n",
    "    return f\"({parenthesize(s, i, k)}{parenthesize(s, k+1, j)})\"\n"
   ]
  },
  {
   "cell_type": "markdown",
   "id": "677abf4f",
   "metadata": {},
   "source": [
    "![memo](img/memoization.png)"
   ]
  },
  {
   "cell_type": "code",
   "execution_count": 6,
   "id": "88aea4ee",
   "metadata": {},
   "outputs": [
    {
     "name": "stdout",
     "output_type": "stream",
     "text": [
      "{ v1, v2 : int | (some r1, r2, c : int | r1 != r2 and (r1->c->v1 + r2->c->v2) in ((list).(idx & (list->int->list)).(idx & list->int->int)) ) }\n",
      "{v1, v2 : int | v1 != v2 and some r : int | (r->v1 + r->v2) in {r, v : int | some c : int | (r->c->v) in ((list).(idx & (list->int->list)).(idx & list->int->int))}}\n"
     ]
    },
    {
     "data": {
      "text/plain": [
       "'/var/folders/80/rtptthbx3zq0tb06wwzmck_40000gq/T/tmpej4nbrgb.html'"
      ]
     },
     "execution_count": 6,
     "metadata": {},
     "output_type": "execute_result"
    }
   ],
   "source": [
    "## ACTUALLY, I'm just not sure?\n",
    "\n",
    "\n",
    "# Example (CLRS Fig. 15.5 uses p = [30,35,15,5,10,20,25])\n",
    "p = [30,35,15,5,10,20,25]\n",
    "m, s = bottom_up_matrix_chain(p)   # or memoized_matrix_chain(p)\n",
    "m = hideAtom(selector=\"{ f : float | @:f = inf}\")(m)\n",
    "\n",
    "# Build up selectors incrementally\n",
    "ROW_COL_ELEM = \"((list).(idx & (list->int->list)).(idx & list->int->int))\"\n",
    "\n",
    "SAME_COL_DIFF_ROW = f\"{{ v1, v2 : int | (some r1, r2, c : int | r1 != r2 and (r1->c->v1 + r2->c->v2) in {ROW_COL_ELEM} ) }}\"\n",
    "print(SAME_COL_DIFF_ROW)\n",
    "\n",
    "# Now use the projections to define same row/col\n",
    "SAME_ROW = f\"{{v1, v2 : int | v1 != v2 and some r : int | (r->v1 + r->v2) in {ROW_ELEM}}}\"\n",
    "SAME_COL = f\"{{v1, v2 : int | v1 != v2 and some c : int | (c->v1 + c->v2) in {COL_ELEM}}}\"\n",
    "\n",
    "print(SAME_ROW)\n",
    "\n",
    "\n",
    "# Apply layout\n",
    "m = orientation(selector=SAME_ROW, directions=[\"directlyRight\"])(m)\n",
    "m = orientation(selector=SAME_COL, directions=[\"directlyBelow\"])(m)\n",
    "m = align(selector=SAME_ROW, direction=\"horizontal\")(m)\n",
    "m = align(selector=SAME_COL, direction=\"vertical\")(m)\n",
    "\n",
    "\n",
    "# ROW_COL_ELEM = \"((list).(idx & (list->int->list)).(idx & list->int->int))\"\n",
    "\n",
    "# # ROW_ELEM: pairs of (row_idx, value) - project away the column\n",
    "# # For each (r, c, v) in ROW_COL_ELEM, we get (r, v)\n",
    "# ROW_ELEM = f\"{{r, v : int | some c : int | (r->c->v) in {ROW_COL_ELEM}}}\"\n",
    "\n",
    "# # COL_ELEM: pairs of (col_idx, value) - project away the row  \n",
    "# # For each (r, c, v) in ROW_COL_ELEM, we get (c, v)\n",
    "# COL_ELEM = f\"{{c, v : int | some r : int | (r->c->v) in {ROW_COL_ELEM}}}\"\n",
    "\n",
    "\n",
    "# SAME_ROW=f\"{{s1, s2 : int | (some r, c1, c2 : int | (c1->s1 + c2->s2) in r.({ROW_COL_ELEM}) ) }}\"\n",
    "\n",
    "# print(SAME_ROW)\n",
    "\n",
    "# def into_matrix(xxs):\n",
    "    \n",
    "#     xxs = orientation(selector=f\"{{s1, s2 : object | (some r, c1, c2 : int | (r->c1->s1 + r->c2->s2) in {ROW_COL_ELEM} ) }}\", directions=[\"directlyLeft\"])(xxs)\n",
    "#     return xxs\n",
    "\n",
    "# m = into_matrix(m)\n",
    "\n",
    "evaluate(m, method=\"browser\")\n",
    "#diagram(m)\n",
    "#diagram(s)"
   ]
  },
  {
   "cell_type": "markdown",
   "id": "41b5ff2e",
   "metadata": {},
   "source": [
    "## Performance"
   ]
  },
  {
   "cell_type": "code",
   "execution_count": null,
   "id": "ab667251",
   "metadata": {},
   "outputs": [],
   "source": [
    "STRUCTURE = \"memoization\"\n",
    "for size in SIZES:\n",
    "    # Generate random dimension vector (size+1 dimensions for size matrices)\n",
    "    p = [random.randint(5, 50) for _ in range(size + 1)]\n",
    "    \n",
    "    m, s = bottom_up_matrix_chain(p)\n",
    "    \n",
    "    # Apply visualization transformations\n",
    "    m_vis = hideAtom(selector=\"{ f : float | @:f = inf}\")(m)\n",
    "    m_vis = into_matrix(m_vis)\n",
    "    \n",
    "    print(f\"{STRUCTURE}({size} matrices): Rendering with perf_iterations={PI}...\")\n",
    "    evaluate(m_vis, method=\"browser\", perf_path=get_perf_path(STRUCTURE, size), perf_iterations=PI)\n",
    "    sleep(2)\n",
    "\n",
    "print(\"\\n✅ Performance data collection complete!\")\n",
    "print(f\"📊 Check {perf_base}_*.json files for metrics\")"
   ]
  }
 ],
 "metadata": {
  "kernelspec": {
   "display_name": "z3env",
   "language": "python",
   "name": "python3"
  },
  "language_info": {
   "codemirror_mode": {
    "name": "ipython",
    "version": 3
   },
   "file_extension": ".py",
   "mimetype": "text/x-python",
   "name": "python",
   "nbconvert_exporter": "python",
   "pygments_lexer": "ipython3",
   "version": "3.12.10"
  }
 },
 "nbformat": 4,
 "nbformat_minor": 5
}
