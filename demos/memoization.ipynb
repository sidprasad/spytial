{
 "cells": [
  {
   "cell_type": "code",
   "execution_count": 1,
   "id": "d3de7dd7",
   "metadata": {},
   "outputs": [],
   "source": [
    "import sys\n",
    "from pathlib import Path\n",
    "\n",
    "\n",
    "# Add the parent directory to the Python path\n",
    "sys.path.append(str(Path().resolve().parent))\n",
    "\n",
    "from spytial import *\n",
    "from spytial.annotations import *"
   ]
  },
  {
   "cell_type": "code",
   "execution_count": 2,
   "id": "a6141ff9",
   "metadata": {},
   "outputs": [],
   "source": [
    "# Setup for performance metrics\n",
    "import random\n",
    "from time import sleep\n",
    "perf_base = \"spytial_perf\"\n",
    "def get_perf_path(structure, size):\n",
    "    return perf_base + \"_\" + structure + \"_\" + f\"{size}.json\"\n",
    "PI = 30\n",
    "SIZES = [5, 10, 25, 50]"
   ]
  },
  {
   "cell_type": "markdown",
   "id": "8094688f",
   "metadata": {},
   "source": [
    "# Memoization Data Structure TODO\n",
    "m and s tables computed by Matrix-Chain-Order"
   ]
  },
  {
   "cell_type": "code",
   "execution_count": 3,
   "id": "dc51bddf",
   "metadata": {},
   "outputs": [],
   "source": [
    "# Memoization Data Structure\n",
    "from math import inf\n",
    "from functools import lru_cache\n",
    "\n",
    "def memoized_matrix_chain(p):\n",
    "    \"\"\"\n",
    "    p: dims vector of length n+1 (A1 is p[0]x p[1], ..., An is p[n-1]x p[n])\n",
    "    returns: m, s where m[i][j] = min cost, s[i][j] = optimal split k\n",
    "    1-indexed to match CLRS.\n",
    "    \"\"\"\n",
    "    n = len(p) - 1\n",
    "    m = [[None]*(n+1) for _ in range(n+1)]\n",
    "    s = [[None]*(n+1) for _ in range(n+1)]\n",
    "\n",
    "    @lru_cache(None)\n",
    "    def lookup(i, j):\n",
    "        if i == j:\n",
    "            m[i][j] = 0\n",
    "            return 0\n",
    "        best, best_k = inf, None\n",
    "        for k in range(i, j):\n",
    "            left = lookup(i, k)\n",
    "            right = lookup(k+1, j)\n",
    "            cost = left + right + p[i-1]*p[k]*p[j]\n",
    "            if cost < best:\n",
    "                best, best_k = cost, k\n",
    "        m[i][j] = best\n",
    "        s[i][j] = best_k\n",
    "        return best\n",
    "\n",
    "    lookup(1, n)\n",
    "    return m, s\n",
    "\n",
    "\n",
    "\n",
    "##CLRS (Cormen, Leiserson, Rivest, Stein - Introduction to Algorithms, Chapter 15) uses the bottom-up approach. They describe the algorithm with nested loops that fill the tables iteratively, exactly like your bottom_up_matrix_chain function. This is the standard presentation in the textbook, as it aligns with how they explain dynamic programming tables.\n",
    "def bottom_up_matrix_chain(p):\n",
    "    n = len(p)-1\n",
    "    m = [[0 if i==j else inf for j in range(n+1)] for i in range(n+1)]\n",
    "    s = [[None]*(n+1) for _ in range(n+1)]\n",
    "    for L in range(2, n+1):             # chain length\n",
    "        for i in range(1, n-L+2):\n",
    "            j = i+L-1\n",
    "            m[i][j] = inf\n",
    "            for k in range(i, j):\n",
    "                q = m[i][k] + m[k+1][j] + p[i-1]*p[k]*p[j]\n",
    "                if q < m[i][j]:\n",
    "                    m[i][j] = q\n",
    "                    s[i][j] = k\n",
    "    return m, s\n",
    "\n",
    "def print_tables(m, s):\n",
    "    # compact CLRS-style triangular display\n",
    "    n = len(m)-1\n",
    "    def row_fmt(row): return \" \".join((\"{:>6}\".format(\"\" if x is None or x==float('inf') else x) for x in row[1:]))\n",
    "    print(\"m-table:\")\n",
    "    for i in range(1, n+1):\n",
    "        row = [None]*(i) + m[i][i:]  # leading blanks\n",
    "        print(row_fmt(row))\n",
    "    print(\"\\ns-table (k splits):\")\n",
    "    for i in range(1, n+1):\n",
    "        row = [None]*(i) + s[i][i:]\n",
    "        print(row_fmt(row))\n",
    "\n",
    "def parenthesize(s, i, j):\n",
    "    if i == j: return f\"A{i}\"\n",
    "    k = s[i][j]\n",
    "    return f\"({parenthesize(s, i, k)}{parenthesize(s, k+1, j)})\"\n"
   ]
  },
  {
   "cell_type": "markdown",
   "id": "677abf4f",
   "metadata": {},
   "source": [
    "![memo](img/memoization.png)"
   ]
  },
  {
   "cell_type": "code",
   "execution_count": null,
   "id": "88aea4ee",
   "metadata": {},
   "outputs": [],
   "source": [
    "\n",
    "# Create a wrapper class to make matrix cells explicit atoms\n",
    "@attribute(field='value')\n",
    "@attribute(field='row')\n",
    "@attribute(field='col')\n",
    "class MatrixCell:\n",
    "    def __init__(self, row, col, value):\n",
    "        self.row = row\n",
    "        self.col = col\n",
    "        self.value = value\n",
    "\n",
    "\n",
    "\n",
    "\n",
    "SAME_ROW = \"(row.~row)\"\n",
    "SAME_COL = \"(col.~col)\"\n",
    "\n",
    "DIFF_ROWS = \"row.{i,j : int | i < j}.~row\"\n",
    "DIFF_COLS = \"col.{i,j : int | i < j}.~col\"\n",
    "\n",
    "\n",
    "@atomColor(selector='{m : MatrixCell | (m.row) = 0 and (m.col) = 0}', value = 'black')\n",
    "@hideAtom(selector='MatrixWrapper + list + int')\n",
    "@align(selector=SAME_ROW, direction='horizontal')\n",
    "@align(selector=SAME_COL, direction='vertical')\n",
    "@orientation(selector=DIFF_ROWS, directions=['below'])\n",
    "@orientation(selector=DIFF_COLS, directions=['right'])\n",
    "class MatrixWrapper:\n",
    "    def __init__(self, matrix, skip_inf=True):\n",
    "        self.cells = []\n",
    "        for i, row in enumerate(matrix):\n",
    "            if row is None:\n",
    "                continue\n",
    "            for j, val in enumerate(row):\n",
    "                if val is None or (skip_inf and val == inf):\n",
    "                    continue\n",
    "                self.cells.append(MatrixCell(i, j, val))\n",
    "\n",
    "\n"
   ]
  },
  {
   "cell_type": "code",
   "execution_count": 5,
   "id": "77413386",
   "metadata": {},
   "outputs": [],
   "source": [
    "# Usage:\n",
    "p = [30,35,15,5,10,20,25]\n",
    "m, s = bottom_up_matrix_chain(p)\n",
    "m_wrapped = MatrixWrapper(m, skip_inf=True)\n",
    "#diagram(m_wrapped)"
   ]
  },
  {
   "cell_type": "markdown",
   "id": "41b5ff2e",
   "metadata": {},
   "source": [
    "## Performance"
   ]
  },
  {
   "cell_type": "code",
   "execution_count": null,
   "id": "ab667251",
   "metadata": {},
   "outputs": [
    {
     "name": "stdout",
     "output_type": "stream",
     "text": [
      "Building data instance for: Matrix Chain  (Size=15)\n",
      "Generating HTML for: Matrix Chain  (Size=15)\n",
      "Loading page for Matrix Chain  (Size=15) (timeout: 600s)...\n",
      "Running 3 iterations - Matrix Chain  (Size=15) (timeout: 600s)...\n",
      "  Using custom timeout of 600s\n",
      "  Progress: 3/3 iterations (54.3s elapsed)\n",
      "✓ Headless benchmark completed: 3 iterations\n",
      "  Generate Layout: 10453.83ms avg\n",
      "  Render Layout: 15299.80ms avg\n",
      "  Total Time: 25755.47ms avg\n",
      "  Metrics saved to: spytial_perf_memoization_15.json\n"
     ]
    }
   ],
   "source": [
    "STRUCTURE = \"memoization\"\n",
    "for size in [5, 10, 25, 50]:\n",
    "    # Generate random dimension vector (size+1 dimensions for size matrices)\n",
    "    p = [random.randint(5, 50) for _ in range(size)]\n",
    "    \n",
    "    m, s = bottom_up_matrix_chain(p)\n",
    "    m_wrapped = MatrixWrapper(m, skip_inf=True)\n",
    "    #diagram(m_wrapped, method=\"browser\")\n",
    "    diagram(m_wrapped, method=\"browser\", perf_path=get_perf_path(STRUCTURE, size), perf_iterations=3, title=f\"Matrix Chain  (Size={size})\", headless=True, timeout=600)\n",
    "\n",
    "\n"
   ]
  }
 ],
 "metadata": {
  "kernelspec": {
   "display_name": "z3env",
   "language": "python",
   "name": "python3"
  },
  "language_info": {
   "codemirror_mode": {
    "name": "ipython",
    "version": 3
   },
   "file_extension": ".py",
   "mimetype": "text/x-python",
   "name": "python",
   "nbconvert_exporter": "python",
   "pygments_lexer": "ipython3",
   "version": "3.12.10"
  }
 },
 "nbformat": 4,
 "nbformat_minor": 5
}
