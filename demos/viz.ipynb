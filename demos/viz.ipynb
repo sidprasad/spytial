{
 "cells": [
  {
   "cell_type": "markdown",
   "metadata": {},
   "source": [
    "# sPyTial Quick Visualization Demo\n",
    "\n",
    "This notebook demonstrates basic sPyTial usage for quick data structure visualization.\n",
    "\n",
    "For comprehensive examples, see:\n",
    "- **00-demo-showcase.ipynb** - Overview of all capabilities\n",
    "- **05-enhanced-data-structures.ipynb** - Detailed data structure examples\n",
    "- **04-pandas-integration.ipynb** - DataFrame visualization\n",
    "- **03-z3-case-study.ipynb** - Constraint solving visualization"
   ]
  },
  {
   "cell_type": "code",
   "execution_count": null,
   "metadata": {},
   "outputs": [],
   "source": [
    "import sys\n",
    "from pathlib import Path\n",
    "\n",
    "# Add the parent directory to the Python path\n",
    "sys.path.append(str(Path().resolve().parent))\n",
    "\n",
    "from spytial import diagram\n",
    "\n",
    "# Quick example\n",
    "sample_data = {\n",
    "    'application': 'MyApp',\n",
    "    'users': ['alice', 'bob', 'charlie'],\n",
    "    'config': {\n",
    "        'debug': True,\n",
    "        'version': '1.0.0',\n",
    "        'features': ['auth', 'analytics']\n",
    "    }\n",
    "}\n",
    "\n",
    "print(\"Quick sPyTial visualization:\")\n",
    "diagram(sample_data)"
   ]
  }
 ],
 "metadata": {
  "kernelspec": {
   "display_name": "Python 3",
   "language": "python",
   "name": "python3"
  },
  "language_info": {
   "codemirror_mode": {
    "name": "ipython",
    "version": 3
   },
   "file_extension": ".py",
   "mimetype": "text/x-python",
   "name": "python",
   "nbconvert_exporter": "python",
   "pygments_lexer": "ipython3",
   "version": "3.10.17"
  }
 },
 "nbformat": 4,
 "nbformat_minor": 5
}
