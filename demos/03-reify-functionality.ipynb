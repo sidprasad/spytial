{
 "cells": [
  {
   "cell_type": "markdown",
   "id": "8f7a4c4e",
   "metadata": {},
   "source": [
    "# sPyTial Reify Functionality\n",
    "\n",
    "The `reify` method enables reconstruction of Python objects from CnD data instances, providing the reverse operation of `build_instance`. This allows full round-trip serialization and deserialization, making it possible to:\n",
    "\n",
    "- **Serialize** Python objects to CnD format for visualization\n",
    "- **Modify** or analyze the CnD representation \n",
    "- **Reconstruct** the original Python objects from the CnD data\n",
    "- **Extend** the system with custom reifiers for specialized types\n",
    "\n",
    "This notebook demonstrates the comprehensive reify functionality with interactive examples."
   ]
  },
  {
   "cell_type": "code",
   "execution_count": null,
   "id": "bcf56e66",
   "metadata": {},
   "outputs": [],
   "source": [
    "import sys\n",
    "from pathlib import Path\n",
    "\n",
    "# Add the parent directory to the Python path\n",
    "sys.path.append(str(Path().resolve().parent))\n",
    "\n",
    "import spytial\n",
    "from spytial import diagram, CnDDataInstanceBuilder\n",
    "import json"
   ]
  },
  {
   "cell_type": "markdown",
   "id": "17b09393",
   "metadata": {},
   "source": [
    "## Basic Reify Functionality\n",
    "\n",
    "Let's start with the basic round-trip serialization of common Python data types."
   ]
  },
  {
   "cell_type": "code",
   "execution_count": null,
   "id": "e3cd9e46",
   "metadata": {},
   "outputs": [],
   "source": [
    "# Create a data instance builder\n",
    "builder = spytial.CnDDataInstanceBuilder()\n",
    "\n",
    "# Test data with various types\n",
    "test_data = {\n",
    "    \"name\": \"sPyTial Reify Demo\",\n",
    "    \"version\": 1.0,\n",
    "    \"features\": [\"visualization\", \"spatial\", \"constraints\"],\n",
    "    \"settings\": {\n",
    "        \"debug\": True,\n",
    "        \"max_depth\": 100,\n",
    "        \"timeout\": None\n",
    "    },\n",
    "    \"tags\": {\"python\", \"library\", \"research\"}\n",
    "}\n",
    "\n",
    "print(\"Original data:\")\n",
    "print(json.dumps(test_data, indent=2, default=str))"
   ]
  },
  {
   "cell_type": "code",
   "execution_count": null,
   "id": "visualization-original",
   "metadata": {},
   "outputs": [],
   "source": [
    "# Visualize the original data structure\n",
    "diagram(test_data)"
   ]
  },
  {
   "cell_type": "code",
   "execution_count": null,
   "id": "round-trip-demo",
   "metadata": {},
   "outputs": [],
   "source": [
    "# Build data instance\n",
    "data_instance = builder.build_instance(test_data)\n",
    "print(f\"Data instance created with {len(data_instance['atoms'])} atoms\")\n",
    "\n",
    "# Show a sample of the CnD representation\n",
    "print(\"\\nSample atoms:\")\n",
    "for i, atom in enumerate(data_instance['atoms'][:5]):\n",
    "    print(f\"  {atom}\")\n",
    "if len(data_instance['atoms']) > 5:\n",
    "    print(f\"  ... and {len(data_instance['atoms']) - 5} more\")\n",
    "\n",
    "print(f\"\\nTotal relations: {len(data_instance['relations'])}\")"
   ]
  },
  {
   "cell_type": "code",
   "execution_count": null,
   "id": "reify-demo",
   "metadata": {},
   "outputs": [],
   "source": [
    "# Reify back to object\n",
    "reified_data = builder.reify(data_instance)\n",
    "print(\"Reified data:\")\n",
    "print(json.dumps(reified_data, indent=2, default=str))\n",
    "\n",
    "# Validate round-trip\n",
    "success = reified_data == test_data\n",
    "print(f\"\\n✓ Round-trip successful: {success}\")"
   ]
  },
  {
   "cell_type": "code",
   "execution_count": null,
   "id": "visualization-reified",
   "metadata": {},
   "outputs": [],
   "source": [
    "# Visualize the reified data structure\n",
    "diagram(reified_data)"
   ]
  },
  {
   "cell_type": "markdown",
   "id": "custom-objects-section",
   "metadata": {},
   "source": [
    "## Custom Objects Reconstruction\n",
    "\n",
    "The reify method can also reconstruct custom Python objects with their attributes intact."
   ]
  },
  {
   "cell_type": "code",
   "execution_count": null,
   "id": "custom-object-def",
   "metadata": {},
   "outputs": [],
   "source": [
    "class Person:\n",
    "    def __init__(self, name, age, skills=None):\n",
    "        self.name = name\n",
    "        self.age = age\n",
    "        self.skills = skills or []\n",
    "    \n",
    "    def __repr__(self):\n",
    "        return f\"Person(name='{self.name}', age={self.age}, skills={self.skills})\"\n",
    "\n",
    "# Create test objects\n",
    "original_person = Person(\"Alice\", 30, [\"Python\", \"sPyTial\", \"Visualization\"])\n",
    "print(\"Original person:\")\n",
    "print(original_person)"
   ]
  },
  {
   "cell_type": "code",
   "execution_count": null,
   "id": "custom-object-visualization",
   "metadata": {},
   "outputs": [],
   "source": [
    "# Visualize the original person object\n",
    "diagram(original_person)"
   ]
  },
  {
   "cell_type": "code",
   "execution_count": null,
   "id": "custom-object-reify",
   "metadata": {},
   "outputs": [],
   "source": [
    "# Round-trip through reify\n",
    "data_instance = builder.build_instance(original_person)\n",
    "reified_person = builder.reify(data_instance)\n",
    "\n",
    "print(\"Reified person:\")\n",
    "print(f\"Type: {type(reified_person).__name__}\")\n",
    "print(f\"Name: {reified_person.name}\")\n",
    "print(f\"Age: {reified_person.age}\")\n",
    "print(f\"Skills: {reified_person.skills}\")\n",
    "\n",
    "# Validate attributes\n",
    "success = (reified_person.name == original_person.name and\n",
    "           reified_person.age == original_person.age and\n",
    "           reified_person.skills == original_person.skills)\n",
    "print(f\"\\n✓ Object reconstruction successful: {success}\")"
   ]
  },
  {
   "cell_type": "code",
   "execution_count": null,
   "id": "custom-object-reified-visualization",
   "metadata": {},
   "outputs": [],
   "source": [
    "# Visualize the reified person object\n",
    "diagram(reified_person)"
   ]
  },
  {
   "cell_type": "markdown",
   "id": "extensibility-section",
   "metadata": {},
   "source": [
    "## Extensibility with Custom Reifiers\n",
    "\n",
    "For specialized types that need custom reconstruction logic, you can register custom reifier functions."
   ]
  },
  {
   "cell_type": "code",
   "execution_count": null,
   "id": "point-class-def",
   "metadata": {},
   "outputs": [],
   "source": [
    "class Point:\n",
    "    def __init__(self, x=0, y=0):\n",
    "        self.x = x\n",
    "        self.y = y\n",
    "    \n",
    "    def __eq__(self, other):\n",
    "        return isinstance(other, Point) and self.x == other.x and self.y == other.y\n",
    "    \n",
    "    def __repr__(self):\n",
    "        return f\"Point({self.x}, {self.y})\"\n",
    "\n",
    "# Custom reifier for Point class\n",
    "def point_reifier(atom, relations, reify_atom):\n",
    "    \"\"\"Custom reifier that properly reconstructs Point objects.\"\"\"\n",
    "    point = Point()\n",
    "    for rel_name, target_ids in relations.items():\n",
    "        if rel_name == \"x\" and target_ids:\n",
    "            point.x = reify_atom(target_ids[0])\n",
    "        elif rel_name == \"y\" and target_ids:\n",
    "            point.y = reify_atom(target_ids[0])\n",
    "    return point\n",
    "\n",
    "# Register custom reifier\n",
    "builder.register_reifier(\"Point\", point_reifier)\n",
    "print(f\"Registered reifiers: {builder.list_reifiers()}\")"
   ]
  },
  {
   "cell_type": "code",
   "execution_count": null,
   "id": "point-demo",
   "metadata": {},
   "outputs": [],
   "source": [
    "# Test with custom object\n",
    "original_point = Point(10, 20)\n",
    "print(f\"Original point: {original_point}\")\n",
    "\n",
    "# Visualize original point\n",
    "diagram(original_point)"
   ]
  },
  {
   "cell_type": "code",
   "execution_count": null,
   "id": "point-reify",
   "metadata": {},
   "outputs": [],
   "source": [
    "# Round-trip with custom reifier\n",
    "data_instance = builder.build_instance(original_point)\n",
    "reified_point = builder.reify(data_instance)\n",
    "\n",
    "print(f\"Reified point: {reified_point}\")\n",
    "print(f\"Type: {type(reified_point).__name__}\")\n",
    "\n",
    "success = reified_point == original_point\n",
    "print(f\"\\n✓ Custom reifier successful: {success}\")\n",
    "\n",
    "# Visualize reified point\n",
    "diagram(reified_point)"
   ]
  },
  {
   "cell_type": "markdown",
   "id": "complex-nested-section",
   "metadata": {},
   "source": [
    "## Complex Nested Structures\n",
    "\n",
    "The reify method handles arbitrarily complex nested data structures with full fidelity."
   ]
  },
  {
   "cell_type": "code",
   "execution_count": null,
   "id": "complex-data-def",
   "metadata": {},
   "outputs": [],
   "source": [
    "# Complex nested data structure\n",
    "complex_data = {\n",
    "    \"project\": \"sPyTial\",\n",
    "    \"metadata\": {\n",
    "        \"version\": \"1.0.0\",\n",
    "        \"authors\": [\"Alice\", \"Bob\"],\n",
    "        \"license\": \"MIT\"\n",
    "    },\n",
    "    \"components\": [\n",
    "        {\n",
    "            \"name\": \"Visualizer\",\n",
    "            \"files\": [\"visualizer.py\", \"templates.html\"],\n",
    "            \"dependencies\": {\"jinja2\", \"pyyaml\"}\n",
    "        },\n",
    "        {\n",
    "            \"name\": \"Provider System\", \n",
    "            \"files\": [\"provider_system.py\"],\n",
    "            \"dependencies\": set()\n",
    "        }\n",
    "    ],\n",
    "    \"tests\": {\n",
    "        \"unit\": 16,\n",
    "        \"integration\": 5,\n",
    "        \"coverage\": 95.5\n",
    "    }\n",
    "}\n",
    "\n",
    "print(\"Original complex data structure:\")\n",
    "print(f\"Project: {complex_data['project']}\")\n",
    "print(f\"Version: {complex_data['metadata']['version']}\")\n",
    "print(f\"Components: {len(complex_data['components'])}\")\n",
    "print(f\"Test coverage: {complex_data['tests']['coverage']}%\")"
   ]
  },
  {
   "cell_type": "code",
   "execution_count": null,
   "id": "complex-visualization",
   "metadata": {},
   "outputs": [],
   "source": [
    "# Visualize the complex data structure\n",
    "diagram(complex_data)"
   ]
  },
  {
   "cell_type": "code",
   "execution_count": null,
   "id": "complex-reify",
   "metadata": {},
   "outputs": [],
   "source": [
    "# Round-trip through reify\n",
    "data_instance = builder.build_instance(complex_data)\n",
    "reified_data = builder.reify(data_instance)\n",
    "\n",
    "print(f\"Data instance: {len(data_instance['atoms'])} atoms, {len(data_instance['relations'])} relations\")\n",
    "\n",
    "print(\"\\nReified complex data structure:\")\n",
    "print(f\"Project: {reified_data['project']}\")\n",
    "print(f\"Version: {reified_data['metadata']['version']}\")\n",
    "print(f\"Components: {len(reified_data['components'])}\")\n",
    "print(f\"Test coverage: {reified_data['tests']['coverage']}%\")\n",
    "\n",
    "success = reified_data == complex_data\n",
    "print(f\"\\n✓ Complex nested reification successful: {success}\")"
   ]
  },
  {
   "cell_type": "code",
   "execution_count": null,
   "id": "complex-reified-visualization",
   "metadata": {},
   "outputs": [],
   "source": [
    "# Visualize the reified complex data structure\n",
    "diagram(reified_data)"
   ]
  },
  {
   "cell_type": "markdown",
   "id": "interactive-section",
   "metadata": {},
   "source": [
    "## Interactive Reify Workflow\n",
    "\n",
    "The following demonstrates an interactive workflow where you can visualize, inspect the CnD representation, and reconstruct objects in the notebook context."
   ]
  },
  {
   "cell_type": "code",
   "execution_count": null,
   "id": "interactive-function",
   "metadata": {},
   "outputs": [],
   "source": [
    "def interactive_reify_workflow(obj, var_name=\"reified_object\"):\n",
    "    \"\"\"\n",
    "    Interactive workflow that visualizes an object, shows its CnD representation,\n",
    "    and provides the reified object back to the notebook context.\n",
    "    \n",
    "    Args:\n",
    "        obj: Object to visualize and reify\n",
    "        var_name: Name for the reified object variable\n",
    "    \n",
    "    Returns:\n",
    "        dict: Contains original, data_instance, and reified objects\n",
    "    \"\"\"\n",
    "    print(f\"🎯 Interactive Reify Workflow for {type(obj).__name__}\")\n",
    "    print(\"=\" * 50)\n",
    "    \n",
    "    # Step 1: Show original\n",
    "    print(\"\\n📋 STEP 1: Original Object\")\n",
    "    print(f\"Type: {type(obj).__name__}\")\n",
    "    print(f\"Value: {obj}\")\n",
    "    \n",
    "    # Step 2: Build CnD representation\n",
    "    print(\"\\n🔄 STEP 2: Converting to CnD representation...\")\n",
    "    builder = CnDDataInstanceBuilder()\n",
    "    data_instance = builder.build_instance(obj)\n",
    "    print(f\"✓ Created CnD instance with {len(data_instance['atoms'])} atoms, {len(data_instance['relations'])} relations\")\n",
    "    \n",
    "    # Step 3: Show visualization\n",
    "    print(\"\\n🎨 STEP 3: Visualization\")\n",
    "    diagram(obj)\n",
    "    \n",
    "    # Step 4: Reify\n",
    "    print(\"\\n⚡ STEP 4: Reifying back to Python object...\")\n",
    "    reified_obj = builder.reify(data_instance)\n",
    "    print(f\"✓ Reconstructed {type(reified_obj).__name__}\")\n",
    "    \n",
    "    # Step 5: Validation\n",
    "    print(\"\\n✅ STEP 5: Validation\")\n",
    "    if reified_obj == obj:\n",
    "        print(\"🎉 Perfect round-trip! Objects are identical.\")\n",
    "    else:\n",
    "        print(\"⚠️  Objects differ - this may be expected for certain types\")\n",
    "    \n",
    "    # Step 6: Inject into globals\n",
    "    print(f\"\\n📤 STEP 6: Injecting as '{var_name}' into notebook context\")\n",
    "    globals()[var_name] = reified_obj\n",
    "    print(f\"✓ Variable '{var_name}' is now available in this notebook\")\n",
    "    \n",
    "    result = {\n",
    "        'original': obj,\n",
    "        'data_instance': data_instance,\n",
    "        'reified': reified_obj,\n",
    "        'builder': builder\n",
    "    }\n",
    "    \n",
    "    print(\"\\n📊 WORKFLOW COMPLETE\")\n",
    "    print(f\"Access the reified object via: {var_name}\")\n",
    "    print(\"Access full workflow data via the returned dictionary\")\n",
    "    \n",
    "    return result"
   ]
  },
  {
   "cell_type": "markdown",
   "id": "interactive-demo-section",
   "metadata": {},
   "source": [
    "### Interactive Demo: Simple Data Structure"
   ]
  },
  {
   "cell_type": "code",
   "execution_count": null,
   "id": "interactive-demo-1",
   "metadata": {},
   "outputs": [],
   "source": [
    "# Try the interactive workflow with a simple data structure\n",
    "demo_data = {\n",
    "    \"name\": \"Interactive Demo\",\n",
    "    \"items\": [1, 2, 3, 4],\n",
    "    \"nested\": {\"a\": 10, \"b\": 20}\n",
    "}\n",
    "\n",
    "workflow_result = interactive_reify_workflow(demo_data, \"my_reified_data\")"
   ]
  },
  {
   "cell_type": "code",
   "execution_count": null,
   "id": "interactive-access",
   "metadata": {},
   "outputs": [],
   "source": [
    "# Now you can access the reified object directly\n",
    "print(\"Accessing the reified object:\")\n",
    "print(f\"my_reified_data = {my_reified_data}\")\n",
    "print(f\"Type: {type(my_reified_data)}\")\n",
    "print(f\"my_reified_data['items'] = {my_reified_data['items']}\")"
   ]
  },
  {
   "cell_type": "markdown",
   "id": "interactive-demo-2-section",
   "metadata": {},
   "source": [
    "### Interactive Demo: Custom Object"
   ]
  },
  {
   "cell_type": "code",
   "execution_count": null,
   "id": "interactive-demo-2",
   "metadata": {},
   "outputs": [],
   "source": [
    "# Try with a custom object\n",
    "demo_person = Person(\"Interactive User\", 25, [\"Python\", \"Jupyter\", \"sPyTial\"])\n",
    "workflow_result2 = interactive_reify_workflow(demo_person, \"my_reified_person\")"
   ]
  },
  {
   "cell_type": "code",
   "execution_count": null,
   "id": "interactive-access-2",
   "metadata": {},
   "outputs": [],
   "source": [
    "# Access the reified person object\n",
    "print(\"Accessing the reified person:\")\n",
    "print(f\"my_reified_person = {my_reified_person}\")\n",
    "print(f\"Name: {my_reified_person.name}\")\n",
    "print(f\"Skills: {my_reified_person.skills}\")\n",
    "\n",
    "# You can modify the reified object\n",
    "my_reified_person.skills.append(\"Reification\")\n",
    "print(f\"\\nAfter modification: {my_reified_person.skills}\")"
   ]
  },
  {
   "cell_type": "markdown",
   "id": "text-output-section",
   "metadata": {},
   "source": [
    "## Text-Based Object Insertion\n",
    "\n",
    "For cases where you want to examine or recreate the object as code, here's a text-based approach:"
   ]
  },
  {
   "cell_type": "code",
   "execution_count": null,
   "id": "text-insertion-function",
   "metadata": {},
   "outputs": [],
   "source": [
    "def reify_as_text(obj, var_name=\"reconstructed\"):\n",
    "    \"\"\"\n",
    "    Generate text representation that can be used to recreate the reified object.\n",
    "    \"\"\"\n",
    "    builder = CnDDataInstanceBuilder()\n",
    "    data_instance = builder.build_instance(obj)\n",
    "    reified_obj = builder.reify(data_instance)\n",
    "    \n",
    "    # Generate text representation based on type\n",
    "    if isinstance(reified_obj, dict):\n",
    "        text_repr = f\"{var_name} = {repr(reified_obj)}\"\n",
    "    elif isinstance(reified_obj, (list, tuple, set)):\n",
    "        text_repr = f\"{var_name} = {repr(reified_obj)}\"\n",
    "    elif hasattr(reified_obj, '__dict__'):\n",
    "        # For custom objects, show attribute assignment\n",
    "        class_name = type(reified_obj).__name__\n",
    "        text_repr = f\"# Reconstructed {class_name} object\\n\"\n",
    "        text_repr += f\"{var_name} = {class_name}()\\n\"\n",
    "        for attr, value in reified_obj.__dict__.items():\n",
    "            text_repr += f\"{var_name}.{attr} = {repr(value)}\\n\"\n",
    "    else:\n",
    "        text_repr = f\"{var_name} = {repr(reified_obj)}\"\n",
    "    \n",
    "    print(\"📝 Generated reconstruction code:\")\n",
    "    print(\"-\" * 40)\n",
    "    print(text_repr)\n",
    "    print(\"-\" * 40)\n",
    "    \n",
    "    return text_repr, reified_obj"
   ]
  },
  {
   "cell_type": "code",
   "execution_count": null,
   "id": "text-demo",
   "metadata": {},
   "outputs": [],
   "source": [
    "# Demo text-based reconstruction\n",
    "sample_obj = {\"config\": {\"debug\": True, \"workers\": 4}, \"data\": [\"a\", \"b\", \"c\"]}\n",
    "text_code, reified = reify_as_text(sample_obj, \"my_config\")\n",
    "\n",
    "print(\"\\nYou can copy and paste the above code to recreate the object.\")"
   ]
  },
  {
   "cell_type": "code",
   "execution_count": null,
   "id": "text-demo-2",
   "metadata": {},
   "outputs": [],
   "source": [
    "# Demo with custom object\n",
    "sample_person = Person(\"Text Demo\", 28, [\"Documentation\", \"Testing\"])\n",
    "text_code2, reified2 = reify_as_text(sample_person, \"recreated_person\")"
   ]
  },
  {
   "cell_type": "markdown",
   "id": "summary-section",
   "metadata": {},
   "source": [
    "## Summary\n",
    "\n",
    "The sPyTial reify functionality provides:\n",
    "\n",
    "✅ **Full Round-trip Serialization**: Convert Python objects to CnD format and back with perfect fidelity\n",
    "\n",
    "✅ **Comprehensive Type Support**: Primitives, collections, custom objects, and nested structures\n",
    "\n",
    "✅ **Extensibility**: Register custom reifiers for specialized reconstruction logic\n",
    "\n",
    "✅ **Interactive Workflows**: Visualize, inspect, and reconstruct objects in notebook context\n",
    "\n",
    "✅ **Text-based Reconstruction**: Generate code to recreate objects programmatically\n",
    "\n",
    "This enables powerful workflows for data analysis, debugging, and interactive exploration of complex Python objects through spatial visualization."
   ]
  }
 ],
 "metadata": {
  "kernelspec": {
   "display_name": "Python 3",
   "language": "python",
   "name": "python3"
  },
  "language_info": {
   "codemirror_mode": {
    "name": "ipython",
    "version": 3
   },
   "file_extension": ".py",
   "mimetype": "text/x-python",
   "name": "python",
   "nbconvert_exporter": "python",
   "pygments_lexer": "ipython3",
   "version": "3.8.5"
  }
 },
 "nbformat": 4,
 "nbformat_minor": 5
}