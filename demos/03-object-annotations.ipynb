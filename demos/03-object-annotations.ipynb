{
 "cells": [
  {
   "cell_type": "markdown",
   "id": "ad79ecdb",
   "metadata": {},
   "source": [
    "# Object-Level CND Annotations\n",
    "\n",
    "This notebook demonstrates object-level CND annotations, allowing annotations to be applied to specific object instances rather than just their classes. This solves the core issue where users want to annotate individual objects (like sets) without modifying the class definition.\n",
    "\n",
    "## 🎯 New Ergonomic API\n",
    "\n",
    "You can now use decorators directly on objects in a Pythonic way!"
   ]
  },
  {
   "cell_type": "code",
   "execution_count": null,
   "id": "bcf56e66",
   "metadata": {},
   "outputs": [],
   "source": [
    "import sys\n",
    "from pathlib import Path\n",
    "\n",
    "# Add the parent directory to the Python path\n",
    "sys.path.append(str(Path().resolve().parent))\n",
    "\n",
    "from spytial import (\n",
    "    diagram, \n",
    "    orientation, cyclic, group, atomColor  # Now work on both classes AND objects!\n",
    ")"
   ]
  },
  {
   "cell_type": "markdown",
   "id": "17b09393",
   "metadata": {},
   "source": [
    "## Demo 1: Set Grouping with Ergonomic API (Issue Example)\n",
    "\n",
    "This demonstrates the core issue request: annotating specific objects (like sets) without modifying their classes.\n",
    "\n",
    "### The Pythonic Way - Apply Decorators Directly to Objects!"
   ]
  },
  {
   "cell_type": "code",
   "execution_count": null,
   "id": "e3cd9e46",
   "metadata": {},
   "outputs": [],
   "source": [
    "# Create different sets - each can be annotated differently\n",
    "fruits = {\"apple\", \"banana\", \"cherry\", \"date\"}\n",
    "numbers = {1, 2, 3, 4, 5, 6, 7, 8, 9, 10}\n",
    "colors = {\"red\", \"green\", \"blue\"}\n",
    "\n",
    "# NEW ERGONOMIC WAY: Apply decorators directly to objects!\n",
    "# This is much more Pythonic than separate annotate_* functions\n",
    "fruits = atomColor(selector='items', value='orange')(\n",
    "    group(field='items', groupOn=0, addToGroup=1)(fruits)\n",
    ")\n",
    "\n",
    "numbers = atomColor(selector='digits', value='blue')(\n",
    "    group(field='digits', groupOn=0, addToGroup=1)(numbers)\n",
    ")\n",
    "\n",
    "# Leave colors set without special annotations\n",
    "\n",
    "# Create a container to show them all\n",
    "set_data = {\n",
    "    \"fruits\": fruits,\n",
    "    \"numbers\": numbers, \n",
    "    \"colors\": colors,\n",
    "    \"note\": \"fruits and numbers are grouped, colors is not\"\n",
    "}\n",
    "\n",
    "print(\"✅ Successfully annotated different sets with object-specific annotations\")\n",
    "print(\"- fruits set: grouped with orange coloring\")\n",
    "print(\"- numbers set: grouped with blue coloring\")\n",
    "print(\"- colors set: default rendering\")\n",
    "print(\"\\n🎯 Using the NEW ergonomic API - decorators work directly on objects!\")"
   ]
  },
  {
   "cell_type": "code",
   "execution_count": null,
   "id": "visualization1",
   "metadata": {},
   "outputs": [],
   "source": [
    "# Visualize the sets with their object-specific annotations\n",
    "diagram(set_data)"
   ]
  },
  {
   "cell_type": "markdown",
   "id": "api_comparison",
   "metadata": {},
   "source": [
    "## API Comparison: Old vs New\n",
    "\n",
    "### Old Approach (Still Supported)\n",
    "```python\n",
    "from spytial import annotate_group, annotate_atomColor\n",
    "annotate_group(my_set, field='items', groupOn=0, addToGroup=1)\n",
    "annotate_atomColor(my_set, selector='items', value='orange')\n",
    "```\n",
    "\n",
    "### New Ergonomic Approach (Recommended)\n",
    "```python\n",
    "from spytial import group, atomColor\n",
    "my_set = atomColor(selector='items', value='orange')(\n",
    "    group(field='items', groupOn=0, addToGroup=1)(my_set)\n",
    ")\n",
    "```\n",
    "\n",
    "**The new approach is more Pythonic** - decorators work the same way whether you're decorating a class or an object!"
   ]
  },
  {
   "cell_type": "markdown",
   "id": "class_object_demo",
   "metadata": {},
   "source": [
    "## Demo 2: Class + Object Annotations Working Together\n",
    "\n",
    "This shows how class-level decorators and object-level decorators can combine seamlessly using the same decorator syntax."
   ]
  },
  {
   "cell_type": "code",
   "execution_count": null,
   "id": "tree_setup",
   "metadata": {},
   "outputs": [],
   "source": [
    "# Class-level decorators (traditional usage)\n",
    "@orientation(selector='left', directions=['left'])\n",
    "@cyclic(selector='children', direction='clockwise')\n",
    "class TreeNode:\n",
    "    def __init__(self, value, left=None, right=None):\n",
    "        self.value = value\n",
    "        self.left = left\n",
    "        self.right = right\n",
    "\n",
    "# Create a tree structure\n",
    "root = TreeNode(\"root\")\n",
    "root.left = TreeNode(\"left-child\")\n",
    "root.right = TreeNode(\"right-child\")\n",
    "root.left.left = TreeNode(\"left-left\")\n",
    "root.left.right = TreeNode(\"left-right\")\n",
    "\n",
    "# Object-level decorators (NEW ergonomic usage - same syntax!)\n",
    "root = atomColor(selector='self', value='red')(root)\n",
    "\n",
    "root.left = orientation(selector='self', directions=['below'])(\n",
    "    group(field='subtree', groupOn=0, addToGroup=1)(root.left)\n",
    ")\n",
    "\n",
    "print(\"✅ Class annotations apply to ALL TreeNode instances\")\n",
    "print(\"✅ Object annotations apply only to specific instances\")\n",
    "print(\"✅ Both use the SAME decorator syntax!\")\n",
    "print(\"\\n🎯 Much more intuitive - Python developers expect decorators to 'just work'\")"
   ]
  },
  {
   "cell_type": "code",
   "execution_count": null,
   "id": "tree_viz",
   "metadata": {},
   "outputs": [],
   "source": [
    "# Visualize the tree with mixed annotations\n",
    "diagram(root)"
   ]
  },
  {
   "cell_type": "markdown",
   "id": "builtin_demo",
   "metadata": {},
   "source": [
    "## Demo 3: Built-in Types Annotations\n",
    "\n",
    "Demonstrates annotations on various built-in types that can't normally store attributes."
   ]
  },
  {
   "cell_type": "code",
   "execution_count": null,
   "id": "builtin_setup",
   "metadata": {},
   "outputs": [],
   "source": [
    "# Built-in immutable types work perfectly with the ergonomic API\n",
    "\n",
    "# Tuple (immutable)\n",
    "coordinates = orientation(selector='axes', directions=['horizontal'])((10, 20, 30))\n",
    "\n",
    "# Frozenset (immutable)\n",
    "immutable_set = group(field='elements', groupOn=0, addToGroup=1)(frozenset([1, 2, 3, 4]))\n",
    "\n",
    "# String (immutable) \n",
    "text = atomColor(selector='characters', value='purple')(\"Hello World\")\n",
    "\n",
    "# Combine in data structure\n",
    "builtin_data = {\n",
    "    \"coordinates\": coordinates,\n",
    "    \"immutable_set\": immutable_set,\n",
    "    \"text\": text,\n",
    "    \"info\": \"All these immutable types have object-specific annotations\"\n",
    "}\n",
    "\n",
    "print(\"✅ Successfully annotated immutable built-in types:\")\n",
    "print(f\"- tuple: {coordinates}\")\n",
    "print(f\"- frozenset: {immutable_set}\")\n",
    "print(f\"- string: '{text}'\")\n",
    "print(\"\\n🎯 Even immutable types work with the ergonomic decorator syntax!\")"
   ]
  },
  {
   "cell_type": "code",
   "execution_count": null,
   "id": "builtin_viz",
   "metadata": {},
   "outputs": [],
   "source": [
    "# Visualize the built-in types with annotations\n",
    "diagram(builtin_data)"
   ]
  },
  {
   "cell_type": "markdown",
   "id": "custom_providers",
   "metadata": {},
   "source": [
    "## Demo 4: Object-Level Custom Providers\n",
    "\n",
    "You can also set custom data providers for specific objects, controlling how they are serialized to atoms and relations."
   ]
  },
  {
   "cell_type": "code",
   "execution_count": null,
   "id": "custom_provider_setup",
   "metadata": {},
   "outputs": [],
   "source": [
    "from spytial import DataInstanceProvider, object_provider, set_object_provider\n",
    "\n",
    "# Define a custom provider for sets\n",
    "class CustomSetProvider(DataInstanceProvider):\n",
    "    def can_handle(self, obj):\n",
    "        return isinstance(obj, set)\n",
    "    \n",
    "    def provide_atoms_and_relations(self, obj, walker_func):\n",
    "        obj_id = walker_func._get_id(obj)\n",
    "        atom = {\n",
    "            \"id\": obj_id,\n",
    "            \"type\": \"custom_set\",\n",
    "            \"label\": f\"MySet[{len(obj)}]\"\n",
    "        }\n",
    "        \n",
    "        relations = []\n",
    "        for i, item in enumerate(obj):\n",
    "            item_id = walker_func(item)\n",
    "            relations.append((f\"element_{i}\", obj_id, item_id))\n",
    "        \n",
    "        return atom, relations\n",
    "\n",
    "# Method 1: Decorator syntax\n",
    "my_set = {1, 2, 3, 4, 5}\n",
    "my_set = object_provider(CustomSetProvider())(my_set)\n",
    "\n",
    "# Method 2: Function call\n",
    "my_other_set = {6, 7, 8}\n",
    "set_object_provider(my_other_set, CustomSetProvider())\n",
    "\n",
    "# Method 3: Combine with annotations\n",
    "custom_annotated_set = object_provider(CustomSetProvider())(\n",
    "    group(field='elements', groupOn=0, addToGroup=1)({10, 11, 12})\n",
    ")\n",
    "\n",
    "print(\"✅ Custom providers set for different sets\")\n",
    "print(\"- my_set: uses CustomSetProvider\")\n",
    "print(\"- my_other_set: also uses CustomSetProvider\")\n",
    "print(\"- custom_annotated_set: CustomSetProvider + group annotation\")\n",
    "print(\"\\n🎯 Object-specific providers override default serialization!\")"
   ]
  },
  {
   "cell_type": "code",
   "execution_count": null,
   "id": "custom_provider_viz",
   "metadata": {},
   "outputs": [],
   "source": [
    "# Create a comparison structure\n",
    "provider_demo = {\n",
    "    \"normal_set\": {\"a\", \"b\", \"c\"},  # Uses default provider\n",
    "    \"custom_set1\": my_set,  # Uses custom provider\n",
    "    \"custom_set2\": my_other_set,  # Uses custom provider\n",
    "    \"custom_annotated\": custom_annotated_set  # Custom provider + annotations\n",
    "}\n",
    "\n",
    "# Visualize to see the difference\n",
    "diagram(provider_demo)"
   ]
  },
  {
   "cell_type": "markdown",
   "id": "custom_provider_benefits",
   "metadata": {},
   "source": [
    "### Custom Provider Benefits\n",
    "\n",
    "- **Override default serialization**: Replace how specific objects are converted to atoms/relations\n",
    "- **Object-specific behavior**: Different instances of the same class can use different providers\n",
    "- **Combine with annotations**: Custom providers work alongside spatial annotations\n",
    "- **Maintain type flexibility**: Keep the benefits of Python's dynamic typing while customizing visualization"
   ]
  },
  {
   "cell_type": "code",
   "execution_count": null,
   "id": "chaining",
   "metadata": {},
   "outputs": [],
   "source": [
    "# You can chain multiple decorators just like with classes\n",
    "my_data = [\"item1\", \"item2\", \"item3\"]\n",
    "\n",
    "# Chain multiple decorators in a readable way\n",
    "annotated_data = atomColor(selector='items', value='green')(\n",
    "    orientation(selector='items', directions=['vertical'])(\n",
    "        group(field='elements', groupOn=0, addToGroup=1)(my_data)\n",
    "    )\n",
    ")\n",
    "\n",
    "print(\"✅ Chained multiple decorators on a single object\")\n",
    "print(f\"Result: {annotated_data}\")\n",
    "\n",
    "# Verify all annotations were applied\n",
    "from spytial import collect_decorators\n",
    "annotations = collect_decorators(annotated_data)\n",
    "print(f\"Applied {len(annotations['constraints'])} constraints and {len(annotations['directives'])} directives\")"
   ]
  },
  {
   "cell_type": "markdown",
   "id": "conclusion",
   "metadata": {},
   "source": [
    "## Key Achievements\n",
    "\n",
    "🎯 **CND annotations now work on OBJECTS, not just classes!**\n",
    "\n",
    "- ✅ **Ergonomic API**: Use the same decorator syntax for both classes and objects\n",
    "- ✅ **Pythonic**: Decorators work as Python developers expect them to\n",
    "- ✅ **Unified**: No need to learn separate `annotate_*` functions\n",
    "- ✅ **Flexible**: Works with built-in/immutable types (set, tuple, frozenset, str)\n",
    "- ✅ **Combinable**: Class and object annotations combine seamlessly\n",
    "- ✅ **Backward Compatible**: Existing class-level decorators work unchanged\n",
    "\n",
    "### The Pythonic Way\n",
    "\n",
    "```python\n",
    "# Apply decorators to objects just like you would to classes\n",
    "my_set = group(field='items', groupOn=0, addToGroup=1)(my_set)\n",
    "my_obj = atomColor(selector='self', value='blue')(my_obj)\n",
    "\n",
    "# Chain them naturally\n",
    "result = atomColor(selector='items', value='red')(\n",
    "    orientation(selector='items', directions=['horizontal'])(my_data)\n",
    ")\n",
    "```\n",
    "\n",
    "**This is much more intuitive than having separate `annotate_*` functions!**"
   ]
  }
 ],
 "metadata": {
  "kernelspec": {
   "display_name": "Python 3",
   "language": "python",
   "name": "python3"
  },
  "language_info": {
   "codemirror_mode": {
    "name": "ipython",
    "version": 3
   },
   "file_extension": ".py",
   "mimetype": "text/x-python",
   "name": "python",
   "nbconvert_exporter": "python",
   "pygments_lexer": "ipython3",
   "version": "3.8.5"
  }
 },
 "nbformat": 4,
 "nbformat_minor": 5
}