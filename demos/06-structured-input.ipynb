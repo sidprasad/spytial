{
 "cells": [
  {
   "cell_type": "markdown",
   "id": "structured-input-intro",
   "metadata": {},
   "source": [
    "# sPyTial Structured Input Demo\n",
    "\n",
    "This notebook demonstrates the new structured input functionality in sPyTial, which allows users to:\n",
    "\n",
    "- **Create data structures with \"holes\"** - placeholders that can be filled interactively\n",
    "- **Use templates** - predefined patterns for common data structures\n",
    "- **Interactive REPL** - build data structures step by step with live visualization\n",
    "- **Direct manipulation** - modify data through both command interface and visual feedback\n",
    "\n",
    "This addresses the need for structured input capabilities as outlined in the original issue."
   ]
  },
  {
   "cell_type": "code",
   "execution_count": null,
   "id": "setup",
   "metadata": {},
   "outputs": [],
   "source": [
    "import sys\n",
    "from pathlib import Path\n",
    "\n",
    "# Add the parent directory to the Python path\n",
    "sys.path.append(str(Path().resolve().parent))\n",
    "\n",
    "import spytial\n",
    "from spytial import (\n",
    "    structured_input, \n",
    "    Hole, \n",
    "    create_hole, \n",
    "    create_template,\n",
    "    start_from_template,\n",
    "    fill_hole_by_description,\n",
    "    get_current_state,\n",
    "    get_result,\n",
    "    list_templates,\n",
    "    reset\n",
    ")\n",
    "import json"
   ]
  },
  {
   "cell_type": "markdown",
   "id": "basic-holes-section",
   "metadata": {},
   "source": [
    "## 1. Basic Holes and Templates\n",
    "\n",
    "Let's start by exploring the concept of \"holes\" - placeholders in data structures that can be filled later."
   ]
  },
  {
   "cell_type": "code",
   "execution_count": null,
   "id": "basic-holes",
   "metadata": {},
   "outputs": [],
   "source": [
    "# Create a hole - a placeholder for a value\n",
    "name_hole = create_hole(\"str\", \"person_name\")\n",
    "age_hole = create_hole(\"int\", \"person_age\")\n",
    "\n",
    "print(\"Created holes:\")\n",
    "print(f\"Name hole: {name_hole}\")\n",
    "print(f\"Age hole: {age_hole}\")\n",
    "\n",
    "# Create a data structure with holes\n",
    "person_template = {\n",
    "    \"name\": name_hole,\n",
    "    \"age\": age_hole,\n",
    "    \"status\": \"active\",  # Pre-filled value\n",
    "    \"metadata\": {\n",
    "        \"created\": \"2024-01-01\",\n",
    "        \"last_updated\": create_hole(\"str\", \"update_time\")\n",
    "    }\n",
    "}\n",
    "\n",
    "print(\"\\nPerson template with holes:\")\n",
    "print(json.dumps(person_template, indent=2, default=str))"
   ]
  },
  {
   "cell_type": "markdown",
   "id": "template-system-section",
   "metadata": {},
   "source": [
    "## 2. Using the Template System\n",
    "\n",
    "sPyTial provides a template system with common data structure patterns pre-built."
   ]
  },
  {
   "cell_type": "code",
   "execution_count": null,
   "id": "template-system",
   "metadata": {},
   "outputs": [],
   "source": [
    "# List available templates\n",
    "print(\"Available templates:\")\n",
    "templates = list_templates()\n",
    "for template_name in templates:\n",
    "    print(f\"  - {template_name}\")\n",
    "\n",
    "# Start with a simple dictionary template\n",
    "print(\"\\n=== Working with simple_dict template ===\")\n",
    "template = start_from_template(\"simple_dict\")\n",
    "print(f\"Started template: {template.name}\")\n",
    "print(f\"Description: {template.description}\")\n",
    "\n",
    "# Check the current state\n",
    "state = get_current_state()\n",
    "print(\"\\nCurrent state:\")\n",
    "print(json.dumps(state, indent=2))"
   ]
  },
  {
   "cell_type": "code",
   "execution_count": null,
   "id": "fill-holes",
   "metadata": {},
   "outputs": [],
   "source": [
    "# Fill the hole in our template\n",
    "print(\"Filling the 'value' hole with 'Hello, World!'\")\n",
    "updated_template = fill_hole_by_description(\"value\", \"Hello, World!\")\n",
    "\n",
    "# Check if the template is complete\n",
    "print(f\"\\nTemplate complete: {updated_template.is_complete()}\")\n",
    "\n",
    "if updated_template.is_complete():\n",
    "    result = get_result()\n",
    "    print(\"\\nFinal result:\")\n",
    "    print(json.dumps(result, indent=2))\n",
    "    \n",
    "    # Visualize the result\n",
    "    print(\"\\nVisualizing the completed structure:\")\n",
    "    spytial.diagram(result)"
   ]
  },
  {
   "cell_type": "markdown",
   "id": "tree-template-section",
   "metadata": {},
   "source": [
    "## 3. Building Complex Structures - Tree Example\n",
    "\n",
    "Let's work with a more complex template - a binary tree node."
   ]
  },
  {
   "cell_type": "code",
   "execution_count": null,
   "id": "tree-template",
   "metadata": {},
   "outputs": [],
   "source": [
    "# Reset and start with tree template\n",
    "reset()\n",
    "print(\"=== Building a Tree Structure ===\")\n",
    "\n",
    "tree_template = start_from_template(\"tree_node\")\n",
    "print(f\"Started with: {tree_template.name}\")\n",
    "\n",
    "# Show the holes we need to fill\n",
    "state = get_current_state()\n",
    "print(\"\\nHoles to fill:\")\n",
    "for hole in state['holes']:\n",
    "    print(f\"  - {hole['description']} ({hole['type_hint']})\")\n",
    "\n",
    "# Fill the root value\n",
    "print(\"\\nFilling root value...\")\n",
    "fill_hole_by_description(\"node_value\", \"Root\")\n",
    "\n",
    "# For tree nodes, we can create nested structures\n",
    "print(\"Creating left child...\")\n",
    "left_child = {\"value\": \"Left Child\", \"left\": None, \"right\": None}\n",
    "fill_hole_by_description(\"left_child\", left_child)\n",
    "\n",
    "print(\"Creating right child...\")\n",
    "right_child = {\"value\": \"Right Child\", \"left\": None, \"right\": None}\n",
    "fill_hole_by_description(\"right_child\", right_child)\n",
    "\n",
    "# Get the final tree\n",
    "tree = get_result()\n",
    "print(\"\\nCompleted tree structure:\")\n",
    "print(json.dumps(tree, indent=2))"
   ]
  },
  {
   "cell_type": "code",
   "execution_count": null,
   "id": "tree-visualization",
   "metadata": {},
   "outputs": [],
   "source": [
    "# Visualize the tree with spatial annotations\n",
    "print(\"Visualizing the tree structure:\")\n",
    "\n",
    "# Apply spatial constraints to make it look like a tree\n",
    "spytial.annotate_orientation(tree, \"value\", [\"above\"])\n",
    "spytial.diagram(tree)"
   ]
  },
  {
   "cell_type": "markdown",
   "id": "interactive-repl-section",
   "metadata": {},
   "source": [
    "## 4. Interactive Structured Input REPL\n",
    "\n",
    "The most powerful feature is the interactive REPL interface that allows real-time building and visualization of data structures."
   ]
  },
  {
   "cell_type": "code",
   "execution_count": null,
   "id": "interactive-repl",
   "metadata": {},
   "outputs": [],
   "source": [
    "# Launch the interactive structured input interface\n",
    "print(\"Launching interactive structured input interface...\")\n",
    "print(\"This will open an interface where you can:\")\n",
    "print(\"  - Select templates from the left panel\")\n",
    "print(\"  - Fill holes using REPL commands\")\n",
    "print(\"  - See live visualization updates\")\n",
    "print(\"  - Build complex structures step by step\")\n",
    "print(\"\\nTry these commands in the REPL:\")\n",
    "print(\"  start simple_list\")\n",
    "print(\"  fill first_item 42\")\n",
    "print(\"  fill second_item \\\"hello\\\"\")\n",
    "print(\"  result\")\n",
    "\n",
    "# This will open in a new browser tab or inline depending on environment\n",
    "structured_input()"
   ]
  },
  {
   "cell_type": "markdown",
   "id": "custom-template-section",
   "metadata": {},
   "source": [
    "## 5. Creating Custom Templates\n",
    "\n",
    "You can also create your own templates for specific use cases."
   ]
  },
  {
   "cell_type": "code",
   "execution_count": null,
   "id": "custom-template",
   "metadata": {},
   "outputs": [],
   "source": [
    "# Create a custom template for a student record\n",
    "print(\"=== Creating Custom Student Record Template ===\")\n",
    "\n",
    "student_name = create_hole(\"str\", \"student_name\")\n",
    "student_id = create_hole(\"int\", \"student_id\")\n",
    "grades = create_hole(\"list\", \"grades_list\")\n",
    "advisor = create_hole(\"str\", \"advisor_name\")\n",
    "\n",
    "student_template = create_template(\n",
    "    \"student_record\",\n",
    "    {\n",
    "        \"personal\": {\n",
    "            \"name\": student_name,\n",
    "            \"id\": student_id,\n",
    "            \"year\": \"2024\"\n",
    "        },\n",
    "        \"academic\": {\n",
    "            \"grades\": grades,\n",
    "            \"advisor\": advisor,\n",
    "            \"status\": \"enrolled\"\n",
    "        }\n",
    "    },\n",
    "    \"Student academic record template\"\n",
    ")\n",
    "\n",
    "print(f\"Created template: {student_template.name}\")\n",
    "print(f\"Holes to fill: {len(student_template.holes)}\")\n",
    "\n",
    "# Register it with the default builder\n",
    "spytial.default_builder.register_template(\n",
    "    \"student_record\", \n",
    "    student_template.template, \n",
    "    student_template.description,\n",
    "    student_template.holes\n",
    ")\n",
    "\n",
    "print(\"\\nRegistered with builder. Available templates now:\")\n",
    "for template_name in list_templates():\n",
    "    print(f\"  - {template_name}\")"
   ]
  },
  {
   "cell_type": "code",
   "execution_count": null,
   "id": "use-custom-template",
   "metadata": {},
   "outputs": [],
   "source": [
    "# Use the custom template\n",
    "reset()\n",
    "template = start_from_template(\"student_record\")\n",
    "\n",
    "# Fill in the student information\n",
    "fill_hole_by_description(\"student_name\", \"Alice Johnson\")\n",
    "fill_hole_by_description(\"student_id\", 12345)\n",
    "fill_hole_by_description(\"grades_list\", [\"A\", \"B+\", \"A-\", \"B\"])\n",
    "fill_hole_by_description(\"advisor_name\", \"Dr. Smith\")\n",
    "\n",
    "# Get the completed record\n",
    "student_record = get_result()\n",
    "print(\"Completed student record:\")\n",
    "print(json.dumps(student_record, indent=2))\n",
    "\n",
    "# Visualize the structure\n",
    "print(\"\\nVisualizing student record:\")\n",
    "spytial.diagram(student_record)"
   ]
  },
  {
   "cell_type": "markdown",
   "id": "live-repl-demo-section", 
   "metadata": {},
   "source": [
    "## 6. Advanced: Live REPL with Custom Data\n",
    "\n",
    "The structured input interface can also start with existing data and allow modifications."
   ]
  },
  {
   "cell_type": "code",
   "execution_count": null,
   "id": "live-repl-demo",
   "metadata": {},
   "outputs": [],
   "source": [
    "# Start the structured input with some initial data\n",
    "initial_graph = {\n",
    "    \"nodes\": [\n",
    "        {\"id\": \"A\", \"value\": 1},\n",
    "        {\"id\": \"B\", \"value\": 2},\n",
    "        {\"id\": \"C\", \"value\": 3}\n",
    "    ],\n",
    "    \"edges\": [\n",
    "        {\"from\": \"A\", \"to\": \"B\"},\n",
    "        {\"from\": \"B\", \"to\": \"C\"}\n",
    "    ]\n",
    "}\n",
    "\n",
    "print(\"Launching structured input with initial graph data...\")\n",
    "print(\"You can now:\")\n",
    "print(\"  - Use templates to add new structures\")\n",
    "print(\"  - See the existing data visualized\")\n",
    "print(\"  - Build on top of the existing structure\")\n",
    "\n",
    "structured_input(initial_data=initial_graph, method=\"file\")"
   ]
  },
  {
   "cell_type": "markdown",
   "id": "conclusion-section",
   "metadata": {},
   "source": [
    "## Conclusion\n",
    "\n",
    "The structured input functionality provides a powerful way to:\n",
    "\n",
    "1. **Build data incrementally** using holes and templates\n",
    "2. **Interactive construction** through the REPL interface\n",
    "3. **Live visualization** of data as it's being built\n",
    "4. **Template system** for common patterns\n",
    "5. **Custom templates** for domain-specific needs\n",
    "\n",
    "This addresses the original issue by providing:\n",
    "- ✅ Structured input capabilities\n",
    "- ✅ Interactive REPL with live view\n",
    "- ✅ Support for constructing values with \"holes\"\n",
    "- ✅ Direct manipulation through commands\n",
    "- ✅ Foundation for visual editing (extendable)\n",
    "\n",
    "The system is designed to be extensible, allowing for future enhancements like:\n",
    "- Visual drag-and-drop editing\n",
    "- More sophisticated constraint systems\n",
    "- Integration with external data sources\n",
    "- Custom visualization patterns for templates"
   ]
  }
 ],
 "metadata": {
  "kernelspec": {
   "display_name": "Python 3",
   "language": "python",
   "name": "python3"
  },
  "language_info": {
   "codemirror_mode": {
    "name": "ipython",
    "version": 3
   },
   "file_extension": ".py",
   "mimetype": "text/x-python",
   "name": "python",
   "nbconvert_exporter": "python",
   "pygments_lexer": "ipython3",
   "version": "3.8.5"
  }
 },
 "nbformat": 4,
 "nbformat_minor": 4
}