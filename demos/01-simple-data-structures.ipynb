{
 "cells": [
  {
   "cell_type": "markdown",
   "id": "ad79ecdb",
   "metadata": {},
   "source": [
    "# sPyTial for Data Structures: Making Code Spatial\n",
    "\n",
    "**Discover how sPyTial transforms traditional data structure debugging and visualization**\n",
    "\n",
    "This notebook demonstrates sPyTial's core capability: revealing the spatial relationships inherent in your data structures. Instead of text-based output or complex debugging sessions, see your data's architecture visually.\n",
    "\n",
    "## Why Spatial Visualization for Data Structures?\n",
    "\n",
    "**Traditional debugging:**\n",
    "```python\n",
    "def print_tree(node, level=0):\n",
    "    if node:\n",
    "        print(\"  \" * level + str(node.value))\n",
    "        print_tree(node.left, level + 1)\n",
    "        print_tree(node.right, level + 1)\n",
    "```\n",
    "Output: Text that doesn't scale and loses structure\n",
    "\n",
    "**sPyTial approach:**\n",
    "```python\n",
    "@orientation(selector='{ x : TreeNode, y : TreeNode | x.left = y}', directions=['below', 'left'])\n",
    "class TreeNode:\n",
    "    # ... automatically visualizes spatial relationships\n",
    "```\n",
    "Output: Interactive spatial diagram showing actual tree structure"
   ]
  },
  {
   "cell_type": "code",
   "execution_count": 1,
   "id": "bcf56e66",
   "metadata": {},
   "outputs": [],
   "source": [
    "import sys\n",
    "from pathlib import Path\n",
    "\n",
    "# Add the parent directory to the Python path\n",
    "sys.path.append(str(Path().resolve().parent))\n",
    "\n",
    "from spytial import diagram\n",
    "from spytial.annotations import orientation, attribute, hideAtom, atomColor, group\n",
    "from collections import namedtuple, deque\n",
    "import json"
   ]
  },
  {
   "cell_type": "markdown",
   "id": "17b09393",
   "metadata": {},
   "source": [
    "## 1. Basic Data Structures: Beyond Print Statements\n",
    "\n",
    "Let's start with common Python data structures and see how sPyTial reveals their organization."
   ]
  },
  {
   "cell_type": "code",
   "execution_count": 2,
   "id": "e3cd9e46",
   "metadata": {},
   "outputs": [
    {
     "name": "stdout",
     "output_type": "stream",
     "text": [
      "Traditional output (try to see the structure):\n",
      "{\n",
      "  \"users\": [\n",
      "    {\n",
      "      \"name\": \"Alice\",\n",
      "      \"age\": 30,\n",
      "      \"skills\": [\n",
      "        \"Python\",\n",
      "        \"JavaScript\"\n",
      "      ]\n",
      "    },\n",
      "    {\n",
      "      \"name\": \"Bob\",\n",
      "      \"age\": 25,\n",
      "      \"skills\": [\n",
      "     ...\n",
      "\n",
      "sPyTial spatial view:\n"
     ]
    },
    {
     "data": {
      "text/html": [
       "\n",
       "                <div style=\"border: 2px solid #007acc; border-radius: 8px; overflow: hidden;\">\n",
       "                    <iframe \n",
       "                        src=\"data:text/html;base64,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\" \n",
       "                        width=\"100%\" \n",
       "                        height=\"650px\" \n",
       "                        frameborder=\"0\"\n",
       "                        style=\"display: block;\">\n",
       "                    </iframe>\n",
       "                </div>\n",
       "                "
      ],
      "text/plain": [
       "<IPython.core.display.HTML object>"
      ]
     },
     "metadata": {},
     "output_type": "display_data"
    }
   ],
   "source": [
    "# Traditional approach: nested dictionaries and lists\n",
    "application_data = {\n",
    "    \"users\": [\n",
    "        {\"name\": \"Alice\", \"age\": 30, \"skills\": [\"Python\", \"JavaScript\"]},\n",
    "        {\"name\": \"Bob\", \"age\": 25, \"skills\": [\"Java\", \"C++\"]}\n",
    "    ],\n",
    "    \"projects\": {\n",
    "        \"web_app\": {\"lead\": \"Alice\", \"status\": \"active\"},\n",
    "        \"mobile_app\": {\"lead\": \"Bob\", \"status\": \"planning\"}\n",
    "    },\n",
    "    \"stats\": {\"total_users\": 2, \"active_projects\": 1}\n",
    "}\n",
    "\n",
    "print(\"Traditional output (try to see the structure):\")\n",
    "print(json.dumps(application_data, indent=2)[:200] + \"...\")\n",
    "\n",
    "print(\"\\nsPyTial spatial view:\")\n",
    "diagram(application_data)"
   ]
  },
  {
   "cell_type": "markdown",
   "id": "a2327b0a",
   "metadata": {},
   "source": [
    "## 2. Binary Trees: From ASCII Art to Spatial Relations\n",
    "\n",
    "Binary trees are perfect for demonstrating sPyTial's power. Traditional approaches use ASCII art or recursive printing that breaks down with larger trees."
   ]
  },
  {
   "cell_type": "code",
   "execution_count": 3,
   "id": "f6aacc6e",
   "metadata": {},
   "outputs": [
    {
     "name": "stdout",
     "output_type": "stream",
     "text": [
      "Traditional ASCII output:\n",
      "        18\n",
      "    15\n",
      "        12\n",
      "10\n",
      "        7\n",
      "    5\n",
      "        3\n",
      "\n",
      "sPyTial spatial visualization:\n"
     ]
    },
    {
     "data": {
      "text/html": [
       "\n",
       "                <div style=\"border: 2px solid #007acc; border-radius: 8px; overflow: hidden;\">\n",
       "                    <iframe \n",
       "                        src=\"data:text/html;base64,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\" \n",
       "                        width=\"100%\" \n",
       "                        height=\"650px\" \n",
       "                        frameborder=\"0\"\n",
       "                        style=\"display: block;\">\n",
       "                    </iframe>\n",
       "                </div>\n",
       "                "
      ],
      "text/plain": [
       "<IPython.core.display.HTML object>"
      ]
     },
     "metadata": {},
     "output_type": "display_data"
    }
   ],
   "source": [
    "# Define a spatially-aware binary tree\n",
    "@orientation(selector='{ x : TreeNode, y : TreeNode | x.left = y}', directions=['below', 'left'])\n",
    "@orientation(selector='{ x : TreeNode, y : TreeNode | x.right = y}', directions=['below', 'right'])\n",
    "@attribute(field='value')\n",
    "@hideAtom(selector='NoneType')\n",
    "class TreeNode:\n",
    "    def __init__(self, value, left=None, right=None):\n",
    "        self.value = value\n",
    "        self.left = left\n",
    "        self.right = right\n",
    "\n",
    "    def __repr__(self):\n",
    "        return f\"TreeNode({self.value})\"\n",
    "    \n",
    "    def traditional_print(self, level=0):\n",
    "        \"\"\"Traditional ASCII tree printing\"\"\"\n",
    "        if self.right:\n",
    "            self.right.traditional_print(level + 1)\n",
    "        print('    ' * level + str(self.value))\n",
    "        if self.left:\n",
    "            self.left.traditional_print(level + 1)\n",
    "    \n",
    "# Create a sample binary search tree\n",
    "root = TreeNode(\n",
    "    value=10,\n",
    "    left=TreeNode(\n",
    "        value=5,\n",
    "        left=TreeNode(3),\n",
    "        right=TreeNode(7)\n",
    "    ),\n",
    "    right=TreeNode(\n",
    "        value=15,\n",
    "        left=TreeNode(12),\n",
    "        right=TreeNode(18)\n",
    "    )\n",
    ")\n",
    "\n",
    "print(\"Traditional ASCII output:\")\n",
    "root.traditional_print()\n",
    "\n",
    "print(\"\\nsPyTial spatial visualization:\")\n",
    "diagram(root)"
   ]
  },
  {
   "cell_type": "markdown",
   "id": "44bde82f",
   "metadata": {},
   "source": [
    "## 3. Sets and Collections: Revealing Hidden Structure\n",
    "\n",
    "Sets traditionally appear as unordered collections. sPyTial can reveal their internal organization and relationships."
   ]
  },
  {
   "cell_type": "code",
   "execution_count": 4,
   "id": "5180fc70",
   "metadata": {},
   "outputs": [
    {
     "name": "stdout",
     "output_type": "stream",
     "text": [
      "Traditional set output: {1, 3, 4, 6, 7, 8, 22, 55}\n",
      "No structure visible, just comma-separated values\n",
      "\n",
      "sPyTial set visualization:\n"
     ]
    },
    {
     "data": {
      "text/html": [
       "\n",
       "                <div style=\"border: 2px solid #007acc; border-radius: 8px; overflow: hidden;\">\n",
       "                    <iframe \n",
       "                        src=\"data:text/html;base64,PCFET0NUWVBFIGh0bWw+CjxodG1sIGxhbmc9ImVuIj4KCjxoZWFkPgogICAgPG1ldGEgY2hhcnNldD0iVVRGLTgiPgogICAgPG1ldGEgbmFtZT0idmlld3BvcnQiIGNvbnRlbnQ9IndpZHRoPWRldmljZS13aWR0aCwgaW5pdGlhbC1zY2FsZT0xLjAiPgogICAgPHRpdGxlPnNQeVRpYWwgVmlzdWFsaXphdGlvbjwvdGl0bGU+CiAgICA8c3R5bGU+CiAgICAgICAgYm9keSB7CiAgICAgICAgICAgIGZvbnQtZmFtaWx5OiBBcmlhbCwgc2Fucy1zZXJpZjsKICAgICAgICAgICAgbWFyZ2luOiAwOwogICAgICAgICAgICBwYWRkaW5nOiAyMHB4OwogICAgICAgICAgICBiYWNrZ3JvdW5kLWNvbG9yOiAjZjVmNWY1OwogICAgICAgIH0KCiAgICAgICAgI2dyYXBoLWNvbnRhaW5lciB7CiAgICAgICAgICAgIHdpZHRoOiA4MDBweDsKICAgICAgICAgICAgaGVpZ2h0OiA2MDBweDsKICAgICAgICAgICAgYm9yZGVyOiAycHggc29saWQgIzAwN2FjYzsKICAgICAgICAgICAgYm9yZGVyLXJhZGl1czogOHB4OwogICAgICAgICAgICBtYXJnaW46IDIwcHggYXV0bzsKICAgICAgICB9CiAgICA8L3N0eWxlPgogICAgPHNjcmlwdCBzcmM9Imh0dHBzOi8vZDNqcy5vcmcvZDMudjQubWluLmpzIj48L3NjcmlwdD4KICAgIDxzY3JpcHQgc3JjPSJodHRwczovL2Nkbi5qc2RlbGl2ci5uZXQvbnBtL2NuZC1jb3JlL2Rpc3QvYnJvd3Nlci9jbmQtY29yZS1jb21wbGV0ZS5nbG9iYWwuanMiPjwvc2NyaXB0PgoKPGJvZHk+CiAgICA8IS0tIFdlYkNvbGEgc1B5VGlhbCBHcmFwaCBFbGVtZW50IC0tPgogICAgPHdlYmNvbGEtY25kLWdyYXBoIGlkPSJncmFwaC1jb250YWluZXIiIHdpZHRoPSI4MDAiIGhlaWdodD0iNjAwIiBsYXlvdXRGb3JtYXQ9ImRlZmF1bHQiCiAgICAgICAgYXJpYS1sYWJlbD0iSW50ZXJhY3RpdmUgZ3JhcGggdmlzdWFsaXphdGlvbiI+CiAgICA8L3dlYmNvbGEtY25kLWdyYXBoPgogICAgPGRpdiBpZD0iZXJyb3ItbWVzc2FnZSI+PC9kaXY+CgogICAgPHNjcmlwdD4KICAgICAgICAvLyBFbWJlZGRlZCBkYXRhIHBhc3NlZCBmcm9tIHRoZSBzZXJ2ZXIKICAgICAgICBjb25zdCBjbmRTcGVjID0gYGNvbnN0cmFpbnRzOiBbXQpkaXJlY3RpdmVzOiBbXQpgOwogICAgICAgIGNvbnN0IGpzb25EYXRhID0gYHsiYXRvbXMiOiBbeyJpZCI6ICJuMSIsICJ0eXBlIjogImludCIsICJsYWJlbCI6ICIxIiwgInR5cGVfaGllcmFyY2h5IjogWyJpbnQiLCAib2JqZWN0Il19LCB7ImlkIjogIm4yIiwgInR5cGUiOiAiaW50IiwgImxhYmVsIjogIjMiLCAidHlwZV9oaWVyYXJjaHkiOiBbImludCIsICJvYmplY3QiXX0sIHsiaWQiOiAibjMiLCAidHlwZSI6ICJpbnQiLCAibGFiZWwiOiAiNCIsICJ0eXBlX2hpZXJhcmNoeSI6IFsiaW50IiwgIm9iamVjdCJdfSwgeyJpZCI6ICJuNCIsICJ0eXBlIjogImludCIsICJsYWJlbCI6ICI2IiwgInR5cGVfaGllcmFyY2h5IjogWyJpbnQiLCAib2JqZWN0Il19LCB7ImlkIjogIm41IiwgInR5cGUiOiAiaW50IiwgImxhYmVsIjogIjciLCAidHlwZV9oaWVyYXJjaHkiOiBbImludCIsICJvYmplY3QiXX0sIHsiaWQiOiAibjYiLCAidHlwZSI6ICJpbnQiLCAibGFiZWwiOiAiOCIsICJ0eXBlX2hpZXJhcmNoeSI6IFsiaW50IiwgIm9iamVjdCJdfSwgeyJpZCI6ICJuNyIsICJ0eXBlIjogImludCIsICJsYWJlbCI6ICIyMiIsICJ0eXBlX2hpZXJhcmNoeSI6IFsiaW50IiwgIm9iamVjdCJdfSwgeyJpZCI6ICJuOCIsICJ0eXBlIjogImludCIsICJsYWJlbCI6ICI1NSIsICJ0eXBlX2hpZXJhcmNoeSI6IFsiaW50IiwgIm9iamVjdCJdfSwgeyJpZCI6ICJuMCIsICJ0eXBlIjogInNldCIsICJsYWJlbCI6ICJzZXRbOF0iLCAidHlwZV9oaWVyYXJjaHkiOiBbInNldCIsICJvYmplY3QiXX1dLCAicmVsYXRpb25zIjogW3siaWQiOiAiY29udGFpbnMiLCAibmFtZSI6ICJjb250YWlucyIsICJ0eXBlcyI6IFsib2JqZWN0IiwgIm9iamVjdCJdLCAidHVwbGVzIjogW3siYXRvbXMiOiBbIm4wIiwgIm4xIl0sICJ0eXBlcyI6IFsic2V0IiwgImludCJdfSwgeyJhdG9tcyI6IFsibjAiLCAibjIiXSwgInR5cGVzIjogWyJzZXQiLCAiaW50Il19LCB7ImF0b21zIjogWyJuMCIsICJuMyJdLCAidHlwZXMiOiBbInNldCIsICJpbnQiXX0sIHsiYXRvbXMiOiBbIm4wIiwgIm40Il0sICJ0eXBlcyI6IFsic2V0IiwgImludCJdfSwgeyJhdG9tcyI6IFsibjAiLCAibjUiXSwgInR5cGVzIjogWyJzZXQiLCAiaW50Il19LCB7ImF0b21zIjogWyJuMCIsICJuNiJdLCAidHlwZXMiOiBbInNldCIsICJpbnQiXX0sIHsiYXRvbXMiOiBbIm4wIiwgIm43Il0sICJ0eXBlcyI6IFsic2V0IiwgImludCJdfSwgeyJhdG9tcyI6IFsibjAiLCAibjgiXSwgInR5cGVzIjogWyJzZXQiLCAiaW50Il19XX1dLCAidHlwZXMiOiBbeyJfIjogInR5cGUiLCAiaWQiOiAiaW50IiwgInR5cGVzIjogWyJpbnQiLCAib2JqZWN0Il0sICJhdG9tcyI6IFt7Il8iOiAiYXRvbSIsICJpZCI6ICJuMSIsICJ0eXBlIjogImludCJ9LCB7Il8iOiAiYXRvbSIsICJpZCI6ICJuMiIsICJ0eXBlIjogImludCJ9LCB7Il8iOiAiYXRvbSIsICJpZCI6ICJuMyIsICJ0eXBlIjogImludCJ9LCB7Il8iOiAiYXRvbSIsICJpZCI6ICJuNCIsICJ0eXBlIjogImludCJ9LCB7Il8iOiAiYXRvbSIsICJpZCI6ICJuNSIsICJ0eXBlIjogImludCJ9LCB7Il8iOiAiYXRvbSIsICJpZCI6ICJuNiIsICJ0eXBlIjogImludCJ9LCB7Il8iOiAiYXRvbSIsICJpZCI6ICJuNyIsICJ0eXBlIjogImludCJ9LCB7Il8iOiAiYXRvbSIsICJpZCI6ICJuOCIsICJ0eXBlIjogImludCJ9XSwgIm1ldGEiOiB7ImJ1aWx0aW4iOiB0cnVlfX0sIHsiXyI6ICJ0eXBlIiwgImlkIjogInNldCIsICJ0eXBlcyI6IFsic2V0IiwgIm9iamVjdCJdLCAiYXRvbXMiOiBbeyJfIjogImF0b20iLCAiaWQiOiAibjAiLCAidHlwZSI6ICJzZXQifV0sICJtZXRhIjogeyJidWlsdGluIjogZmFsc2V9fV19YDsKCgogICAgICAgIC8qKgogICAgICAgICAqIExvYWQgYW5kIHJlbmRlciB0aGUgZ3JhcGggdXNpbmcgdGhlIHdlYmNvbGEtY25kLWdyYXBoIGN1c3RvbSBlbGVtZW50CiAgICAgICAgICovCiAgICAgICAgYXN5bmMgZnVuY3Rpb24gbG9hZEdyYXBoKCkgewogICAgICAgICAgICBjb25zdCBncmFwaEVsZW1lbnQgPSBkb2N1bWVudC5nZXRFbGVtZW50QnlJZCgnZ3JhcGgtY29udGFpbmVyJyk7CgogICAgICAgICAgICAvLyBDaGVjayBpZiBDbkQgQ29yZSBpcyBhdmFpbGFibGUKICAgICAgICAgICAgaWYgKHR5cGVvZiBDbmRDb3JlID09PSAndW5kZWZpbmVkJykgewogICAgICAgICAgICAgICAgY29uc29sZS5lcnJvcignQ25EIENvcmUgbGlicmFyeSBpcyBub3QgYXZhaWxhYmxlJyk7CiAgICAgICAgICAgICAgICBzaG93RXJyb3IoJ0NuRCBDb3JlIGxpYnJhcnkgZmFpbGVkIHRvIGxvYWQuIFRoZSB2aXN1YWxpemF0aW9uIGNhbm5vdCBiZSBkaXNwbGF5ZWQuJyk7CiAgICAgICAgICAgICAgICByZXR1cm47CiAgICAgICAgICAgIH0KCiAgICAgICAgICAgIHRyeSB7CiAgICAgICAgICAgICAgICBjb25zb2xlLmxvZygnU3RhcnRpbmcgZ3JhcGggcmVuZGVyaW5nLi4uJyk7CiAgICAgICAgICAgICAgICBjb25zb2xlLmxvZygnc1B5VGlhbCBTcGVjOicsIGNuZFNwZWMpOwogICAgICAgICAgICAgICAgY29uc29sZS5sb2coJ0pTT04gRGF0YTonLCBqc29uRGF0YS5zdWJzdHJpbmcoMCwgMjAwKSArICcuLi4nKTsKCiAgICAgICAgICAgICAgICAvLyBQYXJzZSBKU09OIGRhdGEgaWYgaXQncyBhIHN0cmluZwogICAgICAgICAgICAgICAgbGV0IHBhcnNlZERhdGE7CiAgICAgICAgICAgICAgICB0cnkgewogICAgICAgICAgICAgICAgICAgIHBhcnNlZERhdGEgPSB0eXBlb2YganNvbkRhdGEgPT09ICdzdHJpbmcnID8gSlNPTi5wYXJzZShqc29uRGF0YSkgOiBqc29uRGF0YTsKICAgICAgICAgICAgICAgIH0gY2F0Y2ggKHBhcnNlRXJyb3IpIHsKICAgICAgICAgICAgICAgICAgICB0aHJvdyBuZXcgRXJyb3IoYEZhaWxlZCB0byBwYXJzZSBKU09OIGRhdGE6ICR7cGFyc2VFcnJvci5tZXNzYWdlfWApOwogICAgICAgICAgICAgICAgfQoKICAgICAgICAgICAgICAgIC8vIENyZWF0ZSBhIGRhdGEgaW5zdGFuY2UgZnJvbSB0aGUgSlNPTiBkYXRhCiAgICAgICAgICAgICAgICBjb25zdCBkYXRhSW5zdGFuY2UgPSBuZXcgQ25kQ29yZS5KU09ORGF0YUluc3RhbmNlKHBhcnNlZERhdGEpOwogICAgICAgICAgICAgICAgd2luZG93LmRhdGFJbnN0YW5jZSA9IGRhdGFJbnN0YW5jZTsgLy8gRXhwb3NlIGZvciBkZWJ1Z2dpbmcKCiAgICAgICAgICAgICAgICAvLyBJbml0aWFsaXplIHRoZSBldmFsdWF0aW9uIGNvbnRleHQKICAgICAgICAgICAgICAgIGNvbnN0IGV2YWx1YXRpb25Db250ZXh0ID0geyBzb3VyY2VEYXRhOiBkYXRhSW5zdGFuY2UgfTsKICAgICAgICAgICAgICAgIGNvbnN0IHNncUV2YWx1YXRvciA9IG5ldyBDbmRDb3JlLlNHcmFwaFF1ZXJ5RXZhbHVhdG9yKCk7CiAgICAgICAgICAgICAgICBzZ3FFdmFsdWF0b3IuaW5pdGlhbGl6ZShldmFsdWF0aW9uQ29udGV4dCk7CiAgICAgICAgICAgICAgICBjb25zb2xlLmxvZygnRXZhbHVhdGlvbiBjb250ZXh0IGluaXRpYWxpemVkJyk7CgogICAgICAgICAgICAgICAgd2luZG93LmV2YWx1YXRvciA9IHNncUV2YWx1YXRvcjsgLy8gRXhwb3NlIGV2YWx1YXRvciBmb3IgZGVidWdnaW5nCgogICAgICAgICAgICAgICAgLy8gUGFyc2UgdGhlIENORCBzcGVjaWZpY2F0aW9uCiAgICAgICAgICAgICAgICBjb25zdCBsYXlvdXRTcGVjID0gQ25kQ29yZS5wYXJzZUxheW91dFNwZWMoY25kU3BlYyk7CiAgICAgICAgICAgICAgICBjb25zb2xlLmxvZygnTGF5b3V0IHNwZWMgcGFyc2VkJyk7CgogICAgICAgICAgICAgICAgLy8gR2VuZXJhdGUgdGhlIGxheW91dAogICAgICAgICAgICAgICAgY29uc3QgbGF5b3V0SW5zdGFuY2UgPSBuZXcgQ25kQ29yZS5MYXlvdXRJbnN0YW5jZShsYXlvdXRTcGVjLCBzZ3FFdmFsdWF0b3IsIDAsIHRydWUpOwogICAgICAgICAgICAgICAgY29uc3QgbGF5b3V0UmVzdWx0ID0gbGF5b3V0SW5zdGFuY2UuZ2VuZXJhdGVMYXlvdXQoZGF0YUluc3RhbmNlLCB7fSk7CiAgICAgICAgICAgICAgICBjb25zdCBpbnN0YW5jZUxheW91dCA9IGxheW91dFJlc3VsdC5sYXlvdXQ7CiAgICAgICAgICAgICAgICBjb25zb2xlLmxvZygnTGF5b3V0IGdlbmVyYXRlZCcpOwoKICAgICAgICAgICAgICAgIC8vIFJlbmRlciB0aGUgZ3JhcGgKICAgICAgICAgICAgICAgIGF3YWl0IGdyYXBoRWxlbWVudC5yZW5kZXJMYXlvdXQoaW5zdGFuY2VMYXlvdXQpOwogICAgICAgICAgICAgICAgY29uc29sZS5sb2coJ0dyYXBoIHJlbmRlcmVkIHN1Y2Nlc3NmdWxseSEnKTsKCiAgICAgICAgICAgIH0gY2F0Y2ggKGVycm9yKSB7CiAgICAgICAgICAgICAgICBjb25zb2xlLmVycm9yKCdFcnJvciByZW5kZXJpbmcgZ3JhcGg6JywgZXJyb3IpOwogICAgICAgICAgICAgICAgc2hvd0Vycm9yKGBFcnJvciByZW5kZXJpbmcgZ3JhcGg6ICR7ZXJyb3IubWVzc2FnZX1gKTsKICAgICAgICAgICAgfQogICAgICAgIH0KCiAgICAgICAgLyoqCiAgICAgICAgICogRGlzcGxheSBhbiBlcnJvciBtZXNzYWdlIGluIHRoZSBlcnJvci1tZXNzYWdlIGRpdi4KICAgICAgICAgKiBAcGFyYW0ge3N0cmluZ30gbWVzc2FnZSAtIFRoZSBlcnJvciBtZXNzYWdlIHRvIGRpc3BsYXkuCiAgICAgICAgICovCiAgICAgICAgZnVuY3Rpb24gc2hvd0Vycm9yKG1lc3NhZ2UpIHsKICAgICAgICAgICAgY29uc3QgZXJyb3JEaXYgPSBkb2N1bWVudC5nZXRFbGVtZW50QnlJZCgnZXJyb3ItbWVzc2FnZScpOwogICAgICAgICAgICBpZiAoZXJyb3JEaXYpIHsKICAgICAgICAgICAgICAgIGVycm9yRGl2LmlubmVySFRNTCA9IGAKICAgICAgICAgICAgICAgICAgICA8ZGl2IHN0eWxlPSJjb2xvcjogcmVkOyBwYWRkaW5nOiAxMHB4OyBib3JkZXI6IDFweCBzb2xpZCByZWQ7IGJhY2tncm91bmQtY29sb3I6ICNmZmU2ZTY7IG1hcmdpbi10b3A6IDEwcHg7Ij4KICAgICAgICAgICAgICAgICAgICAgICAgPGgzPkVycm9yPC9oMz4KICAgICAgICAgICAgICAgICAgICAgICAgPHA+JHttZXNzYWdlfTwvcD4KICAgICAgICAgICAgICAgICAgICA8L2Rpdj4KICAgICAgICAgICAgICAgIGA7CiAgICAgICAgICAgIH0gZWxzZSB7CiAgICAgICAgICAgICAgICBjb25zb2xlLmVycm9yKCdFcnJvciBkaXYgbm90IGZvdW5kLiBFcnJvciBtZXNzYWdlOicsIG1lc3NhZ2UpOwogICAgICAgICAgICB9CiAgICAgICAgfQoKICAgICAgICAvLyBBdXRvLWxvYWQgd2hlbiBwYWdlIGxvYWRzCiAgICAgICAgd2luZG93LmFkZEV2ZW50TGlzdGVuZXIoJ2xvYWQnLCBsb2FkR3JhcGgpOwogICAgPC9zY3JpcHQ+CjwvYm9keT4KCjwvaHRtbD4=\" \n",
       "                        width=\"100%\" \n",
       "                        height=\"650px\" \n",
       "                        frameborder=\"0\"\n",
       "                        style=\"display: block;\">\n",
       "                    </iframe>\n",
       "                </div>\n",
       "                "
      ],
      "text/plain": [
       "<IPython.core.display.HTML object>"
      ]
     },
     "metadata": {},
     "output_type": "display_data"
    },
    {
     "name": "stdout",
     "output_type": "stream",
     "text": [
      "\n",
      "With grouping to emphasize set containment:\n"
     ]
    },
    {
     "data": {
      "text/html": [
       "\n",
       "                <div style=\"border: 2px solid #007acc; border-radius: 8px; overflow: hidden;\">\n",
       "                    <iframe \n",
       "                        src=\"data:text/html;base64,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\" \n",
       "                        width=\"100%\" \n",
       "                        height=\"650px\" \n",
       "                        frameborder=\"0\"\n",
       "                        style=\"display: block;\">\n",
       "                    </iframe>\n",
       "                </div>\n",
       "                "
      ],
      "text/plain": [
       "<IPython.core.display.HTML object>"
      ]
     },
     "metadata": {},
     "output_type": "display_data"
    }
   ],
   "source": [
    "# Traditional set visualization\n",
    "numbers = {1, 22, 3, 4, 55, 6, 7, 8}\n",
    "print(f\"Traditional set output: {numbers}\")\n",
    "print(\"No structure visible, just comma-separated values\")\n",
    "\n",
    "print(\"\\nsPyTial set visualization:\")\n",
    "diagram(numbers)\n",
    "\n",
    "# Group elements to show containment relationships more clearly\n",
    "print(\"\\nWith grouping to emphasize set containment:\")\n",
    "grouped_set = group(field='contains', groupOn=0, addToGroup=1)(numbers)\n",
    "diagram(grouped_set)"
   ]
  },
  {
   "cell_type": "markdown",
   "id": "29d316a3",
   "metadata": {},
   "source": [
    "## 4. Queues and Stacks: Visualizing Linear Structures\n",
    "\n",
    "Linear data structures like queues and stacks benefit from spatial layout that shows their FIFO/LIFO nature."
   ]
  },
  {
   "cell_type": "code",
   "execution_count": 5,
   "id": "new_queue_demo",
   "metadata": {},
   "outputs": [
    {
     "name": "stdout",
     "output_type": "stream",
     "text": [
      "Traditional queue output: ['login_user', 'process_payment', 'send_email', 'update_inventory']\n",
      "Just a list - no sense of FIFO ordering\n",
      "\n",
      "sPyTial queue visualization:\n"
     ]
    },
    {
     "data": {
      "text/html": [
       "\n",
       "                <div style=\"border: 2px solid #007acc; border-radius: 8px; overflow: hidden;\">\n",
       "                    <iframe \n",
       "                        src=\"data:text/html;base64,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\" \n",
       "                        width=\"100%\" \n",
       "                        height=\"650px\" \n",
       "                        frameborder=\"0\"\n",
       "                        style=\"display: block;\">\n",
       "                    </iframe>\n",
       "                </div>\n",
       "                "
      ],
      "text/plain": [
       "<IPython.core.display.HTML object>"
      ]
     },
     "metadata": {},
     "output_type": "display_data"
    },
    {
     "name": "stdout",
     "output_type": "stream",
     "text": [
      "\n",
      "Traditional stack output: ['main()', 'process_order()', 'validate_payment()', 'check_inventory()']\n",
      "\n",
      "sPyTial stack visualization:\n"
     ]
    },
    {
     "data": {
      "text/html": [
       "\n",
       "                <div style=\"border: 2px solid #007acc; border-radius: 8px; overflow: hidden;\">\n",
       "                    <iframe \n",
       "                        src=\"data:text/html;base64,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\" \n",
       "                        width=\"100%\" \n",
       "                        height=\"650px\" \n",
       "                        frameborder=\"0\"\n",
       "                        style=\"display: block;\">\n",
       "                    </iframe>\n",
       "                </div>\n",
       "                "
      ],
      "text/plain": [
       "<IPython.core.display.HTML object>"
      ]
     },
     "metadata": {},
     "output_type": "display_data"
    }
   ],
   "source": [
    "# Queue simulation using deque\n",
    "from collections import deque\n",
    "\n",
    "# Create a task queue\n",
    "task_queue = deque([\"login_user\", \"process_payment\", \"send_email\", \"update_inventory\"])\n",
    "print(f\"Traditional queue output: {list(task_queue)}\")\n",
    "print(\"Just a list - no sense of FIFO ordering\")\n",
    "\n",
    "print(\"\\nsPyTial queue visualization:\")\n",
    "diagram(task_queue)\n",
    "\n",
    "# Stack simulation using list\n",
    "function_call_stack = [\"main()\", \"process_order()\", \"validate_payment()\", \"check_inventory()\"]\n",
    "print(f\"\\nTraditional stack output: {function_call_stack}\")\n",
    "print(\"\\nsPyTial stack visualization:\")\n",
    "diagram(function_call_stack)"
   ]
  },
  {
   "cell_type": "markdown",
   "id": "new_graph_section",
   "metadata": {},
   "source": [
    "## 5. Graph Structures: Connected Data Relationships\n",
    "\n",
    "Graphs are inherently spatial but traditionally visualized through adjacency lists or matrices. sPyTial shows actual connections."
   ]
  },
  {
   "cell_type": "code",
   "execution_count": 6,
   "id": "new_graph_demo",
   "metadata": {},
   "outputs": [
    {
     "name": "stdout",
     "output_type": "stream",
     "text": [
      "Traditional adjacency list:\n",
      "Alice: ['Bob', 'Charlie']\n",
      "Bob: ['Alice', 'David', 'Eve']\n",
      "Charlie: ['Alice', 'Eve']\n",
      "David: ['Bob']\n",
      "Eve: ['Bob', 'Charlie']\n",
      "\n",
      "sPyTial graph visualization:\n"
     ]
    },
    {
     "data": {
      "text/html": [
       "\n",
       "                <div style=\"border: 2px solid #007acc; border-radius: 8px; overflow: hidden;\">\n",
       "                    <iframe \n",
       "                        src=\"data:text/html;base64,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\" \n",
       "                        width=\"100%\" \n",
       "                        height=\"650px\" \n",
       "                        frameborder=\"0\"\n",
       "                        style=\"display: block;\">\n",
       "                    </iframe>\n",
       "                </div>\n",
       "                "
      ],
      "text/plain": [
       "<IPython.core.display.HTML object>"
      ]
     },
     "metadata": {},
     "output_type": "display_data"
    },
    {
     "name": "stdout",
     "output_type": "stream",
     "text": [
      "\n",
      "Weighted route network:\n"
     ]
    },
    {
     "data": {
      "text/html": [
       "\n",
       "                <div style=\"border: 2px solid #007acc; border-radius: 8px; overflow: hidden;\">\n",
       "                    <iframe \n",
       "                        src=\"data:text/html;base64,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\" \n",
       "                        width=\"100%\" \n",
       "                        height=\"650px\" \n",
       "                        frameborder=\"0\"\n",
       "                        style=\"display: block;\">\n",
       "                    </iframe>\n",
       "                </div>\n",
       "                "
      ],
      "text/plain": [
       "<IPython.core.display.HTML object>"
      ]
     },
     "metadata": {},
     "output_type": "display_data"
    }
   ],
   "source": [
    "# Simple graph using dictionaries\n",
    "social_network = {\n",
    "    \"Alice\": [\"Bob\", \"Charlie\"],\n",
    "    \"Bob\": [\"Alice\", \"David\", \"Eve\"],\n",
    "    \"Charlie\": [\"Alice\", \"Eve\"],\n",
    "    \"David\": [\"Bob\"],\n",
    "    \"Eve\": [\"Bob\", \"Charlie\"]\n",
    "}\n",
    "\n",
    "print(\"Traditional adjacency list:\")\n",
    "for person, friends in social_network.items():\n",
    "    print(f\"{person}: {friends}\")\n",
    "\n",
    "print(\"\\nsPyTial graph visualization:\")\n",
    "diagram(social_network)\n",
    "\n",
    "# More complex graph with weighted edges\n",
    "route_network = {\n",
    "    \"NYC\": {\"Boston\": 215, \"DC\": 230, \"Philadelphia\": 95},\n",
    "    \"Boston\": {\"NYC\": 215, \"Portland\": 108},\n",
    "    \"DC\": {\"NYC\": 230, \"Atlanta\": 640},\n",
    "    \"Philadelphia\": {\"NYC\": 95, \"DC\": 140},\n",
    "    \"Portland\": {\"Boston\": 108},\n",
    "    \"Atlanta\": {\"DC\": 640}\n",
    "}\n",
    "\n",
    "print(\"\\nWeighted route network:\")\n",
    "diagram(route_network)"
   ]
  },
  {
   "cell_type": "markdown",
   "id": "new_custom_section",
   "metadata": {},
   "source": [
    "## 6. Custom Data Structures: Domain-Specific Visualization\n",
    "\n",
    "sPyTial excels at visualizing domain-specific data structures by revealing their inherent spatial relationships."
   ]
  },
  {
   "cell_type": "code",
   "execution_count": 7,
   "id": "new_custom_demo",
   "metadata": {},
   "outputs": [
    {
     "name": "stdout",
     "output_type": "stream",
     "text": [
      "Traditional directory listing:\n",
      "📁 my_project/\n",
      "  📁 src/\n",
      "    📄 main.py (15KB)\n",
      "    📄 utils.py (8KB)\n",
      "    📁 models/\n",
      "      📄 user.py (12KB)\n",
      "      📄 product.py (9KB)\n",
      "  📁 tests/\n",
      "    📄 test_main.py (6KB)\n",
      "    📄 test_utils.py (4KB)\n",
      "  📄 README.md (3KB)\n",
      "  📄 requirements.txt (1KB)\n",
      "\n",
      "sPyTial file system visualization:\n"
     ]
    },
    {
     "data": {
      "text/html": [
       "\n",
       "                <div style=\"border: 2px solid #007acc; border-radius: 8px; overflow: hidden;\">\n",
       "                    <iframe \n",
       "                        src=\"data:text/html;base64,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\" \n",
       "                        width=\"100%\" \n",
       "                        height=\"650px\" \n",
       "                        frameborder=\"0\"\n",
       "                        style=\"display: block;\">\n",
       "                    </iframe>\n",
       "                </div>\n",
       "                "
      ],
      "text/plain": [
       "<IPython.core.display.HTML object>"
      ]
     },
     "metadata": {},
     "output_type": "display_data"
    }
   ],
   "source": [
    "# File system hierarchy\n",
    "@orientation(selector='{ x : Directory, y : FileSystemItem | x.contains = y}', directions=['below'])\n",
    "class Directory:\n",
    "    def __init__(self, name, items=None):\n",
    "        self.name = name\n",
    "        self.contains = items or []\n",
    "    \n",
    "    def __repr__(self):\n",
    "        return f\"📁 {self.name}/\"\n",
    "\n",
    "class File:\n",
    "    def __init__(self, name, size):\n",
    "        self.name = name\n",
    "        self.size = size\n",
    "    \n",
    "    def __repr__(self):\n",
    "        return f\"📄 {self.name} ({self.size}KB)\"\n",
    "\n",
    "# Create a file system structure\n",
    "project_dir = Directory(\"my_project\", [\n",
    "    Directory(\"src\", [\n",
    "        File(\"main.py\", 15),\n",
    "        File(\"utils.py\", 8),\n",
    "        Directory(\"models\", [\n",
    "            File(\"user.py\", 12),\n",
    "            File(\"product.py\", 9)\n",
    "        ])\n",
    "    ]),\n",
    "    Directory(\"tests\", [\n",
    "        File(\"test_main.py\", 6),\n",
    "        File(\"test_utils.py\", 4)\n",
    "    ]),\n",
    "    File(\"README.md\", 3),\n",
    "    File(\"requirements.txt\", 1)\n",
    "])\n",
    "\n",
    "print(\"Traditional directory listing:\")\n",
    "def print_tree(item, level=0):\n",
    "    indent = \"  \" * level\n",
    "    print(f\"{indent}{item}\")\n",
    "    if hasattr(item, 'contains'):\n",
    "        for sub_item in item.contains:\n",
    "            print_tree(sub_item, level + 1)\n",
    "\n",
    "print_tree(project_dir)\n",
    "\n",
    "print(\"\\nsPyTial file system visualization:\")\n",
    "diagram(project_dir)"
   ]
  },
  {
   "cell_type": "markdown",
   "id": "new_rb_section",
   "metadata": {},
   "source": [
    "## 7. Advanced Trees: Red-Black Trees with Color Coding\n",
    "\n",
    "Complex data structures like Red-Black trees have additional properties that traditional visualization can't easily show."
   ]
  },
  {
   "cell_type": "code",
   "execution_count": 8,
   "id": "98e8935f",
   "metadata": {},
   "outputs": [
    {
     "name": "stdout",
     "output_type": "stream",
     "text": [
      "Traditional Red-Black tree output:\n",
      "        18(B)\n",
      "    15(R)\n",
      "        12(B)\n",
      "10(B)\n",
      "        7(B)\n",
      "    5(R)\n",
      "        3(B)\n",
      "(R) = Red, (B) = Black\n",
      "\n",
      "sPyTial Red-Black tree with color coding:\n"
     ]
    },
    {
     "data": {
      "text/html": [
       "\n",
       "                <div style=\"border: 2px solid #007acc; border-radius: 8px; overflow: hidden;\">\n",
       "                    <iframe \n",
       "                        src=\"data:text/html;base64,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\" \n",
       "                        width=\"100%\" \n",
       "                        height=\"650px\" \n",
       "                        frameborder=\"0\"\n",
       "                        style=\"display: block;\">\n",
       "                    </iframe>\n",
       "                </div>\n",
       "                "
      ],
      "text/plain": [
       "<IPython.core.display.HTML object>"
      ]
     },
     "metadata": {},
     "output_type": "display_data"
    }
   ],
   "source": [
    "# Red-Black Tree with color annotations\n",
    "@orientation(selector='{ x : RBTreeNode, y : RBTreeNode | x.left = y}', directions=['below', 'left'])\n",
    "@orientation(selector='{ x : RBTreeNode, y : RBTreeNode | x.right = y}', directions=['below', 'right'])\n",
    "@atomColor(selector='{ x : RBTreeNode | x.color = \"red\" }', value='red')\n",
    "@atomColor(selector='{ x : RBTreeNode | x.color = \"black\" }', value='black')\n",
    "@attribute(field='value')\n",
    "class RBTreeNode:\n",
    "    def __init__(self, value, color, left=None, right=None):\n",
    "        self.value = value\n",
    "        self.color = color\n",
    "        self.left = left\n",
    "        self.right = right\n",
    "\n",
    "    def __repr__(self):\n",
    "        return f\"RBTreeNode({self.value}, {self.color})\"\n",
    "    \n",
    "    def traditional_print(self, level=0):\n",
    "        \"\"\"Traditional colored tree printing\"\"\"\n",
    "        if self.right:\n",
    "            self.right.traditional_print(level + 1)\n",
    "        color_marker = \"(R)\" if self.color == \"red\" else \"(B)\"\n",
    "        print('    ' * level + f\"{self.value}{color_marker}\")\n",
    "        if self.left:\n",
    "            self.left.traditional_print(level + 1)\n",
    "\n",
    "# Create a Red-Black Tree\n",
    "rb_root = RBTreeNode(\n",
    "    value=10, color=\"black\",\n",
    "    left=RBTreeNode(\n",
    "        value=5, color=\"red\",\n",
    "        left=RBTreeNode(3, \"black\"),\n",
    "        right=RBTreeNode(7, \"black\")\n",
    "    ),\n",
    "    right=RBTreeNode(\n",
    "        value=15, color=\"red\",\n",
    "        left=RBTreeNode(12, \"black\"),\n",
    "        right=RBTreeNode(18, \"black\")\n",
    "    )\n",
    ")\n",
    "\n",
    "print(\"Traditional Red-Black tree output:\")\n",
    "rb_root.traditional_print()\n",
    "print(\"(R) = Red, (B) = Black\")\n",
    "\n",
    "print(\"\\nsPyTial Red-Black tree with color coding:\")\n",
    "diagram(rb_root)"
   ]
  },
  {
   "cell_type": "markdown",
   "id": "new_comparison_section",
   "metadata": {},
   "source": [
    "## 8. Comparative Analysis: Traditional vs Spatial\n",
    "\n",
    "Let's directly compare traditional debugging approaches with sPyTial's spatial visualization for a complex nested structure."
   ]
  },
  {
   "cell_type": "code",
   "execution_count": 10,
   "id": "new_comparison_demo",
   "metadata": {},
   "outputs": [
    {
     "name": "stdout",
     "output_type": "stream",
     "text": [
      "Traditional debugging approach:\n",
      "1. Print entire structure (overwhelming):\n",
      "{\n",
      "  \"authentication\": {\n",
      "    \"current_user\": {\n",
      "      \"id\": 123,\n",
      "      \"name\": \"Alice\",\n",
      "      \"role\": \"admin\"\n",
      "    },\n",
      "    \"session\": {\n",
      "      \"token\": \"abc123\",\n",
      "      \"expires\": \"2024-02-01\"\n",
      "    },\n",
      "    \"permissions\": [\n",
      "      \"read\",\n",
      "      \"write\",\n",
      "      \"delete\"\n",
      "    ]\n",
      "  },\n",
      "  \"data\": {\n",
      "    \"cache\": {\n",
      "   ...\n",
      "\n",
      "2. Navigate manually (time-consuming):\n",
      "Current user: Alice\n",
      "Cache size: 2\n",
      "Notifications: 2\n",
      "\n",
      "3. Write custom traversal functions (repetitive):\n",
      "authentication: <dict>\n",
      "data: <dict>\n",
      "ui_state: <dict>\n",
      "\n",
      "==================================================\n",
      "sPyTial approach - immediate spatial understanding:\n"
     ]
    },
    {
     "data": {
      "text/html": [
       "\n",
       "                <div style=\"border: 2px solid #007acc; border-radius: 8px; overflow: hidden;\">\n",
       "                    <iframe \n",
       "                        src=\"data:text/html;base64,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\" \n",
       "                        width=\"100%\" \n",
       "                        height=\"650px\" \n",
       "                        frameborder=\"0\"\n",
       "                        style=\"display: block;\">\n",
       "                    </iframe>\n",
       "                </div>\n",
       "                "
      ],
      "text/plain": [
       "<IPython.core.display.HTML object>"
      ]
     },
     "metadata": {},
     "output_type": "display_data"
    }
   ],
   "source": [
    "# Complex nested application state\n",
    "app_state = {\n",
    "    \"authentication\": {\n",
    "        \"current_user\": {\"id\": 123, \"name\": \"Alice\", \"role\": \"admin\"},\n",
    "        \"session\": {\"token\": \"abc123\", \"expires\": \"2024-02-01\"},\n",
    "        \"permissions\": [\"read\", \"write\", \"delete\"]\n",
    "    },\n",
    "    \"data\": {\n",
    "        \"cache\": {\"users\": [\"Alice\", \"Bob\"], \"products\": [\"laptop\", \"mouse\"]},\n",
    "        \"pending_requests\": deque([\"req1\", \"req2\", \"req3\"]),\n",
    "        \"active_connections\": {\"websocket\": 5, \"http\": 12}\n",
    "    },\n",
    "    \"ui_state\": {\n",
    "        \"current_page\": \"dashboard\",\n",
    "        \"sidebar_open\": True,\n",
    "        \"notifications\": [{\"type\": \"info\", \"message\": \"Welcome\"}, {\"type\": \"warning\", \"message\": \"Update required\"}]\n",
    "    }\n",
    "}\n",
    "\n",
    "print(\"Traditional debugging approach:\")\n",
    "print(\"1. Print entire structure (overwhelming):\")\n",
    "print(json.dumps(app_state, indent=2, default=str)[:300] + \"...\")\n",
    "\n",
    "print(\"\\n2. Navigate manually (time-consuming):\")\n",
    "print(f\"Current user: {app_state['authentication']['current_user']['name']}\")\n",
    "print(f\"Cache size: {len(app_state['data']['cache'])}\")\n",
    "print(f\"Notifications: {len(app_state['ui_state']['notifications'])}\")\n",
    "\n",
    "print(\"\\n3. Write custom traversal functions (repetitive):\")\n",
    "def print_structure(obj, level=0):\n",
    "    indent = \"  \" * level\n",
    "    if isinstance(obj, dict):\n",
    "        for key, value in obj.items():\n",
    "            if isinstance(value, (dict, list)):\n",
    "                print(f\"{indent}{key}: <{type(value).__name__}>\")\n",
    "            else:\n",
    "                print(f\"{indent}{key}: {value}\")\n",
    "print_structure(app_state)\n",
    "\n",
    "print(\"\\n\" + \"=\"*50)\n",
    "print(\"sPyTial approach - immediate spatial understanding:\")\n",
    "diagram(app_state)"
   ]
  },
  {
   "cell_type": "markdown",
   "id": "new_summary_section",
   "metadata": {},
   "source": [
    "## Key Takeaways: Why sPyTial Transforms Data Structure Work\n",
    "\n",
    "### Traditional Limitations:\n",
    "- **Text output doesn't scale** - becomes unreadable with complexity\n",
    "- **No spatial intuition** - relationships hidden in syntax\n",
    "- **Manual traversal required** - time-consuming debugging\n",
    "- **Static representation** - can't interact or explore\n",
    "\n",
    "### sPyTial Advantages:\n",
    "- **Immediate visual comprehension** - see structure at a glance\n",
    "- **Spatial relationships revealed** - understand connections naturally\n",
    "- **Scales with complexity** - large structures remain comprehensible\n",
    "- **Interactive exploration** - zoom, pan, and investigate details\n",
    "- **Annotation support** - add semantic meaning to visualization\n",
    "\n",
    "### Best Use Cases:\n",
    "1. **Debugging complex nested structures** - JSON APIs, configuration objects\n",
    "2. **Algorithm development** - tree traversal, graph algorithms\n",
    "3. **Data structure education** - teaching and learning\n",
    "4. **Code review** - quickly understand data organization\n",
    "5. **Performance analysis** - identify structural bottlenecks\n",
    "\n",
    "**Next steps:**\n",
    "- Explore **00-demo-showcase.ipynb** for overview of all sPyTial capabilities\n",
    "- See **05-enhanced-data-structures.ipynb** for advanced patterns\n",
    "- Try **06-provider-development.ipynb** to extend sPyTial for your data types\n",
    "- Check **02-object-annotations.ipynb** for custom annotation techniques"
   ]
  }
 ],
 "metadata": {
  "kernelspec": {
   "display_name": "stats-env",
   "language": "python",
   "name": "python3"
  },
  "language_info": {
   "codemirror_mode": {
    "name": "ipython",
    "version": 3
   },
   "file_extension": ".py",
   "mimetype": "text/x-python",
   "name": "python",
   "nbconvert_exporter": "python",
   "pygments_lexer": "ipython3",
   "version": "3.10.17"
  }
 },
 "nbformat": 4,
 "nbformat_minor": 5
}
