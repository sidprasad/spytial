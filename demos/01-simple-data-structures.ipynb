{
 "cells": [
  {
   "cell_type": "markdown",
   "id": "ad79ecdb",
   "metadata": {},
   "source": [
    "# sPyTial For Data Structures"
   ]
  },
  {
   "cell_type": "code",
   "execution_count": 23,
   "id": "bcf56e66",
   "metadata": {},
   "outputs": [],
   "source": [
    "import sys\n",
    "from pathlib import Path\n",
    "\n",
    "# Add the parent directory to the Python path\n",
    "sys.path.append(str(Path().resolve().parent))\n",
    "\n",
    "# Test the improved provider system with various Python objects\n",
    "from collections import namedtuple\n",
    "from spytial.provider_system import CnDDataInstanceBuilder\n",
    "from spytial import diagram"
   ]
  },
  {
   "cell_type": "markdown",
   "id": "17b09393",
   "metadata": {},
   "source": [
    "# First, a generic object"
   ]
  },
  {
   "cell_type": "code",
   "execution_count": 24,
   "id": "e3cd9e46",
   "metadata": {},
   "outputs": [
    {
     "data": {
      "text/html": [
       "\n",
       "                <div style=\"border: 2px solid #007acc; border-radius: 8px; overflow: hidden;\">\n",
       "                    <iframe \n",
       "                        src=\"data:text/html;base64,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\" \n",
       "                        width=\"100%\" \n",
       "                        height=\"650px\" \n",
       "                        frameborder=\"0\"\n",
       "                        style=\"display: block;\">\n",
       "                    </iframe>\n",
       "                </div>\n",
       "                "
      ],
      "text/plain": [
       "<IPython.core.display.HTML object>"
      ]
     },
     "metadata": {},
     "output_type": "display_data"
    }
   ],
   "source": [
    "# Example data with nested structure\n",
    "demo_data = {\n",
    "    \"users\": [\n",
    "        {\"name\": \"Alice\", \"age\": 30, \"skills\": [\"Python\", \"JavaScript\"]},\n",
    "        {\"name\": \"Bob\", \"age\": 25, \"skills\": [\"Java\", \"C++\"]}\n",
    "    ],\n",
    "    \"projects\": {\n",
    "        \"web_app\": {\"lead\": \"Alice\", \"status\": \"active\"},\n",
    "        \"mobile_app\": {\"lead\": \"Bob\", \"status\": \"planning\"}\n",
    "    },\n",
    "    \"stats\": {\"total_users\": 2, \"active_projects\": 1}\n",
    "}\n",
    "\n",
    "\n",
    "# Debug the inline display\n",
    "from spytial import diagram\n",
    "\n",
    "try:\n",
    "    result = diagram(demo_data, method=\"inline\")\n",
    "except Exception as e:\n",
    "    print(f\"Error in diagram function: {e}\")\n",
    "    import traceback\n",
    "    traceback.print_exc()\n",
    "\n"
   ]
  },
  {
   "cell_type": "markdown",
   "id": "a2327b0a",
   "metadata": {},
   "source": [
    "# Simple Constraints: Binary Trees\n",
    "\n",
    "You can annotate classes with sPyTial constraints.\n",
    "\n",
    "- We start with a binary tree, here's the def, here's what you can do for example.\n",
    "- Then we will add some constraints.\n",
    "- Then, we will add some directives, and do RB trees?\n",
    "- Now what about if constraints can't be satisfied? -- then what?\n"
   ]
  },
  {
   "cell_type": "code",
   "execution_count": 25,
   "id": "f6aacc6e",
   "metadata": {},
   "outputs": [
    {
     "data": {
      "text/html": [
       "\n",
       "                <div style=\"border: 2px solid #007acc; border-radius: 8px; overflow: hidden;\">\n",
       "                    <iframe \n",
       "                        src=\"data:text/html;base64,PCFET0NUWVBFIGh0bWw+CjxodG1sIGxhbmc9ImVuIj4KPGhlYWQ+CiAgICA8bWV0YSBjaGFyc2V0PSJVVEYtOCI+CiAgICA8bWV0YSBuYW1lPSJ2aWV3cG9ydCIgY29udGVudD0id2lkdGg9ZGV2aWNlLXdpZHRoLCBpbml0aWFsLXNjYWxlPTEuMCI+CiAgICA8dGl0bGU+c1B5VGlhbCBWaXN1YWxpemF0aW9uPC90aXRsZT4KICAgIDxzdHlsZT4KICAgICAgICBib2R5IHsKICAgICAgICAgICAgZm9udC1mYW1pbHk6IEFyaWFsLCBzYW5zLXNlcmlmOwogICAgICAgICAgICBtYXJnaW46IDA7CiAgICAgICAgICAgIHBhZGRpbmc6IDIwcHg7CiAgICAgICAgICAgIGJhY2tncm91bmQtY29sb3I6ICNmNWY1ZjU7CiAgICAgICAgfQogICAgICAgICNncmFwaC1jb250YWluZXIgewogICAgICAgICAgICB3aWR0aDogODAwcHg7CiAgICAgICAgICAgIGhlaWdodDogNjAwcHg7CiAgICAgICAgICAgIGJvcmRlcjogMnB4IHNvbGlkICMwMDdhY2M7CiAgICAgICAgICAgIGJvcmRlci1yYWRpdXM6IDhweDsKICAgICAgICAgICAgbWFyZ2luOiAyMHB4IGF1dG87CiAgICAgICAgfQogICAgPC9zdHlsZT4KICAgIDxzY3JpcHQgc3JjPSJodHRwczovL2QzanMub3JnL2QzLnY0Lm1pbi5qcyI+PC9zY3JpcHQ+CiAgICA8c2NyaXB0IHNyYz0iaHR0cHM6Ly9jZG4uanNkZWxpdnIubmV0L25wbS9jbmQtY29yZS9kaXN0L2Jyb3dzZXIvY25kLWNvcmUtY29tcGxldGUuZ2xvYmFsLmpzIj48L3NjcmlwdD4KCjxib2R5PgogICAgPCEtLSBXZWJDb2xhIHNQeVRpYWwgR3JhcGggRWxlbWVudCAtLT4KICAgIDx3ZWJjb2xhLWNuZC1ncmFwaCAKICAgICAgICBpZD0iZ3JhcGgtY29udGFpbmVyIgogICAgICAgIHdpZHRoPSI4MDAiIAogICAgICAgIGhlaWdodD0iNjAwIgogICAgICAgIGxheW91dEZvcm1hdD0iZGVmYXVsdCIKICAgICAgICBhcmlhLWxhYmVsPSJJbnRlcmFjdGl2ZSBncmFwaCB2aXN1YWxpemF0aW9uIj4KICAgIDwvd2ViY29sYS1jbmQtZ3JhcGg+CiAgICA8ZGl2IGlkPSJlcnJvci1tZXNzYWdlIiA+PC9kaXY+CgogICAgPHNjcmlwdD4KICAgICAgICAvLyBFbWJlZGRlZCBkYXRhIHBhc3NlZCBmcm9tIHRoZSBzZXJ2ZXIKICAgICAgICBjb25zdCBjbmRTcGVjID0gYGNvbnN0cmFpbnRzOgotIG9yaWVudGF0aW9uOgogICAgZGlyZWN0aW9uczoKICAgIC0gYmVsb3cKICAgIC0gcmlnaHQKICAgIHNlbGVjdG9yOiAneyB4IDogVHJlZU5vZGUsIHkgOiBUcmVlTm9kZSB8IHgucmlnaHQgPSB5fScKLSBvcmllbnRhdGlvbjoKICAgIGRpcmVjdGlvbnM6CiAgICAtIGJlbG93CiAgICAtIGxlZnQKICAgIHNlbGVjdG9yOiAneyB4IDogVHJlZU5vZGUsIHkgOiBUcmVlTm9kZSB8IHgubGVmdCA9IHl9JwpkaXJlY3RpdmVzOgotIGhpZGVBdG9tOgogICAgc2VsZWN0b3I6IE5vbmVUeXBlCi0gYXR0cmlidXRlOgogICAgZmllbGQ6IHZhbHVlCmA7CiAgICAgICAgY29uc3QganNvbkRhdGEgPSBgeyJhdG9tcyI6IFt7ImlkIjogIm4xIiwgInR5cGUiOiAiaW50IiwgImxhYmVsIjogIjEwIn0sIHsiaWQiOiAibjMiLCAidHlwZSI6ICJpbnQiLCAibGFiZWwiOiAiNSJ9LCB7ImlkIjogIm41IiwgInR5cGUiOiAiaW50IiwgImxhYmVsIjogIjMifSwgeyJpZCI6ICJuNiIsICJ0eXBlIjogIk5vbmVUeXBlIiwgImxhYmVsIjogIk5vbmUifSwgeyJpZCI6ICJuNCIsICJ0eXBlIjogIlRyZWVOb2RlIiwgImxhYmVsIjogIlRyZWVOb2RlIn0sIHsiaWQiOiAibjgiLCAidHlwZSI6ICJpbnQiLCAibGFiZWwiOiAiNyJ9LCB7ImlkIjogIm43IiwgInR5cGUiOiAiVHJlZU5vZGUiLCAibGFiZWwiOiAiVHJlZU5vZGUifSwgeyJpZCI6ICJuMiIsICJ0eXBlIjogIlRyZWVOb2RlIiwgImxhYmVsIjogIlRyZWVOb2RlIn0sIHsiaWQiOiAibjEwIiwgInR5cGUiOiAiaW50IiwgImxhYmVsIjogIjE1In0sIHsiaWQiOiAibjEyIiwgInR5cGUiOiAiaW50IiwgImxhYmVsIjogIjEyIn0sIHsiaWQiOiAibjExIiwgInR5cGUiOiAiVHJlZU5vZGUiLCAibGFiZWwiOiAiVHJlZU5vZGUifSwgeyJpZCI6ICJuMTQiLCAidHlwZSI6ICJpbnQiLCAibGFiZWwiOiAiMTgifSwgeyJpZCI6ICJuMTMiLCAidHlwZSI6ICJUcmVlTm9kZSIsICJsYWJlbCI6ICJUcmVlTm9kZSJ9LCB7ImlkIjogIm45IiwgInR5cGUiOiAiVHJlZU5vZGUiLCAibGFiZWwiOiAiVHJlZU5vZGUifSwgeyJpZCI6ICJuMCIsICJ0eXBlIjogIlRyZWVOb2RlIiwgImxhYmVsIjogIlRyZWVOb2RlIn1dLCAicmVsYXRpb25zIjogW3siaWQiOiAidmFsdWUiLCAibmFtZSI6ICJ2YWx1ZSIsICJ0eXBlcyI6IFsib2JqZWN0IiwgIm9iamVjdCJdLCAidHVwbGVzIjogW3siYXRvbXMiOiBbIm40IiwgIm41Il0sICJ0eXBlcyI6IFsiVHJlZU5vZGUiLCAiaW50Il19LCB7ImF0b21zIjogWyJuNyIsICJuOCJdLCAidHlwZXMiOiBbIlRyZWVOb2RlIiwgImludCJdfSwgeyJhdG9tcyI6IFsibjIiLCAibjMiXSwgInR5cGVzIjogWyJUcmVlTm9kZSIsICJpbnQiXX0sIHsiYXRvbXMiOiBbIm4xMSIsICJuMTIiXSwgInR5cGVzIjogWyJUcmVlTm9kZSIsICJpbnQiXX0sIHsiYXRvbXMiOiBbIm4xMyIsICJuMTQiXSwgInR5cGVzIjogWyJUcmVlTm9kZSIsICJpbnQiXX0sIHsiYXRvbXMiOiBbIm45IiwgIm4xMCJdLCAidHlwZXMiOiBbIlRyZWVOb2RlIiwgImludCJdfSwgeyJhdG9tcyI6IFsibjAiLCAibjEiXSwgInR5cGVzIjogWyJUcmVlTm9kZSIsICJpbnQiXX1dfSwgeyJpZCI6ICJsZWZ0IiwgIm5hbWUiOiAibGVmdCIsICJ0eXBlcyI6IFsib2JqZWN0IiwgIm9iamVjdCJdLCAidHVwbGVzIjogW3siYXRvbXMiOiBbIm40IiwgIm42Il0sICJ0eXBlcyI6IFsiVHJlZU5vZGUiLCAiTm9uZVR5cGUiXX0sIHsiYXRvbXMiOiBbIm43IiwgIm42Il0sICJ0eXBlcyI6IFsiVHJlZU5vZGUiLCAiTm9uZVR5cGUiXX0sIHsiYXRvbXMiOiBbIm4yIiwgIm40Il0sICJ0eXBlcyI6IFsiVHJlZU5vZGUiLCAiVHJlZU5vZGUiXX0sIHsiYXRvbXMiOiBbIm4xMSIsICJuNiJdLCAidHlwZXMiOiBbIlRyZWVOb2RlIiwgIk5vbmVUeXBlIl19LCB7ImF0b21zIjogWyJuMTMiLCAibjYiXSwgInR5cGVzIjogWyJUcmVlTm9kZSIsICJOb25lVHlwZSJdfSwgeyJhdG9tcyI6IFsibjkiLCAibjExIl0sICJ0eXBlcyI6IFsiVHJlZU5vZGUiLCAiVHJlZU5vZGUiXX0sIHsiYXRvbXMiOiBbIm4wIiwgIm4yIl0sICJ0eXBlcyI6IFsiVHJlZU5vZGUiLCAiVHJlZU5vZGUiXX1dfSwgeyJpZCI6ICJyaWdodCIsICJuYW1lIjogInJpZ2h0IiwgInR5cGVzIjogWyJvYmplY3QiLCAib2JqZWN0Il0sICJ0dXBsZXMiOiBbeyJhdG9tcyI6IFsibjQiLCAibjYiXSwgInR5cGVzIjogWyJUcmVlTm9kZSIsICJOb25lVHlwZSJdfSwgeyJhdG9tcyI6IFsibjciLCAibjYiXSwgInR5cGVzIjogWyJUcmVlTm9kZSIsICJOb25lVHlwZSJdfSwgeyJhdG9tcyI6IFsibjIiLCAibjciXSwgInR5cGVzIjogWyJUcmVlTm9kZSIsICJUcmVlTm9kZSJdfSwgeyJhdG9tcyI6IFsibjExIiwgIm42Il0sICJ0eXBlcyI6IFsiVHJlZU5vZGUiLCAiTm9uZVR5cGUiXX0sIHsiYXRvbXMiOiBbIm4xMyIsICJuNiJdLCAidHlwZXMiOiBbIlRyZWVOb2RlIiwgIk5vbmVUeXBlIl19LCB7ImF0b21zIjogWyJuOSIsICJuMTMiXSwgInR5cGVzIjogWyJUcmVlTm9kZSIsICJUcmVlTm9kZSJdfSwgeyJhdG9tcyI6IFsibjAiLCAibjkiXSwgInR5cGVzIjogWyJUcmVlTm9kZSIsICJUcmVlTm9kZSJdfV19XX1gOwoKICAgICAgICAvKioKICAgICAgICAgKiBMb2FkIGFuZCByZW5kZXIgdGhlIGdyYXBoIHVzaW5nIHRoZSB3ZWJjb2xhLWNuZC1ncmFwaCBjdXN0b20gZWxlbWVudAogICAgICAgICAqLwogICAgICAgIGFzeW5jIGZ1bmN0aW9uIGxvYWRHcmFwaCgpIHsKICAgICAgICAgICAgY29uc3QgZ3JhcGhFbGVtZW50ID0gZG9jdW1lbnQuZ2V0RWxlbWVudEJ5SWQoJ2dyYXBoLWNvbnRhaW5lcicpOwogICAgICAgICAgICAKICAgICAgICAgICAgLy8gQ2hlY2sgaWYgQ25EIENvcmUgaXMgYXZhaWxhYmxlCiAgICAgICAgICAgIGlmICh0eXBlb2YgQ25kQ29yZSA9PT0gJ3VuZGVmaW5lZCcpIHsKICAgICAgICAgICAgICAgIGNvbnNvbGUuZXJyb3IoJ0NuRCBDb3JlIGxpYnJhcnkgaXMgbm90IGF2YWlsYWJsZScpOwogICAgICAgICAgICAgICAgc2hvd0Vycm9yKCdDbkQgQ29yZSBsaWJyYXJ5IGZhaWxlZCB0byBsb2FkLiBUaGUgdmlzdWFsaXphdGlvbiBjYW5ub3QgYmUgZGlzcGxheWVkLicpOwogICAgICAgICAgICAgICAgcmV0dXJuOwogICAgICAgICAgICB9CiAgICAgICAgICAgIAogICAgICAgICAgICB0cnkgewogICAgICAgIGNvbnNvbGUubG9nKCdTdGFydGluZyBncmFwaCByZW5kZXJpbmcuLi4nKTsKICAgICAgICBjb25zb2xlLmxvZygnc1B5VGlhbCBTcGVjOicsIGNuZFNwZWMpOwogICAgICAgICAgICAgICAgY29uc29sZS5sb2coJ0pTT04gRGF0YTonLCBqc29uRGF0YS5zdWJzdHJpbmcoMCwgMjAwKSArICcuLi4nKTsKICAgICAgICAgICAgICAgIAogICAgICAgICAgICAgICAgLy8gUGFyc2UgSlNPTiBkYXRhIGlmIGl0J3MgYSBzdHJpbmcKICAgICAgICAgICAgICAgIGxldCBwYXJzZWREYXRhOwogICAgICAgICAgICAgICAgdHJ5IHsKICAgICAgICAgICAgICAgICAgICBwYXJzZWREYXRhID0gdHlwZW9mIGpzb25EYXRhID09PSAnc3RyaW5nJyA/IEpTT04ucGFyc2UoanNvbkRhdGEpIDoganNvbkRhdGE7CiAgICAgICAgICAgICAgICB9IGNhdGNoIChwYXJzZUVycm9yKSB7CiAgICAgICAgICAgICAgICAgICAgdGhyb3cgbmV3IEVycm9yKGBGYWlsZWQgdG8gcGFyc2UgSlNPTiBkYXRhOiAke3BhcnNlRXJyb3IubWVzc2FnZX1gKTsKICAgICAgICAgICAgICAgIH0KICAgICAgICAgICAgICAgIAogICAgICAgICAgICAgICAgLy8gQ3JlYXRlIGEgZGF0YSBpbnN0YW5jZSBmcm9tIHRoZSBKU09OIGRhdGEKICAgICAgICAgICAgICAgIGNvbnN0IGRhdGFJbnN0YW5jZSA9IG5ldyBDbmRDb3JlLkpTT05EYXRhSW5zdGFuY2UocGFyc2VkRGF0YSk7CiAgICAgICAgICAgICAgICBjb25zb2xlLmxvZygnRGF0YSBpbnN0YW5jZSBjcmVhdGVkIHN1Y2Nlc3NmdWxseScpOwoKICAgICAgICAgICAgICAgIC8vIEluaXRpYWxpemUgdGhlIGV2YWx1YXRpb24gY29udGV4dAogICAgICAgICAgICAgICAgY29uc3QgZXZhbHVhdGlvbkNvbnRleHQgPSB7IHNvdXJjZURhdGE6IGRhdGFJbnN0YW5jZSB9OwogICAgICAgICAgICAgICAgY29uc3Qgc2dxRXZhbHVhdG9yID0gbmV3IENuZENvcmUuU0dyYXBoUXVlcnlFdmFsdWF0b3IoKTsKICAgICAgICAgICAgICAgIHNncUV2YWx1YXRvci5pbml0aWFsaXplKGV2YWx1YXRpb25Db250ZXh0KTsKICAgICAgICAgICAgICAgIGNvbnNvbGUubG9nKCdFdmFsdWF0aW9uIGNvbnRleHQgaW5pdGlhbGl6ZWQnKTsKCiAgICAgICAgICAgICAgICAvLyBQYXJzZSB0aGUgQ05EIHNwZWNpZmljYXRpb24KICAgICAgICAgICAgICAgIGNvbnN0IGxheW91dFNwZWMgPSBDbmRDb3JlLnBhcnNlTGF5b3V0U3BlYyhjbmRTcGVjKTsKICAgICAgICAgICAgICAgIGNvbnNvbGUubG9nKCdMYXlvdXQgc3BlYyBwYXJzZWQnKTsKCiAgICAgICAgICAgICAgICAvLyBHZW5lcmF0ZSB0aGUgbGF5b3V0CiAgICAgICAgICAgICAgICBjb25zdCBsYXlvdXRJbnN0YW5jZSA9IG5ldyBDbmRDb3JlLkxheW91dEluc3RhbmNlKGxheW91dFNwZWMsIHNncUV2YWx1YXRvciwgMCwgdHJ1ZSk7CiAgICAgICAgICAgICAgICBjb25zdCBsYXlvdXRSZXN1bHQgPSBsYXlvdXRJbnN0YW5jZS5nZW5lcmF0ZUxheW91dChkYXRhSW5zdGFuY2UsIHt9KTsKICAgICAgICAgICAgICAgIGNvbnN0IGluc3RhbmNlTGF5b3V0ID0gbGF5b3V0UmVzdWx0LmxheW91dDsKICAgICAgICAgICAgICAgIGNvbnNvbGUubG9nKCdMYXlvdXQgZ2VuZXJhdGVkJyk7CgogICAgICAgICAgICAgICAgLy8gUmVuZGVyIHRoZSBncmFwaAogICAgICAgICAgICAgICAgYXdhaXQgZ3JhcGhFbGVtZW50LnJlbmRlckxheW91dChpbnN0YW5jZUxheW91dCk7CiAgICAgICAgICAgICAgICBjb25zb2xlLmxvZygnR3JhcGggcmVuZGVyZWQgc3VjY2Vzc2Z1bGx5IScpOwogICAgICAgICAgICAgICAgCiAgICAgICAgICAgIH0gY2F0Y2ggKGVycm9yKSB7CiAgICAgICAgICAgICAgICBjb25zb2xlLmVycm9yKCdFcnJvciByZW5kZXJpbmcgZ3JhcGg6JywgZXJyb3IpOwogICAgICAgICAgICAgICAgc2hvd0Vycm9yKGBFcnJvciByZW5kZXJpbmcgZ3JhcGg6ICR7ZXJyb3IubWVzc2FnZX1gKTsKICAgICAgICAgICAgfQogICAgICAgIH0KCiAgICAgICAgLyoqCiAgICAgICAgICogRGlzcGxheSBhbiBlcnJvciBtZXNzYWdlIGluIHRoZSBlcnJvci1tZXNzYWdlIGRpdi4KICAgICAgICAgKiBAcGFyYW0ge3N0cmluZ30gbWVzc2FnZSAtIFRoZSBlcnJvciBtZXNzYWdlIHRvIGRpc3BsYXkuCiAgICAgICAgICovCiAgICAgICAgZnVuY3Rpb24gc2hvd0Vycm9yKG1lc3NhZ2UpIHsKICAgICAgICAgICAgY29uc3QgZXJyb3JEaXYgPSBkb2N1bWVudC5nZXRFbGVtZW50QnlJZCgnZXJyb3ItbWVzc2FnZScpOwogICAgICAgICAgICBpZiAoZXJyb3JEaXYpIHsKICAgICAgICAgICAgICAgIGVycm9yRGl2LmlubmVySFRNTCA9IGAKICAgICAgICAgICAgICAgICAgICA8ZGl2IHN0eWxlPSJjb2xvcjogcmVkOyBwYWRkaW5nOiAxMHB4OyBib3JkZXI6IDFweCBzb2xpZCByZWQ7IGJhY2tncm91bmQtY29sb3I6ICNmZmU2ZTY7IG1hcmdpbi10b3A6IDEwcHg7Ij4KICAgICAgICAgICAgICAgICAgICAgICAgPGgzPkVycm9yPC9oMz4KICAgICAgICAgICAgICAgICAgICAgICAgPHA+JHttZXNzYWdlfTwvcD4KICAgICAgICAgICAgICAgICAgICA8L2Rpdj4KICAgICAgICAgICAgICAgIGA7CiAgICAgICAgICAgIH0gZWxzZSB7CiAgICAgICAgICAgICAgICBjb25zb2xlLmVycm9yKCdFcnJvciBkaXYgbm90IGZvdW5kLiBFcnJvciBtZXNzYWdlOicsIG1lc3NhZ2UpOwogICAgICAgICAgICB9CiAgICAgICAgfQoKICAgICAgICAvLyBBdXRvLWxvYWQgd2hlbiBwYWdlIGxvYWRzCiAgICAgICAgd2luZG93LmFkZEV2ZW50TGlzdGVuZXIoJ2xvYWQnLCBsb2FkR3JhcGgpOwogICAgPC9zY3JpcHQ+CjwvYm9keT4KPC9odG1sPg==\" \n",
       "                        width=\"100%\" \n",
       "                        height=\"650px\" \n",
       "                        frameborder=\"0\"\n",
       "                        style=\"display: block;\">\n",
       "                    </iframe>\n",
       "                </div>\n",
       "                "
      ],
      "text/plain": [
       "<IPython.core.display.HTML object>"
      ]
     },
     "metadata": {},
     "output_type": "display_data"
    }
   ],
   "source": [
    "from spytial.annotations import orientation, attribute, hideAtom\n",
    "\n",
    "# Define a binary tree node\n",
    "@orientation(selector='{ x : TreeNode, y : TreeNode | x.left = y}', directions=['below', 'left'])\n",
    "@orientation(selector='{ x : TreeNode, y : TreeNode | x.right = y}', directions=['below', 'right'])\n",
    "@attribute(field='value')\n",
    "@hideAtom(selector='NoneType')\n",
    "class TreeNode:\n",
    "    def __init__(self, value, left=None, right=None):\n",
    "        self.value = value\n",
    "        self.left = left\n",
    "        self.right = right\n",
    "\n",
    "    def __repr__(self):\n",
    "        return f\"TreeNode({self.value})\"\n",
    "    \n",
    "# Create a sample binary tree\n",
    "root = TreeNode(\n",
    "    value=10,\n",
    "    left=TreeNode(\n",
    "        value=5,\n",
    "        left=TreeNode(3),\n",
    "        right=TreeNode(7)\n",
    "    ),\n",
    "    right=TreeNode(\n",
    "        value=15,\n",
    "        left=TreeNode(12),\n",
    "        right=TreeNode(18)\n",
    "    )\n",
    ")\n",
    "\n",
    "# Visualize the binary tree\n",
    "try:\n",
    "    diagram(root, method=\"inline\")\n",
    "except Exception as e:\n",
    "    print(f\"Error visualizing binary tree: {e}\")"
   ]
  },
  {
   "cell_type": "markdown",
   "id": "44bde82f",
   "metadata": {},
   "source": [
    "# More Complex Data Structure?\n",
    "Now we will model a more complex data structure, with grouping and rings. Maybe like a ring-protocol or something?\n",
    "\n",
    "But first, Sets are a great chance to show grouping. "
   ]
  },
  {
   "cell_type": "markdown",
   "id": "2272576f",
   "metadata": {},
   "source": [
    "# Sets\n"
   ]
  },
  {
   "cell_type": "code",
   "execution_count": 26,
   "id": "5180fc70",
   "metadata": {},
   "outputs": [
    {
     "data": {
      "text/html": [
       "\n",
       "                <div style=\"border: 2px solid #007acc; border-radius: 8px; overflow: hidden;\">\n",
       "                    <iframe \n",
       "                        src=\"data:text/html;base64,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\" \n",
       "                        width=\"100%\" \n",
       "                        height=\"650px\" \n",
       "                        frameborder=\"0\"\n",
       "                        style=\"display: block;\">\n",
       "                    </iframe>\n",
       "                </div>\n",
       "                "
      ],
      "text/plain": [
       "<IPython.core.display.HTML object>"
      ]
     },
     "metadata": {},
     "output_type": "display_data"
    }
   ],
   "source": [
    "numbers = set([1,22,3,4,55,6,7,8])\n",
    "diagram(numbers, method=\"inline\")\n",
    "\n",
    "## But this doesn't quite give us the really nice diagram we want."
   ]
  },
  {
   "cell_type": "code",
   "execution_count": 27,
   "id": "9dadb57e",
   "metadata": {},
   "outputs": [
    {
     "data": {
      "text/html": [
       "\n",
       "                <div style=\"border: 2px solid #007acc; border-radius: 8px; overflow: hidden;\">\n",
       "                    <iframe \n",
       "                        src=\"data:text/html;base64,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\" \n",
       "                        width=\"100%\" \n",
       "                        height=\"650px\" \n",
       "                        frameborder=\"0\"\n",
       "                        style=\"display: block;\">\n",
       "                    </iframe>\n",
       "                </div>\n",
       "                "
      ],
      "text/plain": [
       "<IPython.core.display.HTML object>"
      ]
     },
     "metadata": {},
     "output_type": "display_data"
    }
   ],
   "source": [
    "\n",
    "## But this doesn't quite give us the sense of ''set''  we want.\n",
    "\n",
    "\n",
    "# So lets group on the `contains` arrows.\n",
    "from spytial import group\n",
    "numbers2 = group(field='contains', groupOn=0, addToGroup=1)(set([1,22,3,4,55,6,7,8]))\n",
    "\n",
    "\n",
    "diagram(numbers2, method=\"inline\")\n"
   ]
  },
  {
   "cell_type": "markdown",
   "id": "29d316a3",
   "metadata": {},
   "source": [
    "# Red Black Tree\n",
    "\n",
    "Now we extend the previous tree data structure to make Red black trees, with two additional directives for color."
   ]
  },
  {
   "cell_type": "code",
   "execution_count": null,
   "id": "98e8935f",
   "metadata": {},
   "outputs": [
    {
     "data": {
      "text/html": [
       "\n",
       "                <div style=\"border: 2px solid #007acc; border-radius: 8px; overflow: hidden;\">\n",
       "                    <iframe \n",
       "                        src=\"data:text/html;base64,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\" \n",
       "                        width=\"100%\" \n",
       "                        height=\"650px\" \n",
       "                        frameborder=\"0\"\n",
       "                        style=\"display: block;\">\n",
       "                    </iframe>\n",
       "                </div>\n",
       "                "
      ],
      "text/plain": [
       "<IPython.core.display.HTML object>"
      ]
     },
     "metadata": {},
     "output_type": "display_data"
    }
   ],
   "source": [
    "from spytial.annotations import atomColor\n",
    "\n",
    "# Define a Red-Black Tree node by extending TreeNode\n",
    "## TODO: Something isn't workign here in terms of inheritance?\n",
    "@atomColor(selector='{ x : TreeNode | x.color = red }', value='red')\n",
    "@atomColor(selector='{ x : TreeNode | x.color = black }', value='black')\n",
    "\n",
    "class RBTreeNode(TreeNode):\n",
    "    def __init__(self, value, color, left=None, right=None):\n",
    "        super().__init__(value, left, right)\n",
    "        self.color = color\n",
    "\n",
    "    def __repr__(self):\n",
    "        return f\"RBTreeNode({self.value}, {self.color})\"\n",
    "\n",
    "# Create a sample Red-Black Tree\n",
    "rb_root = RBTreeNode(\n",
    "    value=10, color=\"black\",\n",
    "    left=RBTreeNode(\n",
    "        value=5, color=\"red\",\n",
    "        left=RBTreeNode(3, \"black\"),\n",
    "        right=RBTreeNode(7, \"black\")\n",
    "    ),\n",
    "    right=RBTreeNode(\n",
    "        value=15, color=\"red\",\n",
    "        left=RBTreeNode(12, \"black\"),\n",
    "        right=RBTreeNode(18, \"black\")\n",
    "    )\n",
    ")\n",
    "\n",
    "# Visualize the Red-Black Tree\n",
    "try:\n",
    "    diagram(rb_root, method=\"inline\")\n",
    "except Exception as e:\n",
    "    print(f\"Error visualizing Red-Black Tree: {e}\")"
   ]
  },
  {
   "cell_type": "code",
   "execution_count": null,
   "id": "c135c4e0",
   "metadata": {},
   "outputs": [],
   "source": []
  }
 ],
 "metadata": {
  "kernelspec": {
   "display_name": "stats-env",
   "language": "python",
   "name": "python3"
  },
  "language_info": {
   "codemirror_mode": {
    "name": "ipython",
    "version": 3
   },
   "file_extension": ".py",
   "mimetype": "text/x-python",
   "name": "python",
   "nbconvert_exporter": "python",
   "pygments_lexer": "ipython3",
   "version": "3.10.17"
  }
 },
 "nbformat": 4,
 "nbformat_minor": 5
}
