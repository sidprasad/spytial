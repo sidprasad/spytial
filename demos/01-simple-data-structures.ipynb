{
 "cells": [
  {
   "cell_type": "markdown",
   "id": "2c6c135f",
   "metadata": {},
   "source": [
    "# Spytial\n",
    "\n",
    "Sometimes you just want to see your data.\n",
    "\n",
    "You’re working with a tree, a graph, a recursive object -- maybe an AST, a neural network, or a symbolic term. You don’t need an interactive dashboard or a production-grade visualization system. You just need a diagram, something that lays it out clearly so you can understand what’s going on.\n",
    "\n",
    "That’s what `sPyTial` is for. It’s designed for developers, educators, and researchers who work with structured data and need to make that structure visible — to themselves or to others — with minimal effort. \n",
    "\n"
   ]
  },
  {
   "cell_type": "code",
   "execution_count": 35,
   "id": "bcf56e66",
   "metadata": {},
   "outputs": [],
   "source": [
    "import sys\n",
    "from pathlib import Path\n",
    "\n",
    "# Add the parent directory to the Python path\n",
    "sys.path.append(str(Path().resolve().parent))\n",
    "\n",
    "from spytial import diagram\n",
    "from spytial.annotations import orientation, attribute, hideAtom, atomColor, group, flag\n"
   ]
  },
  {
   "cell_type": "markdown",
   "id": "17b09393",
   "metadata": {},
   "source": [
    "## Python Gives You Structure — But Not Visuals\n",
    "Python is great at structure. When you build a tree, a graph, or any recursive data structure, the relationships are right there — through fields and references.\n",
    "\n",
    "Let’s define a simple binary tree, construct an instance of the tree, and print it."
   ]
  },
  {
   "cell_type": "code",
   "execution_count": 36,
   "id": "e3cd9e46",
   "metadata": {},
   "outputs": [
    {
     "name": "stdout",
     "output_type": "stream",
     "text": [
      "TreeNode(10)\n"
     ]
    }
   ],
   "source": [
    "class TreeNode:\n",
    "    def __init__(self, value, left=None, right=None):\n",
    "        self.value = value\n",
    "        self.left = left\n",
    "        self.right = right\n",
    "\n",
    "    def __repr__(self):\n",
    "        return f\"TreeNode({self.value})\"\n",
    "\n",
    "# Instance of a binary tree\n",
    "root = TreeNode(\n",
    "    10,\n",
    "    left=TreeNode(\n",
    "        5,\n",
    "        TreeNode(3),\n",
    "        TreeNode(7)\n",
    "    ),\n",
    "    right=TreeNode(\n",
    "        15,\n",
    "        TreeNode(12),\n",
    "        TreeNode(18)\n",
    "    )\n",
    ")\n",
    "\n",
    "print(root)"
   ]
  },
  {
   "cell_type": "markdown",
   "id": "c80ea8bd",
   "metadata": {},
   "source": [
    "You only see the root. The rest of the tree is hidden behind references. \n",
    "\n",
    "To make structure visible, you might write a recursive print function:"
   ]
  },
  {
   "cell_type": "code",
   "execution_count": 37,
   "id": "ec86ca79",
   "metadata": {},
   "outputs": [
    {
     "name": "stdout",
     "output_type": "stream",
     "text": [
      "        18\n",
      "    15\n",
      "        12\n",
      "10\n",
      "        7\n",
      "    5\n",
      "        3\n"
     ]
    }
   ],
   "source": [
    "def print_tree(node, level=0):\n",
    "    if node.right:\n",
    "        print_tree(node.right, level + 1)\n",
    "    print(\"    \" * level + str(node.value))\n",
    "    if node.left:\n",
    "        print_tree(node.left, level + 1)\n",
    "\n",
    "print_tree(root)"
   ]
  },
  {
   "cell_type": "markdown",
   "id": "ea1a1e72",
   "metadata": {},
   "source": [
    "This is better than a bare `print` statement, and gives you some idea of the shape of the tree. You could imagine writing an even more involved visualization that ensures that things are drawn even better. But fundamentally, this approach is:\n",
    "\n",
    "- Hardcoded for trees (and / or any other structure you envision)\n",
    "- Constructive: You get nothing until you have written all the code for your visualization.\n",
    "- Tedious to write and debug.\n",
    "\n",
    "\n",
    "#### Or You Can Use sPyTial\n",
    "With sPyTial, you don’t have to write a printer at all. You can generate a box-and-arrow diagram automatically.\n",
    "\n",
    "You'll see a diagram that:\n",
    "\n",
    "- Draws one box per object\n",
    "- Connects objects via their fields (like .left, .right)\n",
    "- Labels boxes with class names and values\n",
    "\n",
    "This works out-of-the-box — no layout rules, no walkers, no extra code."
   ]
  },
  {
   "cell_type": "code",
   "execution_count": 38,
   "id": "d8d0c3ea",
   "metadata": {},
   "outputs": [
    {
     "data": {
      "text/html": [
       "\n",
       "                <div style=\"border: 2px solid #007acc; border-radius: 8px; overflow: hidden;\">\n",
       "                    <iframe \n",
       "                        src=\"data:text/html;base64,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\" \n",
       "                        width=\"100%\" \n",
       "                        height=\"450px\" \n",
       "                        frameborder=\"0\"\n",
       "                        style=\"display: block;\">\n",
       "                    </iframe>\n",
       "                </div>\n",
       "                "
      ],
      "text/plain": [
       "<IPython.core.display.HTML object>"
      ]
     },
     "metadata": {},
     "output_type": "display_data"
    }
   ],
   "source": [
    "from spytial import diagram\n",
    "\n",
    "diagram(root)\n"
   ]
  },
  {
   "cell_type": "markdown",
   "id": "a2327b0a",
   "metadata": {},
   "source": [
    "To generate the diagram, sPyTial performs relationalization. That is, it turns your object into a graph.\n",
    "\n",
    "Conceptually, your data becomes:\n",
    "\n",
    "- Atoms: each Python object becomes a node\n",
    "- Relations: each reference (like x.left = y) becomes an edge\n",
    "\n",
    "It’s the same transformation you’d do manually if you were building a visualizer — but done automatically, for any Python object.\n",
    "\n",
    "## Adding Spatial Semantics with Constraints \n",
    "\n",
    "sPyTial gives you a default diagram out-of-the-box. But the layout isn’t always what you mean. Take our tree example. The diagram shows the objects and their connections — but the children might appear side-by-side, above the parent, or in arbitrary positions. That’s because you haven’t told sPyTial what the structure means spatially.\n",
    "\n",
    "\n",
    "Think about how you picture a binary tree:\n",
    "\n",
    "- The root is at the top.\n",
    "- The left child is below and to the left.\n",
    "- The right child is below and to the right.\n",
    "\n",
    "That’s not just data, it expresses something semantic about how you would like the tree laid out. \n",
    "With sPyTial, you can express that layout intent directly, using decorators."
   ]
  },
  {
   "cell_type": "code",
   "execution_count": 39,
   "id": "f6aacc6e",
   "metadata": {},
   "outputs": [],
   "source": [
    "@orientation(selector='{ x : TreeNode, y : TreeNode | x.left = y}', directions=['below', 'left'])\n",
    "@orientation(selector='{ x : TreeNode, y : TreeNode | x.right = y}', directions=['below', 'right'])\n",
    "@attribute(field='value')\n",
    "@hideAtom(selector='NoneType')\n",
    "@flag(name=\"hideDisconnected\")\n",
    "class TreeNode:\n",
    "    def __init__(self, value, left=None, right=None):\n",
    "        self.value = value\n",
    "        self.left = left\n",
    "        self.right = right\n",
    "    \n",
    "root = TreeNode(\n",
    "    value=10,\n",
    "    left=TreeNode(\n",
    "        value=5,\n",
    "        left=TreeNode(3),\n",
    "        right=TreeNode(7)\n",
    "    ),\n",
    "    right=TreeNode(\n",
    "        value=15,\n",
    "        left=TreeNode(12),\n",
    "        right=TreeNode(18)\n",
    "    )\n",
    ")"
   ]
  },
  {
   "cell_type": "markdown",
   "id": "3e3a44f3",
   "metadata": {},
   "source": [
    "Lets break these annotations down:\n",
    "\n",
    "- `@orientation(...)` defines how related elements should be positioned.\n",
    "   - The first annotation says: \"If x.left = y, then place y below and to the left of x.\"\n",
    "   - The second: \"If x.right = y, then place y below and to the right of x.\"\n",
    "\n",
    "These aren’t just hints — they’re enforced by the layout engine.\n",
    "\n",
    "- `@attribute(field='value')` tells sPyTial to label each box with the value field, so instead of seeing TreeNode, you’ll see the number stored in that node.\n",
    "\n",
    "- `@hideAtom(selector='NoneType')` prevents None references (like empty children) from appearing in the diagram.\n",
    "\n",
    "- `@flag(name=\"hideDisconnected\")` tells sPyTial to hide objects that aren’t connected to anything — useful if you have unused or floating nodes in memory.\n",
    "\n",
    "\n",
    "So now, when you diagram `root`, all these annotations are enforced."
   ]
  },
  {
   "cell_type": "code",
   "execution_count": 40,
   "id": "9bbe6d8e",
   "metadata": {},
   "outputs": [
    {
     "data": {
      "text/html": [
       "\n",
       "                <div style=\"border: 2px solid #007acc; border-radius: 8px; overflow: hidden;\">\n",
       "                    <iframe \n",
       "                        src=\"data:text/html;base64,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\" \n",
       "                        width=\"100%\" \n",
       "                        height=\"450px\" \n",
       "                        frameborder=\"0\"\n",
       "                        style=\"display: block;\">\n",
       "                    </iframe>\n",
       "                </div>\n",
       "                "
      ],
      "text/plain": [
       "<IPython.core.display.HTML object>"
      ]
     },
     "metadata": {},
     "output_type": "display_data"
    }
   ],
   "source": [
    "diagram(root)"
   ]
  },
  {
   "cell_type": "markdown",
   "id": "new_rb_section",
   "metadata": {},
   "source": [
    "##  Red-Black Trees with Color Coding\n",
    "So far, we’ve visualized structure and layout. But many data structures carry semantic metadata that you also want to reflect in a diagram — things like types, states, or properties.\n",
    "\n",
    "A perfect example is the Red-Black Tree.\n",
    "\n",
    "Red-Black Trees augment binary search trees with a color field that encodes balancing invariants. Those colors are essential to understanding the shape and behavior of the structure.\n",
    "\n",
    "We’ll subclass TreeNode to add a color field and annotate it using @atomColor, so that red and black nodes are drawn differently."
   ]
  },
  {
   "cell_type": "code",
   "execution_count": 41,
   "id": "98e8935f",
   "metadata": {},
   "outputs": [],
   "source": [
    "from spytial import atomColor\n",
    "\n",
    "@atomColor(\n",
    "    selector='{ x : RBTreeNode | @:(x.color) = red }',\n",
    "    value='red'\n",
    ")\n",
    "@atomColor(\n",
    "    selector='{ x : RBTreeNode | @:(x.color) = black }',\n",
    "    value='black'\n",
    ")\n",
    "@attribute(field='color')\n",
    "class RBTreeNode(TreeNode):\n",
    "    def __init__(self, value, color, left=None, right=None):\n",
    "        self.color = color\n",
    "        super().__init__(value, left, right)\n"
   ]
  },
  {
   "cell_type": "markdown",
   "id": "cd952176",
   "metadata": {},
   "source": [
    "### What’s Going On?\n",
    "`@atomColor(...)` uses a selector to match nodes based on a field (in this case, color).\n",
    "\n",
    "`@:(x.color)` refers to the value of a color node, rather than its unique atom id. Matching nodes are assigned a color (red, black) in the diagram.\n"
   ]
  },
  {
   "cell_type": "code",
   "execution_count": 42,
   "id": "4af35a49",
   "metadata": {},
   "outputs": [
    {
     "data": {
      "text/html": [
       "\n",
       "                <div style=\"border: 2px solid #007acc; border-radius: 8px; overflow: hidden;\">\n",
       "                    <iframe \n",
       "                        src=\"data:text/html;base64,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\" \n",
       "                        width=\"100%\" \n",
       "                        height=\"450px\" \n",
       "                        frameborder=\"0\"\n",
       "                        style=\"display: block;\">\n",
       "                    </iframe>\n",
       "                </div>\n",
       "                "
      ],
      "text/plain": [
       "<IPython.core.display.HTML object>"
      ]
     },
     "metadata": {},
     "output_type": "display_data"
    }
   ],
   "source": [
    "rb_root = RBTreeNode(\n",
    "    value=10, color=\"black\",\n",
    "    left=RBTreeNode(\n",
    "        value=5, color=\"red\",\n",
    "        left=RBTreeNode(3, \"black\"),\n",
    "        right=RBTreeNode(7, \"black\")\n",
    "    ),\n",
    "    right=RBTreeNode(\n",
    "        value=15, color=\"red\",\n",
    "        left=RBTreeNode(12, \"black\"),\n",
    "        right=RBTreeNode(18, \"black\")\n",
    "    )\n",
    ")\n",
    "\n",
    "\n",
    "diagram(rb_root)"
   ]
  },
  {
   "cell_type": "markdown",
   "id": "b2f8a619",
   "metadata": {},
   "source": [
    "## When Layout Fails: Unsatisfiable Spatial Constraints\n",
    "sPyTial doesn't just generate diagrams — it enforces your spatial intent. When your annotations conflict — when there’s no way to satisfy all the constraints you wrote — it lets you know:\n",
    "\n",
    "⚠️ This layout is unsatisfiable. Something doesn’t add up.\n",
    "\n",
    "That’s what sets sPyTial apart: it treats spatial layout like a specification, not just a drawing.\n",
    "\n",
    "### When Your Data Isn’t a TreeNode\n",
    "So far, we’ve assumed that the data matches the structure implied by our annotations.\n",
    "\n",
    "But what if it doesn’t?\n",
    "\n",
    "Let’s annotate a class with tree semantics — a parent node with left and right children, laid out spatially.\n",
    "\n",
    "Then we’ll feed it bad data — data that violates those semantics (e.g., a child with multiple parents).\n",
    "\n",
    "sPyTial won’t just draw the diagram — it will tell us the layout is unsatisfiable."
   ]
  },
  {
   "cell_type": "code",
   "execution_count": 48,
   "id": "7ea32ac6",
   "metadata": {},
   "outputs": [
    {
     "data": {
      "text/html": [
       "\n",
       "                <div style=\"border: 2px solid #007acc; border-radius: 8px; overflow: hidden;\">\n",
       "                    <iframe \n",
       "                        src=\"data:text/html;base64,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\" \n",
       "                        width=\"100%\" \n",
       "                        height=\"450px\" \n",
       "                        frameborder=\"0\"\n",
       "                        style=\"display: block;\">\n",
       "                    </iframe>\n",
       "                </div>\n",
       "                "
      ],
      "text/plain": [
       "<IPython.core.display.HTML object>"
      ]
     },
     "metadata": {},
     "output_type": "display_data"
    }
   ],
   "source": [
    "\n",
    "shared = TreeNode(99)\n",
    "\n",
    "not_a_tree = TreeNode(\n",
    "    1,\n",
    "    left=TreeNode(2, left=shared, right = TreeNode(11)),  # 🚨 shared as left\n",
    "    right=shared  # 🚨 shared as both left and right\n",
    ")\n",
    "\n",
    "\n",
    "diagram(not_a_tree)\n",
    "\n"
   ]
  },
  {
   "cell_type": "markdown",
   "id": "f2bae33f",
   "metadata": {},
   "source": [
    "## TODO: Cyclic Constraints"
   ]
  },
  {
   "cell_type": "markdown",
   "id": "c19ed001",
   "metadata": {},
   "source": [
    "## Object-Level Annotations\n",
    "\n",
    "So far, we’ve attached annotations to classes — but what if you want to annotate a specific object?\n",
    "\n",
    "This comes up all the time:\n",
    "- You don’t want to (or can’t) modify a class definition\n",
    "- You’re visualizing different objects of the same type in the same diagram\n",
    "- You want to group the contents of one set, but not another\n",
    "\n",
    "\n",
    "sPyTial supports object-level annotations using function decorators. **All annotations are available as function decorators and vice-versa**.\n",
    "\n",
    "### Demo: Grouping Different Sets\n",
    "\n",
    "Let’s create three Python set objects:"
   ]
  },
  {
   "cell_type": "code",
   "execution_count": 44,
   "id": "69e54315",
   "metadata": {},
   "outputs": [],
   "source": [
    "fruits = {\"apple\", \"banana\", \"cherry\", \"date\"}\n",
    "numbers = {1, 2, 3, 4, 5, 6, 7, 8, 9, 10}\n",
    "colors = {\"red\", \"green\", \"blue\"}\n"
   ]
  },
  {
   "cell_type": "markdown",
   "id": "92bd2fc3",
   "metadata": {},
   "source": [
    "Each set contains strings or integers. We'll visualize all three — but only use the group annotation on two of them.\n"
   ]
  },
  {
   "cell_type": "code",
   "execution_count": 45,
   "id": "b4e86f47",
   "metadata": {},
   "outputs": [],
   "source": [
    "from spytial import group\n",
    "\n",
    "# Group members of 'fruits' under the fruits set\n",
    "fruits = group(\n",
    "    field='contains',         # Which relation to group\n",
    "    selector='self',          # Apply this annotation to this object only\n",
    "    groupOn=0,                # Group based on the set (position 0 in the tuple)\n",
    "    addToGroup=1              # Add the elements (position 1) into that group\n",
    ")(fruits)\n",
    "\n",
    "# Same for numbers\n",
    "numbers = group(\n",
    "    field='contains',\n",
    "    selector='self',\n",
    "    groupOn=0,\n",
    "    addToGroup=1\n",
    ")(numbers)\n",
    "\n",
    "# Leave 'colors' ungrouped\n"
   ]
  },
  {
   "cell_type": "markdown",
   "id": "e2cb68c1",
   "metadata": {},
   "source": [
    "This will cause the diagram to place all fruit elements inside a visual \"fruits\" group, do the same for numbers, and render colors as flat nodes without grouping"
   ]
  },
  {
   "cell_type": "code",
   "execution_count": 46,
   "id": "9a4d96ef",
   "metadata": {},
   "outputs": [
    {
     "data": {
      "text/html": [
       "\n",
       "                <div style=\"border: 2px solid #007acc; border-radius: 8px; overflow: hidden;\">\n",
       "                    <iframe \n",
       "                        src=\"data:text/html;base64,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\" \n",
       "                        width=\"100%\" \n",
       "                        height=\"450px\" \n",
       "                        frameborder=\"0\"\n",
       "                        style=\"display: block;\">\n",
       "                    </iframe>\n",
       "                </div>\n",
       "                "
      ],
      "text/plain": [
       "<IPython.core.display.HTML object>"
      ]
     },
     "metadata": {},
     "output_type": "display_data"
    }
   ],
   "source": [
    "diagram({\n",
    "    \"fruits\": fruits,\n",
    "    \"numbers\": numbers,\n",
    "    \"colors\": colors\n",
    "})\n"
   ]
  },
  {
   "cell_type": "markdown",
   "id": "937e05cd",
   "metadata": {},
   "source": [
    "# Relationalizers / Providers\n",
    "\n",
    "\n",
    "While `sPytial` makes a best effort to relationalize most data structures into a set of atoms (i.e. nodes) and relations (i.e. edges), you may want to customize how this happens for a specific domain.\n",
    "\n",
    "This is what **providers** are designed to do. By defining how Python objects become atoms and relations, you can:\n",
    "- Emphasize relationships important relationships to your domain of choice.\n",
    "- Control visualization granularity and detail"
   ]
  },
  {
   "cell_type": "code",
   "execution_count": null,
   "id": "f57461e0",
   "metadata": {},
   "outputs": [],
   "source": [
    "from spytial import diagram\n",
    "from spytial.provider_system import DataInstanceProvider, data_provider, ProviderRegistry\n",
    "from typing import Any, Dict, List, Tuple\n",
    "from datetime import datetime, date\n",
    "\n",
    "# Example: Custom provider for datetime objects\n",
    "\n",
    "## Higher priority means your provider is considered before other providers.\n",
    "## Built in providers reserve priority up to 99.\n",
    "@data_provider(priority=101)\n",
    "class DateTimeProvider(DataInstanceProvider):\n",
    "    \"\"\"Custom provider for datetime objects with temporal relationships.\"\"\"\n",
    "    \n",
    "\n",
    "    ## Return true if your provider can relationalize\n",
    "    ## the object passed in.\n",
    "    def can_handle(self, obj: Any) -> bool:\n",
    "        return isinstance(obj, (datetime, date))\n",
    "    \n",
    "    # Return a list of \n",
    "    # atoms and relationships.\n",
    "    #\n",
    "    def provide_atoms_and_relations(self, obj: Any, walker_func) -> Tuple[Dict, List[Tuple[str, str, str]]]:\n",
    "        obj_id = walker_func._get_id(obj)\n",
    "        \n",
    "        if isinstance(obj, datetime):\n",
    "            label = obj.strftime(\"%Y-%m-%d %H:%M:%S\")\n",
    "            atom_type = \"datetime\"\n",
    "        else:\n",
    "            label = obj.strftime(\"%Y-%m-%d\")\n",
    "            atom_type = \"date\"\n",
    "        \n",
    "        atom = {\n",
    "            \"id\": obj_id,\n",
    "            \"type\": atom_type,\n",
    "            \"label\": label\n",
    "        }\n",
    "        \n",
    "        # No relations for simple datetime objects\n",
    "        return atom, []\n",
    "\n",
    "# Test the datetime provider\n",
    "temporal_data = {\n",
    "    'created': datetime(2024, 1, 15, 10, 30, 0),\n",
    "    'updated': datetime(2024, 1, 16, 14, 45, 0),\n",
    "    'launch_date': date(2024, 2, 1)\n",
    "}\n",
    "\n",
    "\n",
    "diagram(temporal_data)"
   ]
  }
 ],
 "metadata": {
  "kernelspec": {
   "display_name": "stats-env",
   "language": "python",
   "name": "python3"
  },
  "language_info": {
   "codemirror_mode": {
    "name": "ipython",
    "version": 3
   },
   "file_extension": ".py",
   "mimetype": "text/x-python",
   "name": "python",
   "nbconvert_exporter": "python",
   "pygments_lexer": "ipython3",
   "version": "3.10.17"
  }
 },
 "nbformat": 4,
 "nbformat_minor": 5
}
