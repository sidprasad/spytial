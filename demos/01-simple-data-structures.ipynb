{
 "cells": [
  {
   "cell_type": "markdown",
   "id": "2c6c135f",
   "metadata": {},
   "source": [
    "# Spytial\n",
    "\n",
    "Sometimes you just want to see your data.\n",
    "\n",
    "You’re working with a tree, a graph, a recursive object -- maybe an AST, a neural network, or a symbolic term. You don’t need an interactive dashboard or a production-grade visualization system. You just need a diagram, something that lays it out clearly so you can understand what’s going on.\n",
    "\n",
    "That’s what `sPyTial` is for. It’s designed for developers, educators, and researchers who work with structured data and need to make that structure visible — to themselves or to others — with minimal effort. \n",
    "\n"
   ]
  },
  {
   "cell_type": "code",
   "execution_count": 1,
   "id": "bcf56e66",
   "metadata": {},
   "outputs": [],
   "source": [
    "import sys\n",
    "from pathlib import Path\n",
    "\n",
    "# Add the parent directory to the Python path\n",
    "sys.path.append(str(Path().resolve().parent))\n",
    "\n",
    "from spytial import diagram\n",
    "from spytial.annotations import orientation, attribute, hideAtom, atomColor, group, flag\n"
   ]
  },
  {
   "cell_type": "markdown",
   "id": "17b09393",
   "metadata": {},
   "source": [
    "## Python Gives You Structure — But Not Visuals\n",
    "Python is great at structure. When you build a tree, a graph, or any recursive data structure, the relationships are right there — through fields and references.\n",
    "\n",
    "Let’s define a simple binary tree, construct an instance of the tree, and print it."
   ]
  },
  {
   "cell_type": "code",
   "execution_count": 2,
   "id": "e3cd9e46",
   "metadata": {},
   "outputs": [
    {
     "name": "stdout",
     "output_type": "stream",
     "text": [
      "TreeNode(10)\n"
     ]
    }
   ],
   "source": [
    "class TreeNode:\n",
    "    def __init__(self, value, left=None, right=None):\n",
    "        self.value = value\n",
    "        self.left = left\n",
    "        self.right = right\n",
    "\n",
    "    def __repr__(self):\n",
    "        return f\"TreeNode({self.value})\"\n",
    "\n",
    "# Instance of a binary tree\n",
    "root = TreeNode(\n",
    "    10,\n",
    "    left=TreeNode(\n",
    "        5,\n",
    "        TreeNode(3),\n",
    "        TreeNode(7)\n",
    "    ),\n",
    "    right=TreeNode(\n",
    "        15,\n",
    "        TreeNode(12),\n",
    "        TreeNode(18)\n",
    "    )\n",
    ")\n",
    "\n",
    "print(root)"
   ]
  },
  {
   "cell_type": "markdown",
   "id": "c80ea8bd",
   "metadata": {},
   "source": [
    "You only see the root. The rest of the tree is hidden behind references. \n",
    "\n",
    "To make structure visible, you might write a recursive print function:"
   ]
  },
  {
   "cell_type": "code",
   "execution_count": 3,
   "id": "ec86ca79",
   "metadata": {},
   "outputs": [
    {
     "name": "stdout",
     "output_type": "stream",
     "text": [
      "        18\n",
      "    15\n",
      "        12\n",
      "10\n",
      "        7\n",
      "    5\n",
      "        3\n"
     ]
    }
   ],
   "source": [
    "def print_tree(node, level=0):\n",
    "    if node.right:\n",
    "        print_tree(node.right, level + 1)\n",
    "    print(\"    \" * level + str(node.value))\n",
    "    if node.left:\n",
    "        print_tree(node.left, level + 1)\n",
    "\n",
    "print_tree(root)"
   ]
  },
  {
   "cell_type": "markdown",
   "id": "ea1a1e72",
   "metadata": {},
   "source": [
    "This is better than a bare `print` statement, and gives you some idea of the shape of the tree. You could imagine writing an even more involved visualization that ensures that things are drawn even better. But fundamentally, this approach is:\n",
    "\n",
    "- Hardcoded for trees (and / or any other structure you envision)\n",
    "- Constructive: You get nothing until you have written all the code for your visualization.\n",
    "- Tedious to write and debug.\n",
    "\n",
    "\n",
    "#### Or You Can Use sPyTial\n",
    "With sPyTial, you don’t have to write a printer at all. You can generate a box-and-arrow diagram automatically.\n",
    "\n",
    "You'll see a diagram that:\n",
    "\n",
    "- Draws one box per object\n",
    "- Connects objects via their fields (like .left, .right)\n",
    "- Labels boxes with class names and values\n",
    "\n",
    "This works out-of-the-box — no layout rules, no walkers, no extra code."
   ]
  },
  {
   "cell_type": "code",
   "execution_count": 4,
   "id": "d8d0c3ea",
   "metadata": {},
   "outputs": [
    {
     "data": {
      "text/html": [
       "\n",
       "                <div style=\"border: 2px solid #007acc; border-radius: 8px; overflow: hidden;\">\n",
       "                    <iframe \n",
       "                        src=\"data:text/html;base64,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\" \n",
       "                        width=\"100%\" \n",
       "                        height=\"450px\" \n",
       "                        frameborder=\"0\"\n",
       "                        style=\"display: block;\">\n",
       "                    </iframe>\n",
       "                </div>\n",
       "                "
      ],
      "text/plain": [
       "<IPython.core.display.HTML object>"
      ]
     },
     "metadata": {},
     "output_type": "display_data"
    }
   ],
   "source": [
    "from spytial import diagram\n",
    "\n",
    "diagram(root)\n"
   ]
  },
  {
   "cell_type": "markdown",
   "id": "a2327b0a",
   "metadata": {},
   "source": [
    "To generate the diagram, sPyTial performs relationalization. That is, it turns your object into a graph.\n",
    "\n",
    "Conceptually, your data becomes:\n",
    "\n",
    "- Atoms: each Python object becomes a node\n",
    "- Relations: each reference (like x.left = y) becomes an edge\n",
    "\n",
    "It’s the same transformation you’d do manually if you were building a visualizer — but done automatically, for any Python object.\n",
    "\n",
    "## Adding Spatial Semantics with Constraints \n",
    "\n",
    "sPyTial gives you a default diagram out-of-the-box. But the layout isn’t always what you mean. Take our tree example. The diagram shows the objects and their connections — but the children might appear side-by-side, above the parent, or in arbitrary positions. That’s because you haven’t told sPyTial what the structure means spatially.\n",
    "\n",
    "\n",
    "Think about how you picture a binary tree:\n",
    "\n",
    "- The root is at the top.\n",
    "- The left child is below and to the left.\n",
    "- The right child is below and to the right.\n",
    "\n",
    "That’s not just data, it expresses something semantic about how you would like the tree laid out. \n",
    "With sPyTial, you can express that layout intent directly, using decorators."
   ]
  },
  {
   "cell_type": "code",
   "execution_count": 5,
   "id": "f6aacc6e",
   "metadata": {},
   "outputs": [],
   "source": [
    "@orientation(selector='{ x : TreeNode, y : TreeNode | x.left = y}', directions=['below', 'left'])\n",
    "@orientation(selector='{ x : TreeNode, y : TreeNode | x.right = y}', directions=['below', 'right'])\n",
    "@attribute(field='value')\n",
    "@hideAtom(selector='NoneType')\n",
    "@flag(name=\"hideDisconnected\")\n",
    "class TreeNode:\n",
    "    def __init__(self, value, left=None, right=None):\n",
    "        self.value = value\n",
    "        self.left = left\n",
    "        self.right = right\n",
    "    \n",
    "root = TreeNode(\n",
    "    value=10,\n",
    "    left=TreeNode(\n",
    "        value=5,\n",
    "        left=TreeNode(3),\n",
    "        right=TreeNode(7)\n",
    "    ),\n",
    "    right=TreeNode(\n",
    "        value=15,\n",
    "        left=TreeNode(12),\n",
    "        right=TreeNode(18)\n",
    "    )\n",
    ")"
   ]
  },
  {
   "cell_type": "markdown",
   "id": "3e3a44f3",
   "metadata": {},
   "source": [
    "Lets break these annotations down:\n",
    "\n",
    "- `@orientation(...)` defines how related elements should be positioned.\n",
    "   - The first annotation says: \"If x.left = y, then place y below and to the left of x.\"\n",
    "   - The second: \"If x.right = y, then place y below and to the right of x.\"\n",
    "\n",
    "These aren’t just hints — they’re enforced by the layout engine.\n",
    "\n",
    "- `@attribute(field='value')` tells sPyTial to label each box with the value field, so instead of seeing TreeNode, you’ll see the number stored in that node.\n",
    "\n",
    "- `@hideAtom(selector='NoneType')` prevents None references (like empty children) from appearing in the diagram.\n",
    "\n",
    "- `@flag(name=\"hideDisconnected\")` tells sPyTial to hide objects that aren’t connected to anything — useful if you have unused or floating nodes in memory.\n",
    "\n",
    "\n",
    "So now, when you diagram `root`, all these annotations are enforced."
   ]
  },
  {
   "cell_type": "code",
   "execution_count": 6,
   "id": "9bbe6d8e",
   "metadata": {},
   "outputs": [
    {
     "data": {
      "text/html": [
       "\n",
       "                <div style=\"border: 2px solid #007acc; border-radius: 8px; overflow: hidden;\">\n",
       "                    <iframe \n",
       "                        src=\"data:text/html;base64,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\" \n",
       "                        width=\"100%\" \n",
       "                        height=\"450px\" \n",
       "                        frameborder=\"0\"\n",
       "                        style=\"display: block;\">\n",
       "                    </iframe>\n",
       "                </div>\n",
       "                "
      ],
      "text/plain": [
       "<IPython.core.display.HTML object>"
      ]
     },
     "metadata": {},
     "output_type": "display_data"
    }
   ],
   "source": [
    "diagram(root)"
   ]
  },
  {
   "cell_type": "markdown",
   "id": "new_rb_section",
   "metadata": {},
   "source": [
    "##  Red-Black Trees with Color Coding\n",
    "So far, we’ve visualized structure and layout. But many data structures carry semantic metadata that you also want to reflect in a diagram — things like types, states, or properties.\n",
    "\n",
    "A perfect example is the Red-Black Tree.\n",
    "\n",
    "Red-Black Trees augment binary search trees with a color field that encodes balancing invariants. Those colors are essential to understanding the shape and behavior of the structure.\n",
    "\n",
    "We’ll subclass TreeNode to add a color field and annotate it using @atomColor, so that red and black nodes are drawn differently."
   ]
  },
  {
   "cell_type": "code",
   "execution_count": 7,
   "id": "98e8935f",
   "metadata": {},
   "outputs": [],
   "source": [
    "from spytial import atomColor\n",
    "\n",
    "@atomColor(\n",
    "    selector='{ x : RBTreeNode | @:(x.color) = red }',\n",
    "    value='red'\n",
    ")\n",
    "@atomColor(\n",
    "    selector='{ x : RBTreeNode | @:(x.color) = black }',\n",
    "    value='black'\n",
    ")\n",
    "@attribute(field='color')\n",
    "class RBTreeNode(TreeNode):\n",
    "    def __init__(self, value, color, left=None, right=None):\n",
    "        self.color = color\n",
    "        super().__init__(value, left, right)\n"
   ]
  },
  {
   "cell_type": "markdown",
   "id": "cd952176",
   "metadata": {},
   "source": [
    "### What’s Going On?\n",
    "`@atomColor(...)` uses a selector to match nodes based on a field (in this case, color).\n",
    "\n",
    "`@:(x.color)` refers to the value of a color node, rather than its unique atom id. Matching nodes are assigned a color (red, black) in the diagram.\n"
   ]
  },
  {
   "cell_type": "code",
   "execution_count": 8,
   "id": "4af35a49",
   "metadata": {},
   "outputs": [
    {
     "data": {
      "text/html": [
       "\n",
       "                <div style=\"border: 2px solid #007acc; border-radius: 8px; overflow: hidden;\">\n",
       "                    <iframe \n",
       "                        src=\"data:text/html;base64,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\" \n",
       "                        width=\"100%\" \n",
       "                        height=\"450px\" \n",
       "                        frameborder=\"0\"\n",
       "                        style=\"display: block;\">\n",
       "                    </iframe>\n",
       "                </div>\n",
       "                "
      ],
      "text/plain": [
       "<IPython.core.display.HTML object>"
      ]
     },
     "metadata": {},
     "output_type": "display_data"
    }
   ],
   "source": [
    "rb_root = RBTreeNode(\n",
    "    value=10, color=\"black\",\n",
    "    left=RBTreeNode(\n",
    "        value=5, color=\"red\",\n",
    "        left=RBTreeNode(3, \"black\"),\n",
    "        right=RBTreeNode(7, \"black\")\n",
    "    ),\n",
    "    right=RBTreeNode(\n",
    "        value=15, color=\"red\",\n",
    "        left=RBTreeNode(12, \"black\"),\n",
    "        right=RBTreeNode(18, \"black\")\n",
    "    )\n",
    ")\n",
    "\n",
    "\n",
    "diagram(rb_root)"
   ]
  },
  {
   "cell_type": "markdown",
   "id": "b2f8a619",
   "metadata": {},
   "source": [
    "## When Layout Fails: Unsatisfiable Spatial Constraints\n",
    "sPyTial doesn't just generate diagrams — it enforces your spatial intent. When your annotations conflict — when there’s no way to satisfy all the constraints you wrote — it lets you know:\n",
    "\n",
    "⚠️ This layout is unsatisfiable. Something doesn’t add up.\n",
    "\n",
    "That’s what sets sPyTial apart: it treats spatial layout like a specification, not just a drawing.\n",
    "\n",
    "### When Your Data Isn’t a TreeNode\n",
    "So far, we’ve assumed that the data matches the structure implied by our annotations.\n",
    "\n",
    "But what if it doesn’t?\n",
    "\n",
    "Let’s annotate a class with tree semantics — a parent node with left and right children, laid out spatially.\n",
    "\n",
    "Then we’ll feed it bad data — data that violates those semantics (e.g., a child with multiple parents).\n",
    "\n",
    "sPyTial won’t just draw the diagram — it will tell us the layout is unsatisfiable."
   ]
  },
  {
   "cell_type": "code",
   "execution_count": 14,
   "id": "7ea32ac6",
   "metadata": {},
   "outputs": [
    {
     "data": {
      "text/plain": [
       "'/var/folders/80/rtptthbx3zq0tb06wwzmck_40000gq/T/tmp4rf233nw.html'"
      ]
     },
     "execution_count": 14,
     "metadata": {},
     "output_type": "execute_result"
    }
   ],
   "source": [
    "\n",
    "shared = TreeNode(99)\n",
    "\n",
    "not_a_tree = TreeNode(\n",
    "    1,\n",
    "    left=TreeNode(2, left=shared, right = TreeNode(11)),  # 🚨 shared as left\n",
    "    right=shared  # 🚨 shared as both left and right\n",
    ")\n",
    "\n",
    "\n",
    "diagram(not_a_tree, method='browser')\n",
    "\n"
   ]
  },
  {
   "cell_type": "markdown",
   "id": "f2bae33f",
   "metadata": {},
   "source": [
    "## TODO: Cyclic Constraints"
   ]
  },
  {
   "cell_type": "markdown",
   "id": "c19ed001",
   "metadata": {},
   "source": [
    "## Object-Level Annotations\n",
    "\n",
    "So far, we’ve attached annotations to classes — but what if you want to annotate a specific object?\n",
    "\n",
    "This comes up all the time:\n",
    "- You don’t want to (or can’t) modify a class definition\n",
    "- You’re visualizing different objects of the same type in the same diagram\n",
    "- You want to group the contents of one set, but not another\n",
    "\n",
    "\n",
    "sPyTial supports object-level annotations using function decorators. **All annotations are available as function decorators and vice-versa**.\n",
    "\n",
    "### Demo: Grouping Different Sets\n",
    "\n",
    "Let’s create three Python set objects:"
   ]
  },
  {
   "cell_type": "code",
   "execution_count": 10,
   "id": "69e54315",
   "metadata": {},
   "outputs": [],
   "source": [
    "fruits = {\"apple\", \"banana\", \"cherry\", \"date\"}\n",
    "numbers = {1, 2, 3, 4, 5, 6, 7, 8, 9, 10}\n",
    "colors = {\"red\", \"green\", \"blue\"}\n"
   ]
  },
  {
   "cell_type": "markdown",
   "id": "92bd2fc3",
   "metadata": {},
   "source": [
    "Each set contains strings or integers. We'll visualize all three — but only use the group annotation on two of them.\n"
   ]
  },
  {
   "cell_type": "code",
   "execution_count": 11,
   "id": "b4e86f47",
   "metadata": {},
   "outputs": [],
   "source": [
    "from spytial import group\n",
    "\n",
    "# Group members of 'fruits' under the fruits set\n",
    "fruits = group(\n",
    "    field='contains',         # Which relation to group\n",
    "    selector='self',          # Apply this annotation to this object only\n",
    "    groupOn=0,                # Group based on the set (position 0 in the tuple)\n",
    "    addToGroup=1              # Add the elements (position 1) into that group\n",
    ")(fruits)\n",
    "\n",
    "# Same for numbers\n",
    "numbers = group(\n",
    "    field='contains',\n",
    "    selector='self',\n",
    "    groupOn=0,\n",
    "    addToGroup=1\n",
    ")(numbers)\n",
    "\n",
    "# Leave 'colors' ungrouped\n"
   ]
  },
  {
   "cell_type": "markdown",
   "id": "e2cb68c1",
   "metadata": {},
   "source": [
    "This will cause the diagram to place all fruit elements inside a visual \"fruits\" group, do the same for numbers, and render colors as flat nodes without grouping"
   ]
  },
  {
   "cell_type": "code",
   "execution_count": 12,
   "id": "9a4d96ef",
   "metadata": {},
   "outputs": [
    {
     "data": {
      "text/html": [
       "\n",
       "                <div style=\"border: 2px solid #007acc; border-radius: 8px; overflow: hidden;\">\n",
       "                    <iframe \n",
       "                        src=\"data:text/html;base64,PCFET0NUWVBFIGh0bWw+CjxodG1sIGxhbmc9ImVuIj4KCjxoZWFkPgogICAgPG1ldGEgY2hhcnNldD0iVVRGLTgiPgogICAgPG1ldGEgbmFtZT0idmlld3BvcnQiIGNvbnRlbnQ9IndpZHRoPWRldmljZS13aWR0aCwgaW5pdGlhbC1zY2FsZT0xLjAiPgogICAgPHRpdGxlPnNQeVRpYWwgVmlzdWFsaXphdGlvbjwvdGl0bGU+CiAgICAKICAgIDxzY3JpcHQgc3JjPSJodHRwczovL2QzanMub3JnL2QzLnY0Lm1pbi5qcyI+PC9zY3JpcHQ+CgogICAgPHNjcmlwdCBzcmM9Imh0dHBzOi8vY2RuLmpzZGVsaXZyLm5ldC9ucG0vY25kLWNvcmVAMS4zLjUvZGlzdC9icm93c2VyL2NuZC1jb3JlLWNvbXBsZXRlLmdsb2JhbC5qcyI+PC9zY3JpcHQ+ICAKICAgIDxzY3JpcHQgc3JjPSJodHRwczovL2Nkbi5qc2RlbGl2ci5uZXQvbnBtL2NuZC1jb3JlQDEuMy41L2Rpc3QvY29tcG9uZW50cy9yZWFjdC1jb21wb25lbnQtaW50ZWdyYXRpb24uZ2xvYmFsLmpzIj48L3NjcmlwdD4KICAgIDxsaW5rIHJlbD0ic3R5bGVzaGVldCIgaHJlZj0iaHR0cHM6Ly9jZG4uanNkZWxpdnIubmV0L25wbS9jbmQtY29yZUAxLjMuNS9kaXN0L2NvbXBvbmVudHMvcmVhY3QtY29tcG9uZW50LWludGVncmF0aW9uLmNzcyIgLz4gCiAgICAKICAgIDxzdHlsZT4KICAgICAgICBib2R5IHsKICAgICAgICAgICAgZm9udC1mYW1pbHk6IC1hcHBsZS1zeXN0ZW0sIEJsaW5rTWFjU3lzdGVtRm9udCwgJ1NlZ29lIFVJJywgUm9ib3RvLCBzYW5zLXNlcmlmOwogICAgICAgICAgICBtYXJnaW46IDA7CiAgICAgICAgICAgIHBhZGRpbmc6IDA7CiAgICAgICAgICAgIGJhY2tncm91bmQ6IHRyYW5zcGFyZW50OwogICAgICAgICAgICBoZWlnaHQ6IDEwMHZoOwogICAgICAgICAgICBkaXNwbGF5OiBmbGV4OwogICAgICAgICAgICBmbGV4LWRpcmVjdGlvbjogY29sdW1uOwogICAgICAgIH0KICAgICAgICAKICAgICAgICAuY29udGFpbmVyIHsKICAgICAgICAgICAgcG9zaXRpb246IHJlbGF0aXZlOwogICAgICAgICAgICBib3JkZXI6IDFweCBzb2xpZCAjZTFlNWU5OwogICAgICAgICAgICBib3JkZXItcmFkaXVzOiA2cHg7CiAgICAgICAgICAgIG92ZXJmbG93OiBoaWRkZW47CiAgICAgICAgICAgIGJhY2tncm91bmQ6IHdoaXRlOwogICAgICAgICAgICBmbGV4OiAxOwogICAgICAgICAgICBkaXNwbGF5OiBmbGV4OwogICAgICAgICAgICBmbGV4LWRpcmVjdGlvbjogY29sdW1uOwogICAgICAgIH0KICAgICAgICAKICAgICAgICAuZ3JhcGgtd3JhcHBlciB7CiAgICAgICAgICAgIHBvc2l0aW9uOiByZWxhdGl2ZTsKICAgICAgICAgICAgbWluLWhlaWdodDogNDAwcHg7IC8qIEVuc3VyZSBtaW5pbXVtIGhlaWdodCAqLwogICAgICAgICAgICBmbGV4OiAxOwogICAgICAgICAgICBkaXNwbGF5OiBmbGV4OwogICAgICAgIH0KICAgICAgICAKICAgICAgICAjZ3JhcGgtY29udGFpbmVyIHsKICAgICAgICAgICAgd2lkdGg6IDEwMCU7CiAgICAgICAgICAgIGhlaWdodDogMTAwJTsKICAgICAgICAgICAgbWluLWhlaWdodDogNDAwcHg7CiAgICAgICAgICAgIGRpc3BsYXk6IGJsb2NrOwogICAgICAgICAgICBmbGV4OiAxOwogICAgICAgIH0KICAgICAgICAKICAgICAgICAuZm9vdGVyIHsKICAgICAgICAgICAgdGV4dC1hbGlnbjogY2VudGVyOwogICAgICAgICAgICBwYWRkaW5nOiA2cHg7CiAgICAgICAgICAgIGJhY2tncm91bmQ6ICNmOGY5ZmE7CiAgICAgICAgICAgIGJvcmRlci10b3A6IDFweCBzb2xpZCAjZTFlNWU5OwogICAgICAgICAgICBmb250LXNpemU6IDExcHg7CiAgICAgICAgICAgIGNvbG9yOiAjNmE3MzdkOwogICAgICAgIH0KICAgICAgICAKICAgICAgICAucmVzZXQtYnRuIHsKICAgICAgICAgICAgYmFja2dyb3VuZDogIzAzNjZkNjsKICAgICAgICAgICAgY29sb3I6IHdoaXRlOwogICAgICAgICAgICBib3JkZXI6IG5vbmU7CiAgICAgICAgICAgIHBhZGRpbmc6IDhweCA4cHg7CiAgICAgICAgICAgIGJvcmRlci1yYWRpdXM6IDNweDsKICAgICAgICAgICAgZm9udC1zaXplOiAxMnB4OwogICAgICAgICAgICBjdXJzb3I6IHBvaW50ZXI7CiAgICAgICAgICAgIHRyYW5zaXRpb246IGJhY2tncm91bmQtY29sb3IgMC4xNXMgZWFzZTsKICAgICAgICAgICAgbGluZS1oZWlnaHQ6IDEuMjsKICAgICAgICAgICAgbWFyZ2luLWxlZnQ6IDhweDsKICAgICAgICB9CiAgICAgICAgCiAgICAgICAgLnJlc2V0LWJ0bjpob3ZlciB7CiAgICAgICAgICAgIGJhY2tncm91bmQ6ICMwMjU2Y2M7CiAgICAgICAgfQogICAgPC9zdHlsZT4KCgoKPGJvZHk+CiAgICA8ZGl2IGNsYXNzPSJjb250YWluZXIiPgogICAgICAgIDxkaXYgY2xhc3M9ImdyYXBoLXdyYXBwZXIiPgogICAgICAgICAgICA8IS0tIFdlYkNvbGEgc1B5VGlhbCBHcmFwaCBFbGVtZW50IC0tPgogICAgICAgICAgICA8d2ViY29sYS1jbmQtZ3JhcGggCiAgICAgICAgICAgICAgICBpZD0iZ3JhcGgtY29udGFpbmVyIgogICAgICAgICAgICAgICAgd2lkdGg9IjY3NSIgCiAgICAgICAgICAgICAgICBoZWlnaHQ9IjQ1MCIKICAgICAgICAgICAgICAgIGxheW91dEZvcm1hdD0iZGVmYXVsdCIKICAgICAgICAgICAgICAgIGFyaWEtbGFiZWw9IkludGVyYWN0aXZlIGdyYXBoIHZpc3VhbGl6YXRpb24iPgogICAgICAgICAgICA8L3dlYmNvbGEtY25kLWdyYXBoPgogICAgICAgIDwvZGl2PgogICAgICAgIAogICAgPC9kaXY+CiAgICAKICAgIDxkaXYgaWQ9ImVycm9yLW1lc3NhZ2UiPjwvZGl2PgogICAgPGRpdiBpZD0iZXJyb3ItY29yZSI+PC9kaXY+CgoKICAgIDxzY3JpcHQ+CiAgICAgICAgLy8gRW1iZWRkZWQgZGF0YSBwYXNzZWQgZnJvbSB0aGUgc2VydmVyCiAgICAgICAgY29uc3QgY25kU3BlYyA9IGBjb25zdHJhaW50czoKLSBncm91cDoKICAgIGFkZFRvR3JvdXA6IDEKICAgIGZpZWxkOiBjb250YWlucwogICAgZ3JvdXBPbjogMAogICAgc2VsZWN0b3I6IG9ial8xCi0gZ3JvdXA6CiAgICBhZGRUb0dyb3VwOiAxCiAgICBmaWVsZDogY29udGFpbnMKICAgIGdyb3VwT246IDAKICAgIHNlbGVjdG9yOiBvYmpfMgpkaXJlY3RpdmVzOiBbXQpgOwogICAgICAgIGNvbnN0IGpzb25EYXRhID0gYHsiYXRvbXMiOiBbeyJpZCI6ICJuMSIsICJ0eXBlIjogInN0ciIsICJsYWJlbCI6ICJjaGVycnkiLCAidHlwZV9oaWVyYXJjaHkiOiBbInN0ciIsICJvYmplY3QiXX0sIHsiaWQiOiAibjIiLCAidHlwZSI6ICJzdHIiLCAibGFiZWwiOiAiZGF0ZSIsICJ0eXBlX2hpZXJhcmNoeSI6IFsic3RyIiwgIm9iamVjdCJdfSwgeyJpZCI6ICJuMyIsICJ0eXBlIjogInN0ciIsICJsYWJlbCI6ICJhcHBsZSIsICJ0eXBlX2hpZXJhcmNoeSI6IFsic3RyIiwgIm9iamVjdCJdfSwgeyJpZCI6ICJuNCIsICJ0eXBlIjogInN0ciIsICJsYWJlbCI6ICJiYW5hbmEiLCAidHlwZV9oaWVyYXJjaHkiOiBbInN0ciIsICJvYmplY3QiXX0sIHsiaWQiOiAib2JqXzEiLCAidHlwZSI6ICJzZXQiLCAibGFiZWwiOiAic2V0WzRdIiwgInR5cGVfaGllcmFyY2h5IjogWyJzZXQiLCAib2JqZWN0Il19LCB7ImlkIjogIm41IiwgInR5cGUiOiAiaW50IiwgImxhYmVsIjogIjEiLCAidHlwZV9oaWVyYXJjaHkiOiBbImludCIsICJvYmplY3QiXX0sIHsiaWQiOiAibjYiLCAidHlwZSI6ICJpbnQiLCAibGFiZWwiOiAiMiIsICJ0eXBlX2hpZXJhcmNoeSI6IFsiaW50IiwgIm9iamVjdCJdfSwgeyJpZCI6ICJuNyIsICJ0eXBlIjogImludCIsICJsYWJlbCI6ICIzIiwgInR5cGVfaGllcmFyY2h5IjogWyJpbnQiLCAib2JqZWN0Il19LCB7ImlkIjogIm44IiwgInR5cGUiOiAiaW50IiwgImxhYmVsIjogIjQiLCAidHlwZV9oaWVyYXJjaHkiOiBbImludCIsICJvYmplY3QiXX0sIHsiaWQiOiAibjkiLCAidHlwZSI6ICJpbnQiLCAibGFiZWwiOiAiNSIsICJ0eXBlX2hpZXJhcmNoeSI6IFsiaW50IiwgIm9iamVjdCJdfSwgeyJpZCI6ICJuMTAiLCAidHlwZSI6ICJpbnQiLCAibGFiZWwiOiAiNiIsICJ0eXBlX2hpZXJhcmNoeSI6IFsiaW50IiwgIm9iamVjdCJdfSwgeyJpZCI6ICJuMTEiLCAidHlwZSI6ICJpbnQiLCAibGFiZWwiOiAiNyIsICJ0eXBlX2hpZXJhcmNoeSI6IFsiaW50IiwgIm9iamVjdCJdfSwgeyJpZCI6ICJuMTIiLCAidHlwZSI6ICJpbnQiLCAibGFiZWwiOiAiOCIsICJ0eXBlX2hpZXJhcmNoeSI6IFsiaW50IiwgIm9iamVjdCJdfSwgeyJpZCI6ICJuMTMiLCAidHlwZSI6ICJpbnQiLCAibGFiZWwiOiAiOSIsICJ0eXBlX2hpZXJhcmNoeSI6IFsiaW50IiwgIm9iamVjdCJdfSwgeyJpZCI6ICJuMTQiLCAidHlwZSI6ICJpbnQiLCAibGFiZWwiOiAiMTAiLCAidHlwZV9oaWVyYXJjaHkiOiBbImludCIsICJvYmplY3QiXX0sIHsiaWQiOiAib2JqXzIiLCAidHlwZSI6ICJzZXQiLCAibGFiZWwiOiAic2V0WzEwXSIsICJ0eXBlX2hpZXJhcmNoeSI6IFsic2V0IiwgIm9iamVjdCJdfSwgeyJpZCI6ICJuMTYiLCAidHlwZSI6ICJzdHIiLCAibGFiZWwiOiAicmVkIiwgInR5cGVfaGllcmFyY2h5IjogWyJzdHIiLCAib2JqZWN0Il19LCB7ImlkIjogIm4xNyIsICJ0eXBlIjogInN0ciIsICJsYWJlbCI6ICJncmVlbiIsICJ0eXBlX2hpZXJhcmNoeSI6IFsic3RyIiwgIm9iamVjdCJdfSwgeyJpZCI6ICJuMTgiLCAidHlwZSI6ICJzdHIiLCAibGFiZWwiOiAiYmx1ZSIsICJ0eXBlX2hpZXJhcmNoeSI6IFsic3RyIiwgIm9iamVjdCJdfSwgeyJpZCI6ICJuMTUiLCAidHlwZSI6ICJzZXQiLCAibGFiZWwiOiAic2V0WzNdIiwgInR5cGVfaGllcmFyY2h5IjogWyJzZXQiLCAib2JqZWN0Il19LCB7ImlkIjogIm4wIiwgInR5cGUiOiAiZGljdCIsICJsYWJlbCI6ICJkaWN0ezN9IiwgInR5cGVfaGllcmFyY2h5IjogWyJkaWN0IiwgIm9iamVjdCJdfSwgeyJpZCI6ICJuMF9rZXlfMCIsICJ0eXBlIjogInN0ciIsICJsYWJlbCI6ICJmcnVpdHMiLCAidHlwZV9oaWVyYXJjaHkiOiBbInN0ciIsICJkaWN0IiwgIm9iamVjdCJdfSwgeyJpZCI6ICJuMF9rZXlfMSIsICJ0eXBlIjogInN0ciIsICJsYWJlbCI6ICJudW1iZXJzIiwgInR5cGVfaGllcmFyY2h5IjogWyJzdHIiLCAiZGljdCIsICJvYmplY3QiXX0sIHsiaWQiOiAibjBfa2V5XzIiLCAidHlwZSI6ICJzdHIiLCAibGFiZWwiOiAiY29sb3JzIiwgInR5cGVfaGllcmFyY2h5IjogWyJzdHIiLCAiZGljdCIsICJvYmplY3QiXX1dLCAicmVsYXRpb25zIjogW3siaWQiOiAiY29udGFpbnMiLCAibmFtZSI6ICJjb250YWlucyIsICJ0eXBlcyI6IFsib2JqZWN0IiwgIm9iamVjdCJdLCAidHVwbGVzIjogW3siYXRvbXMiOiBbIm9ial8xIiwgIm4xIl0sICJ0eXBlcyI6IFsic2V0IiwgInN0ciJdfSwgeyJhdG9tcyI6IFsib2JqXzEiLCAibjIiXSwgInR5cGVzIjogWyJzZXQiLCAic3RyIl19LCB7ImF0b21zIjogWyJvYmpfMSIsICJuMyJdLCAidHlwZXMiOiBbInNldCIsICJzdHIiXX0sIHsiYXRvbXMiOiBbIm9ial8xIiwgIm40Il0sICJ0eXBlcyI6IFsic2V0IiwgInN0ciJdfSwgeyJhdG9tcyI6IFsib2JqXzIiLCAibjUiXSwgInR5cGVzIjogWyJzZXQiLCAiaW50Il19LCB7ImF0b21zIjogWyJvYmpfMiIsICJuNiJdLCAidHlwZXMiOiBbInNldCIsICJpbnQiXX0sIHsiYXRvbXMiOiBbIm9ial8yIiwgIm43Il0sICJ0eXBlcyI6IFsic2V0IiwgImludCJdfSwgeyJhdG9tcyI6IFsib2JqXzIiLCAibjgiXSwgInR5cGVzIjogWyJzZXQiLCAiaW50Il19LCB7ImF0b21zIjogWyJvYmpfMiIsICJuOSJdLCAidHlwZXMiOiBbInNldCIsICJpbnQiXX0sIHsiYXRvbXMiOiBbIm9ial8yIiwgIm4xMCJdLCAidHlwZXMiOiBbInNldCIsICJpbnQiXX0sIHsiYXRvbXMiOiBbIm9ial8yIiwgIm4xMSJdLCAidHlwZXMiOiBbInNldCIsICJpbnQiXX0sIHsiYXRvbXMiOiBbIm9ial8yIiwgIm4xMiJdLCAidHlwZXMiOiBbInNldCIsICJpbnQiXX0sIHsiYXRvbXMiOiBbIm9ial8yIiwgIm4xMyJdLCAidHlwZXMiOiBbInNldCIsICJpbnQiXX0sIHsiYXRvbXMiOiBbIm9ial8yIiwgIm4xNCJdLCAidHlwZXMiOiBbInNldCIsICJpbnQiXX0sIHsiYXRvbXMiOiBbIm4xNSIsICJuMTYiXSwgInR5cGVzIjogWyJzZXQiLCAic3RyIl19LCB7ImF0b21zIjogWyJuMTUiLCAibjE3Il0sICJ0eXBlcyI6IFsic2V0IiwgInN0ciJdfSwgeyJhdG9tcyI6IFsibjE1IiwgIm4xOCJdLCAidHlwZXMiOiBbInNldCIsICJzdHIiXX1dfSwgeyJpZCI6ICJrdiIsICJuYW1lIjogImt2IiwgInR5cGVzIjogWyJvYmplY3QiLCAib2JqZWN0IiwgIm9iamVjdCJdLCAidHVwbGVzIjogW3siYXRvbXMiOiBbIm4wIiwgIm4wX2tleV8wIiwgIm9ial8xIl0sICJ0eXBlcyI6IFsiZGljdCIsICJzdHIiLCAic2V0Il19LCB7ImF0b21zIjogWyJuMCIsICJuMF9rZXlfMSIsICJvYmpfMiJdLCAidHlwZXMiOiBbImRpY3QiLCAic3RyIiwgInNldCJdfSwgeyJhdG9tcyI6IFsibjAiLCAibjBfa2V5XzIiLCAibjE1Il0sICJ0eXBlcyI6IFsiZGljdCIsICJzdHIiLCAic2V0Il19XX1dLCAidHlwZXMiOiBbeyJfIjogInR5cGUiLCAiaWQiOiAic3RyIiwgInR5cGVzIjogWyJzdHIiLCAib2JqZWN0Il0sICJhdG9tcyI6IFt7Il8iOiAiYXRvbSIsICJpZCI6ICJuMSIsICJ0eXBlIjogInN0ciJ9LCB7Il8iOiAiYXRvbSIsICJpZCI6ICJuMiIsICJ0eXBlIjogInN0ciJ9LCB7Il8iOiAiYXRvbSIsICJpZCI6ICJuMyIsICJ0eXBlIjogInN0ciJ9LCB7Il8iOiAiYXRvbSIsICJpZCI6ICJuNCIsICJ0eXBlIjogInN0ciJ9LCB7Il8iOiAiYXRvbSIsICJpZCI6ICJuMTYiLCAidHlwZSI6ICJzdHIifSwgeyJfIjogImF0b20iLCAiaWQiOiAibjE3IiwgInR5cGUiOiAic3RyIn0sIHsiXyI6ICJhdG9tIiwgImlkIjogIm4xOCIsICJ0eXBlIjogInN0ciJ9LCB7Il8iOiAiYXRvbSIsICJpZCI6ICJuMF9rZXlfMCIsICJ0eXBlIjogInN0ciJ9LCB7Il8iOiAiYXRvbSIsICJpZCI6ICJuMF9rZXlfMSIsICJ0eXBlIjogInN0ciJ9LCB7Il8iOiAiYXRvbSIsICJpZCI6ICJuMF9rZXlfMiIsICJ0eXBlIjogInN0ciJ9XSwgIm1ldGEiOiB7ImJ1aWx0aW4iOiB0cnVlfX0sIHsiXyI6ICJ0eXBlIiwgImlkIjogInNldCIsICJ0eXBlcyI6IFsic2V0IiwgIm9iamVjdCJdLCAiYXRvbXMiOiBbeyJfIjogImF0b20iLCAiaWQiOiAib2JqXzEiLCAidHlwZSI6ICJzZXQifSwgeyJfIjogImF0b20iLCAiaWQiOiAib2JqXzIiLCAidHlwZSI6ICJzZXQifSwgeyJfIjogImF0b20iLCAiaWQiOiAibjE1IiwgInR5cGUiOiAic2V0In1dLCAibWV0YSI6IHsiYnVpbHRpbiI6IGZhbHNlfX0sIHsiXyI6ICJ0eXBlIiwgImlkIjogImludCIsICJ0eXBlcyI6IFsiaW50IiwgIm9iamVjdCJdLCAiYXRvbXMiOiBbeyJfIjogImF0b20iLCAiaWQiOiAibjUiLCAidHlwZSI6ICJpbnQifSwgeyJfIjogImF0b20iLCAiaWQiOiAibjYiLCAidHlwZSI6ICJpbnQifSwgeyJfIjogImF0b20iLCAiaWQiOiAibjciLCAidHlwZSI6ICJpbnQifSwgeyJfIjogImF0b20iLCAiaWQiOiAibjgiLCAidHlwZSI6ICJpbnQifSwgeyJfIjogImF0b20iLCAiaWQiOiAibjkiLCAidHlwZSI6ICJpbnQifSwgeyJfIjogImF0b20iLCAiaWQiOiAibjEwIiwgInR5cGUiOiAiaW50In0sIHsiXyI6ICJhdG9tIiwgImlkIjogIm4xMSIsICJ0eXBlIjogImludCJ9LCB7Il8iOiAiYXRvbSIsICJpZCI6ICJuMTIiLCAidHlwZSI6ICJpbnQifSwgeyJfIjogImF0b20iLCAiaWQiOiAibjEzIiwgInR5cGUiOiAiaW50In0sIHsiXyI6ICJhdG9tIiwgImlkIjogIm4xNCIsICJ0eXBlIjogImludCJ9XSwgIm1ldGEiOiB7ImJ1aWx0aW4iOiB0cnVlfX0sIHsiXyI6ICJ0eXBlIiwgImlkIjogImRpY3QiLCAidHlwZXMiOiBbImRpY3QiLCAib2JqZWN0Il0sICJhdG9tcyI6IFt7Il8iOiAiYXRvbSIsICJpZCI6ICJuMCIsICJ0eXBlIjogImRpY3QifV0sICJtZXRhIjogeyJidWlsdGluIjogZmFsc2V9fV19YDsKCiAgICAgICAgLy8gR2xvYmFsIHZhcmlhYmxlcyBmb3IgcmVzZXQgZnVuY3Rpb25hbGl0eQogICAgICAgIGxldCBpbnN0YW5jZUxheW91dCA9IG51bGw7CiAgICAgICAgbGV0IGdyYXBoRWxlbWVudCA9IG51bGw7CgogICAgICAgIC8qKgogICAgICAgICAqIFJlc2V0IHRoZSBncmFwaCBsYXlvdXQKICAgICAgICAgKi8KICAgICAgICBhc3luYyBmdW5jdGlvbiByZXNldExheW91dCgpIHsKICAgICAgICAgICAgaWYgKGdyYXBoRWxlbWVudCAmJiBpbnN0YW5jZUxheW91dCkgewogICAgICAgICAgICAgICAgYXdhaXQgZ3JhcGhFbGVtZW50LnJlbmRlckxheW91dChpbnN0YW5jZUxheW91dCk7CiAgICAgICAgICAgIH0KICAgICAgICB9CgoKICAgICAgICAvKioKICAgICAgICAgKiBDcmVhdGUgYW5kIGFkZCByZXNldCBidXR0b24gdG8gdGhlIGdyYXBoIHRvb2xiYXIKICAgICAgICAgKi8KICAgICAgICBmdW5jdGlvbiBhZGRSZXNldEJ1dHRvbigpIHsKICAgICAgICAgICAgaWYgKGdyYXBoRWxlbWVudCAmJiBncmFwaEVsZW1lbnQuYWRkVG9vbGJhckNvbnRyb2wpIHsKICAgICAgICAgICAgICAgIGNvbnN0IHJlc2V0QnV0dG9uID0gZG9jdW1lbnQuY3JlYXRlRWxlbWVudCgnYnV0dG9uJyk7CiAgICAgICAgICAgICAgICByZXNldEJ1dHRvbi5jbGFzc05hbWUgPSAncmVzZXQtYnRuJzsKICAgICAgICAgICAgICAgIHJlc2V0QnV0dG9uLmlubmVySFRNTCA9ICfihrsgUmVzZXQnOwogICAgICAgICAgICAgICAgcmVzZXRCdXR0b24udGl0bGUgPSAnUmVzZXQgbGF5b3V0JzsKICAgICAgICAgICAgICAgIHJlc2V0QnV0dG9uLm9uY2xpY2sgPSByZXNldExheW91dDsKICAgICAgICAgICAgICAgIAogICAgICAgICAgICAgICAgZ3JhcGhFbGVtZW50LmFkZFRvb2xiYXJDb250cm9sKHJlc2V0QnV0dG9uKTsKICAgICAgICAgICAgfQogICAgICAgIH0KCiAgICAgICAgLyoqCiAgICAgICAgICogTG9hZCBhbmQgcmVuZGVyIHRoZSBncmFwaCB1c2luZyB0aGUgd2ViY29sYS1jbmQtZ3JhcGggY3VzdG9tIGVsZW1lbnQKICAgICAgICAgKi8KICAgICAgICBhc3luYyBmdW5jdGlvbiBsb2FkR3JhcGgoKSB7CiAgICAgICAgICAgIGdyYXBoRWxlbWVudCA9IGRvY3VtZW50LmdldEVsZW1lbnRCeUlkKCdncmFwaC1jb250YWluZXInKTsKCiAgICAgICAgICAgIC8vIENoZWNrIGlmIENuRCBDb3JlIGlzIGF2YWlsYWJsZQogICAgICAgICAgICBpZiAodHlwZW9mIENuZENvcmUgPT09ICd1bmRlZmluZWQnKSB7CiAgICAgICAgICAgICAgICBjb25zb2xlLmVycm9yKCdDbkQgQ29yZSBsaWJyYXJ5IGlzIG5vdCBhdmFpbGFibGUnKTsKICAgICAgICAgICAgICAgIHNob3dFcnJvcignQ25EIENvcmUgbGlicmFyeSBmYWlsZWQgdG8gbG9hZC4gVGhlIHZpc3VhbGl6YXRpb24gY2Fubm90IGJlIGRpc3BsYXllZC4nKTsKICAgICAgICAgICAgICAgIHJldHVybjsKICAgICAgICAgICAgfQoKICAgICAgICAgICAgLy8gU3RlcCAxOiBNb3VudCBlcnJvciBtZXNzYWdlIG1vZGFsIGlmIGF2YWlsYWJsZQogICAgICAgICAgICBpZiAod2luZG93Lm1vdW50RXJyb3JNZXNzYWdlTW9kYWwpIHsKICAgICAgICAgICAgICAgIGNvbnNvbGUubG9nKCdNb3VudGluZyBlcnJvciBtZXNzYWdlIG1vZGFsJyk7CiAgICAgICAgICAgICAgICB3aW5kb3cubW91bnRFcnJvck1lc3NhZ2VNb2RhbCgnZXJyb3ItY29yZScpOwogICAgICAgICAgICB9CgoKCgogICAgICAgICAgICB0cnkgewogICAgICAgICAgICAgICAgLy9jb25zb2xlLmxvZygnU3RhcnRpbmcgZ3JhcGggcmVuZGVyaW5nLi4uJyk7CiAgICAgICAgICAgICAgICAvL2NvbnNvbGUubG9nKCdzUHlUaWFsIFNwZWM6JywgY25kU3BlYyk7CiAgICAgICAgICAgICAgICAvL2NvbnNvbGUubG9nKCdKU09OIERhdGE6JywganNvbkRhdGEuc3Vic3RyaW5nKDAsIDIwMCkgKyAnLi4uJyk7CgogICAgICAgICAgICAgICAgLy8gUGFyc2UgSlNPTiBkYXRhIGlmIGl0J3MgYSBzdHJpbmcKICAgICAgICAgICAgICAgIGxldCBwYXJzZWREYXRhOwogICAgICAgICAgICAgICAgdHJ5IHsKICAgICAgICAgICAgICAgICAgICBwYXJzZWREYXRhID0gdHlwZW9mIGpzb25EYXRhID09PSAnc3RyaW5nJyA/IEpTT04ucGFyc2UoanNvbkRhdGEpIDoganNvbkRhdGE7CiAgICAgICAgICAgICAgICB9IGNhdGNoIChwYXJzZUVycm9yKSB7CiAgICAgICAgICAgICAgICAgICAgdGhyb3cgbmV3IEVycm9yKGBGYWlsZWQgdG8gcGFyc2UgSlNPTiBkYXRhOiAke3BhcnNlRXJyb3IubWVzc2FnZX1gKTsKICAgICAgICAgICAgICAgIH0KCiAgICAgICAgICAgICAgICAvLyBDcmVhdGUgYSBkYXRhIGluc3RhbmNlIGZyb20gdGhlIEpTT04gZGF0YQogICAgICAgICAgICAgICAgY29uc3QgZGF0YUluc3RhbmNlID0gbmV3IENuZENvcmUuSlNPTkRhdGFJbnN0YW5jZShwYXJzZWREYXRhKTsKICAgICAgICAgICAgICAgIHdpbmRvdy5kYXRhSW5zdGFuY2UgPSBkYXRhSW5zdGFuY2U7IC8vIEV4cG9zZSBmb3IgZGVidWdnaW5nCgogICAgICAgICAgICAgICAgLy8gSW5pdGlhbGl6ZSB0aGUgZXZhbHVhdGlvbiBjb250ZXh0CiAgICAgICAgICAgICAgICBjb25zdCBldmFsdWF0aW9uQ29udGV4dCA9IHsgc291cmNlRGF0YTogZGF0YUluc3RhbmNlIH07CiAgICAgICAgICAgICAgICBjb25zdCBzZ3FFdmFsdWF0b3IgPSBuZXcgQ25kQ29yZS5TR3JhcGhRdWVyeUV2YWx1YXRvcigpOwogICAgICAgICAgICAgICAgc2dxRXZhbHVhdG9yLmluaXRpYWxpemUoZXZhbHVhdGlvbkNvbnRleHQpOwogICAgICAgICAgICAgICAgY29uc29sZS5sb2coJ0V2YWx1YXRpb24gY29udGV4dCBpbml0aWFsaXplZCcpOwoKICAgICAgICAgICAgICAgIHdpbmRvdy5ldmFsdWF0b3IgPSBzZ3FFdmFsdWF0b3I7IC8vIEV4cG9zZSBldmFsdWF0b3IgZm9yIGRlYnVnZ2luZwoKICAgICAgICAgICAgICAgIC8vIFBhcnNlIHRoZSBDTkQgc3BlY2lmaWNhdGlvbgogICAgICAgICAgICAgICAgY29uc3QgbGF5b3V0U3BlYyA9IENuZENvcmUucGFyc2VMYXlvdXRTcGVjKGNuZFNwZWMpOwogICAgICAgICAgICAgICAgY29uc29sZS5sb2coJ0xheW91dCBzcGVjIHBhcnNlZCcpOwoKICAgICAgICAgICAgICAgIC8vIEdlbmVyYXRlIHRoZSBsYXlvdXQKICAgICAgICAgICAgICAgIGNvbnN0IGxheW91dEluc3RhbmNlID0gbmV3IENuZENvcmUuTGF5b3V0SW5zdGFuY2UobGF5b3V0U3BlYywgc2dxRXZhbHVhdG9yLCAwLCB0cnVlKTsKICAgICAgICAgICAgICAgIGNvbnN0IGxheW91dFJlc3VsdCA9IGxheW91dEluc3RhbmNlLmdlbmVyYXRlTGF5b3V0KGRhdGFJbnN0YW5jZSwge30pOwogICAgICAgICAgICAgICAgY29uc29sZS5sb2coJ0xheW91dCBnZW5lcmF0ZWQnKTsKCiAgICAgICAgICAgICAgICAvLyBDaGVjayBmb3IgbGF5b3V0IGVycm9ycwogICAgICAgICAgICAgICAgaWYgKGxheW91dFJlc3VsdC5lcnJvcikgewogICAgICAgICAgICAgICAgICAgIGNvbnNvbGUuZXJyb3IoJ0xheW91dCBnZW5lcmF0aW9uIGVycm9yOicsIGxheW91dFJlc3VsdC5lcnJvcik7CgogICAgICAgICAgICAgICAgICAgIC8vIENoZWNrIGlmIHRoaXMgaXMgYSBjb25zdHJhaW50IGNvbmZsaWN0IGVycm9yCiAgICAgICAgICAgICAgICAgICAgaWYgKGxheW91dFJlc3VsdC5lcnJvci5lcnJvck1lc3NhZ2VzKSB7CiAgICAgICAgICAgICAgICAgICAgICAgIGlmICh3aW5kb3cuc2hvd1Bvc2l0aW9uYWxFcnJvcikgewogICAgICAgICAgICAgICAgICAgICAgICAgICAgd2luZG93LnNob3dQb3NpdGlvbmFsRXJyb3IobGF5b3V0UmVzdWx0LmVycm9yLmVycm9yTWVzc2FnZXMpOwogICAgICAgICAgICAgICAgICAgICAgICB9IGVsc2UgewogICAgICAgICAgICAgICAgICAgICAgICAgICAgc2hvd0Vycm9yKGBQb3NpdGlvbmFsIGNvbnN0cmFpbnQgY29uZmxpY3Q6ICR7bGF5b3V0UmVzdWx0LmVycm9yLm1lc3NhZ2V9YCk7CiAgICAgICAgICAgICAgICAgICAgICAgIH0KICAgICAgICAgICAgICAgICAgICB9IGVsc2UgaWYgKGxheW91dFJlc3VsdC5lcnJvci5vdmVybGFwcGluZ05vZGVzKSB7CiAgICAgICAgICAgICAgICAgICAgICAgIGlmICh3aW5kb3cuc2hvd0dyb3VwT3ZlcmxhcEVycm9yKSB7CiAgICAgICAgICAgICAgICAgICAgICAgICAgICB3aW5kb3cuc2hvd0dyb3VwT3ZlcmxhcEVycm9yKGxheW91dFJlc3VsdC5lcnJvci5tZXNzYWdlKTsKICAgICAgICAgICAgICAgICAgICAgICAgfSBlbHNlIHsKICAgICAgICAgICAgICAgICAgICAgICAgICAgIHNob3dFcnJvcihgR3JvdXAgb3ZlcmxhcCBlcnJvcjogJHtsYXlvdXRSZXN1bHQuZXJyb3IubWVzc2FnZX1gKTsKICAgICAgICAgICAgICAgICAgICAgICAgfQogICAgICAgICAgICAgICAgICAgIH0gZWxzZSB7CiAgICAgICAgICAgICAgICAgICAgICAgIGlmICh3aW5kb3cuc2hvd0dlbmVyYWxFcnJvcikgewogICAgICAgICAgICAgICAgICAgICAgICAgICAgd2luZG93LnNob3dHZW5lcmFsRXJyb3IoYExheW91dCBnZW5lcmF0aW9uIGVycm9yOiAke2xheW91dFJlc3VsdC5lcnJvci5tZXNzYWdlfWApOwogICAgICAgICAgICAgICAgICAgICAgICB9IGVsc2UgewogICAgICAgICAgICAgICAgICAgICAgICAgICAgc2hvd0Vycm9yKGBMYXlvdXQgZ2VuZXJhdGlvbiBlcnJvcjogJHtsYXlvdXRSZXN1bHQuZXJyb3IubWVzc2FnZX1gKTsKICAgICAgICAgICAgICAgICAgICAgICAgfQogICAgICAgICAgICAgICAgICAgIH0KCiAgICAgICAgICAgICAgICAgICAgLy8gU2V0IHRoZSB3ZWJjb2xhLWNuZC1ncmFwaCBlbGVtZW50IHRvIGluZGljYXRlIHVuc2F0IHN0YXRlCiAgICAgICAgICAgICAgICAgICAgY29uc3Qgd2ViY29sYUdyYXBoRWxlbWVudCA9IGRvY3VtZW50LmdldEVsZW1lbnRCeUlkKCdncmFwaC1jb250YWluZXInKTsKICAgICAgICAgICAgICAgICAgICB3ZWJjb2xhR3JhcGhFbGVtZW50LnNldEF0dHJpYnV0ZSgndW5zYXQnLCAiIik7CgogICAgICAgICAgICAgICAgfSAgCgogICAgICAgICAgICAgICAgaW5zdGFuY2VMYXlvdXQgPSBsYXlvdXRSZXN1bHQubGF5b3V0OwogICAgICAgICAgICAgICAgY29uc3Qgd2ViY29sYUdyYXBoRWxlbWVudCA9IGRvY3VtZW50LmdldEVsZW1lbnRCeUlkKCdncmFwaC1jb250YWluZXInKTsKICAgICAgICAgICAgICAgIC8vd2ViY29sYUdyYXBoRWxlbWVudC5yZW1vdmVBdHRyaWJ1dGUoJ3Vuc2F0Jyk7IC8vIENsZWFyIHVuc2F0IHN0YXRlCgogICAgICAgICAgICAgICAgLy8gLy8gQ2xlYXIgZXJyb3JzIG9uIHN1Y2Nlc3NmdWwgbGF5b3V0IGdlbmVyYXRpb24KICAgICAgICAgICAgICAgIC8vIGlmICh3aW5kb3cuY2xlYXJBbGxFcnJvcnMpIHsKICAgICAgICAgICAgICAgIC8vICAgICB3aW5kb3cuY2xlYXJBbGxFcnJvcnMoKTsKICAgICAgICAgICAgICAgIC8vIH0KCiAgICAgICAgICAgICAgICAvLyBSZW5kZXIgdGhlIGdyYXBoCiAgICAgICAgICAgICAgICBhd2FpdCBncmFwaEVsZW1lbnQucmVuZGVyTGF5b3V0KGluc3RhbmNlTGF5b3V0KTsKICAgICAgICAgICAgICAgIAogICAgICAgICAgICAgICAgLy8gQWRkIHJlc2V0IGJ1dHRvbiB0byB0b29sYmFyIGFmdGVyIHN1Y2Nlc3NmdWwgcmVuZGVyaW5nCiAgICAgICAgICAgICAgICBhZGRSZXNldEJ1dHRvbigpOwogICAgICAgICAgICB9IGNhdGNoIChlcnJvcikgewogICAgICAgICAgICAgICAgY29uc29sZS5lcnJvcignRXJyb3IgcmVuZGVyaW5nIGdyYXBoOicsIGVycm9yKTsKICAgICAgICAgICAgICAgIGlmICh3aW5kb3cuc2hvd0dlbmVyYWxFcnJvcikgewogICAgICAgICAgICAgICAgICAgIHdpbmRvdy5zaG93R2VuZXJhbEVycm9yKGBMYXlvdXQgZ2VuZXJhdGlvbiBmYWlsZWQ6ICR7ZXJyb3IubWVzc2FnZX1gKTsKICAgICAgICAgICAgICAgIH0gZWxzZSB7CiAgICAgICAgICAgICAgICAgICAgc2hvd0Vycm9yKGBFcnJvciByZW5kZXJpbmcgZ3JhcGg6ICR7ZXJyb3IubWVzc2FnZX1gKTsKICAgICAgICAgICAgICAgIH0KICAgICAgICAgICAgfQogICAgICAgIH0KCiAgICAgICAgLyoqCiAgICAgICAgICogRGlzcGxheSBhbiBlcnJvciBtZXNzYWdlIGluIHRoZSBlcnJvci1tZXNzYWdlIGRpdi4KICAgICAgICAgKiBAcGFyYW0ge3N0cmluZ30gbWVzc2FnZSAtIFRoZSBlcnJvciBtZXNzYWdlIHRvIGRpc3BsYXkuCiAgICAgICAgICovCiAgICAgICAgZnVuY3Rpb24gc2hvd0Vycm9yKG1lc3NhZ2UpIHsKICAgICAgICAgICAgY29uc3QgZXJyb3JEaXYgPSBkb2N1bWVudC5nZXRFbGVtZW50QnlJZCgnZXJyb3ItbWVzc2FnZScpOwogICAgICAgICAgICBpZiAoZXJyb3JEaXYpIHsKICAgICAgICAgICAgICAgIGVycm9yRGl2LmlubmVySFRNTCA9IGAKICAgICAgICAgICAgICAgICAgICA8ZGl2IHN0eWxlPSJjb2xvcjogcmVkOyBwYWRkaW5nOiAxMHB4OyBib3JkZXI6IDFweCBzb2xpZCByZWQ7IGJhY2tncm91bmQtY29sb3I6ICNmZmU2ZTY7IG1hcmdpbi10b3A6IDEwcHg7Ij4KICAgICAgICAgICAgICAgICAgICAgICAgPGgzPkVycm9yPC9oMz4KICAgICAgICAgICAgICAgICAgICAgICAgPHA+JHttZXNzYWdlfTwvcD4KICAgICAgICAgICAgICAgICAgICA8L2Rpdj4KICAgICAgICAgICAgICAgIGA7CiAgICAgICAgICAgIH0gZWxzZSB7CiAgICAgICAgICAgICAgICBjb25zb2xlLmVycm9yKCdFcnJvciBkaXYgbm90IGZvdW5kLiBFcnJvciBtZXNzYWdlOicsIG1lc3NhZ2UpOwogICAgICAgICAgICB9CiAgICAgICAgfQoKCgogICAgICAgIC8vIEF1dG8tbG9hZCB3aGVuIHBhZ2UgbG9hZHMKICAgICAgICB3aW5kb3cuYWRkRXZlbnRMaXN0ZW5lcignbG9hZCcsIGxvYWRHcmFwaCk7CiAgICA8L3NjcmlwdD4KPC9ib2R5PgoKPC9odG1sPg==\" \n",
       "                        width=\"100%\" \n",
       "                        height=\"450px\" \n",
       "                        frameborder=\"0\"\n",
       "                        style=\"display: block;\">\n",
       "                    </iframe>\n",
       "                </div>\n",
       "                "
      ],
      "text/plain": [
       "<IPython.core.display.HTML object>"
      ]
     },
     "metadata": {},
     "output_type": "display_data"
    }
   ],
   "source": [
    "diagram({\n",
    "    \"fruits\": fruits,\n",
    "    \"numbers\": numbers,\n",
    "    \"colors\": colors\n",
    "})\n"
   ]
  },
  {
   "cell_type": "markdown",
   "id": "937e05cd",
   "metadata": {},
   "source": [
    "# Relationalizers / Providers\n",
    "\n",
    "\n",
    "While `sPytial` makes a best effort to relationalize most data structures into a set of atoms (i.e. nodes) and relations (i.e. edges), you may want to customize how this happens for a specific domain.\n",
    "\n",
    "This is what **providers** are designed to do. By defining how Python objects become atoms and relations, you can:\n",
    "- Emphasize relationships important relationships to your domain of choice.\n",
    "- Control visualization granularity and detail.\n"
   ]
  },
  {
   "cell_type": "code",
   "execution_count": 13,
   "id": "f57461e0",
   "metadata": {},
   "outputs": [
    {
     "data": {
      "text/html": [
       "\n",
       "                <div style=\"border: 2px solid #007acc; border-radius: 8px; overflow: hidden;\">\n",
       "                    <iframe \n",
       "                        src=\"data:text/html;base64,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\" \n",
       "                        width=\"100%\" \n",
       "                        height=\"450px\" \n",
       "                        frameborder=\"0\"\n",
       "                        style=\"display: block;\">\n",
       "                    </iframe>\n",
       "                </div>\n",
       "                "
      ],
      "text/plain": [
       "<IPython.core.display.HTML object>"
      ]
     },
     "metadata": {},
     "output_type": "display_data"
    }
   ],
   "source": [
    "from spytial import diagram\n",
    "from spytial.provider_system import RelationalizerBase, relationalizer, Atom, Relation\n",
    "from typing import Any, List, Tuple\n",
    "from datetime import datetime, date\n",
    "\n",
    "# Example: Custom provider for datetime objects\n",
    "\n",
    "## Higher priority means your provider is considered before other providers.\n",
    "## Built in providers reserve priority up to 99.\n",
    "@relationalizer(priority=101)\n",
    "class DateTimeProvider(RelationalizerBase):\n",
    "    \"\"\"Custom provider for datetime objects with temporal relationships.\"\"\"\n",
    "    \n",
    "    def can_handle(self, obj: Any) -> bool:\n",
    "        \"\"\"Return true if your provider can relationalize the object passed in.\"\"\"\n",
    "        return isinstance(obj, (datetime, date))\n",
    "    \n",
    "    def relationalize(self, obj: Any, walker_func) -> Tuple[Atom, List[Relation]]:\n",
    "        \"\"\"\n",
    "        Return an Atom and list of Relations (not dicts and tuples).\n",
    "        \"\"\"\n",
    "        obj_id = walker_func._get_id(obj)\n",
    "        \n",
    "        if isinstance(obj, datetime):\n",
    "            label = obj.strftime(\"%Y-%m-%d %H:%M:%S\")\n",
    "            atom_type = \"datetime\"\n",
    "        else:\n",
    "            label = obj.strftime(\"%Y-%m-%d\")\n",
    "            atom_type = \"date\"\n",
    "        \n",
    "        # Create proper Atom object\n",
    "        atom = Atom(\n",
    "            id=obj_id,\n",
    "            type=atom_type,\n",
    "            label=label\n",
    "        )\n",
    "        \n",
    "        # No relations for simple datetime objects\n",
    "        relations = []\n",
    "        \n",
    "        return [atom], relations\n",
    "\n",
    "# Test the datetime provider\n",
    "temporal_data = {\n",
    "    'created': datetime(2024, 1, 15, 10, 30, 0),\n",
    "    'updated': datetime(2024, 1, 16, 14, 45, 0),\n",
    "    'launch_date': date(2024, 2, 1)\n",
    "}\n",
    "\n",
    "diagram(temporal_data)"
   ]
  }
 ],
 "metadata": {
  "kernelspec": {
   "display_name": "stats-env",
   "language": "python",
   "name": "python3"
  },
  "language_info": {
   "codemirror_mode": {
    "name": "ipython",
    "version": 3
   },
   "file_extension": ".py",
   "mimetype": "text/x-python",
   "name": "python",
   "nbconvert_exporter": "python",
   "pygments_lexer": "ipython3",
   "version": "3.10.17"
  }
 },
 "nbformat": 4,
 "nbformat_minor": 5
}
