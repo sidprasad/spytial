{
 "cells": [
  {
   "cell_type": "markdown",
   "id": "2c6c135f",
   "metadata": {},
   "source": [
    "# Spytial\n",
    "\n",
    "Sometimes you just want to see your data.\n",
    "\n",
    "You’re working with a tree, a graph, a recursive object -- maybe an AST, a neural network, or a symbolic term. You don’t need an interactive dashboard or a production-grade visualization system. You just need a diagram, something that lays it out clearly so you can understand what’s going on.\n",
    "\n",
    "That’s what `sPyTial` is for. It’s designed for developers, educators, and researchers who work with structured data and need to make that structure visible — to themselves or to others — with minimal effort. \n",
    "\n"
   ]
  },
  {
   "cell_type": "code",
   "execution_count": 1,
   "id": "bcf56e66",
   "metadata": {},
   "outputs": [],
   "source": [
    "import sys\n",
    "from pathlib import Path\n",
    "\n",
    "# Add the parent directory to the Python path\n",
    "sys.path.append(str(Path().resolve().parent))\n",
    "\n",
    "from spytial import diagram\n",
    "from spytial.annotations import orientation, attribute, hideAtom, atomColor, group, flag\n"
   ]
  },
  {
   "cell_type": "markdown",
   "id": "17b09393",
   "metadata": {},
   "source": [
    "## Python Gives You Structure — But Not Visuals\n",
    "Python is great at structure. When you build a tree, a graph, or any recursive data structure, the relationships are right there — through fields and references.\n",
    "\n",
    "Let’s define a simple binary tree, construct an instance of the tree, and print it."
   ]
  },
  {
   "cell_type": "code",
   "execution_count": 2,
   "id": "e3cd9e46",
   "metadata": {},
   "outputs": [
    {
     "name": "stdout",
     "output_type": "stream",
     "text": [
      "TreeNode(10)\n"
     ]
    }
   ],
   "source": [
    "class TreeNode:\n",
    "    def __init__(self, value, left=None, right=None):\n",
    "        self.value = value\n",
    "        self.left = left\n",
    "        self.right = right\n",
    "\n",
    "    def __repr__(self):\n",
    "        return f\"TreeNode({self.value})\"\n",
    "\n",
    "# Instance of a binary tree\n",
    "root = TreeNode(\n",
    "    10,\n",
    "    left=TreeNode(\n",
    "        5,\n",
    "        TreeNode(3),\n",
    "        TreeNode(7)\n",
    "    ),\n",
    "    right=TreeNode(\n",
    "        15,\n",
    "        TreeNode(12),\n",
    "        TreeNode(18)\n",
    "    )\n",
    ")\n",
    "\n",
    "print(root)"
   ]
  },
  {
   "cell_type": "markdown",
   "id": "c80ea8bd",
   "metadata": {},
   "source": [
    "You only see the root. The rest of the tree is hidden behind references. \n",
    "\n",
    "To make structure visible, you might write a recursive print function:"
   ]
  },
  {
   "cell_type": "code",
   "execution_count": 3,
   "id": "ec86ca79",
   "metadata": {},
   "outputs": [
    {
     "name": "stdout",
     "output_type": "stream",
     "text": [
      "        18\n",
      "    15\n",
      "        12\n",
      "10\n",
      "        7\n",
      "    5\n",
      "        3\n"
     ]
    }
   ],
   "source": [
    "def print_tree(node, level=0):\n",
    "    if node.right:\n",
    "        print_tree(node.right, level + 1)\n",
    "    print(\"    \" * level + str(node.value))\n",
    "    if node.left:\n",
    "        print_tree(node.left, level + 1)\n",
    "\n",
    "print_tree(root)"
   ]
  },
  {
   "cell_type": "markdown",
   "id": "ea1a1e72",
   "metadata": {},
   "source": [
    "This is better than a bare `print` statement, and gives you some idea of the shape of the tree. You could imagine writing an even more involved visualization that ensures that things are drawn even better. But fundamentally, this approach is:\n",
    "\n",
    "- Hardcoded for trees (and / or any other structure you envision)\n",
    "- Constructive: You get nothing until you have written all the code for your visualization.\n",
    "- Tedious to write and debug.\n",
    "\n",
    "\n",
    "#### Or You Can Use sPyTial\n",
    "With sPyTial, you don’t have to write a printer at all. You can generate a box-and-arrow diagram automatically.\n",
    "\n",
    "You'll see a diagram that:\n",
    "\n",
    "- Draws one box per object\n",
    "- Connects objects via their fields (like .left, .right)\n",
    "- Labels boxes with class names and values\n",
    "\n",
    "This works out-of-the-box — no layout rules, no walkers, no extra code."
   ]
  },
  {
   "cell_type": "code",
   "execution_count": 4,
   "id": "d8d0c3ea",
   "metadata": {},
   "outputs": [
    {
     "data": {
      "text/html": [
       "\n",
       "                <div style=\"border: 2px solid #007acc; border-radius: 8px; overflow: hidden;\">\n",
       "                    <iframe \n",
       "                        src=\"data:text/html;base64,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\" \n",
       "                        width=\"100%\" \n",
       "                        height=\"450px\" \n",
       "                        frameborder=\"0\"\n",
       "                        style=\"display: block;\">\n",
       "                    </iframe>\n",
       "                </div>\n",
       "                "
      ],
      "text/plain": [
       "<IPython.core.display.HTML object>"
      ]
     },
     "metadata": {},
     "output_type": "display_data"
    }
   ],
   "source": [
    "from spytial import diagram\n",
    "\n",
    "diagram(root)\n"
   ]
  },
  {
   "cell_type": "markdown",
   "id": "a2327b0a",
   "metadata": {},
   "source": [
    "To generate the diagram, sPyTial performs relationalization. That is, it turns your object into a graph.\n",
    "\n",
    "Conceptually, your data becomes:\n",
    "\n",
    "- Atoms: each Python object becomes a node\n",
    "- Relations: each reference (like x.left = y) becomes an edge\n",
    "\n",
    "It’s the same transformation you’d do manually if you were building a visualizer — but done automatically, for any Python object.\n",
    "\n",
    "## Adding Spatial Semantics with Constraints \n",
    "\n",
    "sPyTial gives you a default diagram out-of-the-box. But the layout isn’t always what you mean. Take our tree example. The diagram shows the objects and their connections — but the children might appear side-by-side, above the parent, or in arbitrary positions. That’s because you haven’t told sPyTial what the structure means spatially.\n",
    "\n",
    "\n",
    "Think about how you picture a binary tree:\n",
    "\n",
    "- The root is at the top.\n",
    "- The left child is below and to the left.\n",
    "- The right child is below and to the right.\n",
    "\n",
    "That’s not just data, it expresses something semantic about how you would like the tree laid out. \n",
    "With sPyTial, you can express that layout intent directly, using decorators."
   ]
  },
  {
   "cell_type": "code",
   "execution_count": 5,
   "id": "f6aacc6e",
   "metadata": {},
   "outputs": [],
   "source": [
    "@orientation(selector='{ x : TreeNode, y : TreeNode | x.left = y}', directions=['below', 'left'])\n",
    "@orientation(selector='{ x : TreeNode, y : TreeNode | x.right = y}', directions=['below', 'right'])\n",
    "@attribute(field='value')\n",
    "@hideAtom(selector='NoneType')\n",
    "@flag(name=\"hideDisconnected\")\n",
    "class TreeNode:\n",
    "    def __init__(self, value, left=None, right=None):\n",
    "        self.value = value\n",
    "        self.left = left\n",
    "        self.right = right\n",
    "    \n",
    "root = TreeNode(\n",
    "    value=10,\n",
    "    left=TreeNode(\n",
    "        value=5,\n",
    "        left=TreeNode(3),\n",
    "        right=TreeNode(7)\n",
    "    ),\n",
    "    right=TreeNode(\n",
    "        value=15,\n",
    "        left=TreeNode(12),\n",
    "        right=TreeNode(18)\n",
    "    )\n",
    ")"
   ]
  },
  {
   "cell_type": "markdown",
   "id": "3e3a44f3",
   "metadata": {},
   "source": [
    "Lets break these annotations down:\n",
    "\n",
    "- `@orientation(...)` defines how related elements should be positioned.\n",
    "   - The first annotation says: \"If x.left = y, then place y below and to the left of x.\"\n",
    "   - The second: \"If x.right = y, then place y below and to the right of x.\"\n",
    "\n",
    "These aren’t just hints — they’re enforced by the layout engine.\n",
    "\n",
    "- `@attribute(field='value')` tells sPyTial to label each box with the value field, so instead of seeing TreeNode, you’ll see the number stored in that node.\n",
    "\n",
    "- `@hideAtom(selector='NoneType')` prevents None references (like empty children) from appearing in the diagram.\n",
    "\n",
    "- `@flag(name=\"hideDisconnected\")` tells sPyTial to hide objects that aren’t connected to anything — useful if you have unused or floating nodes in memory.\n",
    "\n",
    "\n",
    "So now, when you diagram `root`, all these annotations are enforced."
   ]
  },
  {
   "cell_type": "code",
   "execution_count": 6,
   "id": "9bbe6d8e",
   "metadata": {},
   "outputs": [
    {
     "data": {
      "text/html": [
       "\n",
       "                <div style=\"border: 2px solid #007acc; border-radius: 8px; overflow: hidden;\">\n",
       "                    <iframe \n",
       "                        src=\"data:text/html;base64,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\" \n",
       "                        width=\"100%\" \n",
       "                        height=\"450px\" \n",
       "                        frameborder=\"0\"\n",
       "                        style=\"display: block;\">\n",
       "                    </iframe>\n",
       "                </div>\n",
       "                "
      ],
      "text/plain": [
       "<IPython.core.display.HTML object>"
      ]
     },
     "metadata": {},
     "output_type": "display_data"
    }
   ],
   "source": [
    "diagram(root)"
   ]
  },
  {
   "cell_type": "markdown",
   "id": "new_rb_section",
   "metadata": {},
   "source": [
    "##  Red-Black Trees with Color Coding\n",
    "So far, we’ve visualized structure and layout. But many data structures carry semantic metadata that you also want to reflect in a diagram — things like types, states, or properties.\n",
    "\n",
    "A perfect example is the Red-Black Tree.\n",
    "\n",
    "Red-Black Trees augment binary search trees with a color field that encodes balancing invariants. Those colors are essential to understanding the shape and behavior of the structure.\n",
    "\n",
    "We’ll subclass TreeNode to add a color field and annotate it using @atomColor, so that red and black nodes are drawn differently."
   ]
  },
  {
   "cell_type": "code",
   "execution_count": 7,
   "id": "98e8935f",
   "metadata": {},
   "outputs": [],
   "source": [
    "from spytial import atomColor\n",
    "\n",
    "@atomColor(\n",
    "    selector='{ x : RBTreeNode | @:(x.color) = red }',\n",
    "    value='red'\n",
    ")\n",
    "@atomColor(\n",
    "    selector='{ x : RBTreeNode | @:(x.color) = black }',\n",
    "    value='black'\n",
    ")\n",
    "@attribute(field='color')\n",
    "class RBTreeNode(TreeNode):\n",
    "    def __init__(self, value, color, left=None, right=None):\n",
    "        self.color = color\n",
    "        super().__init__(value, left, right)\n"
   ]
  },
  {
   "cell_type": "markdown",
   "id": "cd952176",
   "metadata": {},
   "source": [
    "### What’s Going On?\n",
    "`@atomColor(...)` uses a selector to match nodes based on a field (in this case, color).\n",
    "\n",
    "`@:(x.color)` refers to the value of a color node, rather than its unique atom id. Matching nodes are assigned a color (red, black) in the diagram.\n"
   ]
  },
  {
   "cell_type": "code",
   "execution_count": 8,
   "id": "4af35a49",
   "metadata": {},
   "outputs": [
    {
     "data": {
      "text/html": [
       "\n",
       "                <div style=\"border: 2px solid #007acc; border-radius: 8px; overflow: hidden;\">\n",
       "                    <iframe \n",
       "                        src=\"data:text/html;base64,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\" \n",
       "                        width=\"100%\" \n",
       "                        height=\"450px\" \n",
       "                        frameborder=\"0\"\n",
       "                        style=\"display: block;\">\n",
       "                    </iframe>\n",
       "                </div>\n",
       "                "
      ],
      "text/plain": [
       "<IPython.core.display.HTML object>"
      ]
     },
     "metadata": {},
     "output_type": "display_data"
    }
   ],
   "source": [
    "rb_root = RBTreeNode(\n",
    "    value=10, color=\"black\",\n",
    "    left=RBTreeNode(\n",
    "        value=5, color=\"red\",\n",
    "        left=RBTreeNode(3, \"black\"),\n",
    "        right=RBTreeNode(7, \"black\")\n",
    "    ),\n",
    "    right=RBTreeNode(\n",
    "        value=15, color=\"red\",\n",
    "        left=RBTreeNode(12, \"black\"),\n",
    "        right=RBTreeNode(18, \"black\")\n",
    "    )\n",
    ")\n",
    "\n",
    "\n",
    "diagram(rb_root)"
   ]
  },
  {
   "cell_type": "markdown",
   "id": "b2f8a619",
   "metadata": {},
   "source": [
    "## When Layout Fails: Unsatisfiable Spatial Constraints\n",
    "sPyTial doesn't just generate diagrams — it enforces your spatial intent. When your annotations conflict — when there’s no way to satisfy all the constraints you wrote — it lets you know:\n",
    "\n",
    "⚠️ This layout is unsatisfiable. Something doesn’t add up.\n",
    "\n",
    "That’s what sets sPyTial apart: it treats spatial layout like a specification, not just a drawing.\n",
    "\n",
    "### When Your Data Isn’t a TreeNode\n",
    "So far, we’ve assumed that the data matches the structure implied by our annotations.\n",
    "\n",
    "But what if it doesn’t?\n",
    "\n",
    "Let’s annotate a class with tree semantics — a parent node with left and right children, laid out spatially.\n",
    "\n",
    "Then we’ll feed it bad data — data that violates those semantics (e.g., a child with multiple parents).\n",
    "\n",
    "sPyTial won’t just draw the diagram — it will tell us the layout is unsatisfiable."
   ]
  },
  {
   "cell_type": "code",
   "execution_count": 9,
   "id": "7ea32ac6",
   "metadata": {},
   "outputs": [
    {
     "data": {
      "text/html": [
       "\n",
       "                <div style=\"border: 2px solid #007acc; border-radius: 8px; overflow: hidden;\">\n",
       "                    <iframe \n",
       "                        src=\"data:text/html;base64,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\" \n",
       "                        width=\"100%\" \n",
       "                        height=\"450px\" \n",
       "                        frameborder=\"0\"\n",
       "                        style=\"display: block;\">\n",
       "                    </iframe>\n",
       "                </div>\n",
       "                "
      ],
      "text/plain": [
       "<IPython.core.display.HTML object>"
      ]
     },
     "metadata": {},
     "output_type": "display_data"
    }
   ],
   "source": [
    "\n",
    "shared = TreeNode(99)\n",
    "\n",
    "not_a_tree = TreeNode(\n",
    "    1,\n",
    "    left=TreeNode(2, left=shared, right = TreeNode(11)),  # 🚨 shared as left\n",
    "    right=shared  # 🚨 shared as both left and right\n",
    ")\n",
    "\n",
    "\n",
    "diagram(not_a_tree)\n",
    "\n"
   ]
  },
  {
   "cell_type": "markdown",
   "id": "f2bae33f",
   "metadata": {},
   "source": [
    "## TODO: Cyclic Constraints"
   ]
  },
  {
   "cell_type": "markdown",
   "id": "c19ed001",
   "metadata": {},
   "source": [
    "## Object-Level Annotations\n",
    "\n",
    "So far, we’ve attached annotations to classes — but what if you want to annotate a specific object?\n",
    "\n",
    "This comes up all the time:\n",
    "- You don’t want to (or can’t) modify a class definition\n",
    "- You’re visualizing different objects of the same type in the same diagram\n",
    "- You want to group the contents of one set, but not another\n",
    "\n",
    "\n",
    "sPyTial supports object-level annotations using function decorators. **All annotations are available as function decorators and vice-versa**.\n",
    "\n",
    "### Demo: Grouping Different Sets\n",
    "\n",
    "Let’s create three Python set objects:"
   ]
  },
  {
   "cell_type": "code",
   "execution_count": 10,
   "id": "69e54315",
   "metadata": {},
   "outputs": [],
   "source": [
    "fruits = {\"apple\", \"banana\", \"cherry\", \"date\"}\n",
    "numbers = {1, 2, 3, 4, 5, 6, 7, 8, 9, 10}\n",
    "colors = {\"red\", \"green\", \"blue\"}\n"
   ]
  },
  {
   "cell_type": "markdown",
   "id": "92bd2fc3",
   "metadata": {},
   "source": [
    "Each set contains strings or integers. We'll visualize all three — but only use the group annotation on two of them.\n"
   ]
  },
  {
   "cell_type": "code",
   "execution_count": 11,
   "id": "b4e86f47",
   "metadata": {},
   "outputs": [],
   "source": [
    "from spytial import group\n",
    "\n",
    "# Group members of 'fruits' under the fruits set\n",
    "fruits = group(\n",
    "    field='contains',         # Which relation to group\n",
    "    selector='self',          # Apply this annotation to this object only\n",
    "    groupOn=0,                # Group based on the set (position 0 in the tuple)\n",
    "    addToGroup=1              # Add the elements (position 1) into that group\n",
    ")(fruits)\n",
    "\n",
    "# Same for numbers\n",
    "numbers = group(\n",
    "    field='contains',\n",
    "    selector='self',\n",
    "    groupOn=0,\n",
    "    addToGroup=1\n",
    ")(numbers)\n",
    "\n",
    "# Leave 'colors' ungrouped\n"
   ]
  },
  {
   "cell_type": "markdown",
   "id": "e2cb68c1",
   "metadata": {},
   "source": [
    "This will cause the diagram to place all fruit elements inside a visual \"fruits\" group, do the same for numbers, and render colors as flat nodes without grouping"
   ]
  },
  {
   "cell_type": "code",
   "execution_count": 12,
   "id": "9a4d96ef",
   "metadata": {},
   "outputs": [
    {
     "data": {
      "text/html": [
       "\n",
       "                <div style=\"border: 2px solid #007acc; border-radius: 8px; overflow: hidden;\">\n",
       "                    <iframe \n",
       "                        src=\"data:text/html;base64,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\" \n",
       "                        width=\"100%\" \n",
       "                        height=\"450px\" \n",
       "                        frameborder=\"0\"\n",
       "                        style=\"display: block;\">\n",
       "                    </iframe>\n",
       "                </div>\n",
       "                "
      ],
      "text/plain": [
       "<IPython.core.display.HTML object>"
      ]
     },
     "metadata": {},
     "output_type": "display_data"
    }
   ],
   "source": [
    "diagram({\n",
    "    \"fruits\": fruits,\n",
    "    \"numbers\": numbers,\n",
    "    \"colors\": colors\n",
    "})\n"
   ]
  },
  {
   "cell_type": "markdown",
   "id": "937e05cd",
   "metadata": {},
   "source": [
    "# Relationalizers / Providers\n",
    "\n",
    "\n",
    "While `sPytial` makes a best effort to relationalize most data structures into a set of atoms (i.e. nodes) and relations (i.e. edges), you may want to customize how this happens for a specific domain.\n",
    "\n",
    "This is what **providers** are designed to do. By defining how Python objects become atoms and relations, you can:\n",
    "- Emphasize relationships important relationships to your domain of choice.\n",
    "- Control visualization granularity and detail.\n"
   ]
  },
  {
   "cell_type": "code",
   "execution_count": null,
   "id": "f57461e0",
   "metadata": {},
   "outputs": [
    {
     "name": "stdout",
     "output_type": "stream",
     "text": [
      "Error during data instance building: 'Atom' object is not iterable\n",
      "Object: {'created': datetime.datetime(2024, 1, 15, 10, 30), 'updated': datetime.datetime(2024, 1, 16, 14, 45), 'launch_date': datetime.date(2024, 2, 1)}\n"
     ]
    },
    {
     "data": {
      "text/html": [
       "\n",
       "                <div style=\"border: 2px solid #007acc; border-radius: 8px; overflow: hidden;\">\n",
       "                    <iframe \n",
       "                        src=\"data:text/html;base64,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\" \n",
       "                        width=\"100%\" \n",
       "                        height=\"450px\" \n",
       "                        frameborder=\"0\"\n",
       "                        style=\"display: block;\">\n",
       "                    </iframe>\n",
       "                </div>\n",
       "                "
      ],
      "text/plain": [
       "<IPython.core.display.HTML object>"
      ]
     },
     "metadata": {},
     "output_type": "display_data"
    }
   ],
   "source": [
    "from spytial import diagram\n",
    "from spytial.provider_system import RelationalizerBase, relationalizer, Atom, Relation\n",
    "from typing import Any, List, Tuple\n",
    "from datetime import datetime, date\n",
    "\n",
    "# Example: Custom provider for datetime objects\n",
    "\n",
    "## Higher priority means your provider is considered before other providers.\n",
    "## Built in providers reserve priority up to 99.\n",
    "@relationalizer(priority=101)\n",
    "class DateTimeProvider(RelationalizerBase):\n",
    "    \"\"\"Custom provider for datetime objects with temporal relationships.\"\"\"\n",
    "    \n",
    "    def can_handle(self, obj: Any) -> bool:\n",
    "        \"\"\"Return true if your provider can relationalize the object passed in.\"\"\"\n",
    "        return isinstance(obj, (datetime, date))\n",
    "    \n",
    "    def relationalize(self, obj: Any, walker_func) -> Tuple[Atom, List[Relation]]:\n",
    "        \"\"\"\n",
    "        Return an Atom and list of Relations (not dicts and tuples).\n",
    "        \"\"\"\n",
    "        obj_id = walker_func._get_id(obj)\n",
    "        \n",
    "        if isinstance(obj, datetime):\n",
    "            label = obj.strftime(\"%Y-%m-%d %H:%M:%S\")\n",
    "            atom_type = \"datetime\"\n",
    "        else:\n",
    "            label = obj.strftime(\"%Y-%m-%d\")\n",
    "            atom_type = \"date\"\n",
    "        \n",
    "        # Create proper Atom object\n",
    "        atom = Atom(\n",
    "            id=obj_id,\n",
    "            type=atom_type,\n",
    "            label=label\n",
    "        )\n",
    "        \n",
    "        # No relations for simple datetime objects\n",
    "        relations = []\n",
    "        \n",
    "        return [atom], relations\n",
    "\n",
    "# Test the datetime provider\n",
    "temporal_data = {\n",
    "    'created': datetime(2024, 1, 15, 10, 30, 0),\n",
    "    'updated': datetime(2024, 1, 16, 14, 45, 0),\n",
    "    'launch_date': date(2024, 2, 1)\n",
    "}\n",
    "\n",
    "diagram(temporal_data)"
   ]
  }
 ],
 "metadata": {
  "kernelspec": {
   "display_name": "stats-env",
   "language": "python",
   "name": "python3"
  },
  "language_info": {
   "codemirror_mode": {
    "name": "ipython",
    "version": 3
   },
   "file_extension": ".py",
   "mimetype": "text/x-python",
   "name": "python",
   "nbconvert_exporter": "python",
   "pygments_lexer": "ipython3",
   "version": "3.10.17"
  }
 },
 "nbformat": 4,
 "nbformat_minor": 5
}
