{
 "cells": [
  {
   "cell_type": "markdown",
   "id": "ad79ecdb",
   "metadata": {},
   "source": [
    "# Data Structures\n"
   ]
  },
  {
   "cell_type": "code",
   "execution_count": null,
   "id": "bcf56e66",
   "metadata": {},
   "outputs": [],
   "source": [
    "import sys\n",
    "from pathlib import Path\n",
    "\n",
    "# Add the parent directory to the Python path\n",
    "sys.path.append(str(Path().resolve().parent))\n",
    "\n",
    "from spytial import diagram\n",
    "from spytial.annotations import orientation, attribute, hideAtom, atomColor, group\n",
    "from collections import namedtuple, deque\n",
    "import json"
   ]
  },
  {
   "cell_type": "markdown",
   "id": "17b09393",
   "metadata": {},
   "source": [
    "## 1. Basic Data Structures: Beyond Print Statements\n",
    "\n",
    "Let's start with common Python data structures and see how sPyTial reveals their organization."
   ]
  },
  {
   "cell_type": "code",
   "execution_count": null,
   "id": "e3cd9e46",
   "metadata": {},
   "outputs": [],
   "source": [
    "# Traditional approach: nested dictionaries and lists\n",
    "application_data = {\n",
    "    \"users\": [\n",
    "        {\"name\": \"Alice\", \"age\": 30, \"skills\": [\"Python\", \"JavaScript\"]},\n",
    "        {\"name\": \"Bob\", \"age\": 25, \"skills\": [\"Java\", \"C++\"]}\n",
    "    ],\n",
    "    \"projects\": {\n",
    "        \"web_app\": {\"lead\": \"Alice\", \"status\": \"active\"},\n",
    "        \"mobile_app\": {\"lead\": \"Bob\", \"status\": \"planning\"}\n",
    "    },\n",
    "    \"stats\": {\"total_users\": 2, \"active_projects\": 1}\n",
    "}\n",
    "\n",
    "print(\"Traditional output (try to see the structure):\")\n",
    "print(json.dumps(application_data, indent=2)[:200] + \"...\")\n",
    "\n",
    "print(\"\\nsPyTial spatial view:\")\n",
    "diagram(application_data)"
   ]
  },
  {
   "cell_type": "markdown",
   "id": "a2327b0a",
   "metadata": {},
   "source": [
    "## 2. Binary Trees: From ASCII Art to Spatial Relations\n",
    "\n",
    "Binary trees are perfect for demonstrating sPyTial's power. Traditional approaches use ASCII art or recursive printing that breaks down with larger trees."
   ]
  },
  {
   "cell_type": "code",
   "execution_count": null,
   "id": "f6aacc6e",
   "metadata": {},
   "outputs": [],
   "source": [
    "# Define a spatially-aware binary tree\n",
    "@orientation(selector='{ x : TreeNode, y : TreeNode | x.left = y}', directions=['below', 'left'])\n",
    "@orientation(selector='{ x : TreeNode, y : TreeNode | x.right = y}', directions=['below', 'right'])\n",
    "@attribute(field='value')\n",
    "@hideAtom(selector='NoneType')\n",
    "@hideDisconnected\n",
    "class TreeNode:\n",
    "    def __init__(self, value, left=None, right=None):\n",
    "        self.value = value\n",
    "        self.left = left\n",
    "        self.right = right\n",
    "\n",
    "    def __repr__(self):\n",
    "        return f\"TreeNode({self.value})\"\n",
    "    \n",
    "    def traditional_print(self, level=0):\n",
    "        \"\"\"Traditional ASCII tree printing\"\"\"\n",
    "        if self.right:\n",
    "            self.right.traditional_print(level + 1)\n",
    "        print('    ' * level + str(self.value))\n",
    "        if self.left:\n",
    "            self.left.traditional_print(level + 1)\n",
    "    \n",
    "# Create a sample binary search tree\n",
    "root = TreeNode(\n",
    "    value=10,\n",
    "    left=TreeNode(\n",
    "        value=5,\n",
    "        left=TreeNode(3),\n",
    "        right=TreeNode(7)\n",
    "    ),\n",
    "    right=TreeNode(\n",
    "        value=15,\n",
    "        left=TreeNode(12),\n",
    "        right=TreeNode(18)\n",
    "    )\n",
    ")\n",
    "\n",
    "print(\"Traditional ASCII output:\")\n",
    "root.traditional_print()\n",
    "\n",
    "print(\"\\nsPyTial spatial visualization:\")\n",
    "diagram(root)"
   ]
  },
  {
   "cell_type": "markdown",
   "id": "new_rb_section",
   "metadata": {},
   "source": [
    "##  Red-Black Trees with Color Coding\n",
    "\n",
    "Complex data structures like Red-Black trees have additional properties that traditional visualization can't easily show."
   ]
  },
  {
   "cell_type": "code",
   "execution_count": null,
   "id": "98e8935f",
   "metadata": {},
   "outputs": [],
   "source": [
    "# Red-Black Tree with color annotations\n",
    "@atomColor(selector='{ x : RBTreeNode | @:(x.color) = red }', value='red')\n",
    "@atomColor(selector='{ x : RBTreeNode | @:(x.color) = black }', value='black')\n",
    "@attribute(field='value')\n",
    "class RBTreeNode(TreeNode):\n",
    "    def __init__(self, value, color, left=None, right=None):\n",
    "        self.color = color\n",
    "        super().__init__(value, left, right)\n",
    "\n",
    "    \n",
    "# Create a Red-Black Tree\n",
    "rb_root = RBTreeNode(\n",
    "    value=10, color=\"black\",\n",
    "    left=RBTreeNode(\n",
    "        value=5, color=\"red\",\n",
    "        left=RBTreeNode(3, \"black\"),\n",
    "        right=RBTreeNode(7, \"black\")\n",
    "    ),\n",
    "    right=RBTreeNode(\n",
    "        value=15, color=\"red\",\n",
    "        left=RBTreeNode(12, \"black\"),\n",
    "        right=RBTreeNode(18, \"black\")\n",
    "    )\n",
    ")\n",
    "\n",
    "diagram(rb_root)"
   ]
  }
 ],
 "metadata": {
  "kernelspec": {
   "display_name": "stats-env",
   "language": "python",
   "name": "python3"
  },
  "language_info": {
   "codemirror_mode": {
    "name": "ipython",
    "version": 3
   },
   "file_extension": ".py",
   "mimetype": "text/x-python",
   "name": "python",
   "nbconvert_exporter": "python",
   "pygments_lexer": "ipython3",
   "version": "3.10.17"
  }
 },
 "nbformat": 4,
 "nbformat_minor": 5
}
