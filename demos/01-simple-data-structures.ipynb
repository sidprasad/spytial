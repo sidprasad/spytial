{
 "cells": [
  {
   "cell_type": "markdown",
   "id": "ad79ecdb",
   "metadata": {},
   "source": [
    "# Demo 1: Data Structures - A Pedagogical Journey\n",
    "\n",
    "**This demo IS documentation** - it teaches you how sPyTial reveals structure through a pedagogical progression.\n",
    "\n",
    "## Learning Path:\n",
    "1. **Trees**: Start with basic binary trees and spatial annotations\n",
    "2. **Red-Black Trees**: Show how annotations compose through inheritance\n",
    "3. **Unsatisfiable Structures**: What happens when your data violates spatial constraints?\n",
    "\n",
    "---\n",
    "\n",
    "## Why This Matters\n",
    "\n",
    "Traditional data structure education relies on ASCII art and text descriptions. sPyTial transforms this by making structure spatially visible and verifiable. You don't just *implement* data structures - you can *see* when they're correct or malformed.\n"
   ]
  },
  {
   "cell_type": "code",
   "execution_count": 1,
   "id": "bcf56e66",
   "metadata": {},
   "outputs": [],
   "source": [
    "import sys\n",
    "from pathlib import Path\n",
    "\n",
    "# Add the parent directory to the Python path\n",
    "sys.path.append(str(Path().resolve().parent))\n",
    "\n",
    "from spytial import diagram\n",
    "from spytial.annotations import orientation, attribute, hideAtom, atomColor, group\n",
    "from collections import namedtuple, deque\n",
    "import json"
   ]
  },
  {
   "cell_type": "markdown",
   "id": "17b09393",
   "metadata": {},
   "source": [
    "## Step 1: Trees - The Foundation\n",
    "\n",
    "Every computer science student knows trees, but seeing their structure is hard. Let's build a spatially-aware binary tree from scratch."
   ]
  },
  {
   "cell_type": "markdown",
   "id": "df9042bb",
   "metadata": {},
   "source": []
  },
  {
   "cell_type": "code",
   "execution_count": 2,
   "id": "e3cd9e46",
   "metadata": {},
   "outputs": [],
   "source": [
    "# Step 1: Build a spatially-aware binary tree\n",
    "# Notice how we specify WHERE children should be placed\n",
    "@orientation(selector='{ x : TreeNode, y : TreeNode | x.left = y}', directions=['below', 'left'])\n",
    "@orientation(selector='{ x : TreeNode, y : TreeNode | x.right = y}', directions=['below', 'right'])\n",
    "@attribute(field='value')  # Show the value, not the class name\n",
    "@hideAtom(selector='NoneType')  # Hide None leaves\n",
    "class TreeNode:\n",
    "    def __init__(self, value, left=None, right=None):\n",
    "        self.value = value\n",
    "        self.left = left\n",
    "        self.right = right\n",
    "\n",
    "    def __repr__(self):\n",
    "        return f\"TreeNode({self.value})\"\n",
    "\n",
    "print(\"✅ TreeNode class defined with spatial constraints\")\n",
    "print(\"- Left children go below and to the left\")\n",
    "print(\"- Right children go below and to the right\") \n",
    "print(\"- Values are displayed instead of class names\")\n",
    "print(\"- None leaves are hidden for clarity\")"
   ]
  },
  {
   "cell_type": "code",
   "execution_count": 3,
   "id": "tree_creation",
   "metadata": {},
   "outputs": [],
   "source": [
    "# Create a simple binary search tree\n",
    "tree = TreeNode(\n",
    "    value=10,\n",
    "    left=TreeNode(\n",
    "        value=5,\n",
    "        left=TreeNode(3),\n",
    "        right=TreeNode(7)\n",
    "    ),\n",
    "    right=TreeNode(\n",
    "        value=15,\n",
    "        left=TreeNode(12),\n",
    "        right=TreeNode(18)\n",
    "    )\n",
    ")\n",
    "\n",
    "print(\"📍 Step 1 Complete: Basic Binary Tree\")\n",
    "print(\"sPyTial shows you:\")\n",
    "print(\"- Spatial tree structure (not ASCII art)\")\n",
    "print(\"- Left children positioned left, right children positioned right\")\n",
    "print(\"- Values displayed prominently\")\n",
    "print(\"- Hidden None pointers for clarity\")\n",
    "diagram(tree)"
   ]
  },
  {
   "cell_type": "markdown",
   "id": "step2_header",
   "metadata": {},
   "source": [
    "## Step 2: Red-Black Trees - Annotations Compose Through Inheritance\n",
    "\n",
    "**Key Insight**: When RBTreeNode inherits from TreeNode, it gets all the spatial constraints automatically! This shows how sPyTial annotations compose naturally with object-oriented inheritance.\n",
    "\n",
    "We just add color information - the spatial layout is inherited."
   ]
  },
  {
   "cell_type": "code",
   "execution_count": 4,
   "id": "rbtree_definition",
   "metadata": {},
   "outputs": [],
   "source": [
    "# Step 2: Red-Black Tree inherits spatial behavior from TreeNode!\n",
    "@atomColor(selector='{ x : RBTreeNode | @:(x.color) = red }', value='red')\n",
    "@atomColor(selector='{ x : RBTreeNode | @:(x.color) = black }', value='black')\n",
    "class RBTreeNode(TreeNode):  # Inherits spatial constraints!\n",
    "    def __init__(self, value, color, left=None, right=None):\n",
    "        super().__init__(value, left, right)\n",
    "        self.color = color\n",
    "\n",
    "    def __repr__(self):\n",
    "        return f\"RBTreeNode({self.value}, {self.color})\"\n",
    "\n",
    "print(\"✅ RBTreeNode inherits TreeNode spatial constraints:\")\n",
    "print(\"- Left/right positioning rules (inherited)\")\n",
    "print(\"- Value display (inherited)\")\n",
    "print(\"- None hiding (inherited)\")\n",
    "print(\"- PLUS: Color-coded nodes (new)\")\n",
    "print(\"\\n🎯 This is the power of compositional annotations!\")"
   ]
  },
  {
   "cell_type": "code",
   "execution_count": 5,
   "id": "rbtree_creation",
   "metadata": {},
   "outputs": [],
   "source": [
    "# Create a Red-Black Tree (inherits spatial layout + adds colors)\n",
    "rb_tree = RBTreeNode(\n",
    "    value=10, color=\"black\",\n",
    "    left=RBTreeNode(\n",
    "        value=5, color=\"red\",\n",
    "        left=RBTreeNode(3, \"black\"),\n",
    "        right=RBTreeNode(7, \"black\")\n",
    "    ),\n",
    "    right=RBTreeNode(\n",
    "        value=15, color=\"red\",\n",
    "        left=RBTreeNode(12, \"black\"),\n",
    "        right=RBTreeNode(18, \"black\")\n",
    "    )\n",
    ")\n",
    "\n",
    "print(\"📍 Step 2 Complete: Red-Black Tree\")\n",
    "print(\"Notice:\")\n",
    "print(\"- Same spatial structure as TreeNode (inherited)\")\n",
    "print(\"- Added visual distinction via color (composition)\")\n",
    "print(\"- No need to redefine positioning logic\")\n",
    "diagram(rb_tree)"
   ]
  },
  {
   "cell_type": "markdown",
   "id": "step3_header",
   "metadata": {},
   "source": [
    "## Step 3: Unsatisfiable Trees - When Structure Goes Wrong\n",
    "\n",
    "**The Big Question**: What happens when your tree violates its own spatial constraints?\n",
    "\n",
    "sPyTial acts like a **spatial type checker**. If your data structure is malformed, sPyTial won't just draw something misleading - it will tell you the layout is unsatisfiable and why.\n",
    "\n",
    "Let's create a \"tree\" with a cycle and see what happens..."
   ]
  },
  {
   "cell_type": "code",
   "execution_count": 6,
   "id": "malformed_tree",
   "metadata": {},
   "outputs": [],
   "source": [
    "# Step 3: Create a malformed \"tree\" with a cycle\n",
    "# This violates the tree property - trees can't have cycles!\n",
    "\n",
    "# Create nodes\n",
    "root = TreeNode(10)\n",
    "left_child = TreeNode(5)\n",
    "right_child = TreeNode(15)\n",
    "\n",
    "# Set up a proper tree first\n",
    "root.left = left_child\n",
    "root.right = right_child\n",
    "\n",
    "# Now introduce a cycle! (This breaks the tree property)\n",
    "left_child.right = root  # Cycle back to root!\n",
    "\n",
    "print(\"⚠️  Step 3: Malformed Tree with Cycle\")\n",
    "print(\"This structure has:\")\n",
    "print(\"- Root (10) → Left (5) → Right back to Root (10)\")\n",
    "print(\"- This creates a cycle, violating tree properties\")\n",
    "print(\"- Traditional visualization would be confusing or infinite\")\n",
    "print(\"- Let's see how sPyTial handles this...\")\n",
    "\n",
    "try:\n",
    "    diagram(root)\n",
    "    print(\"\\n✅ sPyTial detected and handled the cycle gracefully\")\n",
    "except Exception as e:\n",
    "    print(f\"\\n⚠️  sPyTial detected unsatisfiable constraints: {e}\")\n",
    "    print(\"This is GOOD - your spatial constraints caught a bug in your data structure!\")"
   ]
  },
  {
   "cell_type": "markdown",
   "id": "conclusion",
   "metadata": {},
   "source": [
    "## 🎓 What You Just Learned\n",
    "\n",
    "This demo taught you three fundamental concepts:\n",
    "\n",
    "### 1. **Spatial Constraints Define Structure**\n",
    "Trees aren't just linked data - they have spatial meaning. Left children go left, right children go right. sPyTial makes this explicit and visual.\n",
    "\n",
    "### 2. **Annotations Compose Through Inheritance**  \n",
    "RBTreeNode inherited all spatial behavior from TreeNode, then added color. This is compositional design - you build complex visualizations by combining simple, reusable spatial rules.\n",
    "\n",
    "### 3. **Spatial Type Checking Catches Bugs**\n",
    "When your data violates its spatial constraints (like cycles in trees), sPyTial acts as a structural debugger. This isn't just pretty pictures - it's **spatial verification** of your data structures.\n",
    "\n",
    "---\n",
    "\n",
    "## 🚀 Why This Matters\n",
    "\n",
    "**Traditional CS Education**: \"Here's a tree. Imagine it spatially. Debug with print statements.\"\n",
    "\n",
    "**sPyTial CS Education**: \"Here's a tree with explicit spatial constraints. See it visually. Debug with spatial feedback.\"\n",
    "\n",
    "This isn't just better visualization - it's **spatial programming** where structure and meaning are unified.\n",
    "\n",
    "---\n",
    "\n",
    "**Next**: See [Demo 2](02-object-annotations.ipynb) to learn how annotations work on individual objects, not just classes."
   ]
  }
 ],
 "metadata": {
  "kernelspec": {
   "display_name": "stats-env",
   "language": "python",
   "name": "python3"
  },
  "language_info": {
   "codemirror_mode": {
    "name": "ipython",
    "version": 3
   },
   "file_extension": ".py",
   "mimetype": "text/x-python",
   "name": "python",
   "nbconvert_exporter": "python",
   "pygments_lexer": "ipython3",
   "version": "3.10.17"
  }
 },
 "nbformat": 4,
 "nbformat_minor": 5
}
