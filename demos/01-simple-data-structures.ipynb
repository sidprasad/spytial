{
 "cells": [
  {
   "cell_type": "markdown",
   "id": "ad79ecdb",
   "metadata": {},
   "source": [
    "# Data Structures\n"
   ]
  },
  {
   "cell_type": "code",
   "execution_count": 1,
   "id": "bcf56e66",
   "metadata": {},
   "outputs": [],
   "source": [
    "import sys\n",
    "from pathlib import Path\n",
    "\n",
    "# Add the parent directory to the Python path\n",
    "sys.path.append(str(Path().resolve().parent))\n",
    "\n",
    "from spytial import diagram\n",
    "from spytial.annotations import orientation, attribute, hideAtom, atomColor, group\n",
    "from collections import namedtuple, deque\n",
    "import json"
   ]
  },
  {
   "cell_type": "markdown",
   "id": "17b09393",
   "metadata": {},
   "source": [
    "## 1. Basic Data Structures: Beyond Print Statements\n",
    "\n",
    "Let's start with common Python data structures and see how sPyTial reveals their organization."
   ]
  },
  {
   "cell_type": "markdown",
   "id": "df9042bb",
   "metadata": {},
   "source": []
  },
  {
   "cell_type": "code",
   "execution_count": 2,
   "id": "e3cd9e46",
   "metadata": {},
   "outputs": [
    {
     "name": "stdout",
     "output_type": "stream",
     "text": [
      "Traditional output (try to see the structure):\n",
      "{\n",
      "  \"users\": [\n",
      "    {\n",
      "      \"name\": \"Alice\",\n",
      "      \"age\": 30,\n",
      "      \"skills\": [\n",
      "        \"Python\",\n",
      "        \"JavaScript\"\n",
      "      ]\n",
      "    },\n",
      "    {\n",
      "      \"name\": \"Bob\",\n",
      "      \"age\": 25,\n",
      "      \"skills\": [\n",
      "     ...\n",
      "\n",
      "sPyTial spatial view:\n"
     ]
    },
    {
     "data": {
      "text/html": [
       "\n",
       "                <div style=\"border: 2px solid #007acc; border-radius: 8px; overflow: hidden;\">\n",
       "                    <iframe \n",
       "                        src=\"data:text/html;base64,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\" \n",
       "                        width=\"100%\" \n",
       "                        height=\"450px\" \n",
       "                        frameborder=\"0\"\n",
       "                        style=\"display: block;\">\n",
       "                    </iframe>\n",
       "                </div>\n",
       "                "
      ],
      "text/plain": [
       "<IPython.core.display.HTML object>"
      ]
     },
     "metadata": {},
     "output_type": "display_data"
    }
   ],
   "source": [
    "# Traditional approach: nested dictionaries and lists\n",
    "application_data = {\n",
    "    \"users\": [\n",
    "        {\"name\": \"Alice\", \"age\": 30, \"skills\": [\"Python\", \"JavaScript\"]},\n",
    "        {\"name\": \"Bob\", \"age\": 25, \"skills\": [\"Java\", \"C++\"]}\n",
    "    ],\n",
    "    \"projects\": {\n",
    "        \"web_app\": {\"lead\": \"Alice\", \"status\": \"active\"},\n",
    "        \"mobile_app\": {\"lead\": \"Bob\", \"status\": \"planning\"}\n",
    "    },\n",
    "    \"stats\": {\"total_users\": 2, \"active_projects\": 1}\n",
    "}\n",
    "\n",
    "print(\"Traditional output (try to see the structure):\")\n",
    "print(json.dumps(application_data, indent=2)[:200] + \"...\")\n",
    "\n",
    "print(\"\\nsPyTial spatial view:\")\n",
    "diagram(application_data)"
   ]
  },
  {
   "cell_type": "markdown",
   "id": "a2327b0a",
   "metadata": {},
   "source": [
    "## 2. Binary Trees: From ASCII Art to Spatial Relations\n",
    "\n",
    "Binary trees are perfect for demonstrating sPyTial's power. Traditional approaches use ASCII art or recursive printing that breaks down with larger trees."
   ]
  },
  {
   "cell_type": "code",
   "execution_count": 3,
   "id": "f6aacc6e",
   "metadata": {},
   "outputs": [
    {
     "name": "stdout",
     "output_type": "stream",
     "text": [
      "Traditional ASCII output:\n",
      "        18\n",
      "    15\n",
      "        12\n",
      "10\n",
      "        7\n",
      "    5\n",
      "        3\n",
      "\n",
      "sPyTial spatial visualization:\n"
     ]
    },
    {
     "data": {
      "text/html": [
       "\n",
       "                <div style=\"border: 2px solid #007acc; border-radius: 8px; overflow: hidden;\">\n",
       "                    <iframe \n",
       "                        src=\"data:text/html;base64,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\" \n",
       "                        width=\"100%\" \n",
       "                        height=\"450px\" \n",
       "                        frameborder=\"0\"\n",
       "                        style=\"display: block;\">\n",
       "                    </iframe>\n",
       "                </div>\n",
       "                "
      ],
      "text/plain": [
       "<IPython.core.display.HTML object>"
      ]
     },
     "metadata": {},
     "output_type": "display_data"
    }
   ],
   "source": [
    "# Define a spatially-aware binary tree\n",
    "@orientation(selector='{ x : TreeNode, y : TreeNode | x.left = y}', directions=['below', 'left'])\n",
    "@orientation(selector='{ x : TreeNode, y : TreeNode | x.right = y}', directions=['below', 'right'])\n",
    "@attribute(field='value')\n",
    "@hideAtom(selector='NoneType')\n",
    "class TreeNode:\n",
    "    def __init__(self, value, left=None, right=None):\n",
    "        self.value = value\n",
    "        self.left = left\n",
    "        self.right = right\n",
    "\n",
    "    def __repr__(self):\n",
    "        return f\"TreeNode({self.value})\"\n",
    "    \n",
    "    def traditional_print(self, level=0):\n",
    "        \"\"\"Traditional ASCII tree printing\"\"\"\n",
    "        if self.right:\n",
    "            self.right.traditional_print(level + 1)\n",
    "        print('    ' * level + str(self.value))\n",
    "        if self.left:\n",
    "            self.left.traditional_print(level + 1)\n",
    "    \n",
    "# Create a sample binary search tree\n",
    "root = TreeNode(\n",
    "    value=10,\n",
    "    left=TreeNode(\n",
    "        value=5,\n",
    "        left=TreeNode(3),\n",
    "        right=TreeNode(7)\n",
    "    ),\n",
    "    right=TreeNode(\n",
    "        value=15,\n",
    "        left=TreeNode(12),\n",
    "        right=TreeNode(18)\n",
    "    )\n",
    ")\n",
    "\n",
    "print(\"Traditional ASCII output:\")\n",
    "root.traditional_print()\n",
    "\n",
    "print(\"\\nsPyTial spatial visualization:\")\n",
    "diagram(root)"
   ]
  },
  {
   "cell_type": "markdown",
   "id": "new_rb_section",
   "metadata": {},
   "source": [
    "##  Red-Black Trees with Color Coding\n",
    "\n",
    "Complex data structures like Red-Black trees have additional properties that traditional visualization can't easily show."
   ]
  },
  {
   "cell_type": "code",
   "execution_count": null,
   "id": "98e8935f",
   "metadata": {},
   "outputs": [
    {
     "data": {
      "text/plain": [
       "'/var/folders/80/rtptthbx3zq0tb06wwzmck_40000gq/T/tmpl33aipj4.html'"
      ]
     },
     "execution_count": 5,
     "metadata": {},
     "output_type": "execute_result"
    }
   ],
   "source": [
    "# Red-Black Tree with color annotations\n",
    "@atomColor(selector='{ x : RBTreeNode | @:(x.color) = red }', value='red')\n",
    "@atomColor(selector='{ x : RBTreeNode | @:(x.color) = black }', value='black')\n",
    "@attribute(field='value')\n",
    "class RBTreeNode(TreeNode):\n",
    "    def __init__(self, value, color, left=None, right=None):\n",
    "        self.color = color\n",
    "        super().__init__(value, left, right)\n",
    "\n",
    "    \n",
    "# Create a Red-Black Tree\n",
    "rb_root = RBTreeNode(\n",
    "    value=10, color=\"black\",\n",
    "    left=RBTreeNode(\n",
    "        value=5, color=\"red\",\n",
    "        left=RBTreeNode(3, \"black\"),\n",
    "        right=RBTreeNode(7, \"black\")\n",
    "    ),\n",
    "    right=RBTreeNode(\n",
    "        value=15, color=\"red\",\n",
    "        left=RBTreeNode(12, \"black\"),\n",
    "        right=RBTreeNode(18, \"black\")\n",
    "    )\n",
    ")\n",
    "\n",
    "diagram(rb_root, method=\"browser\")"
   ]
  }
 ],
 "metadata": {
  "kernelspec": {
   "display_name": "stats-env",
   "language": "python",
   "name": "python3"
  },
  "language_info": {
   "codemirror_mode": {
    "name": "ipython",
    "version": 3
   },
   "file_extension": ".py",
   "mimetype": "text/x-python",
   "name": "python",
   "nbconvert_exporter": "python",
   "pygments_lexer": "ipython3",
   "version": "3.10.17"
  }
 },
 "nbformat": 4,
 "nbformat_minor": 5
}
