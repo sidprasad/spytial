{
 "cells": [
  {
   "cell_type": "markdown",
   "id": "4e9ebc02",
   "metadata": {},
   "source": [
    "# Dataclass Builder Demo\n",
    "\n",
    "Interactive visual dataclass construction with sPyTial and CnD-core."
   ]
  },
  {
   "cell_type": "code",
   "execution_count": 1,
   "id": "5e5d17c7",
   "metadata": {},
   "outputs": [],
   "source": [
    "from dataclasses import dataclass\n",
    "import spytial\n",
    "from spytial import attribute"
   ]
  },
  {
   "cell_type": "markdown",
   "id": "6f713673",
   "metadata": {},
   "source": [
    "This demo shows how to create interactive visual builders for Python dataclasses using sPyTial. \n",
    "\n",
    "**How it works (Jupyter):**\n",
    "1. Build your data structure visually in the CnD interface\n",
    "2. Click **\"💾 Export\"** button - file downloads to your Downloads folder\n",
    "3. **Move/copy the file** to the directory shown by the widget\n",
    "4. Run `widget.refresh()` or access `widget.value` to load it\n",
    "\n",
    "**Why file-based?**\n",
    "- VS Code Jupyter uses iframes with CORS restrictions\n",
    "- Direct JavaScript ↔ Python communication is blocked\n",
    "- File-based is the most reliable cross-environment solution\n",
    "\n",
    "Features:\n",
    "- Visual construction of dataclass instances  \n",
    "- File-based export (works everywhere)\n",
    "- Support for spatial annotations\n",
    "- Works with any dataclass structure"
   ]
  },
  {
   "cell_type": "code",
   "execution_count": 2,
   "id": "e1f55a3c",
   "metadata": {},
   "outputs": [],
   "source": [
    "@dataclass\n",
    "@attribute(field='value')\n",
    "class TreeNode:\n",
    "    value: int = 0\n",
    "    left: 'TreeNode' = None\n",
    "    right: 'TreeNode' = None"
   ]
  },
  {
   "cell_type": "code",
   "execution_count": 3,
   "id": "d3aaa56b",
   "metadata": {
    "scrolled": true
   },
   "outputs": [
    {
     "name": "stdout",
     "output_type": "stream",
     "text": [
      "✓ Jupyter comm initialized: spytial_4439920080\n"
     ]
    },
    {
     "data": {
      "application/vnd.jupyter.widget-view+json": {
       "model_id": "d1545d918ea849dbbb81cdf173d61030",
       "version_major": 2,
       "version_minor": 0
      },
      "text/plain": [
       "VBox(children=(HTML(value='<h3>TreeNode Builder</h3>'), HTML(value=\"<p>💡 Build your data visually, then click …"
      ]
     },
     "execution_count": 3,
     "metadata": {},
     "output_type": "execute_result"
    }
   ],
   "source": [
    "tree_widget = spytial.dataclass_builder(TreeNode)\n",
    "tree_widget"
   ]
  },
  {
   "cell_type": "code",
   "execution_count": 8,
   "id": "9d8eccb6",
   "metadata": {},
   "outputs": [
    {
     "name": "stdout",
     "output_type": "stream",
     "text": [
      "Built tree: None\n",
      "\n",
      "📋 No data yet. Steps:\n",
      "1. Build your tree in the widget above\n",
      "2. Click '💾 Export' button\n",
      "\n",
      "✨ IN JUPYTER:\n",
      "   - Data sent directly via Jupyter comm!\n",
      "   - Look for '📥 Received data via Jupyter comm' message above\n",
      "   - Then re-run this cell\n",
      "\n",
      "💻 OUTSIDE JUPYTER (standalone HTML):\n",
      "   - Save dialog opens (Chrome/Edge)\n",
      "   - Navigate to: /var/folders/80/rtptthbx3zq0tb06wwzmck_40000gq/T/spytial_q21rx4oz\n",
      "   - Save as: spytial_4439920080.json\n",
      "   - Re-run this cell or use widget.refresh()\n"
     ]
    }
   ],
   "source": [
    "# After exporting, check the result:\n",
    "tree = tree_widget.value\n",
    "print(f\"Built tree: {tree}\")\n",
    "if tree:\n",
    "    print(f\"Root value: {tree.value}\")\n",
    "    print(f\"Has left child: {tree.left is not None}\")\n",
    "    print(f\"Has right child: {tree.right is not None}\")\n",
    "else:\n",
    "    print(\"\\n📋 No data yet. Steps:\")\n",
    "    print(\"1. Build your tree in the widget above\")\n",
    "    print(\"2. Click '💾 Export' button\")\n",
    "    print(\"\\n✨ IN JUPYTER:\")\n",
    "    print(\"   - Data sent directly via Jupyter comm!\")\n",
    "    print(\"   - Look for '📥 Received data via Jupyter comm' message above\")\n",
    "    print(\"   - Then re-run this cell\")\n",
    "    print(\"\\n💻 OUTSIDE JUPYTER (standalone HTML):\")\n",
    "    print(\"   - Save dialog opens (Chrome/Edge)\")\n",
    "    print(f\"   - Navigate to: {tree_widget._export_dir}\")\n",
    "    print(f\"   - Save as: {tree_widget._export_file.split('/')[-1]}\")\n",
    "    print(\"   - Re-run this cell or use widget.refresh()\")\n",
    "\n",
    "    "
   ]
  },
  {
   "cell_type": "code",
   "execution_count": 5,
   "id": "2c32d2e8",
   "metadata": {},
   "outputs": [
    {
     "name": "stdout",
     "output_type": "stream",
     "text": [
      "Checking widget value after Export...\n",
      "tree_widget.value = None\n",
      "\n",
      "If this is None, the message handler didn't receive the data.\n",
      "Expected to see Python output like:\n",
      "  📥 Received data (length: XX chars)\n",
      "  📊 Data structure keys: [...]\n",
      "  ✅ Built: TreeNode(...)\n",
      "\n",
      "If you don't see that output above, the JavaScript → Python communication failed.\n"
     ]
    }
   ],
   "source": [
    "# Check if the widget value was updated\n",
    "print(\"Checking widget value after Export...\")\n",
    "print(f\"tree_widget.value = {tree_widget.value}\")\n",
    "print()\n",
    "print(\"If this is None, the message handler didn't receive the data.\")\n",
    "print(\"Expected to see Python output like:\")\n",
    "print(\"  📥 Received data (length: XX chars)\")\n",
    "print(\"  📊 Data structure keys: [...]\")\n",
    "print(\"  ✅ Built: TreeNode(...)\")\n",
    "print()\n",
    "print(\"If you don't see that output above, the JavaScript → Python communication failed.\")"
   ]
  },
  {
   "cell_type": "code",
   "execution_count": 6,
   "id": "e16bf6d7",
   "metadata": {},
   "outputs": [
    {
     "name": "stdout",
     "output_type": "stream",
     "text": [
      "Initial data passed to CnD interface:\n",
      "{\n",
      "  \"atoms\": [\n",
      "    {\n",
      "      \"id\": \"0\",\n",
      "      \"type\": \"int\",\n",
      "      \"label\": \"0\",\n",
      "      \"type_hierarchy\": [\n",
      "        \"int\",\n",
      "        \"object\"\n",
      "      ]\n",
      "    },\n",
      "    {\n",
      "      \"id\": \"None\",\n",
      "      \"type\": \"NoneType\",\n",
      "      \"label\": \"None\",\n",
      "      \"type_hierarchy\": [\n",
      "        \"NoneType\",\n",
      "        \"object\"\n",
      "      ]\n",
      "    },\n",
      "    {\n",
      "      \"id\": \"n0\",\n",
      "      \"type\": \"TreeNode\",\n",
      "      \"label\": \"obj\",\n",
      "      \"type_hierarchy\": [\n",
      "        \"TreeNode\",\n",
      "        \"object\"\n",
      "      ]\n",
      "    }\n",
      "  ],\n",
      "  \"relations\": [\n",
      "    {\n",
      "      \"id\": \"value...\n",
      "\n",
      "Number of atoms: 3\n",
      "Number of relations: 3\n",
      "Number of types: 3\n"
     ]
    }
   ],
   "source": [
    "# Debug: Check what data structure is being passed to CnD\n",
    "from spytial.provider_system import CnDDataInstanceBuilder\n",
    "import json\n",
    "\n",
    "empty_tree = TreeNode()\n",
    "builder = CnDDataInstanceBuilder()\n",
    "init_data = builder.build_instance(empty_tree)\n",
    "\n",
    "print(\"Initial data passed to CnD interface:\")\n",
    "print(json.dumps(init_data, indent=2)[:500] + \"...\")\n",
    "print(f\"\\nNumber of atoms: {len(init_data.get('atoms', []))}\")\n",
    "print(f\"Number of relations: {len(init_data.get('relations', []))}\")\n",
    "print(f\"Number of types: {len(init_data.get('types', []))}\")"
   ]
  },
  {
   "cell_type": "markdown",
   "id": "caef9fc6",
   "metadata": {},
   "source": [
    "## Testing with Fresh Widget\n",
    "\n",
    "Let's create a fresh widget with the updated debugging to see what's happening:"
   ]
  },
  {
   "cell_type": "code",
   "execution_count": 7,
   "id": "af539c23",
   "metadata": {},
   "outputs": [
    {
     "name": "stdout",
     "output_type": "stream",
     "text": [
      "✓ Jupyter comm initialized: spytial_4439928000\n",
      "Widget created!\n",
      "Export directory: /var/folders/80/rtptthbx3zq0tb06wwzmck_40000gq/T/spytial_i0af3owd\n",
      "Expected filename: spytial_4439928000.json\n",
      "\n",
      "To test:\n",
      "1. Click 'Export JSON' button in widget above\n",
      "2. Look for Python output showing data was received\n",
      "3. Check: test_widget.value\n",
      "Widget created!\n",
      "Export directory: /var/folders/80/rtptthbx3zq0tb06wwzmck_40000gq/T/spytial_i0af3owd\n",
      "Expected filename: spytial_4439928000.json\n",
      "\n",
      "To test:\n",
      "1. Click 'Export JSON' button in widget above\n",
      "2. Look for Python output showing data was received\n",
      "3. Check: test_widget.value\n"
     ]
    },
    {
     "data": {
      "application/vnd.jupyter.widget-view+json": {
       "model_id": "87c37a0e2e784464ad5b0dd6fc4d1725",
       "version_major": 2,
       "version_minor": 0
      },
      "text/plain": [
       "VBox(children=(HTML(value='<h3>TreeNode Builder</h3>'), HTML(value=\"<p>💡 Build your data visually, then click …"
      ]
     },
     "execution_count": 7,
     "metadata": {},
     "output_type": "execute_result"
    }
   ],
   "source": [
    "# Create widget - NO iframe, direct HTML embed!\n",
    "test_widget = spytial.dataclass_builder(TreeNode)\n",
    "print(\"Widget created!\")\n",
    "print(f\"Export directory: {test_widget._export_dir}\")\n",
    "print(f\"Expected filename: {test_widget._export_file.split('/')[-1]}\")\n",
    "print()\n",
    "print(\"To test:\")\n",
    "print(\"1. Click 'Export JSON' button in widget above\")\n",
    "print(\"2. Look for Python output showing data was received\")\n",
    "print(\"3. Check: test_widget.value\")\n",
    "test_widget"
   ]
  }
 ],
 "metadata": {
  "kernelspec": {
   "display_name": "z3env",
   "language": "python",
   "name": "python3"
  },
  "language_info": {
   "codemirror_mode": {
    "name": "ipython",
    "version": 3
   },
   "file_extension": ".py",
   "mimetype": "text/x-python",
   "name": "python",
   "nbconvert_exporter": "python",
   "pygments_lexer": "ipython3",
   "version": "3.12.10"
  }
 },
 "nbformat": 4,
 "nbformat_minor": 5
}
