{
 "cells": [
  {
   "cell_type": "markdown",
   "id": "4e9ebc02",
   "metadata": {},
   "source": [
    "# Dataclass Builder Demo\n",
    "\n",
    "Interactive visual dataclass construction with sPyTial and CnD-core."
   ]
  },
  {
   "cell_type": "code",
   "execution_count": 1,
   "id": "5e5d17c7",
   "metadata": {},
   "outputs": [],
   "source": [
    "from dataclasses import dataclass\n",
    "import spytial\n",
    "from spytial import attribute"
   ]
  },
  {
   "cell_type": "markdown",
   "id": "6f713673",
   "metadata": {},
   "source": [
    "This demo shows how to create interactive visual builders for Python dataclasses using sPyTial. \n",
    "\n",
    "**How it works:**\n",
    "1. Build your data structure visually in the CnD interface\n",
    "2. Click **\"Export JSON\"** button - this downloads a file\n",
    "3. Save the file to the directory shown by the widget\n",
    "4. Access the result with `widget.value` or `widget.refresh()`\n",
    "\n",
    "Features:\n",
    "- Visual construction of dataclass instances\n",
    "- File-based export (works in all environments)\n",
    "- Support for spatial annotations\n",
    "- Works with any dataclass structure"
   ]
  },
  {
   "cell_type": "code",
   "execution_count": 2,
   "id": "e1f55a3c",
   "metadata": {},
   "outputs": [],
   "source": [
    "@dataclass\n",
    "@attribute(field='value')\n",
    "class TreeNode:\n",
    "    value: int = 0\n",
    "    left: 'TreeNode' = None\n",
    "    right: 'TreeNode' = None"
   ]
  },
  {
   "cell_type": "code",
   "execution_count": 3,
   "id": "d3aaa56b",
   "metadata": {},
   "outputs": [
    {
     "data": {
      "application/vnd.jupyter.widget-view+json": {
       "model_id": "22c88b9122384e4fb9a6c5e8ec69df1f",
       "version_major": 2,
       "version_minor": 0
      },
      "text/plain": [
       "VBox(children=(HTML(value='<h3>TreeNode Builder (CnD-core)</h3>'), HTML(value=\"<p>Build your data visually, th…"
      ]
     },
     "execution_count": 3,
     "metadata": {},
     "output_type": "execute_result"
    }
   ],
   "source": [
    "tree_widget = spytial.dataclass_builder(TreeNode)\n",
    "tree_widget"
   ]
  },
  {
   "cell_type": "code",
   "execution_count": null,
   "id": "9d8eccb6",
   "metadata": {},
   "outputs": [],
   "source": [
    "# After exporting and saving the file, check the result:\n",
    "tree = tree_widget.value\n",
    "print(f\"Built tree: {tree}\")\n",
    "if tree:\n",
    "    print(f\"Root value: {tree.value}\")\n",
    "    print(f\"Has left child: {tree.left is not None}\")\n",
    "    print(f\"Has right child: {tree.right is not None}\")\n",
    "else:\n",
    "    print(\"\\nNo data yet. Steps:\")\n",
    "    print(\"1. Build your tree in the widget above\")\n",
    "    print(\"2. Click 'Export JSON' button\")\n",
    "    print(f\"3. Save file to: {tree_widget._export_dir}\")\n",
    "    print(\"4. Re-run this cell\")"
   ]
  },
  {
   "cell_type": "code",
   "execution_count": null,
   "id": "2c32d2e8",
   "metadata": {},
   "outputs": [],
   "source": [
    "# Check if the widget value was updated\n",
    "print(\"Checking widget value after Export...\")\n",
    "print(f\"tree_widget.value = {tree_widget.value}\")\n",
    "print()\n",
    "print(\"If this is None, the message handler didn't receive the data.\")\n",
    "print(\"Expected to see Python output like:\")\n",
    "print(\"  📥 Received data (length: XX chars)\")\n",
    "print(\"  📊 Data structure keys: [...]\")\n",
    "print(\"  ✅ Built: TreeNode(...)\")\n",
    "print()\n",
    "print(\"If you don't see that output above, the JavaScript → Python communication failed.\")"
   ]
  },
  {
   "cell_type": "code",
   "execution_count": null,
   "id": "e16bf6d7",
   "metadata": {},
   "outputs": [],
   "source": [
    "# Debug: Check what data structure is being passed to CnD\n",
    "from spytial.provider_system import CnDDataInstanceBuilder\n",
    "import json\n",
    "\n",
    "empty_tree = TreeNode()\n",
    "builder = CnDDataInstanceBuilder()\n",
    "init_data = builder.build_instance(empty_tree)\n",
    "\n",
    "print(\"Initial data passed to CnD interface:\")\n",
    "print(json.dumps(init_data, indent=2)[:500] + \"...\")\n",
    "print(f\"\\nNumber of atoms: {len(init_data.get('atoms', []))}\")\n",
    "print(f\"Number of relations: {len(init_data.get('relations', []))}\")\n",
    "print(f\"Number of types: {len(init_data.get('types', []))}\")"
   ]
  }
 ],
 "metadata": {
  "kernelspec": {
   "display_name": "z3env",
   "language": "python",
   "name": "python3"
  },
  "language_info": {
   "codemirror_mode": {
    "name": "ipython",
    "version": 3
   },
   "file_extension": ".py",
   "mimetype": "text/x-python",
   "name": "python",
   "nbconvert_exporter": "python",
   "pygments_lexer": "ipython3",
   "version": "3.12.10"
  }
 },
 "nbformat": 4,
 "nbformat_minor": 5
}
