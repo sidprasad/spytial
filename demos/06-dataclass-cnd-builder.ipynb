{
 "cells": [
  {
   "cell_type": "markdown",
   "id": "f3122861",
   "metadata": {},
   "source": [
    "# sPyTial Dataclass Builder with CnD-core\n",
    "\n",
    "This notebook demonstrates the new CnD-core based dataclass builder widget that provides **visual, interactive construction** of dataclass instances.\n",
    "\n",
    "## Key Features\n",
    "\n",
    "- **Visual Construction**: Uses CnD-core's `structured-input-graph` for interactive building\n",
    "- **No File I/O**: Direct JavaScript-Python communication via postMessage\n",
    "- **Real-time Value**: `widget.value` always contains the current dataclass instance\n",
    "- **Spatial Annotations**: Automatically includes any spatial constraints from decorators\n",
    "\n",
    "## Installation\n",
    "\n",
    "Make sure you have ipywidgets installed:\n",
    "\n",
    "```bash\n",
    "pip install ipywidgets\n",
    "jupyter nbextension enable --py widgetsnbextension\n",
    "```"
   ]
  },
  {
   "cell_type": "markdown",
   "id": "4e9ebc02",
   "metadata": {},
   "source": [
    "## Basic Usage"
   ]
  },
  {
   "cell_type": "code",
   "execution_count": 1,
   "id": "5e5d17c7",
   "metadata": {},
   "outputs": [],
   "source": [
    "from dataclasses import dataclass\n",
    "import spytial"
   ]
  },
  {
   "cell_type": "code",
   "execution_count": 2,
   "id": "e1f55a3c",
   "metadata": {},
   "outputs": [],
   "source": [
    "@dataclass\n",
    "class Person:\n",
    "    name: str = \"placeholder\"\n",
    "    age: int = 0\n",
    "    email: str = \"p2\""
   ]
  },
  {
   "cell_type": "markdown",
   "id": "d6a47a55",
   "metadata": {},
   "source": [
    "### Create the Builder Widget\n",
    "\n",
    "This creates an interactive CnD-core based visual builder:"
   ]
  },
  {
   "cell_type": "code",
   "execution_count": 3,
   "id": "c8ae1f75",
   "metadata": {},
   "outputs": [
    {
     "data": {
      "application/vnd.jupyter.widget-view+json": {
       "model_id": "3616c137f1a54c9abeb84517b81ee141",
       "version_major": 2,
       "version_minor": 0
      },
      "text/plain": [
       "VBox(children=(HTML(value='<h3>Person Builder (CnD-core)</h3>'), HTML(value=\"<p>Build your data visually, then…"
      ]
     },
     "execution_count": 3,
     "metadata": {},
     "output_type": "execute_result"
    }
   ],
   "source": [
    "person_widget = spytial.dataclass_builder(Person)\n",
    "person_widget"
   ]
  },
  {
   "cell_type": "markdown",
   "id": "e35e03aa",
   "metadata": {},
   "source": [
    "### Instructions:\n",
    "\n",
    "1. Use the visual interface above to build your `Person` instance\n",
    "2. Click the **\"Export JSON\"** button when done\n",
    "3. The data is automatically captured in `person_widget.value`"
   ]
  },
  {
   "cell_type": "code",
   "execution_count": 5,
   "id": "de4fc1f7",
   "metadata": {},
   "outputs": [
    {
     "name": "stdout",
     "output_type": "stream",
     "text": [
      "Built person: None\n",
      "Name: Not built yet\n"
     ]
    }
   ],
   "source": [
    "# Access the built instance\n",
    "person = person_widget.value\n",
    "print(f\"Built person: {person}\")\n",
    "print(f\"Name: {person.name if person else 'Not built yet'}\")"
   ]
  },
  {
   "cell_type": "markdown",
   "id": "e2750015",
   "metadata": {},
   "source": [
    "## Debugging Export\n",
    "\n",
    "If export isn't working, run this cell to check the console logs:"
   ]
  },
  {
   "cell_type": "markdown",
   "id": "8ca4f72e",
   "metadata": {},
   "source": [
    "## With Spatial Annotations\n",
    "\n",
    "The widget automatically includes spatial constraints from sPyTial decorators:"
   ]
  },
  {
   "cell_type": "code",
   "execution_count": null,
   "id": "f0a501da",
   "metadata": {},
   "outputs": [],
   "source": [
    "@dataclass\n",
    "@spytial.orientation(selector='self', directions=['horizontal'])\n",
    "class TreeNode:\n",
    "    value: int = 0\n",
    "    left: 'TreeNode' = None\n",
    "    right: 'TreeNode' = None"
   ]
  },
  {
   "cell_type": "code",
   "execution_count": null,
   "id": "d3aaa56b",
   "metadata": {},
   "outputs": [],
   "source": [
    "tree_widget = spytial.dataclass_builder(TreeNode)\n",
    "tree_widget"
   ]
  },
  {
   "cell_type": "code",
   "execution_count": null,
   "id": "9d8eccb6",
   "metadata": {},
   "outputs": [],
   "source": [
    "# The widget respects spatial annotations from decorators\n",
    "tree = tree_widget.value\n",
    "print(f\"Built tree: {tree}\")"
   ]
  },
  {
   "cell_type": "markdown",
   "id": "c7c50cab",
   "metadata": {},
   "source": [
    "## Workflow: Build → Visualize\n",
    "\n",
    "A common workflow is to build data with the widget, then visualize it:"
   ]
  },
  {
   "cell_type": "code",
   "execution_count": null,
   "id": "71d403b8",
   "metadata": {},
   "outputs": [],
   "source": [
    "# Step 1: Build your data\n",
    "widget = spytial.dataclass_builder(Person)\n",
    "widget"
   ]
  },
  {
   "cell_type": "code",
   "execution_count": null,
   "id": "104536ed",
   "metadata": {},
   "outputs": [],
   "source": [
    "# Step 2: After building and exporting, visualize it\n",
    "if widget.value:\n",
    "    spytial.diagram(widget.value)"
   ]
  },
  {
   "cell_type": "markdown",
   "id": "6a7d4736",
   "metadata": {},
   "source": [
    "## Architecture\n",
    "\n",
    "### How It Works\n",
    "\n",
    "1. **CnD Spec Generation**: Extracts spatial annotations from decorators and generates YAML spec\n",
    "2. **Initial Data**: Creates empty dataclass instance and converts to CnD data format\n",
    "3. **Visual Interface**: Embeds `structured-input-graph` web component in iframe\n",
    "4. **Export Handler**: JavaScript postMessage sends data back to Python kernel\n",
    "5. **Value Update**: Automatically converts JSON to dataclass and updates `widget.value`\n",
    "\n",
    "### No File I/O, No Timeouts\n",
    "\n",
    "Unlike the old system:\n",
    "- ❌ No temporary files or export directories\n",
    "- ❌ No polling or timeout mechanisms\n",
    "- ✅ Direct kernel communication via `window.Jupyter.notebook.kernel.execute()`\n",
    "- ✅ Immediate value availability at `widget.value`\n",
    "\n",
    "### CnD-core Integration\n",
    "\n",
    "Uses the following CnD components:\n",
    "- `structured-input-graph`: Visual construction interface\n",
    "- `JSONDataInstance`: Data instance format\n",
    "- CnD spec (YAML): Spatial constraint specification"
   ]
  },
  {
   "cell_type": "markdown",
   "id": "371df454",
   "metadata": {},
   "source": [
    "## Comparison: Old vs New\n",
    "\n",
    "### Old System (dataclass_widget.py)\n",
    "```python\n",
    "# Complex file-based system\n",
    "widget = spytial.dataclass_widget(Person)\n",
    "# Wait for file export...\n",
    "# Poll directory...\n",
    "# Hope timeout doesn't expire...\n",
    "person = widget.value  # Might be None\n",
    "```\n",
    "\n",
    "### New System (dataclass_widget_cnd.py)\n",
    "```python\n",
    "# Simple, direct communication\n",
    "widget = spytial.dataclass_builder(Person)\n",
    "# Build visually, click Export\n",
    "person = widget.value  # Immediately available\n",
    "```"
   ]
  }
 ],
 "metadata": {
  "kernelspec": {
   "display_name": "z3env",
   "language": "python",
   "name": "python3"
  },
  "language_info": {
   "codemirror_mode": {
    "name": "ipython",
    "version": 3
   },
   "file_extension": ".py",
   "mimetype": "text/x-python",
   "name": "python",
   "nbconvert_exporter": "python",
   "pygments_lexer": "ipython3",
   "version": "3.12.10"
  }
 },
 "nbformat": 4,
 "nbformat_minor": 5
}
